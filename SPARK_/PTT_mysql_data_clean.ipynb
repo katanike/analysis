{
 "cells": [
  {
   "cell_type": "code",
   "execution_count": 36,
   "metadata": {},
   "outputs": [
    {
     "data": {
      "text/html": [
       "\n",
       "        <div>\n",
       "            <p><b>SparkContext</b></p>\n",
       "\n",
       "            <p><a href=\"http://192.168.1.33:4041\">Spark UI</a></p>\n",
       "\n",
       "            <dl>\n",
       "              <dt>Version</dt>\n",
       "                <dd><code>v2.3.0</code></dd>\n",
       "              <dt>Master</dt>\n",
       "                <dd><code>local[*]</code></dd>\n",
       "              <dt>AppName</dt>\n",
       "                <dd><code>LOAD PTT MYSQL DATABASE</code></dd>\n",
       "            </dl>\n",
       "        </div>\n",
       "        "
      ],
      "text/plain": [
       "<SparkContext master=local[*] appName=LOAD PTT MYSQL DATABASE>"
      ]
     },
     "execution_count": 36,
     "metadata": {},
     "output_type": "execute_result"
    }
   ],
   "source": [
    "from pyspark import SparkConf, SparkContext\n",
    "from pyspark.sql import SQLContext, Row\n",
    "from operator import add\n",
    "\n",
    "# OP\n",
    "import pandas as pd \n",
    "import os \n",
    "import boto3\n",
    "\n",
    "#------------------------------------------------------\n",
    "# spark config \n",
    "conf = SparkConf().setAppName(\"LOAD PTT MYSQL DATABASE\")\n",
    "sc = SparkContext(conf=conf)\n",
    "sc"
   ]
  },
  {
   "cell_type": "code",
   "execution_count": null,
   "metadata": {},
   "outputs": [],
   "source": []
  },
  {
   "cell_type": "code",
   "execution_count": 2,
   "metadata": {},
   "outputs": [],
   "source": [
    "# OP\n",
    "import pandas as pd \n",
    "import os \n"
   ]
  },
  {
   "cell_type": "code",
   "execution_count": 3,
   "metadata": {},
   "outputs": [],
   "source": [
    "myresponse=\"'\\n推 samurai7:TEST \\n推 xsoho:TTTTEST \\n推 free112136:不在考慮一下嗎？ \\n→ dnabossking: 如果是code我應該不會喊難，就算真的不會寫，因為 \\n→ dnabossking: 喊難，也太沒面子了 '\""
   ]
  },
  {
   "cell_type": "code",
   "execution_count": 5,
   "metadata": {},
   "outputs": [
    {
     "data": {
      "text/plain": [
       "\"'\\n推 samurai7:TEST \\n推 xsoho:TTTTEST \\n推 free112136:不在考慮一下嗎？ \\n→ dnabossking: 如果是code我應該不會喊難，就算真的不會寫，因為 \\n→ dnabossking: 喊難，也太沒面子了 '\""
      ]
     },
     "execution_count": 5,
     "metadata": {},
     "output_type": "execute_result"
    }
   ],
   "source": [
    "myresponse"
   ]
  },
  {
   "cell_type": "code",
   "execution_count": 13,
   "metadata": {},
   "outputs": [
    {
     "data": {
      "text/plain": [
       "\"'  samurai7:TEST   xsoho:TTTTEST   free112136:不在考慮一下嗎？   dnabossking: 如果是code我應該不會喊難，就算真的不會寫，因為   dnabossking: 喊難，也太沒面子了 '\""
      ]
     },
     "execution_count": 13,
     "metadata": {},
     "output_type": "execute_result"
    }
   ],
   "source": [
    "myresponse\\\n",
    ".replace(\"\\n\", \"\")\\\n",
    ".replace(\"→\", \" \")\\\n",
    ".replace(\"推\", \" \")"
   ]
  },
  {
   "cell_type": "code",
   "execution_count": 21,
   "metadata": {},
   "outputs": [
    {
     "data": {
      "text/plain": [
       "[\"'\",\n",
       " '  samurai7:TEST ',\n",
       " '  xsoho:TTTTEST ',\n",
       " '  free112136:不在考慮一下嗎？ ',\n",
       " '  dnabossking: 如果是code我應該不會喊難，就算真的不會寫，因為 ',\n",
       " \"  dnabossking: 喊難，也太沒面子了 '\"]"
      ]
     },
     "execution_count": 21,
     "metadata": {},
     "output_type": "execute_result"
    }
   ],
   "source": [
    "myresponse\\\n",
    ".replace(\"→\", \" \")\\\n",
    ".replace(\"推\", \" \")\\\n",
    ".split(\"\\n\")\\\n",
    "#.replace(\":\", \" \")"
   ]
  },
  {
   "cell_type": "code",
   "execution_count": 31,
   "metadata": {},
   "outputs": [
    {
     "data": {
      "text/plain": [
       "'  samurai7:TEST   xsoho:TTTTEST   free112136:不在考慮一下嗎？   dnabossking: 如果是code我應該不會喊難，就算真的不會寫，因為   dnabossking: 喊難，也太沒面子了 '"
      ]
     },
     "execution_count": 31,
     "metadata": {},
     "output_type": "execute_result"
    }
   ],
   "source": [
    "myresponse\\\n",
    ".replace(\"\\n\", \"\")\\\n",
    ".replace(\"→\", \" \")\\\n",
    ".replace(\"推\", \" \")\\\n",
    ".strip(\"'\")\n"
   ]
  },
  {
   "cell_type": "code",
   "execution_count": 32,
   "metadata": {},
   "outputs": [],
   "source": [
    "def add_func(x):\n",
    "    return x+1"
   ]
  },
  {
   "cell_type": "code",
   "execution_count": 37,
   "metadata": {},
   "outputs": [],
   "source": [
    "mylist=[1,2,3]\n",
    "myRDD = sc.parallelize([1,2,3])"
   ]
  },
  {
   "cell_type": "code",
   "execution_count": 39,
   "metadata": {},
   "outputs": [
    {
     "data": {
      "text/plain": [
       "[1, 2, 3]"
      ]
     },
     "execution_count": 39,
     "metadata": {},
     "output_type": "execute_result"
    }
   ],
   "source": [
    "myRDD.collect()"
   ]
  },
  {
   "cell_type": "code",
   "execution_count": 44,
   "metadata": {},
   "outputs": [
    {
     "data": {
      "text/plain": [
       "PythonRDD[3] at RDD at PythonRDD.scala:48"
      ]
     },
     "execution_count": 44,
     "metadata": {},
     "output_type": "execute_result"
    }
   ],
   "source": [
    "myRDD.map(lambda x : add_func(x))"
   ]
  },
  {
   "cell_type": "code",
   "execution_count": 43,
   "metadata": {},
   "outputs": [
    {
     "data": {
      "text/plain": [
       "[2, 3, 4]"
      ]
     },
     "execution_count": 43,
     "metadata": {},
     "output_type": "execute_result"
    }
   ],
   "source": [
    "myRDD.map(lambda x : add_func(x)).collect()"
   ]
  },
  {
   "cell_type": "code",
   "execution_count": null,
   "metadata": {},
   "outputs": [],
   "source": []
  }
 ],
 "metadata": {
  "kernelspec": {
   "display_name": "Environment (conda_pyspark_)",
   "language": "python",
   "name": "conda_pyspark_"
  },
  "language_info": {
   "codemirror_mode": {
    "name": "ipython",
    "version": 3
   },
   "file_extension": ".py",
   "mimetype": "text/x-python",
   "name": "python",
   "nbconvert_exporter": "python",
   "pygments_lexer": "ipython3",
   "version": "3.5.5"
  }
 },
 "nbformat": 4,
 "nbformat_minor": 2
}
