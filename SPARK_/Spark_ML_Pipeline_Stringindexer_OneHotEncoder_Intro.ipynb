{
 "cells": [
  {
   "cell_type": "code",
   "execution_count": 1,
   "metadata": {},
   "outputs": [],
   "source": [
    "# spark \n",
    "from pyspark import SparkConf, SparkContext\n",
    "from pyspark.sql import SQLContext, SparkSession\n",
    "from pyspark.ml.linalg import Vectors\n",
    "from pyspark.ml.classification import LogisticRegression\n",
    "\n",
    "# pipeline \n",
    "from pyspark.ml import Pipeline\n",
    "\n",
    "# Indexer, vector, onhotencoder...\n",
    "from pyspark.ml.feature import (VectorAssembler, VectorIndexer, \n",
    "                                OneHotEncoder, StringIndexer)"
   ]
  },
  {
   "cell_type": "code",
   "execution_count": null,
   "metadata": {},
   "outputs": [],
   "source": []
  },
  {
   "cell_type": "code",
   "execution_count": 2,
   "metadata": {},
   "outputs": [],
   "source": [
    "\n",
    "conf = SparkConf().setAppName(\"building a PIPELINE MODEL\")\n",
    "sc = SparkContext(conf=conf)\n",
    "sqlCtx = SQLContext(sc)\n",
    "spark = SparkSession.builder.enableHiveSupport().getOrCreate()\n"
   ]
  },
  {
   "cell_type": "code",
   "execution_count": 3,
   "metadata": {},
   "outputs": [],
   "source": [
    "#xx = spark.read.csv(\"titanic_train.csv\", header = True)"
   ]
  },
  {
   "cell_type": "code",
   "execution_count": 4,
   "metadata": {},
   "outputs": [],
   "source": [
    "# data = sc.textFile('titanic_train.csv').map(lambda line: line.split(\",\"))\n",
    "# headers = data.first()\n",
    "# traindata = data.filter(lambda row: row != headers)\n",
    "# sqlContext = SQLContext(sc)\n",
    "# df = sqlContext.createDataFrame(traindata, [ 'PassengerId', 'Survived', 'Pclass', 'Name', 'Sex', 'Age', 'SibSp',\n",
    "#        'Parch', 'Ticket', 'Fare', 'Cabin', 'Embarked'])\n",
    "\n",
    "df = spark.read.csv(\"titanic_train.csv\", header = True)\n",
    "df = df.withColumn(\"Pclass\", df[\"Pclass\"].cast(\"float\"))\n",
    "df = df.withColumn(\"Age\", df[\"Age\"].cast(\"float\"))\n",
    "df = df.withColumn(\"Parch\", df[\"Parch\"].cast(\"float\"))\n",
    "df = df.withColumn(\"Survived\", df[\"Survived\"].cast(\"integer\"))\n"
   ]
  },
  {
   "cell_type": "code",
   "execution_count": null,
   "metadata": {},
   "outputs": [],
   "source": []
  },
  {
   "cell_type": "code",
   "execution_count": 5,
   "metadata": {},
   "outputs": [
    {
     "name": "stdout",
     "output_type": "stream",
     "text": [
      "root\n",
      " |-- PassengerId: string (nullable = true)\n",
      " |-- Survived: integer (nullable = true)\n",
      " |-- Pclass: float (nullable = true)\n",
      " |-- Name: string (nullable = true)\n",
      " |-- Sex: string (nullable = true)\n",
      " |-- Age: float (nullable = true)\n",
      " |-- SibSp: string (nullable = true)\n",
      " |-- Parch: float (nullable = true)\n",
      " |-- Ticket: string (nullable = true)\n",
      " |-- Fare: string (nullable = true)\n",
      " |-- Cabin: string (nullable = true)\n",
      " |-- Embarked: string (nullable = true)\n",
      "\n"
     ]
    }
   ],
   "source": [
    "df.printSchema()"
   ]
  },
  {
   "cell_type": "code",
   "execution_count": 6,
   "metadata": {},
   "outputs": [
    {
     "name": "stdout",
     "output_type": "stream",
     "text": [
      "+-----------+--------+------+--------------------+------+----+-----+-----+----------------+-------+-----+--------+\n",
      "|PassengerId|Survived|Pclass|                Name|   Sex| Age|SibSp|Parch|          Ticket|   Fare|Cabin|Embarked|\n",
      "+-----------+--------+------+--------------------+------+----+-----+-----+----------------+-------+-----+--------+\n",
      "|          1|       0|   3.0|Braund, Mr. Owen ...|  male|22.0|    1|  0.0|       A/5 21171|   7.25| null|       S|\n",
      "|          2|       1|   1.0|Cumings, Mrs. Joh...|female|38.0|    1|  0.0|        PC 17599|71.2833|  C85|       C|\n",
      "|          3|       1|   3.0|Heikkinen, Miss. ...|female|26.0|    0|  0.0|STON/O2. 3101282|  7.925| null|       S|\n",
      "|          4|       1|   1.0|Futrelle, Mrs. Ja...|female|35.0|    1|  0.0|          113803|   53.1| C123|       S|\n",
      "|          5|       0|   3.0|Allen, Mr. Willia...|  male|35.0|    0|  0.0|          373450|   8.05| null|       S|\n",
      "|          6|       0|   3.0|    Moran, Mr. James|  male|null|    0|  0.0|          330877| 8.4583| null|       Q|\n",
      "|          7|       0|   1.0|McCarthy, Mr. Tim...|  male|54.0|    0|  0.0|           17463|51.8625|  E46|       S|\n",
      "|          8|       0|   3.0|Palsson, Master. ...|  male| 2.0|    3|  1.0|          349909| 21.075| null|       S|\n",
      "|          9|       1|   3.0|Johnson, Mrs. Osc...|female|27.0|    0|  2.0|          347742|11.1333| null|       S|\n",
      "|         10|       1|   2.0|Nasser, Mrs. Nich...|female|14.0|    1|  0.0|          237736|30.0708| null|       C|\n",
      "|         11|       1|   3.0|Sandstrom, Miss. ...|female| 4.0|    1|  1.0|         PP 9549|   16.7|   G6|       S|\n",
      "|         12|       1|   1.0|Bonnell, Miss. El...|female|58.0|    0|  0.0|          113783|  26.55| C103|       S|\n",
      "|         13|       0|   3.0|Saundercock, Mr. ...|  male|20.0|    0|  0.0|       A/5. 2151|   8.05| null|       S|\n",
      "|         14|       0|   3.0|Andersson, Mr. An...|  male|39.0|    1|  5.0|          347082| 31.275| null|       S|\n",
      "|         15|       0|   3.0|Vestrom, Miss. Hu...|female|14.0|    0|  0.0|          350406| 7.8542| null|       S|\n",
      "|         16|       1|   2.0|Hewlett, Mrs. (Ma...|female|55.0|    0|  0.0|          248706|     16| null|       S|\n",
      "|         17|       0|   3.0|Rice, Master. Eugene|  male| 2.0|    4|  1.0|          382652| 29.125| null|       Q|\n",
      "|         18|       1|   2.0|Williams, Mr. Cha...|  male|null|    0|  0.0|          244373|     13| null|       S|\n",
      "|         19|       0|   3.0|Vander Planke, Mr...|female|31.0|    1|  0.0|          345763|     18| null|       S|\n",
      "|         20|       1|   3.0|Masselmani, Mrs. ...|female|null|    0|  0.0|            2649|  7.225| null|       C|\n",
      "+-----------+--------+------+--------------------+------+----+-----+-----+----------------+-------+-----+--------+\n",
      "only showing top 20 rows\n",
      "\n"
     ]
    }
   ],
   "source": [
    "df.show()"
   ]
  },
  {
   "cell_type": "code",
   "execution_count": 7,
   "metadata": {},
   "outputs": [],
   "source": [
    "# select working columns \n",
    "my_cols = df.select(['Survived', 'Pclass', 'Sex', 'Age','Parch'])"
   ]
  },
  {
   "cell_type": "code",
   "execution_count": 8,
   "metadata": {},
   "outputs": [
    {
     "name": "stdout",
     "output_type": "stream",
     "text": [
      "+--------+------+------+----+-----+\n",
      "|Survived|Pclass|   Sex| Age|Parch|\n",
      "+--------+------+------+----+-----+\n",
      "|       0|   3.0|  male|22.0|  0.0|\n",
      "|       1|   1.0|female|38.0|  0.0|\n",
      "|       1|   3.0|female|26.0|  0.0|\n",
      "|       1|   1.0|female|35.0|  0.0|\n",
      "|       0|   3.0|  male|35.0|  0.0|\n",
      "|       0|   3.0|  male|null|  0.0|\n",
      "|       0|   1.0|  male|54.0|  0.0|\n",
      "|       0|   3.0|  male| 2.0|  1.0|\n",
      "|       1|   3.0|female|27.0|  2.0|\n",
      "|       1|   2.0|female|14.0|  0.0|\n",
      "|       1|   3.0|female| 4.0|  1.0|\n",
      "|       1|   1.0|female|58.0|  0.0|\n",
      "|       0|   3.0|  male|20.0|  0.0|\n",
      "|       0|   3.0|  male|39.0|  5.0|\n",
      "|       0|   3.0|female|14.0|  0.0|\n",
      "|       1|   2.0|female|55.0|  0.0|\n",
      "|       0|   3.0|  male| 2.0|  1.0|\n",
      "|       1|   2.0|  male|null|  0.0|\n",
      "|       0|   3.0|female|31.0|  0.0|\n",
      "|       1|   3.0|female|null|  0.0|\n",
      "+--------+------+------+----+-----+\n",
      "only showing top 20 rows\n",
      "\n"
     ]
    }
   ],
   "source": [
    "my_cols.show()"
   ]
  },
  {
   "cell_type": "code",
   "execution_count": 9,
   "metadata": {},
   "outputs": [],
   "source": [
    "# drop null data\n",
    "my_final_data = my_cols.na.drop()"
   ]
  },
  {
   "cell_type": "code",
   "execution_count": 10,
   "metadata": {},
   "outputs": [
    {
     "name": "stdout",
     "output_type": "stream",
     "text": [
      "+--------+------+------+----+-----+\n",
      "|Survived|Pclass|   Sex| Age|Parch|\n",
      "+--------+------+------+----+-----+\n",
      "|       0|   3.0|  male|22.0|  0.0|\n",
      "|       1|   1.0|female|38.0|  0.0|\n",
      "|       1|   3.0|female|26.0|  0.0|\n",
      "|       1|   1.0|female|35.0|  0.0|\n",
      "|       0|   3.0|  male|35.0|  0.0|\n",
      "|       0|   1.0|  male|54.0|  0.0|\n",
      "|       0|   3.0|  male| 2.0|  1.0|\n",
      "|       1|   3.0|female|27.0|  2.0|\n",
      "|       1|   2.0|female|14.0|  0.0|\n",
      "|       1|   3.0|female| 4.0|  1.0|\n",
      "|       1|   1.0|female|58.0|  0.0|\n",
      "|       0|   3.0|  male|20.0|  0.0|\n",
      "|       0|   3.0|  male|39.0|  5.0|\n",
      "|       0|   3.0|female|14.0|  0.0|\n",
      "|       1|   2.0|female|55.0|  0.0|\n",
      "|       0|   3.0|  male| 2.0|  1.0|\n",
      "|       0|   3.0|female|31.0|  0.0|\n",
      "|       0|   2.0|  male|35.0|  0.0|\n",
      "|       1|   2.0|  male|34.0|  0.0|\n",
      "|       1|   3.0|female|15.0|  0.0|\n",
      "+--------+------+------+----+-----+\n",
      "only showing top 20 rows\n",
      "\n"
     ]
    }
   ],
   "source": [
    "my_final_data.show()"
   ]
  },
  {
   "cell_type": "code",
   "execution_count": 11,
   "metadata": {},
   "outputs": [],
   "source": [
    "#  index columns \n",
    "\n",
    "gender_indexer = StringIndexer(inputCol='Sex', outputCol='SexIndex')\n",
    "\n",
    "# one hot encoding \n",
    "\n",
    "# e.g.\n",
    "# A B C \n",
    "# index \n",
    "# 0 1 2 \n",
    "# ONE HOT ENCODE \n",
    "# [1,0,0] [0,1,0] [0,0,1]\n",
    "\n",
    "gender_encoder = OneHotEncoder(inputCol='SexIndex', outputCol='SexVec')"
   ]
  },
  {
   "cell_type": "code",
   "execution_count": 12,
   "metadata": {},
   "outputs": [],
   "source": [
    "# do the same op (above) on embarked column\n",
    "\n",
    "embark_indexer = StringIndexer(inputCol='Embarked', outputCol='EmbarkIndex')\n",
    "embark_encoder = OneHotEncoder(inputCol='EmbarkIndex', outputCol='EmbarkVec')"
   ]
  },
  {
   "cell_type": "code",
   "execution_count": 13,
   "metadata": {},
   "outputs": [],
   "source": [
    "# transform needed columns to \"feature vector\" ( as spark milb model loading data style)\n",
    "\n",
    "assembler = VectorAssembler(inputCols= ['Pclass', 'SexVec', 'Age','Parch'],\n",
    "                            outputCol= 'features')\n",
    "\n",
    "\n",
    "# ['Survived', 'Pclass', 'Sex', 'Age','Parch', 'Embarked']\n"
   ]
  },
  {
   "cell_type": "code",
   "execution_count": 14,
   "metadata": {},
   "outputs": [
    {
     "data": {
      "text/plain": [
       "VectorAssembler_47c4a18d6b6f189cc1b5"
      ]
     },
     "execution_count": 14,
     "metadata": {},
     "output_type": "execute_result"
    }
   ],
   "source": [
    "assembler"
   ]
  },
  {
   "cell_type": "code",
   "execution_count": 15,
   "metadata": {},
   "outputs": [],
   "source": [
    "# ml model \n",
    "\n",
    "log_reg_titanic = LogisticRegression(featuresCol='features', labelCol='Survived')"
   ]
  },
  {
   "cell_type": "code",
   "execution_count": 16,
   "metadata": {},
   "outputs": [],
   "source": [
    "# pipeline : stage for different steps \n",
    "# step : \n",
    "# indexing --> encode -> train \n",
    "\n",
    "pipeline = Pipeline(stages=[gender_indexer, #embark_indexer,\n",
    "                            gender_encoder, #embark_encoder,\n",
    "                            assembler, log_reg_titanic])"
   ]
  },
  {
   "cell_type": "code",
   "execution_count": 17,
   "metadata": {},
   "outputs": [],
   "source": [
    "# split train, test data\n",
    "train_data, test_data = my_final_data.randomSplit([0.7, 0.3])"
   ]
  },
  {
   "cell_type": "code",
   "execution_count": 18,
   "metadata": {},
   "outputs": [],
   "source": [
    "# train the model\n",
    "fit_model = pipeline.fit(train_data)"
   ]
  },
  {
   "cell_type": "code",
   "execution_count": 19,
   "metadata": {},
   "outputs": [
    {
     "name": "stdout",
     "output_type": "stream",
     "text": [
      "+--------+------+------+----+-----+\n",
      "|Survived|Pclass|   Sex| Age|Parch|\n",
      "+--------+------+------+----+-----+\n",
      "|       0|   1.0|female|25.0|  2.0|\n",
      "|       0|   1.0|female|50.0|  0.0|\n",
      "|       0|   1.0|  male|18.0|  0.0|\n",
      "|       0|   1.0|  male|19.0|  0.0|\n",
      "|       0|   1.0|  male|24.0|  0.0|\n",
      "|       0|   1.0|  male|27.0|  2.0|\n",
      "|       0|   1.0|  male|28.0|  0.0|\n",
      "|       0|   1.0|  male|28.0|  0.0|\n",
      "|       0|   1.0|  male|29.0|  0.0|\n",
      "|       0|   1.0|  male|29.0|  0.0|\n",
      "|       0|   1.0|  male|30.0|  0.0|\n",
      "|       0|   1.0|  male|31.0|  0.0|\n",
      "|       0|   1.0|  male|33.0|  0.0|\n",
      "|       0|   1.0|  male|36.0|  0.0|\n",
      "|       0|   1.0|  male|37.0|  0.0|\n",
      "|       0|   1.0|  male|39.0|  0.0|\n",
      "|       0|   1.0|  male|40.0|  0.0|\n",
      "|       0|   1.0|  male|40.0|  0.0|\n",
      "|       0|   1.0|  male|45.0|  0.0|\n",
      "|       0|   1.0|  male|45.0|  0.0|\n",
      "+--------+------+------+----+-----+\n",
      "only showing top 20 rows\n",
      "\n"
     ]
    }
   ],
   "source": [
    "train_data.show()"
   ]
  },
  {
   "cell_type": "code",
   "execution_count": 20,
   "metadata": {},
   "outputs": [],
   "source": [
    "# do the prediction "
   ]
  }
 ],
 "metadata": {
  "kernelspec": {
   "display_name": "Environment (conda_pyspark_)",
   "language": "python",
   "name": "conda_pyspark_"
  },
  "language_info": {
   "codemirror_mode": {
    "name": "ipython",
    "version": 3
   },
   "file_extension": ".py",
   "mimetype": "text/x-python",
   "name": "python",
   "nbconvert_exporter": "python",
   "pygments_lexer": "ipython3",
   "version": "3.5.5"
  }
 },
 "nbformat": 4,
 "nbformat_minor": 2
}
