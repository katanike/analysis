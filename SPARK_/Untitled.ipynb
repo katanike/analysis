{
 "cells": [
  {
   "cell_type": "code",
   "execution_count": 37,
   "metadata": {},
   "outputs": [],
   "source": [
    "# spark \n",
    "from pyspark import SparkConf, SparkContext\n",
    "from pyspark.sql import SQLContext, SparkSession, Row\n",
    "\n",
    "# python op \n",
    "import pandas as pd\n",
    "import io\n",
    "import requests"
   ]
  },
  {
   "cell_type": "code",
   "execution_count": 17,
   "metadata": {},
   "outputs": [],
   "source": [
    "# config \n",
    "conf = SparkConf().setAppName(\"load UBER data\")\n",
    "sc = SparkContext(conf=conf)\n",
    "sqlCtx = SQLContext(sc)\n",
    "spark = SparkSession.builder.enableHiveSupport().getOrCreate()"
   ]
  },
  {
   "cell_type": "code",
   "execution_count": 6,
   "metadata": {},
   "outputs": [],
   "source": [
    "#url='https://github.com/yennanliu/uber-tlc-foil-response/blob/master/uber-trip-data/uber-raw-data-jun14.csv'\n",
    "#s=requests.get(url).content\n",
    "#df=pd.read_csv(io.StringIO(s.decode('utf-8')))\n"
   ]
  },
  {
   "cell_type": "code",
   "execution_count": 7,
   "metadata": {},
   "outputs": [
    {
     "name": "stdout",
     "output_type": "stream",
     "text": [
      "/Users/yennanliu\n"
     ]
    }
   ],
   "source": [
    "cd"
   ]
  },
  {
   "cell_type": "code",
   "execution_count": 8,
   "metadata": {},
   "outputs": [
    {
     "name": "stdout",
     "output_type": "stream",
     "text": [
      "/Users/yennanliu/uber-tlc-foil-response\n"
     ]
    }
   ],
   "source": [
    "cd uber-tlc-foil-response/"
   ]
  },
  {
   "cell_type": "code",
   "execution_count": 9,
   "metadata": {},
   "outputs": [
    {
     "name": "stdout",
     "output_type": "stream",
     "text": [
      "\u001b[31mAggregate FHV Data.xlsx\u001b[m\u001b[m* TLC_letter2.pdf          \u001b[1m\u001b[36mother-FHV-data\u001b[m\u001b[m/\r\n",
      "README.md                TLC_letter3.pdf          \u001b[1m\u001b[36muber-trip-data\u001b[m\u001b[m/\r\n",
      "TLC_letter.pdf           \u001b[31mUber-Jan-Feb-FOIL.csv\u001b[m\u001b[m*\r\n"
     ]
    }
   ],
   "source": [
    "ls "
   ]
  },
  {
   "cell_type": "code",
   "execution_count": 18,
   "metadata": {},
   "outputs": [],
   "source": [
    "# access DATA here https://github.com/yennanliu/uber-tlc-foil-response\n",
    "data = sc.textFile(\"Uber-Jan-Feb-FOIL.csv\")"
   ]
  },
  {
   "cell_type": "code",
   "execution_count": 24,
   "metadata": {},
   "outputs": [],
   "source": [
    "df=pd.read_csv(\"Uber-Jan-Feb-FOIL.csv\")"
   ]
  },
  {
   "cell_type": "code",
   "execution_count": 25,
   "metadata": {},
   "outputs": [
    {
     "data": {
      "text/plain": [
       "Index(['dispatching_base_number', 'date', 'active_vehicles', 'trips'], dtype='object')"
      ]
     },
     "execution_count": 25,
     "metadata": {},
     "output_type": "execute_result"
    }
   ],
   "source": [
    "df.columns"
   ]
  },
  {
   "cell_type": "code",
   "execution_count": 21,
   "metadata": {},
   "outputs": [],
   "source": [
    "data2 = sc.textFile(\"Uber-Jan-Feb-FOIL.csv\").map(lambda line: line.split(\",\"))\n",
    "\n"
   ]
  },
  {
   "cell_type": "code",
   "execution_count": 20,
   "metadata": {},
   "outputs": [
    {
     "data": {
      "text/plain": [
       "['dispatching_base_number,date,active_vehicles,trips',\n",
       " 'B02512,1/1/2015,190,1132',\n",
       " 'B02765,1/1/2015,225,1765',\n",
       " 'B02764,1/1/2015,3427,29421']"
      ]
     },
     "execution_count": 20,
     "metadata": {},
     "output_type": "execute_result"
    }
   ],
   "source": [
    "data.take(4)"
   ]
  },
  {
   "cell_type": "code",
   "execution_count": 26,
   "metadata": {},
   "outputs": [],
   "source": [
    "data2 = sc.textFile(\"Uber-Jan-Feb-FOIL.csv\").map(lambda line: line.split(\",\"))\n",
    "headers = data2.first()\n",
    "traindata = data2.filter(lambda row: row != headers)\n",
    "sqlContext = SQLContext(sc)\n",
    "dataFrame = sqlContext.createDataFrame(traindata, ['dispatching_base_number', 'date', 'active_vehicles', 'trips'])\n",
    "\n",
    "\n",
    "\n"
   ]
  },
  {
   "cell_type": "code",
   "execution_count": 27,
   "metadata": {},
   "outputs": [
    {
     "name": "stdout",
     "output_type": "stream",
     "text": [
      "+-----------------------+--------+---------------+-----+\n",
      "|dispatching_base_number|    date|active_vehicles|trips|\n",
      "+-----------------------+--------+---------------+-----+\n",
      "|                 B02512|1/1/2015|            190| 1132|\n",
      "|                 B02765|1/1/2015|            225| 1765|\n",
      "|                 B02764|1/1/2015|           3427|29421|\n",
      "|                 B02682|1/1/2015|            945| 7679|\n",
      "|                 B02617|1/1/2015|           1228| 9537|\n",
      "|                 B02598|1/1/2015|            870| 6903|\n",
      "|                 B02598|1/2/2015|            785| 4768|\n",
      "|                 B02617|1/2/2015|           1137| 7065|\n",
      "|                 B02512|1/2/2015|            175|  875|\n",
      "|                 B02682|1/2/2015|            890| 5506|\n",
      "|                 B02765|1/2/2015|            196| 1001|\n",
      "|                 B02764|1/2/2015|           3147|19974|\n",
      "|                 B02765|1/3/2015|            201| 1526|\n",
      "|                 B02617|1/3/2015|           1188|10664|\n",
      "|                 B02598|1/3/2015|            818| 7432|\n",
      "|                 B02682|1/3/2015|            915| 8010|\n",
      "|                 B02512|1/3/2015|            173| 1088|\n",
      "|                 B02764|1/3/2015|           3215|29729|\n",
      "|                 B02512|1/4/2015|            147|  791|\n",
      "|                 B02682|1/4/2015|            812| 5621|\n",
      "+-----------------------+--------+---------------+-----+\n",
      "only showing top 20 rows\n",
      "\n"
     ]
    }
   ],
   "source": [
    "dataFrame.show()"
   ]
  },
  {
   "cell_type": "code",
   "execution_count": 29,
   "metadata": {},
   "outputs": [
    {
     "name": "stdout",
     "output_type": "stream",
     "text": [
      "taxi-zone-lookup.csv              uber-raw-data-jul14.csv\r\n",
      "uber-raw-data-apr14.csv           uber-raw-data-jun14.csv\r\n",
      "uber-raw-data-aug14.csv           uber-raw-data-may14.csv\r\n",
      "uber-raw-data-janjune-15.csv.zip  uber-raw-data-sep14.csv\r\n"
     ]
    }
   ],
   "source": [
    "ls uber-trip-data"
   ]
  },
  {
   "cell_type": "code",
   "execution_count": 34,
   "metadata": {},
   "outputs": [],
   "source": [
    "data3 = sc.textFile(\"uber-trip-data/uber-raw-data-apr14.csv\").map(lambda line: line.split(\",\"))\n"
   ]
  },
  {
   "cell_type": "code",
   "execution_count": 35,
   "metadata": {},
   "outputs": [
    {
     "data": {
      "text/plain": [
       "[['\"Date/Time\"', '\"Lat\"', '\"Lon\"', '\"Base\"'],\n",
       " ['\"4/1/2014 0:11:00\"', '40.769', '-73.9549', '\"B02512\"'],\n",
       " ['\"4/1/2014 0:17:00\"', '40.7267', '-74.0345', '\"B02512\"']]"
      ]
     },
     "execution_count": 35,
     "metadata": {},
     "output_type": "execute_result"
    }
   ],
   "source": [
    "data3.take(3)"
   ]
  },
  {
   "cell_type": "code",
   "execution_count": 75,
   "metadata": {
    "scrolled": true
   },
   "outputs": [
    {
     "name": "stdout",
     "output_type": "stream",
     "text": [
      "+-----------------------+--------+---------------+-------+-----+\n",
      "|dispatching_base_number|    date|active_vehicles|  trips|date_|\n",
      "+-----------------------+--------+---------------+-------+-----+\n",
      "|                 B02512|1/1/2015|          190.0| 1132.0| null|\n",
      "|                 B02765|1/1/2015|          225.0| 1765.0| null|\n",
      "|                 B02764|1/1/2015|         3427.0|29421.0| null|\n",
      "|                 B02682|1/1/2015|          945.0| 7679.0| null|\n",
      "|                 B02617|1/1/2015|         1228.0| 9537.0| null|\n",
      "|                 B02598|1/1/2015|          870.0| 6903.0| null|\n",
      "|                 B02598|1/2/2015|          785.0| 4768.0| null|\n",
      "|                 B02617|1/2/2015|         1137.0| 7065.0| null|\n",
      "|                 B02512|1/2/2015|          175.0|  875.0| null|\n",
      "|                 B02682|1/2/2015|          890.0| 5506.0| null|\n",
      "|                 B02765|1/2/2015|          196.0| 1001.0| null|\n",
      "|                 B02764|1/2/2015|         3147.0|19974.0| null|\n",
      "|                 B02765|1/3/2015|          201.0| 1526.0| null|\n",
      "|                 B02617|1/3/2015|         1188.0|10664.0| null|\n",
      "|                 B02598|1/3/2015|          818.0| 7432.0| null|\n",
      "|                 B02682|1/3/2015|          915.0| 8010.0| null|\n",
      "|                 B02512|1/3/2015|          173.0| 1088.0| null|\n",
      "|                 B02764|1/3/2015|         3215.0|29729.0| null|\n",
      "|                 B02512|1/4/2015|          147.0|  791.0| null|\n",
      "|                 B02682|1/4/2015|          812.0| 5621.0| null|\n",
      "+-----------------------+--------+---------------+-------+-----+\n",
      "only showing top 20 rows\n",
      "\n"
     ]
    }
   ],
   "source": [
    "dataFrame = dataFrame.withColumn(\"date_\", dataFrame[\"date\"].cast(\"timestamp\"))\n",
    "dataFrame = dataFrame.withColumn(\"trips\", dataFrame[\"trips\"].cast(\"float\"))\n",
    "dataFrame = dataFrame.withColumn(\"active_vehicles\", dataFrame[\"active_vehicles\"].cast(\"float\"))\n",
    "dataFrame.show()"
   ]
  },
  {
   "cell_type": "code",
   "execution_count": 76,
   "metadata": {},
   "outputs": [
    {
     "name": "stdout",
     "output_type": "stream",
     "text": [
      "root\n",
      " |-- dispatching_base_number: string (nullable = true)\n",
      " |-- date: string (nullable = true)\n",
      " |-- active_vehicles: float (nullable = true)\n",
      " |-- trips: float (nullable = true)\n",
      " |-- date_: timestamp (nullable = true)\n",
      "\n"
     ]
    }
   ],
   "source": [
    "dataFrame.printSchema()"
   ]
  },
  {
   "cell_type": "code",
   "execution_count": 53,
   "metadata": {},
   "outputs": [
    {
     "name": "stdout",
     "output_type": "stream",
     "text": [
      "+-------------------+-------------------+\n",
      "|dt                 |parsed             |\n",
      "+-------------------+-------------------+\n",
      "|2016_08_21 11_31_08|2016-08-21 00:00:00|\n",
      "+-------------------+-------------------+\n",
      "\n"
     ]
    }
   ],
   "source": [
    "from pyspark.sql.functions import unix_timestamp\n",
    "\n",
    "(sc\n",
    "    .parallelize([Row(dt='2016_08_21 11_31_08')])\n",
    "    .toDF()\n",
    "    .withColumn(\"parsed\", unix_timestamp(\"dt\", \"yyyy_MM_dd\")\n",
    "    .cast(\"double\")\n",
    "    .cast(\"timestamp\"))\n",
    "    .show(1, False))"
   ]
  },
  {
   "cell_type": "code",
   "execution_count": 49,
   "metadata": {},
   "outputs": [
    {
     "name": "stdout",
     "output_type": "stream",
     "text": [
      "root\n",
      " |-- dispatching_base_number: string (nullable = true)\n",
      " |-- date: string (nullable = true)\n",
      " |-- active_vehicles: string (nullable = true)\n",
      " |-- trips: string (nullable = true)\n",
      "\n"
     ]
    }
   ],
   "source": [
    "dataFrame.printSchema()"
   ]
  },
  {
   "cell_type": "code",
   "execution_count": 78,
   "metadata": {
    "scrolled": true
   },
   "outputs": [
    {
     "name": "stdout",
     "output_type": "stream",
     "text": [
      "+-----------------------+-----+\n",
      "|dispatching_base_number|count|\n",
      "+-----------------------+-----+\n",
      "|                 B02512|   59|\n",
      "|                 B02598|   59|\n",
      "|                 B02682|   59|\n",
      "|                 B02765|   59|\n",
      "|                 B02617|   59|\n",
      "|                 B02764|   59|\n",
      "+-----------------------+-----+\n",
      "\n"
     ]
    }
   ],
   "source": [
    "dataFrame.groupby('dispatching_base_number').count().show()"
   ]
  },
  {
   "cell_type": "code",
   "execution_count": 91,
   "metadata": {},
   "outputs": [
    {
     "data": {
      "text/plain": [
       "[Row(dispatching_base_number='B02512', date='1/1/2015', active_vehicles=190.0, trips=1132.0, date_=None),\n",
       " Row(dispatching_base_number='B02765', date='1/1/2015', active_vehicles=225.0, trips=1765.0, date_=None),\n",
       " Row(dispatching_base_number='B02764', date='1/1/2015', active_vehicles=3427.0, trips=29421.0, date_=None)]"
      ]
     },
     "execution_count": 91,
     "metadata": {},
     "output_type": "execute_result"
    }
   ],
   "source": [
    "spark_RDD.take(3)"
   ]
  },
  {
   "cell_type": "code",
   "execution_count": 111,
   "metadata": {},
   "outputs": [],
   "source": [
    "\tspark_RDD = dataFrame.rdd \n",
    "\ttop_batch = spark_RDD\\\n",
    "\t\t\t\t.map(lambda x : (x.dispatching_base_number , 20))\\\n",
    "\t\t\t\t.reduceByKey(add)\\\n",
    "\t\t\t\t.sortBy(lambda x : x[1], False)\\\n",
    "\t\t\t\t.take(30)"
   ]
  },
  {
   "cell_type": "code",
   "execution_count": 112,
   "metadata": {},
   "outputs": [
    {
     "data": {
      "text/plain": [
       "[('B02598', 1180),\n",
       " ('B02682', 1180),\n",
       " ('B02765', 1180),\n",
       " ('B02617', 1180),\n",
       " ('B02764', 1180),\n",
       " ('B02512', 1180)]"
      ]
     },
     "execution_count": 112,
     "metadata": {},
     "output_type": "execute_result"
    }
   ],
   "source": [
    "top_batch"
   ]
  },
  {
   "cell_type": "code",
   "execution_count": 109,
   "metadata": {},
   "outputs": [
    {
     "data": {
      "text/plain": [
       "[('B02598', 1180),\n",
       " ('B02682', 1180),\n",
       " ('B02765', 1180),\n",
       " ('B02617', 1180),\n",
       " ('B02764', 1180),\n",
       " ('B02512', 1180)]"
      ]
     },
     "execution_count": 109,
     "metadata": {},
     "output_type": "execute_result"
    }
   ],
   "source": [
    "from operator import add\n",
    "\n",
    "\n",
    "spark_RDD\\\n",
    ".map(lambda x : (x.dispatching_base_number , 20))\\\n",
    ".reduceByKey(add)\\\n",
    ".sortBy(lambda x : x[1], False)\\\n",
    ".take(10)\n"
   ]
  },
  {
   "cell_type": "code",
   "execution_count": 88,
   "metadata": {},
   "outputs": [
    {
     "ename": "Py4JJavaError",
     "evalue": "An error occurred while calling z:org.apache.spark.api.python.PythonRDD.collectAndServe.\n: org.apache.spark.SparkException: Job aborted due to stage failure: Task 0 in stage 122.0 failed 1 times, most recent failure: Lost task 0.0 in stage 122.0 (TID 1521, localhost, executor driver): org.apache.spark.api.python.PythonException: Traceback (most recent call last):\n  File \"/Users/yennanliu/spark/python/lib/pyspark.zip/pyspark/worker.py\", line 229, in main\n    process()\n  File \"/Users/yennanliu/spark/python/lib/pyspark.zip/pyspark/worker.py\", line 224, in process\n    serializer.dump_stream(func(split_index, iterator), outfile)\n  File \"/Users/yennanliu/anaconda3/envs/pyspark_/lib/python3.5/site-packages/pyspark/rdd.py\", line 2438, in pipeline_func\n    return func(split, prev_func(split, iterator))\n  File \"/Users/yennanliu/anaconda3/envs/pyspark_/lib/python3.5/site-packages/pyspark/rdd.py\", line 2438, in pipeline_func\n    return func(split, prev_func(split, iterator))\n  File \"/Users/yennanliu/anaconda3/envs/pyspark_/lib/python3.5/site-packages/pyspark/rdd.py\", line 2438, in pipeline_func\n    return func(split, prev_func(split, iterator))\n  File \"/Users/yennanliu/anaconda3/envs/pyspark_/lib/python3.5/site-packages/pyspark/rdd.py\", line 362, in func\n    return f(iterator)\n  File \"/Users/yennanliu/anaconda3/envs/pyspark_/lib/python3.5/site-packages/pyspark/rdd.py\", line 1056, in <lambda>\n    return self.mapPartitions(lambda i: [sum(1 for _ in i)]).sum()\n  File \"/Users/yennanliu/anaconda3/envs/pyspark_/lib/python3.5/site-packages/pyspark/rdd.py\", line 1056, in <genexpr>\n    return self.mapPartitions(lambda i: [sum(1 for _ in i)]).sum()\n  File \"<ipython-input-88-bce8f6e89055>\", line 2, in <lambda>\nAttributeError: 'tuple' object has no attribute 'reduceByKey'\n\n\tat org.apache.spark.api.python.BasePythonRunner$ReaderIterator.handlePythonException(PythonRunner.scala:298)\n\tat org.apache.spark.api.python.PythonRunner$$anon$1.read(PythonRunner.scala:438)\n\tat org.apache.spark.api.python.PythonRunner$$anon$1.read(PythonRunner.scala:421)\n\tat org.apache.spark.api.python.BasePythonRunner$ReaderIterator.hasNext(PythonRunner.scala:252)\n\tat org.apache.spark.InterruptibleIterator.hasNext(InterruptibleIterator.scala:37)\n\tat scala.collection.Iterator$class.foreach(Iterator.scala:893)\n\tat org.apache.spark.InterruptibleIterator.foreach(InterruptibleIterator.scala:28)\n\tat scala.collection.generic.Growable$class.$plus$plus$eq(Growable.scala:59)\n\tat scala.collection.mutable.ArrayBuffer.$plus$plus$eq(ArrayBuffer.scala:104)\n\tat scala.collection.mutable.ArrayBuffer.$plus$plus$eq(ArrayBuffer.scala:48)\n\tat scala.collection.TraversableOnce$class.to(TraversableOnce.scala:310)\n\tat org.apache.spark.InterruptibleIterator.to(InterruptibleIterator.scala:28)\n\tat scala.collection.TraversableOnce$class.toBuffer(TraversableOnce.scala:302)\n\tat org.apache.spark.InterruptibleIterator.toBuffer(InterruptibleIterator.scala:28)\n\tat scala.collection.TraversableOnce$class.toArray(TraversableOnce.scala:289)\n\tat org.apache.spark.InterruptibleIterator.toArray(InterruptibleIterator.scala:28)\n\tat org.apache.spark.rdd.RDD$$anonfun$collect$1$$anonfun$12.apply(RDD.scala:939)\n\tat org.apache.spark.rdd.RDD$$anonfun$collect$1$$anonfun$12.apply(RDD.scala:939)\n\tat org.apache.spark.SparkContext$$anonfun$runJob$5.apply(SparkContext.scala:2067)\n\tat org.apache.spark.SparkContext$$anonfun$runJob$5.apply(SparkContext.scala:2067)\n\tat org.apache.spark.scheduler.ResultTask.runTask(ResultTask.scala:87)\n\tat org.apache.spark.scheduler.Task.run(Task.scala:109)\n\tat org.apache.spark.executor.Executor$TaskRunner.run(Executor.scala:345)\n\tat java.util.concurrent.ThreadPoolExecutor.runWorker(ThreadPoolExecutor.java:1142)\n\tat java.util.concurrent.ThreadPoolExecutor$Worker.run(ThreadPoolExecutor.java:617)\n\tat java.lang.Thread.run(Thread.java:745)\n\nDriver stacktrace:\n\tat org.apache.spark.scheduler.DAGScheduler.org$apache$spark$scheduler$DAGScheduler$$failJobAndIndependentStages(DAGScheduler.scala:1599)\n\tat org.apache.spark.scheduler.DAGScheduler$$anonfun$abortStage$1.apply(DAGScheduler.scala:1587)\n\tat org.apache.spark.scheduler.DAGScheduler$$anonfun$abortStage$1.apply(DAGScheduler.scala:1586)\n\tat scala.collection.mutable.ResizableArray$class.foreach(ResizableArray.scala:59)\n\tat scala.collection.mutable.ArrayBuffer.foreach(ArrayBuffer.scala:48)\n\tat org.apache.spark.scheduler.DAGScheduler.abortStage(DAGScheduler.scala:1586)\n\tat org.apache.spark.scheduler.DAGScheduler$$anonfun$handleTaskSetFailed$1.apply(DAGScheduler.scala:831)\n\tat org.apache.spark.scheduler.DAGScheduler$$anonfun$handleTaskSetFailed$1.apply(DAGScheduler.scala:831)\n\tat scala.Option.foreach(Option.scala:257)\n\tat org.apache.spark.scheduler.DAGScheduler.handleTaskSetFailed(DAGScheduler.scala:831)\n\tat org.apache.spark.scheduler.DAGSchedulerEventProcessLoop.doOnReceive(DAGScheduler.scala:1820)\n\tat org.apache.spark.scheduler.DAGSchedulerEventProcessLoop.onReceive(DAGScheduler.scala:1769)\n\tat org.apache.spark.scheduler.DAGSchedulerEventProcessLoop.onReceive(DAGScheduler.scala:1758)\n\tat org.apache.spark.util.EventLoop$$anon$1.run(EventLoop.scala:48)\n\tat org.apache.spark.scheduler.DAGScheduler.runJob(DAGScheduler.scala:642)\n\tat org.apache.spark.SparkContext.runJob(SparkContext.scala:2027)\n\tat org.apache.spark.SparkContext.runJob(SparkContext.scala:2048)\n\tat org.apache.spark.SparkContext.runJob(SparkContext.scala:2067)\n\tat org.apache.spark.SparkContext.runJob(SparkContext.scala:2092)\n\tat org.apache.spark.rdd.RDD$$anonfun$collect$1.apply(RDD.scala:939)\n\tat org.apache.spark.rdd.RDDOperationScope$.withScope(RDDOperationScope.scala:151)\n\tat org.apache.spark.rdd.RDDOperationScope$.withScope(RDDOperationScope.scala:112)\n\tat org.apache.spark.rdd.RDD.withScope(RDD.scala:363)\n\tat org.apache.spark.rdd.RDD.collect(RDD.scala:938)\n\tat org.apache.spark.api.python.PythonRDD$.collectAndServe(PythonRDD.scala:153)\n\tat org.apache.spark.api.python.PythonRDD.collectAndServe(PythonRDD.scala)\n\tat sun.reflect.NativeMethodAccessorImpl.invoke0(Native Method)\n\tat sun.reflect.NativeMethodAccessorImpl.invoke(NativeMethodAccessorImpl.java:62)\n\tat sun.reflect.DelegatingMethodAccessorImpl.invoke(DelegatingMethodAccessorImpl.java:43)\n\tat java.lang.reflect.Method.invoke(Method.java:498)\n\tat py4j.reflection.MethodInvoker.invoke(MethodInvoker.java:244)\n\tat py4j.reflection.ReflectionEngine.invoke(ReflectionEngine.java:357)\n\tat py4j.Gateway.invoke(Gateway.java:282)\n\tat py4j.commands.AbstractCommand.invokeMethod(AbstractCommand.java:132)\n\tat py4j.commands.CallCommand.execute(CallCommand.java:79)\n\tat py4j.GatewayConnection.run(GatewayConnection.java:214)\n\tat java.lang.Thread.run(Thread.java:745)\nCaused by: org.apache.spark.api.python.PythonException: Traceback (most recent call last):\n  File \"/Users/yennanliu/spark/python/lib/pyspark.zip/pyspark/worker.py\", line 229, in main\n    process()\n  File \"/Users/yennanliu/spark/python/lib/pyspark.zip/pyspark/worker.py\", line 224, in process\n    serializer.dump_stream(func(split_index, iterator), outfile)\n  File \"/Users/yennanliu/anaconda3/envs/pyspark_/lib/python3.5/site-packages/pyspark/rdd.py\", line 2438, in pipeline_func\n    return func(split, prev_func(split, iterator))\n  File \"/Users/yennanliu/anaconda3/envs/pyspark_/lib/python3.5/site-packages/pyspark/rdd.py\", line 2438, in pipeline_func\n    return func(split, prev_func(split, iterator))\n  File \"/Users/yennanliu/anaconda3/envs/pyspark_/lib/python3.5/site-packages/pyspark/rdd.py\", line 2438, in pipeline_func\n    return func(split, prev_func(split, iterator))\n  File \"/Users/yennanliu/anaconda3/envs/pyspark_/lib/python3.5/site-packages/pyspark/rdd.py\", line 362, in func\n    return f(iterator)\n  File \"/Users/yennanliu/anaconda3/envs/pyspark_/lib/python3.5/site-packages/pyspark/rdd.py\", line 1056, in <lambda>\n    return self.mapPartitions(lambda i: [sum(1 for _ in i)]).sum()\n  File \"/Users/yennanliu/anaconda3/envs/pyspark_/lib/python3.5/site-packages/pyspark/rdd.py\", line 1056, in <genexpr>\n    return self.mapPartitions(lambda i: [sum(1 for _ in i)]).sum()\n  File \"<ipython-input-88-bce8f6e89055>\", line 2, in <lambda>\nAttributeError: 'tuple' object has no attribute 'reduceByKey'\n\n\tat org.apache.spark.api.python.BasePythonRunner$ReaderIterator.handlePythonException(PythonRunner.scala:298)\n\tat org.apache.spark.api.python.PythonRunner$$anon$1.read(PythonRunner.scala:438)\n\tat org.apache.spark.api.python.PythonRunner$$anon$1.read(PythonRunner.scala:421)\n\tat org.apache.spark.api.python.BasePythonRunner$ReaderIterator.hasNext(PythonRunner.scala:252)\n\tat org.apache.spark.InterruptibleIterator.hasNext(InterruptibleIterator.scala:37)\n\tat scala.collection.Iterator$class.foreach(Iterator.scala:893)\n\tat org.apache.spark.InterruptibleIterator.foreach(InterruptibleIterator.scala:28)\n\tat scala.collection.generic.Growable$class.$plus$plus$eq(Growable.scala:59)\n\tat scala.collection.mutable.ArrayBuffer.$plus$plus$eq(ArrayBuffer.scala:104)\n\tat scala.collection.mutable.ArrayBuffer.$plus$plus$eq(ArrayBuffer.scala:48)\n\tat scala.collection.TraversableOnce$class.to(TraversableOnce.scala:310)\n\tat org.apache.spark.InterruptibleIterator.to(InterruptibleIterator.scala:28)\n\tat scala.collection.TraversableOnce$class.toBuffer(TraversableOnce.scala:302)\n\tat org.apache.spark.InterruptibleIterator.toBuffer(InterruptibleIterator.scala:28)\n\tat scala.collection.TraversableOnce$class.toArray(TraversableOnce.scala:289)\n\tat org.apache.spark.InterruptibleIterator.toArray(InterruptibleIterator.scala:28)\n\tat org.apache.spark.rdd.RDD$$anonfun$collect$1$$anonfun$12.apply(RDD.scala:939)\n\tat org.apache.spark.rdd.RDD$$anonfun$collect$1$$anonfun$12.apply(RDD.scala:939)\n\tat org.apache.spark.SparkContext$$anonfun$runJob$5.apply(SparkContext.scala:2067)\n\tat org.apache.spark.SparkContext$$anonfun$runJob$5.apply(SparkContext.scala:2067)\n\tat org.apache.spark.scheduler.ResultTask.runTask(ResultTask.scala:87)\n\tat org.apache.spark.scheduler.Task.run(Task.scala:109)\n\tat org.apache.spark.executor.Executor$TaskRunner.run(Executor.scala:345)\n\tat java.util.concurrent.ThreadPoolExecutor.runWorker(ThreadPoolExecutor.java:1142)\n\tat java.util.concurrent.ThreadPoolExecutor$Worker.run(ThreadPoolExecutor.java:617)\n\t... 1 more\n",
     "output_type": "error",
     "traceback": [
      "\u001b[0;31m---------------------------------------------------------------------------\u001b[0m",
      "\u001b[0;31mPy4JJavaError\u001b[0m                             Traceback (most recent call last)",
      "\u001b[0;32m<ipython-input-88-bce8f6e89055>\u001b[0m in \u001b[0;36m<module>\u001b[0;34m()\u001b[0m\n\u001b[1;32m      1\u001b[0m \u001b[0mspark_RDD\u001b[0m \u001b[0;34m=\u001b[0m \u001b[0mdataFrame\u001b[0m\u001b[0;34m.\u001b[0m\u001b[0mrdd\u001b[0m\u001b[0;34m\u001b[0m\u001b[0m\n\u001b[0;32m----> 2\u001b[0;31m \u001b[0mtop_batch\u001b[0m \u001b[0;34m=\u001b[0m \u001b[0mspark_RDD\u001b[0m            \u001b[0;34m.\u001b[0m\u001b[0mmap\u001b[0m\u001b[0;34m(\u001b[0m\u001b[0;32mlambda\u001b[0m \u001b[0mx\u001b[0m \u001b[0;34m:\u001b[0m \u001b[0;34m(\u001b[0m\u001b[0mx\u001b[0m\u001b[0;34m.\u001b[0m\u001b[0mdispatching_base_number\u001b[0m \u001b[0;34m,\u001b[0m \u001b[0;36m1\u001b[0m\u001b[0;34m)\u001b[0m            \u001b[0;34m.\u001b[0m\u001b[0mreduceByKey\u001b[0m\u001b[0;34m(\u001b[0m\u001b[0madd\u001b[0m\u001b[0;34m)\u001b[0m\u001b[0;34m)\u001b[0m            \u001b[0;34m.\u001b[0m\u001b[0msortBy\u001b[0m\u001b[0;34m(\u001b[0m\u001b[0;32mlambda\u001b[0m \u001b[0mx\u001b[0m \u001b[0;34m:\u001b[0m \u001b[0mx\u001b[0m\u001b[0;34m[\u001b[0m\u001b[0;36m1\u001b[0m\u001b[0;34m]\u001b[0m\u001b[0;34m,\u001b[0m \u001b[0;32mFalse\u001b[0m\u001b[0;34m)\u001b[0m            \u001b[0;34m.\u001b[0m\u001b[0mtake\u001b[0m\u001b[0;34m(\u001b[0m\u001b[0;36m30\u001b[0m\u001b[0;34m)\u001b[0m\u001b[0;34m\u001b[0m\u001b[0m\n\u001b[0m",
      "\u001b[0;32m~/anaconda3/envs/pyspark_/lib/python3.5/site-packages/pyspark/rdd.py\u001b[0m in \u001b[0;36msortBy\u001b[0;34m(self, keyfunc, ascending, numPartitions)\u001b[0m\n\u001b[1;32m    707\u001b[0m         \u001b[0;34m[\u001b[0m\u001b[0;34m(\u001b[0m\u001b[0;34m'a'\u001b[0m\u001b[0;34m,\u001b[0m \u001b[0;36m1\u001b[0m\u001b[0;34m)\u001b[0m\u001b[0;34m,\u001b[0m \u001b[0;34m(\u001b[0m\u001b[0;34m'b'\u001b[0m\u001b[0;34m,\u001b[0m \u001b[0;36m2\u001b[0m\u001b[0;34m)\u001b[0m\u001b[0;34m,\u001b[0m \u001b[0;34m(\u001b[0m\u001b[0;34m'1'\u001b[0m\u001b[0;34m,\u001b[0m \u001b[0;36m3\u001b[0m\u001b[0;34m)\u001b[0m\u001b[0;34m,\u001b[0m \u001b[0;34m(\u001b[0m\u001b[0;34m'd'\u001b[0m\u001b[0;34m,\u001b[0m \u001b[0;36m4\u001b[0m\u001b[0;34m)\u001b[0m\u001b[0;34m,\u001b[0m \u001b[0;34m(\u001b[0m\u001b[0;34m'2'\u001b[0m\u001b[0;34m,\u001b[0m \u001b[0;36m5\u001b[0m\u001b[0;34m)\u001b[0m\u001b[0;34m]\u001b[0m\u001b[0;34m\u001b[0m\u001b[0m\n\u001b[1;32m    708\u001b[0m         \"\"\"\n\u001b[0;32m--> 709\u001b[0;31m         \u001b[0;32mreturn\u001b[0m \u001b[0mself\u001b[0m\u001b[0;34m.\u001b[0m\u001b[0mkeyBy\u001b[0m\u001b[0;34m(\u001b[0m\u001b[0mkeyfunc\u001b[0m\u001b[0;34m)\u001b[0m\u001b[0;34m.\u001b[0m\u001b[0msortByKey\u001b[0m\u001b[0;34m(\u001b[0m\u001b[0mascending\u001b[0m\u001b[0;34m,\u001b[0m \u001b[0mnumPartitions\u001b[0m\u001b[0;34m)\u001b[0m\u001b[0;34m.\u001b[0m\u001b[0mvalues\u001b[0m\u001b[0;34m(\u001b[0m\u001b[0;34m)\u001b[0m\u001b[0;34m\u001b[0m\u001b[0m\n\u001b[0m\u001b[1;32m    710\u001b[0m \u001b[0;34m\u001b[0m\u001b[0m\n\u001b[1;32m    711\u001b[0m     \u001b[0;32mdef\u001b[0m \u001b[0mglom\u001b[0m\u001b[0;34m(\u001b[0m\u001b[0mself\u001b[0m\u001b[0;34m)\u001b[0m\u001b[0;34m:\u001b[0m\u001b[0;34m\u001b[0m\u001b[0m\n",
      "\u001b[0;32m~/anaconda3/envs/pyspark_/lib/python3.5/site-packages/pyspark/rdd.py\u001b[0m in \u001b[0;36msortByKey\u001b[0;34m(self, ascending, numPartitions, keyfunc)\u001b[0m\n\u001b[1;32m    675\u001b[0m         \u001b[0;31m# the key-space into bins such that the bins have roughly the same\u001b[0m\u001b[0;34m\u001b[0m\u001b[0;34m\u001b[0m\u001b[0m\n\u001b[1;32m    676\u001b[0m         \u001b[0;31m# number of (key, value) pairs falling into them\u001b[0m\u001b[0;34m\u001b[0m\u001b[0;34m\u001b[0m\u001b[0m\n\u001b[0;32m--> 677\u001b[0;31m         \u001b[0mrddSize\u001b[0m \u001b[0;34m=\u001b[0m \u001b[0mself\u001b[0m\u001b[0;34m.\u001b[0m\u001b[0mcount\u001b[0m\u001b[0;34m(\u001b[0m\u001b[0;34m)\u001b[0m\u001b[0;34m\u001b[0m\u001b[0m\n\u001b[0m\u001b[1;32m    678\u001b[0m         \u001b[0;32mif\u001b[0m \u001b[0;32mnot\u001b[0m \u001b[0mrddSize\u001b[0m\u001b[0;34m:\u001b[0m\u001b[0;34m\u001b[0m\u001b[0m\n\u001b[1;32m    679\u001b[0m             \u001b[0;32mreturn\u001b[0m \u001b[0mself\u001b[0m  \u001b[0;31m# empty RDD\u001b[0m\u001b[0;34m\u001b[0m\u001b[0m\n",
      "\u001b[0;32m~/anaconda3/envs/pyspark_/lib/python3.5/site-packages/pyspark/rdd.py\u001b[0m in \u001b[0;36mcount\u001b[0;34m(self)\u001b[0m\n\u001b[1;32m   1054\u001b[0m         \u001b[0;36m3\u001b[0m\u001b[0;34m\u001b[0m\u001b[0m\n\u001b[1;32m   1055\u001b[0m         \"\"\"\n\u001b[0;32m-> 1056\u001b[0;31m         \u001b[0;32mreturn\u001b[0m \u001b[0mself\u001b[0m\u001b[0;34m.\u001b[0m\u001b[0mmapPartitions\u001b[0m\u001b[0;34m(\u001b[0m\u001b[0;32mlambda\u001b[0m \u001b[0mi\u001b[0m\u001b[0;34m:\u001b[0m \u001b[0;34m[\u001b[0m\u001b[0msum\u001b[0m\u001b[0;34m(\u001b[0m\u001b[0;36m1\u001b[0m \u001b[0;32mfor\u001b[0m \u001b[0m_\u001b[0m \u001b[0;32min\u001b[0m \u001b[0mi\u001b[0m\u001b[0;34m)\u001b[0m\u001b[0;34m]\u001b[0m\u001b[0;34m)\u001b[0m\u001b[0;34m.\u001b[0m\u001b[0msum\u001b[0m\u001b[0;34m(\u001b[0m\u001b[0;34m)\u001b[0m\u001b[0;34m\u001b[0m\u001b[0m\n\u001b[0m\u001b[1;32m   1057\u001b[0m \u001b[0;34m\u001b[0m\u001b[0m\n\u001b[1;32m   1058\u001b[0m     \u001b[0;32mdef\u001b[0m \u001b[0mstats\u001b[0m\u001b[0;34m(\u001b[0m\u001b[0mself\u001b[0m\u001b[0;34m)\u001b[0m\u001b[0;34m:\u001b[0m\u001b[0;34m\u001b[0m\u001b[0m\n",
      "\u001b[0;32m~/anaconda3/envs/pyspark_/lib/python3.5/site-packages/pyspark/rdd.py\u001b[0m in \u001b[0;36msum\u001b[0;34m(self)\u001b[0m\n\u001b[1;32m   1045\u001b[0m         \u001b[0;36m6.0\u001b[0m\u001b[0;34m\u001b[0m\u001b[0m\n\u001b[1;32m   1046\u001b[0m         \"\"\"\n\u001b[0;32m-> 1047\u001b[0;31m         \u001b[0;32mreturn\u001b[0m \u001b[0mself\u001b[0m\u001b[0;34m.\u001b[0m\u001b[0mmapPartitions\u001b[0m\u001b[0;34m(\u001b[0m\u001b[0;32mlambda\u001b[0m \u001b[0mx\u001b[0m\u001b[0;34m:\u001b[0m \u001b[0;34m[\u001b[0m\u001b[0msum\u001b[0m\u001b[0;34m(\u001b[0m\u001b[0mx\u001b[0m\u001b[0;34m)\u001b[0m\u001b[0;34m]\u001b[0m\u001b[0;34m)\u001b[0m\u001b[0;34m.\u001b[0m\u001b[0mfold\u001b[0m\u001b[0;34m(\u001b[0m\u001b[0;36m0\u001b[0m\u001b[0;34m,\u001b[0m \u001b[0moperator\u001b[0m\u001b[0;34m.\u001b[0m\u001b[0madd\u001b[0m\u001b[0;34m)\u001b[0m\u001b[0;34m\u001b[0m\u001b[0m\n\u001b[0m\u001b[1;32m   1048\u001b[0m \u001b[0;34m\u001b[0m\u001b[0m\n\u001b[1;32m   1049\u001b[0m     \u001b[0;32mdef\u001b[0m \u001b[0mcount\u001b[0m\u001b[0;34m(\u001b[0m\u001b[0mself\u001b[0m\u001b[0;34m)\u001b[0m\u001b[0;34m:\u001b[0m\u001b[0;34m\u001b[0m\u001b[0m\n",
      "\u001b[0;32m~/anaconda3/envs/pyspark_/lib/python3.5/site-packages/pyspark/rdd.py\u001b[0m in \u001b[0;36mfold\u001b[0;34m(self, zeroValue, op)\u001b[0m\n\u001b[1;32m    919\u001b[0m         \u001b[0;31m# zeroValue provided to each partition is unique from the one provided\u001b[0m\u001b[0;34m\u001b[0m\u001b[0;34m\u001b[0m\u001b[0m\n\u001b[1;32m    920\u001b[0m         \u001b[0;31m# to the final reduce call\u001b[0m\u001b[0;34m\u001b[0m\u001b[0;34m\u001b[0m\u001b[0m\n\u001b[0;32m--> 921\u001b[0;31m         \u001b[0mvals\u001b[0m \u001b[0;34m=\u001b[0m \u001b[0mself\u001b[0m\u001b[0;34m.\u001b[0m\u001b[0mmapPartitions\u001b[0m\u001b[0;34m(\u001b[0m\u001b[0mfunc\u001b[0m\u001b[0;34m)\u001b[0m\u001b[0;34m.\u001b[0m\u001b[0mcollect\u001b[0m\u001b[0;34m(\u001b[0m\u001b[0;34m)\u001b[0m\u001b[0;34m\u001b[0m\u001b[0m\n\u001b[0m\u001b[1;32m    922\u001b[0m         \u001b[0;32mreturn\u001b[0m \u001b[0mreduce\u001b[0m\u001b[0;34m(\u001b[0m\u001b[0mop\u001b[0m\u001b[0;34m,\u001b[0m \u001b[0mvals\u001b[0m\u001b[0;34m,\u001b[0m \u001b[0mzeroValue\u001b[0m\u001b[0;34m)\u001b[0m\u001b[0;34m\u001b[0m\u001b[0m\n\u001b[1;32m    923\u001b[0m \u001b[0;34m\u001b[0m\u001b[0m\n",
      "\u001b[0;32m~/anaconda3/envs/pyspark_/lib/python3.5/site-packages/pyspark/rdd.py\u001b[0m in \u001b[0;36mcollect\u001b[0;34m(self)\u001b[0m\n\u001b[1;32m    822\u001b[0m         \"\"\"\n\u001b[1;32m    823\u001b[0m         \u001b[0;32mwith\u001b[0m \u001b[0mSCCallSiteSync\u001b[0m\u001b[0;34m(\u001b[0m\u001b[0mself\u001b[0m\u001b[0;34m.\u001b[0m\u001b[0mcontext\u001b[0m\u001b[0;34m)\u001b[0m \u001b[0;32mas\u001b[0m \u001b[0mcss\u001b[0m\u001b[0;34m:\u001b[0m\u001b[0;34m\u001b[0m\u001b[0m\n\u001b[0;32m--> 824\u001b[0;31m             \u001b[0mport\u001b[0m \u001b[0;34m=\u001b[0m \u001b[0mself\u001b[0m\u001b[0;34m.\u001b[0m\u001b[0mctx\u001b[0m\u001b[0;34m.\u001b[0m\u001b[0m_jvm\u001b[0m\u001b[0;34m.\u001b[0m\u001b[0mPythonRDD\u001b[0m\u001b[0;34m.\u001b[0m\u001b[0mcollectAndServe\u001b[0m\u001b[0;34m(\u001b[0m\u001b[0mself\u001b[0m\u001b[0;34m.\u001b[0m\u001b[0m_jrdd\u001b[0m\u001b[0;34m.\u001b[0m\u001b[0mrdd\u001b[0m\u001b[0;34m(\u001b[0m\u001b[0;34m)\u001b[0m\u001b[0;34m)\u001b[0m\u001b[0;34m\u001b[0m\u001b[0m\n\u001b[0m\u001b[1;32m    825\u001b[0m         \u001b[0;32mreturn\u001b[0m \u001b[0mlist\u001b[0m\u001b[0;34m(\u001b[0m\u001b[0m_load_from_socket\u001b[0m\u001b[0;34m(\u001b[0m\u001b[0mport\u001b[0m\u001b[0;34m,\u001b[0m \u001b[0mself\u001b[0m\u001b[0;34m.\u001b[0m\u001b[0m_jrdd_deserializer\u001b[0m\u001b[0;34m)\u001b[0m\u001b[0;34m)\u001b[0m\u001b[0;34m\u001b[0m\u001b[0m\n\u001b[1;32m    826\u001b[0m \u001b[0;34m\u001b[0m\u001b[0m\n",
      "\u001b[0;32m~/anaconda3/envs/pyspark_/lib/python3.5/site-packages/py4j/java_gateway.py\u001b[0m in \u001b[0;36m__call__\u001b[0;34m(self, *args)\u001b[0m\n\u001b[1;32m   1158\u001b[0m         \u001b[0manswer\u001b[0m \u001b[0;34m=\u001b[0m \u001b[0mself\u001b[0m\u001b[0;34m.\u001b[0m\u001b[0mgateway_client\u001b[0m\u001b[0;34m.\u001b[0m\u001b[0msend_command\u001b[0m\u001b[0;34m(\u001b[0m\u001b[0mcommand\u001b[0m\u001b[0;34m)\u001b[0m\u001b[0;34m\u001b[0m\u001b[0m\n\u001b[1;32m   1159\u001b[0m         return_value = get_return_value(\n\u001b[0;32m-> 1160\u001b[0;31m             answer, self.gateway_client, self.target_id, self.name)\n\u001b[0m\u001b[1;32m   1161\u001b[0m \u001b[0;34m\u001b[0m\u001b[0m\n\u001b[1;32m   1162\u001b[0m         \u001b[0;32mfor\u001b[0m \u001b[0mtemp_arg\u001b[0m \u001b[0;32min\u001b[0m \u001b[0mtemp_args\u001b[0m\u001b[0;34m:\u001b[0m\u001b[0;34m\u001b[0m\u001b[0m\n",
      "\u001b[0;32m~/anaconda3/envs/pyspark_/lib/python3.5/site-packages/pyspark/sql/utils.py\u001b[0m in \u001b[0;36mdeco\u001b[0;34m(*a, **kw)\u001b[0m\n\u001b[1;32m     61\u001b[0m     \u001b[0;32mdef\u001b[0m \u001b[0mdeco\u001b[0m\u001b[0;34m(\u001b[0m\u001b[0;34m*\u001b[0m\u001b[0ma\u001b[0m\u001b[0;34m,\u001b[0m \u001b[0;34m**\u001b[0m\u001b[0mkw\u001b[0m\u001b[0;34m)\u001b[0m\u001b[0;34m:\u001b[0m\u001b[0;34m\u001b[0m\u001b[0m\n\u001b[1;32m     62\u001b[0m         \u001b[0;32mtry\u001b[0m\u001b[0;34m:\u001b[0m\u001b[0;34m\u001b[0m\u001b[0m\n\u001b[0;32m---> 63\u001b[0;31m             \u001b[0;32mreturn\u001b[0m \u001b[0mf\u001b[0m\u001b[0;34m(\u001b[0m\u001b[0;34m*\u001b[0m\u001b[0ma\u001b[0m\u001b[0;34m,\u001b[0m \u001b[0;34m**\u001b[0m\u001b[0mkw\u001b[0m\u001b[0;34m)\u001b[0m\u001b[0;34m\u001b[0m\u001b[0m\n\u001b[0m\u001b[1;32m     64\u001b[0m         \u001b[0;32mexcept\u001b[0m \u001b[0mpy4j\u001b[0m\u001b[0;34m.\u001b[0m\u001b[0mprotocol\u001b[0m\u001b[0;34m.\u001b[0m\u001b[0mPy4JJavaError\u001b[0m \u001b[0;32mas\u001b[0m \u001b[0me\u001b[0m\u001b[0;34m:\u001b[0m\u001b[0;34m\u001b[0m\u001b[0m\n\u001b[1;32m     65\u001b[0m             \u001b[0ms\u001b[0m \u001b[0;34m=\u001b[0m \u001b[0me\u001b[0m\u001b[0;34m.\u001b[0m\u001b[0mjava_exception\u001b[0m\u001b[0;34m.\u001b[0m\u001b[0mtoString\u001b[0m\u001b[0;34m(\u001b[0m\u001b[0;34m)\u001b[0m\u001b[0;34m\u001b[0m\u001b[0m\n",
      "\u001b[0;32m~/anaconda3/envs/pyspark_/lib/python3.5/site-packages/py4j/protocol.py\u001b[0m in \u001b[0;36mget_return_value\u001b[0;34m(answer, gateway_client, target_id, name)\u001b[0m\n\u001b[1;32m    318\u001b[0m                 raise Py4JJavaError(\n\u001b[1;32m    319\u001b[0m                     \u001b[0;34m\"An error occurred while calling {0}{1}{2}.\\n\"\u001b[0m\u001b[0;34m.\u001b[0m\u001b[0;34m\u001b[0m\u001b[0m\n\u001b[0;32m--> 320\u001b[0;31m                     format(target_id, \".\", name), value)\n\u001b[0m\u001b[1;32m    321\u001b[0m             \u001b[0;32melse\u001b[0m\u001b[0;34m:\u001b[0m\u001b[0;34m\u001b[0m\u001b[0m\n\u001b[1;32m    322\u001b[0m                 raise Py4JError(\n",
      "\u001b[0;31mPy4JJavaError\u001b[0m: An error occurred while calling z:org.apache.spark.api.python.PythonRDD.collectAndServe.\n: org.apache.spark.SparkException: Job aborted due to stage failure: Task 0 in stage 122.0 failed 1 times, most recent failure: Lost task 0.0 in stage 122.0 (TID 1521, localhost, executor driver): org.apache.spark.api.python.PythonException: Traceback (most recent call last):\n  File \"/Users/yennanliu/spark/python/lib/pyspark.zip/pyspark/worker.py\", line 229, in main\n    process()\n  File \"/Users/yennanliu/spark/python/lib/pyspark.zip/pyspark/worker.py\", line 224, in process\n    serializer.dump_stream(func(split_index, iterator), outfile)\n  File \"/Users/yennanliu/anaconda3/envs/pyspark_/lib/python3.5/site-packages/pyspark/rdd.py\", line 2438, in pipeline_func\n    return func(split, prev_func(split, iterator))\n  File \"/Users/yennanliu/anaconda3/envs/pyspark_/lib/python3.5/site-packages/pyspark/rdd.py\", line 2438, in pipeline_func\n    return func(split, prev_func(split, iterator))\n  File \"/Users/yennanliu/anaconda3/envs/pyspark_/lib/python3.5/site-packages/pyspark/rdd.py\", line 2438, in pipeline_func\n    return func(split, prev_func(split, iterator))\n  File \"/Users/yennanliu/anaconda3/envs/pyspark_/lib/python3.5/site-packages/pyspark/rdd.py\", line 362, in func\n    return f(iterator)\n  File \"/Users/yennanliu/anaconda3/envs/pyspark_/lib/python3.5/site-packages/pyspark/rdd.py\", line 1056, in <lambda>\n    return self.mapPartitions(lambda i: [sum(1 for _ in i)]).sum()\n  File \"/Users/yennanliu/anaconda3/envs/pyspark_/lib/python3.5/site-packages/pyspark/rdd.py\", line 1056, in <genexpr>\n    return self.mapPartitions(lambda i: [sum(1 for _ in i)]).sum()\n  File \"<ipython-input-88-bce8f6e89055>\", line 2, in <lambda>\nAttributeError: 'tuple' object has no attribute 'reduceByKey'\n\n\tat org.apache.spark.api.python.BasePythonRunner$ReaderIterator.handlePythonException(PythonRunner.scala:298)\n\tat org.apache.spark.api.python.PythonRunner$$anon$1.read(PythonRunner.scala:438)\n\tat org.apache.spark.api.python.PythonRunner$$anon$1.read(PythonRunner.scala:421)\n\tat org.apache.spark.api.python.BasePythonRunner$ReaderIterator.hasNext(PythonRunner.scala:252)\n\tat org.apache.spark.InterruptibleIterator.hasNext(InterruptibleIterator.scala:37)\n\tat scala.collection.Iterator$class.foreach(Iterator.scala:893)\n\tat org.apache.spark.InterruptibleIterator.foreach(InterruptibleIterator.scala:28)\n\tat scala.collection.generic.Growable$class.$plus$plus$eq(Growable.scala:59)\n\tat scala.collection.mutable.ArrayBuffer.$plus$plus$eq(ArrayBuffer.scala:104)\n\tat scala.collection.mutable.ArrayBuffer.$plus$plus$eq(ArrayBuffer.scala:48)\n\tat scala.collection.TraversableOnce$class.to(TraversableOnce.scala:310)\n\tat org.apache.spark.InterruptibleIterator.to(InterruptibleIterator.scala:28)\n\tat scala.collection.TraversableOnce$class.toBuffer(TraversableOnce.scala:302)\n\tat org.apache.spark.InterruptibleIterator.toBuffer(InterruptibleIterator.scala:28)\n\tat scala.collection.TraversableOnce$class.toArray(TraversableOnce.scala:289)\n\tat org.apache.spark.InterruptibleIterator.toArray(InterruptibleIterator.scala:28)\n\tat org.apache.spark.rdd.RDD$$anonfun$collect$1$$anonfun$12.apply(RDD.scala:939)\n\tat org.apache.spark.rdd.RDD$$anonfun$collect$1$$anonfun$12.apply(RDD.scala:939)\n\tat org.apache.spark.SparkContext$$anonfun$runJob$5.apply(SparkContext.scala:2067)\n\tat org.apache.spark.SparkContext$$anonfun$runJob$5.apply(SparkContext.scala:2067)\n\tat org.apache.spark.scheduler.ResultTask.runTask(ResultTask.scala:87)\n\tat org.apache.spark.scheduler.Task.run(Task.scala:109)\n\tat org.apache.spark.executor.Executor$TaskRunner.run(Executor.scala:345)\n\tat java.util.concurrent.ThreadPoolExecutor.runWorker(ThreadPoolExecutor.java:1142)\n\tat java.util.concurrent.ThreadPoolExecutor$Worker.run(ThreadPoolExecutor.java:617)\n\tat java.lang.Thread.run(Thread.java:745)\n\nDriver stacktrace:\n\tat org.apache.spark.scheduler.DAGScheduler.org$apache$spark$scheduler$DAGScheduler$$failJobAndIndependentStages(DAGScheduler.scala:1599)\n\tat org.apache.spark.scheduler.DAGScheduler$$anonfun$abortStage$1.apply(DAGScheduler.scala:1587)\n\tat org.apache.spark.scheduler.DAGScheduler$$anonfun$abortStage$1.apply(DAGScheduler.scala:1586)\n\tat scala.collection.mutable.ResizableArray$class.foreach(ResizableArray.scala:59)\n\tat scala.collection.mutable.ArrayBuffer.foreach(ArrayBuffer.scala:48)\n\tat org.apache.spark.scheduler.DAGScheduler.abortStage(DAGScheduler.scala:1586)\n\tat org.apache.spark.scheduler.DAGScheduler$$anonfun$handleTaskSetFailed$1.apply(DAGScheduler.scala:831)\n\tat org.apache.spark.scheduler.DAGScheduler$$anonfun$handleTaskSetFailed$1.apply(DAGScheduler.scala:831)\n\tat scala.Option.foreach(Option.scala:257)\n\tat org.apache.spark.scheduler.DAGScheduler.handleTaskSetFailed(DAGScheduler.scala:831)\n\tat org.apache.spark.scheduler.DAGSchedulerEventProcessLoop.doOnReceive(DAGScheduler.scala:1820)\n\tat org.apache.spark.scheduler.DAGSchedulerEventProcessLoop.onReceive(DAGScheduler.scala:1769)\n\tat org.apache.spark.scheduler.DAGSchedulerEventProcessLoop.onReceive(DAGScheduler.scala:1758)\n\tat org.apache.spark.util.EventLoop$$anon$1.run(EventLoop.scala:48)\n\tat org.apache.spark.scheduler.DAGScheduler.runJob(DAGScheduler.scala:642)\n\tat org.apache.spark.SparkContext.runJob(SparkContext.scala:2027)\n\tat org.apache.spark.SparkContext.runJob(SparkContext.scala:2048)\n\tat org.apache.spark.SparkContext.runJob(SparkContext.scala:2067)\n\tat org.apache.spark.SparkContext.runJob(SparkContext.scala:2092)\n\tat org.apache.spark.rdd.RDD$$anonfun$collect$1.apply(RDD.scala:939)\n\tat org.apache.spark.rdd.RDDOperationScope$.withScope(RDDOperationScope.scala:151)\n\tat org.apache.spark.rdd.RDDOperationScope$.withScope(RDDOperationScope.scala:112)\n\tat org.apache.spark.rdd.RDD.withScope(RDD.scala:363)\n\tat org.apache.spark.rdd.RDD.collect(RDD.scala:938)\n\tat org.apache.spark.api.python.PythonRDD$.collectAndServe(PythonRDD.scala:153)\n\tat org.apache.spark.api.python.PythonRDD.collectAndServe(PythonRDD.scala)\n\tat sun.reflect.NativeMethodAccessorImpl.invoke0(Native Method)\n\tat sun.reflect.NativeMethodAccessorImpl.invoke(NativeMethodAccessorImpl.java:62)\n\tat sun.reflect.DelegatingMethodAccessorImpl.invoke(DelegatingMethodAccessorImpl.java:43)\n\tat java.lang.reflect.Method.invoke(Method.java:498)\n\tat py4j.reflection.MethodInvoker.invoke(MethodInvoker.java:244)\n\tat py4j.reflection.ReflectionEngine.invoke(ReflectionEngine.java:357)\n\tat py4j.Gateway.invoke(Gateway.java:282)\n\tat py4j.commands.AbstractCommand.invokeMethod(AbstractCommand.java:132)\n\tat py4j.commands.CallCommand.execute(CallCommand.java:79)\n\tat py4j.GatewayConnection.run(GatewayConnection.java:214)\n\tat java.lang.Thread.run(Thread.java:745)\nCaused by: org.apache.spark.api.python.PythonException: Traceback (most recent call last):\n  File \"/Users/yennanliu/spark/python/lib/pyspark.zip/pyspark/worker.py\", line 229, in main\n    process()\n  File \"/Users/yennanliu/spark/python/lib/pyspark.zip/pyspark/worker.py\", line 224, in process\n    serializer.dump_stream(func(split_index, iterator), outfile)\n  File \"/Users/yennanliu/anaconda3/envs/pyspark_/lib/python3.5/site-packages/pyspark/rdd.py\", line 2438, in pipeline_func\n    return func(split, prev_func(split, iterator))\n  File \"/Users/yennanliu/anaconda3/envs/pyspark_/lib/python3.5/site-packages/pyspark/rdd.py\", line 2438, in pipeline_func\n    return func(split, prev_func(split, iterator))\n  File \"/Users/yennanliu/anaconda3/envs/pyspark_/lib/python3.5/site-packages/pyspark/rdd.py\", line 2438, in pipeline_func\n    return func(split, prev_func(split, iterator))\n  File \"/Users/yennanliu/anaconda3/envs/pyspark_/lib/python3.5/site-packages/pyspark/rdd.py\", line 362, in func\n    return f(iterator)\n  File \"/Users/yennanliu/anaconda3/envs/pyspark_/lib/python3.5/site-packages/pyspark/rdd.py\", line 1056, in <lambda>\n    return self.mapPartitions(lambda i: [sum(1 for _ in i)]).sum()\n  File \"/Users/yennanliu/anaconda3/envs/pyspark_/lib/python3.5/site-packages/pyspark/rdd.py\", line 1056, in <genexpr>\n    return self.mapPartitions(lambda i: [sum(1 for _ in i)]).sum()\n  File \"<ipython-input-88-bce8f6e89055>\", line 2, in <lambda>\nAttributeError: 'tuple' object has no attribute 'reduceByKey'\n\n\tat org.apache.spark.api.python.BasePythonRunner$ReaderIterator.handlePythonException(PythonRunner.scala:298)\n\tat org.apache.spark.api.python.PythonRunner$$anon$1.read(PythonRunner.scala:438)\n\tat org.apache.spark.api.python.PythonRunner$$anon$1.read(PythonRunner.scala:421)\n\tat org.apache.spark.api.python.BasePythonRunner$ReaderIterator.hasNext(PythonRunner.scala:252)\n\tat org.apache.spark.InterruptibleIterator.hasNext(InterruptibleIterator.scala:37)\n\tat scala.collection.Iterator$class.foreach(Iterator.scala:893)\n\tat org.apache.spark.InterruptibleIterator.foreach(InterruptibleIterator.scala:28)\n\tat scala.collection.generic.Growable$class.$plus$plus$eq(Growable.scala:59)\n\tat scala.collection.mutable.ArrayBuffer.$plus$plus$eq(ArrayBuffer.scala:104)\n\tat scala.collection.mutable.ArrayBuffer.$plus$plus$eq(ArrayBuffer.scala:48)\n\tat scala.collection.TraversableOnce$class.to(TraversableOnce.scala:310)\n\tat org.apache.spark.InterruptibleIterator.to(InterruptibleIterator.scala:28)\n\tat scala.collection.TraversableOnce$class.toBuffer(TraversableOnce.scala:302)\n\tat org.apache.spark.InterruptibleIterator.toBuffer(InterruptibleIterator.scala:28)\n\tat scala.collection.TraversableOnce$class.toArray(TraversableOnce.scala:289)\n\tat org.apache.spark.InterruptibleIterator.toArray(InterruptibleIterator.scala:28)\n\tat org.apache.spark.rdd.RDD$$anonfun$collect$1$$anonfun$12.apply(RDD.scala:939)\n\tat org.apache.spark.rdd.RDD$$anonfun$collect$1$$anonfun$12.apply(RDD.scala:939)\n\tat org.apache.spark.SparkContext$$anonfun$runJob$5.apply(SparkContext.scala:2067)\n\tat org.apache.spark.SparkContext$$anonfun$runJob$5.apply(SparkContext.scala:2067)\n\tat org.apache.spark.scheduler.ResultTask.runTask(ResultTask.scala:87)\n\tat org.apache.spark.scheduler.Task.run(Task.scala:109)\n\tat org.apache.spark.executor.Executor$TaskRunner.run(Executor.scala:345)\n\tat java.util.concurrent.ThreadPoolExecutor.runWorker(ThreadPoolExecutor.java:1142)\n\tat java.util.concurrent.ThreadPoolExecutor$Worker.run(ThreadPoolExecutor.java:617)\n\t... 1 more\n"
     ]
    }
   ],
   "source": [
    "spark_RDD = dataFrame.rdd \n",
    "top_batch = spark_RDD\\\n",
    "            .map(lambda x : (x.dispatching_base_number , 1)\\\n",
    "            .reduceByKey(add))\\\n",
    "            .sortBy(lambda x : x[1], False)\\\n",
    "            .take(30)"
   ]
  },
  {
   "cell_type": "code",
   "execution_count": 86,
   "metadata": {},
   "outputs": [
    {
     "name": "stdout",
     "output_type": "stream",
     "text": [
      "+------------+\n",
      "|count(trips)|\n",
      "+------------+\n",
      "|         354|\n",
      "+------------+\n",
      "\n"
     ]
    }
   ],
   "source": [
    "dataFrame.agg({'trips':'mean', 'trips':'count'}).show()"
   ]
  },
  {
   "cell_type": "code",
   "execution_count": 79,
   "metadata": {},
   "outputs": [
    {
     "name": "stdout",
     "output_type": "stream",
     "text": [
      "+-----------------------+--------------------+----------+\n",
      "|dispatching_base_number|sum(active_vehicles)|sum(trips)|\n",
      "+-----------------------+--------------------+----------+\n",
      "|                 B02512|             13125.0|   93786.0|\n",
      "|                 B02598|             58653.0|  540791.0|\n",
      "|                 B02682|             71431.0|  662509.0|\n",
      "|                 B02765|             22575.0|  193670.0|\n",
      "|                 B02617|             79758.0|  725025.0|\n",
      "|                 B02764|            217290.0| 1914449.0|\n",
      "+-----------------------+--------------------+----------+\n",
      "\n"
     ]
    }
   ],
   "source": [
    "dataFrame.groupby('dispatching_base_number').sum().show()"
   ]
  },
  {
   "cell_type": "code",
   "execution_count": 77,
   "metadata": {},
   "outputs": [
    {
     "name": "stdout",
     "output_type": "stream",
     "text": [
      "+-------+--------------------+----------+\n",
      "|  trips|avg(active_vehicles)|avg(trips)|\n",
      "+-------+--------------------+----------+\n",
      "| 1001.0|               196.0|    1001.0|\n",
      "| 1582.0|               233.0|    1582.0|\n",
      "| 1521.0|               177.0|    1521.0|\n",
      "| 7565.0|              1084.0|    7565.0|\n",
      "| 1438.0|               235.0|    1438.0|\n",
      "| 9600.0|              1072.0|    9600.0|\n",
      "|33802.0|              3831.0|   33802.0|\n",
      "|11998.0|              1619.0|   11998.0|\n",
      "|14975.0|              1510.0|   14975.0|\n",
      "| 2410.0|               299.0|    2410.0|\n",
      "| 2086.0|               295.0|    2086.0|\n",
      "|12977.0|              1445.0|   12977.0|\n",
      "| 9537.0|              1228.0|    9537.0|\n",
      "| 1608.0|               241.5|    1608.0|\n",
      "|12016.0|              1394.0|   12016.0|\n",
      "|28266.0|              3543.0|   28266.0|\n",
      "|12665.0|              1350.0|   12665.0|\n",
      "|11640.0|              1181.0|   11640.0|\n",
      "| 8397.0|               974.0|    8397.0|\n",
      "|13462.0|              1463.0|   13462.0|\n",
      "+-------+--------------------+----------+\n",
      "only showing top 20 rows\n",
      "\n"
     ]
    }
   ],
   "source": [
    "dataFrame.groupby('trips').mean().show()"
   ]
  },
  {
   "cell_type": "code",
   "execution_count": 67,
   "metadata": {},
   "outputs": [
    {
     "name": "stdout",
     "output_type": "stream",
     "text": [
      "+-----------------------+\n",
      "|dispatching_base_number|\n",
      "+-----------------------+\n",
      "|                 B02512|\n",
      "|                 B02598|\n",
      "|                 B02682|\n",
      "|                 B02765|\n",
      "|                 B02617|\n",
      "|                 B02764|\n",
      "+-----------------------+\n",
      "\n"
     ]
    }
   ],
   "source": [
    "dataFrame.groupby('dispatching_base_number').avg().show()"
   ]
  },
  {
   "cell_type": "code",
   "execution_count": 69,
   "metadata": {},
   "outputs": [
    {
     "name": "stdout",
     "output_type": "stream",
     "text": [
      "+-----------------------+--------+---------------+-----+-----+\n",
      "|dispatching_base_number|    date|active_vehicles|trips|date_|\n",
      "+-----------------------+--------+---------------+-----+-----+\n",
      "|                 B02512|1/1/2015|            190| 1132| null|\n",
      "|                 B02765|1/1/2015|            225| 1765| null|\n",
      "|                 B02764|1/1/2015|           3427|29421| null|\n",
      "|                 B02682|1/1/2015|            945| 7679| null|\n",
      "|                 B02617|1/1/2015|           1228| 9537| null|\n",
      "|                 B02598|1/1/2015|            870| 6903| null|\n",
      "|                 B02598|1/2/2015|            785| 4768| null|\n",
      "|                 B02617|1/2/2015|           1137| 7065| null|\n",
      "|                 B02512|1/2/2015|            175|  875| null|\n",
      "|                 B02682|1/2/2015|            890| 5506| null|\n",
      "|                 B02765|1/2/2015|            196| 1001| null|\n",
      "|                 B02764|1/2/2015|           3147|19974| null|\n",
      "|                 B02765|1/3/2015|            201| 1526| null|\n",
      "|                 B02617|1/3/2015|           1188|10664| null|\n",
      "|                 B02598|1/3/2015|            818| 7432| null|\n",
      "|                 B02682|1/3/2015|            915| 8010| null|\n",
      "|                 B02512|1/3/2015|            173| 1088| null|\n",
      "|                 B02764|1/3/2015|           3215|29729| null|\n",
      "|                 B02512|1/4/2015|            147|  791| null|\n",
      "|                 B02682|1/4/2015|            812| 5621| null|\n",
      "+-----------------------+--------+---------------+-----+-----+\n",
      "only showing top 20 rows\n",
      "\n"
     ]
    }
   ],
   "source": [
    "dataFrame.show()"
   ]
  },
  {
   "cell_type": "code",
   "execution_count": 60,
   "metadata": {},
   "outputs": [],
   "source": [
    "spark_RDD = dataFrame.rdd\n",
    "digested_RDD = spark_RDD.map(\n",
    "              lambda x: Row(\n",
    "              author_ip = x['trips'],\n",
    "             timestamp = x['date']))\\\n",
    "             .filter(lambda x : x['timestamp'] >= '2018-01-01')\\\n",
    "              .take(30)"
   ]
  },
  {
   "cell_type": "code",
   "execution_count": 61,
   "metadata": {
    "scrolled": true
   },
   "outputs": [
    {
     "data": {
      "text/plain": [
       "[Row(author_ip='1132', timestamp='1/1/2015'),\n",
       " Row(author_ip='1765', timestamp='1/1/2015'),\n",
       " Row(author_ip='29421', timestamp='1/1/2015'),\n",
       " Row(author_ip='7679', timestamp='1/1/2015'),\n",
       " Row(author_ip='9537', timestamp='1/1/2015'),\n",
       " Row(author_ip='6903', timestamp='1/1/2015'),\n",
       " Row(author_ip='4768', timestamp='1/2/2015'),\n",
       " Row(author_ip='7065', timestamp='1/2/2015'),\n",
       " Row(author_ip='875', timestamp='1/2/2015'),\n",
       " Row(author_ip='5506', timestamp='1/2/2015'),\n",
       " Row(author_ip='1001', timestamp='1/2/2015'),\n",
       " Row(author_ip='19974', timestamp='1/2/2015'),\n",
       " Row(author_ip='1526', timestamp='1/3/2015'),\n",
       " Row(author_ip='10664', timestamp='1/3/2015'),\n",
       " Row(author_ip='7432', timestamp='1/3/2015'),\n",
       " Row(author_ip='8010', timestamp='1/3/2015'),\n",
       " Row(author_ip='1088', timestamp='1/3/2015'),\n",
       " Row(author_ip='29729', timestamp='1/3/2015'),\n",
       " Row(author_ip='791', timestamp='1/4/2015'),\n",
       " Row(author_ip='5621', timestamp='1/4/2015'),\n",
       " Row(author_ip='5223', timestamp='1/4/2015'),\n",
       " Row(author_ip='993', timestamp='1/4/2015'),\n",
       " Row(author_ip='7729', timestamp='1/4/2015'),\n",
       " Row(author_ip='20441', timestamp='1/4/2015'),\n",
       " Row(author_ip='984', timestamp='1/5/2015'),\n",
       " Row(author_ip='6012', timestamp='1/5/2015'),\n",
       " Row(author_ip='7899', timestamp='1/5/2015'),\n",
       " Row(author_ip='20926', timestamp='1/5/2015'),\n",
       " Row(author_ip='5798', timestamp='1/5/2015'),\n",
       " Row(author_ip='1133', timestamp='1/5/2015')]"
      ]
     },
     "execution_count": 61,
     "metadata": {},
     "output_type": "execute_result"
    }
   ],
   "source": [
    "digested_RDD"
   ]
  },
  {
   "cell_type": "code",
   "execution_count": null,
   "metadata": {},
   "outputs": [],
   "source": []
  },
  {
   "cell_type": "code",
   "execution_count": 113,
   "metadata": {},
   "outputs": [],
   "source": [
    "#########"
   ]
  },
  {
   "cell_type": "code",
   "execution_count": 114,
   "metadata": {},
   "outputs": [
    {
     "name": "stdout",
     "output_type": "stream",
     "text": [
      "\u001b[31mAggregate FHV Data.xlsx\u001b[m\u001b[m* TLC_letter3.pdf          \u001b[1m\u001b[36mother-FHV-data\u001b[m\u001b[m/\r\n",
      "README.md                \u001b[31mUber-Jan-Feb-FOIL.csv\u001b[m\u001b[m*   \u001b[1m\u001b[36muber-trip-data\u001b[m\u001b[m/\r\n",
      "TLC_letter.pdf           derby.log\r\n",
      "TLC_letter2.pdf          \u001b[1m\u001b[36mmetastore_db\u001b[m\u001b[m/\r\n"
     ]
    }
   ],
   "source": [
    "ls"
   ]
  },
  {
   "cell_type": "code",
   "execution_count": 115,
   "metadata": {},
   "outputs": [
    {
     "name": "stdout",
     "output_type": "stream",
     "text": [
      "taxi-zone-lookup.csv              uber-raw-data-jul14.csv\r\n",
      "uber-raw-data-apr14.csv           uber-raw-data-jun14.csv\r\n",
      "uber-raw-data-aug14.csv           uber-raw-data-may14.csv\r\n",
      "uber-raw-data-janjune-15.csv.zip  uber-raw-data-sep14.csv\r\n"
     ]
    }
   ],
   "source": [
    "ls uber-trip-data/"
   ]
  },
  {
   "cell_type": "code",
   "execution_count": 134,
   "metadata": {},
   "outputs": [],
   "source": [
    "# load all trip csv \n",
    "\n",
    "df_ = spark.read.format(\"csv\").option(\"header\", \"true\").load(\"uber-trip-data/uber-raw-data-*.csv\")\n",
    "#spark.read.option(\"header\", \"true\").csv(\"../Downloads/*.csv\")\n",
    "\n"
   ]
  },
  {
   "cell_type": "code",
   "execution_count": 133,
   "metadata": {},
   "outputs": [],
   "source": [
    "df_2 = spark.read.format(\"csv\").option(\"header\", \"true\").load(\"uber-trip-data/uber-raw-data-apr14.csv\")\n",
    "\n"
   ]
  },
  {
   "cell_type": "code",
   "execution_count": 140,
   "metadata": {},
   "outputs": [
    {
     "name": "stdout",
     "output_type": "stream",
     "text": [
      "[('9/30/2014 12:18:00', 14), ('8/7/2014 18:28:00', 49), ('7/26/2014 17:04:00', 19), ('6/19/2014 4:13:00', 4), ('7/29/2014 6:31:00', 26), ('4/18/2014 1:44:00', 4), ('5/19/2014 5:40:00', 8), ('6/24/2014 22:29:00', 17), ('4/7/2014 2:26:00', 2), ('9/30/2014 11:36:00', 14), ('6/21/2014 1:37:00', 10), ('4/15/2014 2:02:00', 3), ('9/24/2014 14:20:00', 30), ('9/13/2014 22:49:00', 23), ('5/25/2014 8:43:00', 6), ('5/12/2014 15:52:00', 18), ('8/6/2014 5:34:00', 14), ('9/21/2014 9:47:00', 15), ('9/13/2014 18:20:00', 45), ('6/26/2014 18:56:00', 34), ('6/7/2014 5:09:00', 1), ('8/22/2014 9:35:00', 22), ('4/10/2014 18:55:00', 21), ('7/9/2014 11:12:00', 18), ('7/29/2014 4:07:00', 4), ('7/2/2014 2:17:00', 6), ('6/5/2014 13:06:00', 14), ('9/14/2014 22:46:00', 12), ('5/4/2014 15:35:00', 16), ('7/6/2014 13:20:00', 16)]\n"
     ]
    }
   ],
   "source": [
    "spark_RDD = df_2.rdd\n",
    "date_count = spark_RDD\\\n",
    "            .map(lambda x : (x['Date/Time'], 1))\\\n",
    "            .reduceByKey(add)\\\n",
    "            .take(30)\n",
    "print (date_count)"
   ]
  },
  {
   "cell_type": "code",
   "execution_count": 125,
   "metadata": {},
   "outputs": [
    {
     "name": "stdout",
     "output_type": "stream",
     "text": [
      "root\n",
      " |-- Date/Time: string (nullable = true)\n",
      " |-- Lat: string (nullable = true)\n",
      " |-- Lon: string (nullable = true)\n",
      " |-- Base: string (nullable = true)\n",
      "\n"
     ]
    }
   ],
   "source": [
    "df_.printSchema()"
   ]
  },
  {
   "cell_type": "code",
   "execution_count": 136,
   "metadata": {},
   "outputs": [
    {
     "data": {
      "text/plain": [
       "564516"
      ]
     },
     "execution_count": 136,
     "metadata": {},
     "output_type": "execute_result"
    }
   ],
   "source": [
    "df_2.count()"
   ]
  },
  {
   "cell_type": "code",
   "execution_count": 135,
   "metadata": {},
   "outputs": [
    {
     "data": {
      "text/plain": [
       "4534327"
      ]
     },
     "execution_count": 135,
     "metadata": {},
     "output_type": "execute_result"
    }
   ],
   "source": [
    "df_.count()"
   ]
  },
  {
   "cell_type": "code",
   "execution_count": 139,
   "metadata": {},
   "outputs": [
    {
     "name": "stdout",
     "output_type": "stream",
     "text": [
      "+-----------------+-----+\n",
      "|        Date/Time|count|\n",
      "+-----------------+-----+\n",
      "| 9/1/2014 0:01:00|   18|\n",
      "| 9/1/2014 0:15:00|   13|\n",
      "|9/1/2014 14:57:00|   20|\n",
      "| 9/2/2014 7:48:00|   29|\n",
      "|9/2/2014 10:40:00|   20|\n",
      "|9/2/2014 12:26:00|   17|\n",
      "|9/2/2014 18:00:00|   26|\n",
      "|9/2/2014 21:54:00|   24|\n",
      "|9/2/2014 21:59:00|   22|\n",
      "| 9/3/2014 7:30:00|   28|\n",
      "| 9/3/2014 8:41:00|   41|\n",
      "|9/3/2014 11:44:00|   27|\n",
      "|9/3/2014 17:50:00|   37|\n",
      "| 9/4/2014 7:27:00|   33|\n",
      "|9/4/2014 10:27:00|   29|\n",
      "| 9/5/2014 8:08:00|   29|\n",
      "|9/5/2014 18:23:00|   61|\n",
      "| 9/6/2014 0:37:00|   25|\n",
      "| 9/6/2014 6:48:00|   12|\n",
      "|9/6/2014 11:59:00|   19|\n",
      "+-----------------+-----+\n",
      "only showing top 20 rows\n",
      "\n"
     ]
    }
   ],
   "source": [
    "df_.groupby('Date/Time').count().show()"
   ]
  },
  {
   "cell_type": "code",
   "execution_count": 155,
   "metadata": {},
   "outputs": [
    {
     "name": "stdout",
     "output_type": "stream",
     "text": [
      "+----------------+-------+--------+------+\n",
      "|       Date/Time|    Lat|     Lon|  Base|\n",
      "+----------------+-------+--------+------+\n",
      "|4/1/2014 0:11:00| 40.769|-73.9549|B02512|\n",
      "|4/1/2014 0:17:00|40.7267|-74.0345|B02512|\n",
      "|4/1/2014 0:21:00|40.7316|-73.9873|B02512|\n",
      "|4/1/2014 0:28:00|40.7588|-73.9776|B02512|\n",
      "|4/1/2014 0:33:00|40.7594|-73.9722|B02512|\n",
      "|4/1/2014 0:33:00|40.7383|-74.0403|B02512|\n",
      "|4/1/2014 0:39:00|40.7223|-73.9887|B02512|\n",
      "|4/1/2014 0:45:00| 40.762| -73.979|B02512|\n",
      "|4/1/2014 0:55:00|40.7524| -73.996|B02512|\n",
      "|4/1/2014 1:01:00|40.7575|-73.9846|B02512|\n",
      "|4/1/2014 1:19:00|40.7256|-73.9869|B02512|\n",
      "|4/1/2014 1:48:00|40.7591|-73.9684|B02512|\n",
      "|4/1/2014 1:49:00|40.7271|-73.9803|B02512|\n",
      "|4/1/2014 2:11:00|40.6463|-73.7896|B02512|\n",
      "|4/1/2014 2:25:00|40.7564|-73.9167|B02512|\n",
      "|4/1/2014 2:31:00|40.7666|-73.9531|B02512|\n",
      "|4/1/2014 2:43:00| 40.758|-73.9761|B02512|\n",
      "|4/1/2014 3:22:00|40.7238|-73.9821|B02512|\n",
      "|4/1/2014 3:35:00|40.7531|-74.0039|B02512|\n",
      "|4/1/2014 3:35:00|40.7389|-74.0393|B02512|\n",
      "+----------------+-------+--------+------+\n",
      "only showing top 20 rows\n",
      "\n"
     ]
    }
   ],
   "source": [
    "df_2.show()"
   ]
  },
  {
   "cell_type": "code",
   "execution_count": 190,
   "metadata": {},
   "outputs": [],
   "source": [
    "def fix_all_trip_data_timestamp(timestamp_):\n",
    "\treturn datetime.strptime(timestamp_.split(' ')[0], '%d/%m/%Y').strftime('%Y-%m-%d')\n",
    "\n",
    "\n",
    "def fix_all_trip_data_timestamp2(timestamp_):\n",
    "\treturn datetime.strptime(timestamp_ ,'%d/%m/%Y %H:%M:%S').strftime('%Y-%m-%d')\n",
    "\n"
   ]
  },
  {
   "cell_type": "code",
   "execution_count": 191,
   "metadata": {},
   "outputs": [
    {
     "data": {
      "text/plain": [
       "<function __main__.fix_all_trip_data_timestamp2>"
      ]
     },
     "execution_count": 191,
     "metadata": {},
     "output_type": "execute_result"
    }
   ],
   "source": [
    "spark.udf.register(\"fixtimestamp\", fix_all_trip_data_timestamp)\n",
    "\n",
    "\n",
    "spark.udf.register(\"fixtimestamp2\", fix_all_trip_data_timestamp2)\n",
    "\n",
    "\n"
   ]
  },
  {
   "cell_type": "code",
   "execution_count": 189,
   "metadata": {},
   "outputs": [
    {
     "data": {
      "text/plain": [
       "'2014-01-04'"
      ]
     },
     "execution_count": 189,
     "metadata": {},
     "output_type": "execute_result"
    }
   ],
   "source": [
    "datetime.strptime(df_2.select('Date/Time').take(4)[0]['Date/Time'] ,'%d/%m/%Y %H:%M:%S').strftime('%Y-%m-%d')\n",
    "\n"
   ]
  },
  {
   "cell_type": "code",
   "execution_count": null,
   "metadata": {},
   "outputs": [],
   "source": [
    "datetime.strptime(df_2.select('Date/Time').take(4)[0]['Date/Time'].split(' ')[0],'%d/%m/%Y').strftime('%Y-%m-%d')\n",
    "\n"
   ]
  },
  {
   "cell_type": "code",
   "execution_count": 183,
   "metadata": {},
   "outputs": [
    {
     "data": {
      "text/plain": [
       "'4/1/2014 0:11:00'"
      ]
     },
     "execution_count": 183,
     "metadata": {},
     "output_type": "execute_result"
    }
   ],
   "source": [
    "df_2.select('Date/Time').take(4)[0]['Date/Time']"
   ]
  },
  {
   "cell_type": "code",
   "execution_count": 172,
   "metadata": {},
   "outputs": [
    {
     "name": "stdout",
     "output_type": "stream",
     "text": [
      "+----------------+-------+--------+------+\n",
      "|       Date/Time|    Lat|     Lon|  Base|\n",
      "+----------------+-------+--------+------+\n",
      "|4/1/2014 0:11:00| 40.769|-73.9549|B02512|\n",
      "|4/1/2014 0:17:00|40.7267|-74.0345|B02512|\n",
      "|4/1/2014 0:21:00|40.7316|-73.9873|B02512|\n",
      "+----------------+-------+--------+------+\n",
      "only showing top 3 rows\n",
      "\n"
     ]
    }
   ],
   "source": [
    "df_2.show(3)"
   ]
  },
  {
   "cell_type": "code",
   "execution_count": 204,
   "metadata": {},
   "outputs": [
    {
     "data": {
      "text/plain": [
       "[Row(Date/Time='4/1/2014 0:11:00', Lat='40.769', Lon='-73.9549', Base='B02512'),\n",
       " Row(Date/Time='4/1/2014 0:17:00', Lat='40.7267', Lon='-74.0345', Base='B02512'),\n",
       " Row(Date/Time='4/1/2014 0:21:00', Lat='40.7316', Lon='-73.9873', Base='B02512')]"
      ]
     },
     "execution_count": 204,
     "metadata": {},
     "output_type": "execute_result"
    }
   ],
   "source": [
    "spark_RDD.take(3)"
   ]
  },
  {
   "cell_type": "code",
   "execution_count": 215,
   "metadata": {},
   "outputs": [],
   "source": [
    "transformed_RDD = spark_RDD.map(\n",
    "          lambda x: Row(\n",
    "          Lat=x['Lat'],\n",
    "          Lon= x['Lon'],\n",
    "          Base=x['Base'],\n",
    "          timestamp= datetime.strptime(x['Date/Time'], '%d/%m/%Y %H:%M:%S').strftime('%Y-%m-%d') ))\\\n",
    "          .take(30)"
   ]
  },
  {
   "cell_type": "code",
   "execution_count": 217,
   "metadata": {},
   "outputs": [],
   "source": [
    "transformed_RDD = spark_RDD.map(\n",
    "          lambda x: Row(\n",
    "          Lat=x['Lat'],\n",
    "          Lon= x['Lon'],\n",
    "          Base=x['Base'],\n",
    "          timestamp= datetime.strptime(x['Date/Time'], '%d/%m/%Y %H:%M:%S').strftime('%Y-%m-%d') ))\n"
   ]
  },
  {
   "cell_type": "code",
   "execution_count": 223,
   "metadata": {
    "scrolled": false
   },
   "outputs": [
    {
     "ename": "Py4JJavaError",
     "evalue": "An error occurred while calling z:org.apache.spark.api.python.PythonRDD.runJob.\n: org.apache.spark.SparkException: Job aborted due to stage failure: Task 3 in stage 239.0 failed 1 times, most recent failure: Lost task 3.0 in stage 239.0 (TID 1678, localhost, executor driver): org.apache.spark.api.python.PythonException: Traceback (most recent call last):\n  File \"/Users/yennanliu/spark/python/lib/pyspark.zip/pyspark/worker.py\", line 229, in main\n    process()\n  File \"/Users/yennanliu/spark/python/lib/pyspark.zip/pyspark/worker.py\", line 224, in process\n    serializer.dump_stream(func(split_index, iterator), outfile)\n  File \"/Users/yennanliu/anaconda3/envs/pyspark_/lib/python3.5/site-packages/pyspark/rdd.py\", line 2438, in pipeline_func\n    return func(split, prev_func(split, iterator))\n  File \"/Users/yennanliu/anaconda3/envs/pyspark_/lib/python3.5/site-packages/pyspark/rdd.py\", line 2438, in pipeline_func\n    return func(split, prev_func(split, iterator))\n  File \"/Users/yennanliu/anaconda3/envs/pyspark_/lib/python3.5/site-packages/pyspark/rdd.py\", line 362, in func\n    return f(iterator)\n  File \"/Users/yennanliu/anaconda3/envs/pyspark_/lib/python3.5/site-packages/pyspark/rdd.py\", line 1857, in combineLocally\n    merger.mergeValues(iterator)\n  File \"/Users/yennanliu/spark/python/lib/pyspark.zip/pyspark/shuffle.py\", line 236, in mergeValues\n    for k, v in iterator:\n  File \"<ipython-input-223-b3b214f824d6>\", line 6, in <lambda>\n  File \"/Users/yennanliu/anaconda3/envs/pyspark_/lib/python3.5/_strptime.py\", line 510, in _strptime_datetime\n    tt, fraction = _strptime(data_string, format)\n  File \"/Users/yennanliu/anaconda3/envs/pyspark_/lib/python3.5/_strptime.py\", line 343, in _strptime\n    (data_string, format))\nValueError: time data '4/23/2014 19:04:00' does not match format '%d/%m/%Y %H:%M:%S'\n\n\tat org.apache.spark.api.python.BasePythonRunner$ReaderIterator.handlePythonException(PythonRunner.scala:298)\n\tat org.apache.spark.api.python.PythonRunner$$anon$1.read(PythonRunner.scala:438)\n\tat org.apache.spark.api.python.PythonRunner$$anon$1.read(PythonRunner.scala:421)\n\tat org.apache.spark.api.python.BasePythonRunner$ReaderIterator.hasNext(PythonRunner.scala:252)\n\tat org.apache.spark.InterruptibleIterator.hasNext(InterruptibleIterator.scala:37)\n\tat scala.collection.Iterator$GroupedIterator.fill(Iterator.scala:1126)\n\tat scala.collection.Iterator$GroupedIterator.hasNext(Iterator.scala:1132)\n\tat scala.collection.Iterator$$anon$11.hasNext(Iterator.scala:408)\n\tat org.apache.spark.shuffle.sort.BypassMergeSortShuffleWriter.write(BypassMergeSortShuffleWriter.java:125)\n\tat org.apache.spark.scheduler.ShuffleMapTask.runTask(ShuffleMapTask.scala:96)\n\tat org.apache.spark.scheduler.ShuffleMapTask.runTask(ShuffleMapTask.scala:53)\n\tat org.apache.spark.scheduler.Task.run(Task.scala:109)\n\tat org.apache.spark.executor.Executor$TaskRunner.run(Executor.scala:345)\n\tat java.util.concurrent.ThreadPoolExecutor.runWorker(ThreadPoolExecutor.java:1142)\n\tat java.util.concurrent.ThreadPoolExecutor$Worker.run(ThreadPoolExecutor.java:617)\n\tat java.lang.Thread.run(Thread.java:745)\n\nDriver stacktrace:\n\tat org.apache.spark.scheduler.DAGScheduler.org$apache$spark$scheduler$DAGScheduler$$failJobAndIndependentStages(DAGScheduler.scala:1599)\n\tat org.apache.spark.scheduler.DAGScheduler$$anonfun$abortStage$1.apply(DAGScheduler.scala:1587)\n\tat org.apache.spark.scheduler.DAGScheduler$$anonfun$abortStage$1.apply(DAGScheduler.scala:1586)\n\tat scala.collection.mutable.ResizableArray$class.foreach(ResizableArray.scala:59)\n\tat scala.collection.mutable.ArrayBuffer.foreach(ArrayBuffer.scala:48)\n\tat org.apache.spark.scheduler.DAGScheduler.abortStage(DAGScheduler.scala:1586)\n\tat org.apache.spark.scheduler.DAGScheduler$$anonfun$handleTaskSetFailed$1.apply(DAGScheduler.scala:831)\n\tat org.apache.spark.scheduler.DAGScheduler$$anonfun$handleTaskSetFailed$1.apply(DAGScheduler.scala:831)\n\tat scala.Option.foreach(Option.scala:257)\n\tat org.apache.spark.scheduler.DAGScheduler.handleTaskSetFailed(DAGScheduler.scala:831)\n\tat org.apache.spark.scheduler.DAGSchedulerEventProcessLoop.doOnReceive(DAGScheduler.scala:1820)\n\tat org.apache.spark.scheduler.DAGSchedulerEventProcessLoop.onReceive(DAGScheduler.scala:1769)\n\tat org.apache.spark.scheduler.DAGSchedulerEventProcessLoop.onReceive(DAGScheduler.scala:1758)\n\tat org.apache.spark.util.EventLoop$$anon$1.run(EventLoop.scala:48)\n\tat org.apache.spark.scheduler.DAGScheduler.runJob(DAGScheduler.scala:642)\n\tat org.apache.spark.SparkContext.runJob(SparkContext.scala:2027)\n\tat org.apache.spark.SparkContext.runJob(SparkContext.scala:2048)\n\tat org.apache.spark.SparkContext.runJob(SparkContext.scala:2067)\n\tat org.apache.spark.api.python.PythonRDD$.runJob(PythonRDD.scala:141)\n\tat org.apache.spark.api.python.PythonRDD.runJob(PythonRDD.scala)\n\tat sun.reflect.GeneratedMethodAccessor62.invoke(Unknown Source)\n\tat sun.reflect.DelegatingMethodAccessorImpl.invoke(DelegatingMethodAccessorImpl.java:43)\n\tat java.lang.reflect.Method.invoke(Method.java:498)\n\tat py4j.reflection.MethodInvoker.invoke(MethodInvoker.java:244)\n\tat py4j.reflection.ReflectionEngine.invoke(ReflectionEngine.java:357)\n\tat py4j.Gateway.invoke(Gateway.java:282)\n\tat py4j.commands.AbstractCommand.invokeMethod(AbstractCommand.java:132)\n\tat py4j.commands.CallCommand.execute(CallCommand.java:79)\n\tat py4j.GatewayConnection.run(GatewayConnection.java:214)\n\tat java.lang.Thread.run(Thread.java:745)\nCaused by: org.apache.spark.api.python.PythonException: Traceback (most recent call last):\n  File \"/Users/yennanliu/spark/python/lib/pyspark.zip/pyspark/worker.py\", line 229, in main\n    process()\n  File \"/Users/yennanliu/spark/python/lib/pyspark.zip/pyspark/worker.py\", line 224, in process\n    serializer.dump_stream(func(split_index, iterator), outfile)\n  File \"/Users/yennanliu/anaconda3/envs/pyspark_/lib/python3.5/site-packages/pyspark/rdd.py\", line 2438, in pipeline_func\n    return func(split, prev_func(split, iterator))\n  File \"/Users/yennanliu/anaconda3/envs/pyspark_/lib/python3.5/site-packages/pyspark/rdd.py\", line 2438, in pipeline_func\n    return func(split, prev_func(split, iterator))\n  File \"/Users/yennanliu/anaconda3/envs/pyspark_/lib/python3.5/site-packages/pyspark/rdd.py\", line 362, in func\n    return f(iterator)\n  File \"/Users/yennanliu/anaconda3/envs/pyspark_/lib/python3.5/site-packages/pyspark/rdd.py\", line 1857, in combineLocally\n    merger.mergeValues(iterator)\n  File \"/Users/yennanliu/spark/python/lib/pyspark.zip/pyspark/shuffle.py\", line 236, in mergeValues\n    for k, v in iterator:\n  File \"<ipython-input-223-b3b214f824d6>\", line 6, in <lambda>\n  File \"/Users/yennanliu/anaconda3/envs/pyspark_/lib/python3.5/_strptime.py\", line 510, in _strptime_datetime\n    tt, fraction = _strptime(data_string, format)\n  File \"/Users/yennanliu/anaconda3/envs/pyspark_/lib/python3.5/_strptime.py\", line 343, in _strptime\n    (data_string, format))\nValueError: time data '4/23/2014 19:04:00' does not match format '%d/%m/%Y %H:%M:%S'\n\n\tat org.apache.spark.api.python.BasePythonRunner$ReaderIterator.handlePythonException(PythonRunner.scala:298)\n\tat org.apache.spark.api.python.PythonRunner$$anon$1.read(PythonRunner.scala:438)\n\tat org.apache.spark.api.python.PythonRunner$$anon$1.read(PythonRunner.scala:421)\n\tat org.apache.spark.api.python.BasePythonRunner$ReaderIterator.hasNext(PythonRunner.scala:252)\n\tat org.apache.spark.InterruptibleIterator.hasNext(InterruptibleIterator.scala:37)\n\tat scala.collection.Iterator$GroupedIterator.fill(Iterator.scala:1126)\n\tat scala.collection.Iterator$GroupedIterator.hasNext(Iterator.scala:1132)\n\tat scala.collection.Iterator$$anon$11.hasNext(Iterator.scala:408)\n\tat org.apache.spark.shuffle.sort.BypassMergeSortShuffleWriter.write(BypassMergeSortShuffleWriter.java:125)\n\tat org.apache.spark.scheduler.ShuffleMapTask.runTask(ShuffleMapTask.scala:96)\n\tat org.apache.spark.scheduler.ShuffleMapTask.runTask(ShuffleMapTask.scala:53)\n\tat org.apache.spark.scheduler.Task.run(Task.scala:109)\n\tat org.apache.spark.executor.Executor$TaskRunner.run(Executor.scala:345)\n\tat java.util.concurrent.ThreadPoolExecutor.runWorker(ThreadPoolExecutor.java:1142)\n\tat java.util.concurrent.ThreadPoolExecutor$Worker.run(ThreadPoolExecutor.java:617)\n\t... 1 more\n",
     "output_type": "error",
     "traceback": [
      "\u001b[0;31m---------------------------------------------------------------------------\u001b[0m",
      "\u001b[0;31mPy4JJavaError\u001b[0m                             Traceback (most recent call last)",
      "\u001b[0;32m<ipython-input-223-b3b214f824d6>\u001b[0m in \u001b[0;36m<module>\u001b[0;34m()\u001b[0m\n\u001b[1;32m      6\u001b[0m                 timestamp= datetime.strptime(x['Date/Time'], '%d/%m/%Y %H:%M:%S').strftime('%Y-%m-%d') ))\\\n\u001b[1;32m      7\u001b[0m                 \u001b[0;34m.\u001b[0m\u001b[0mmap\u001b[0m\u001b[0;34m(\u001b[0m\u001b[0;32mlambda\u001b[0m \u001b[0mx\u001b[0m \u001b[0;34m:\u001b[0m \u001b[0;34m(\u001b[0m\u001b[0mx\u001b[0m\u001b[0;34m.\u001b[0m\u001b[0mtimestamp\u001b[0m\u001b[0;34m,\u001b[0m \u001b[0;36m1\u001b[0m\u001b[0;34m)\u001b[0m\u001b[0;34m)\u001b[0m\u001b[0;31m\\\u001b[0m\u001b[0;34m\u001b[0m\u001b[0m\n\u001b[0;32m----> 8\u001b[0;31m                 \u001b[0;34m.\u001b[0m\u001b[0mreduceByKey\u001b[0m\u001b[0;34m(\u001b[0m\u001b[0madd\u001b[0m\u001b[0;34m)\u001b[0m\u001b[0;34m.\u001b[0m\u001b[0mtake\u001b[0m\u001b[0;34m(\u001b[0m\u001b[0;36m30\u001b[0m\u001b[0;34m)\u001b[0m\u001b[0;34m\u001b[0m\u001b[0m\n\u001b[0m\u001b[1;32m      9\u001b[0m                 \u001b[0;31m#.sortBy(lambda x : x[1], False)\\\u001b[0m\u001b[0;34m\u001b[0m\u001b[0;34m\u001b[0m\u001b[0m\n",
      "\u001b[0;32m~/anaconda3/envs/pyspark_/lib/python3.5/site-packages/pyspark/rdd.py\u001b[0m in \u001b[0;36mtake\u001b[0;34m(self, num)\u001b[0m\n\u001b[1;32m   1356\u001b[0m \u001b[0;34m\u001b[0m\u001b[0m\n\u001b[1;32m   1357\u001b[0m             \u001b[0mp\u001b[0m \u001b[0;34m=\u001b[0m \u001b[0mrange\u001b[0m\u001b[0;34m(\u001b[0m\u001b[0mpartsScanned\u001b[0m\u001b[0;34m,\u001b[0m \u001b[0mmin\u001b[0m\u001b[0;34m(\u001b[0m\u001b[0mpartsScanned\u001b[0m \u001b[0;34m+\u001b[0m \u001b[0mnumPartsToTry\u001b[0m\u001b[0;34m,\u001b[0m \u001b[0mtotalParts\u001b[0m\u001b[0;34m)\u001b[0m\u001b[0;34m)\u001b[0m\u001b[0;34m\u001b[0m\u001b[0m\n\u001b[0;32m-> 1358\u001b[0;31m             \u001b[0mres\u001b[0m \u001b[0;34m=\u001b[0m \u001b[0mself\u001b[0m\u001b[0;34m.\u001b[0m\u001b[0mcontext\u001b[0m\u001b[0;34m.\u001b[0m\u001b[0mrunJob\u001b[0m\u001b[0;34m(\u001b[0m\u001b[0mself\u001b[0m\u001b[0;34m,\u001b[0m \u001b[0mtakeUpToNumLeft\u001b[0m\u001b[0;34m,\u001b[0m \u001b[0mp\u001b[0m\u001b[0;34m)\u001b[0m\u001b[0;34m\u001b[0m\u001b[0m\n\u001b[0m\u001b[1;32m   1359\u001b[0m \u001b[0;34m\u001b[0m\u001b[0m\n\u001b[1;32m   1360\u001b[0m             \u001b[0mitems\u001b[0m \u001b[0;34m+=\u001b[0m \u001b[0mres\u001b[0m\u001b[0;34m\u001b[0m\u001b[0m\n",
      "\u001b[0;32m~/anaconda3/envs/pyspark_/lib/python3.5/site-packages/pyspark/context.py\u001b[0m in \u001b[0;36mrunJob\u001b[0;34m(self, rdd, partitionFunc, partitions, allowLocal)\u001b[0m\n\u001b[1;32m    999\u001b[0m         \u001b[0;31m# SparkContext#runJob.\u001b[0m\u001b[0;34m\u001b[0m\u001b[0;34m\u001b[0m\u001b[0m\n\u001b[1;32m   1000\u001b[0m         \u001b[0mmappedRDD\u001b[0m \u001b[0;34m=\u001b[0m \u001b[0mrdd\u001b[0m\u001b[0;34m.\u001b[0m\u001b[0mmapPartitions\u001b[0m\u001b[0;34m(\u001b[0m\u001b[0mpartitionFunc\u001b[0m\u001b[0;34m)\u001b[0m\u001b[0;34m\u001b[0m\u001b[0m\n\u001b[0;32m-> 1001\u001b[0;31m         \u001b[0mport\u001b[0m \u001b[0;34m=\u001b[0m \u001b[0mself\u001b[0m\u001b[0;34m.\u001b[0m\u001b[0m_jvm\u001b[0m\u001b[0;34m.\u001b[0m\u001b[0mPythonRDD\u001b[0m\u001b[0;34m.\u001b[0m\u001b[0mrunJob\u001b[0m\u001b[0;34m(\u001b[0m\u001b[0mself\u001b[0m\u001b[0;34m.\u001b[0m\u001b[0m_jsc\u001b[0m\u001b[0;34m.\u001b[0m\u001b[0msc\u001b[0m\u001b[0;34m(\u001b[0m\u001b[0;34m)\u001b[0m\u001b[0;34m,\u001b[0m \u001b[0mmappedRDD\u001b[0m\u001b[0;34m.\u001b[0m\u001b[0m_jrdd\u001b[0m\u001b[0;34m,\u001b[0m \u001b[0mpartitions\u001b[0m\u001b[0;34m)\u001b[0m\u001b[0;34m\u001b[0m\u001b[0m\n\u001b[0m\u001b[1;32m   1002\u001b[0m         \u001b[0;32mreturn\u001b[0m \u001b[0mlist\u001b[0m\u001b[0;34m(\u001b[0m\u001b[0m_load_from_socket\u001b[0m\u001b[0;34m(\u001b[0m\u001b[0mport\u001b[0m\u001b[0;34m,\u001b[0m \u001b[0mmappedRDD\u001b[0m\u001b[0;34m.\u001b[0m\u001b[0m_jrdd_deserializer\u001b[0m\u001b[0;34m)\u001b[0m\u001b[0;34m)\u001b[0m\u001b[0;34m\u001b[0m\u001b[0m\n\u001b[1;32m   1003\u001b[0m \u001b[0;34m\u001b[0m\u001b[0m\n",
      "\u001b[0;32m~/anaconda3/envs/pyspark_/lib/python3.5/site-packages/py4j/java_gateway.py\u001b[0m in \u001b[0;36m__call__\u001b[0;34m(self, *args)\u001b[0m\n\u001b[1;32m   1158\u001b[0m         \u001b[0manswer\u001b[0m \u001b[0;34m=\u001b[0m \u001b[0mself\u001b[0m\u001b[0;34m.\u001b[0m\u001b[0mgateway_client\u001b[0m\u001b[0;34m.\u001b[0m\u001b[0msend_command\u001b[0m\u001b[0;34m(\u001b[0m\u001b[0mcommand\u001b[0m\u001b[0;34m)\u001b[0m\u001b[0;34m\u001b[0m\u001b[0m\n\u001b[1;32m   1159\u001b[0m         return_value = get_return_value(\n\u001b[0;32m-> 1160\u001b[0;31m             answer, self.gateway_client, self.target_id, self.name)\n\u001b[0m\u001b[1;32m   1161\u001b[0m \u001b[0;34m\u001b[0m\u001b[0m\n\u001b[1;32m   1162\u001b[0m         \u001b[0;32mfor\u001b[0m \u001b[0mtemp_arg\u001b[0m \u001b[0;32min\u001b[0m \u001b[0mtemp_args\u001b[0m\u001b[0;34m:\u001b[0m\u001b[0;34m\u001b[0m\u001b[0m\n",
      "\u001b[0;32m~/anaconda3/envs/pyspark_/lib/python3.5/site-packages/pyspark/sql/utils.py\u001b[0m in \u001b[0;36mdeco\u001b[0;34m(*a, **kw)\u001b[0m\n\u001b[1;32m     61\u001b[0m     \u001b[0;32mdef\u001b[0m \u001b[0mdeco\u001b[0m\u001b[0;34m(\u001b[0m\u001b[0;34m*\u001b[0m\u001b[0ma\u001b[0m\u001b[0;34m,\u001b[0m \u001b[0;34m**\u001b[0m\u001b[0mkw\u001b[0m\u001b[0;34m)\u001b[0m\u001b[0;34m:\u001b[0m\u001b[0;34m\u001b[0m\u001b[0m\n\u001b[1;32m     62\u001b[0m         \u001b[0;32mtry\u001b[0m\u001b[0;34m:\u001b[0m\u001b[0;34m\u001b[0m\u001b[0m\n\u001b[0;32m---> 63\u001b[0;31m             \u001b[0;32mreturn\u001b[0m \u001b[0mf\u001b[0m\u001b[0;34m(\u001b[0m\u001b[0;34m*\u001b[0m\u001b[0ma\u001b[0m\u001b[0;34m,\u001b[0m \u001b[0;34m**\u001b[0m\u001b[0mkw\u001b[0m\u001b[0;34m)\u001b[0m\u001b[0;34m\u001b[0m\u001b[0m\n\u001b[0m\u001b[1;32m     64\u001b[0m         \u001b[0;32mexcept\u001b[0m \u001b[0mpy4j\u001b[0m\u001b[0;34m.\u001b[0m\u001b[0mprotocol\u001b[0m\u001b[0;34m.\u001b[0m\u001b[0mPy4JJavaError\u001b[0m \u001b[0;32mas\u001b[0m \u001b[0me\u001b[0m\u001b[0;34m:\u001b[0m\u001b[0;34m\u001b[0m\u001b[0m\n\u001b[1;32m     65\u001b[0m             \u001b[0ms\u001b[0m \u001b[0;34m=\u001b[0m \u001b[0me\u001b[0m\u001b[0;34m.\u001b[0m\u001b[0mjava_exception\u001b[0m\u001b[0;34m.\u001b[0m\u001b[0mtoString\u001b[0m\u001b[0;34m(\u001b[0m\u001b[0;34m)\u001b[0m\u001b[0;34m\u001b[0m\u001b[0m\n",
      "\u001b[0;32m~/anaconda3/envs/pyspark_/lib/python3.5/site-packages/py4j/protocol.py\u001b[0m in \u001b[0;36mget_return_value\u001b[0;34m(answer, gateway_client, target_id, name)\u001b[0m\n\u001b[1;32m    318\u001b[0m                 raise Py4JJavaError(\n\u001b[1;32m    319\u001b[0m                     \u001b[0;34m\"An error occurred while calling {0}{1}{2}.\\n\"\u001b[0m\u001b[0;34m.\u001b[0m\u001b[0;34m\u001b[0m\u001b[0m\n\u001b[0;32m--> 320\u001b[0;31m                     format(target_id, \".\", name), value)\n\u001b[0m\u001b[1;32m    321\u001b[0m             \u001b[0;32melse\u001b[0m\u001b[0;34m:\u001b[0m\u001b[0;34m\u001b[0m\u001b[0m\n\u001b[1;32m    322\u001b[0m                 raise Py4JError(\n",
      "\u001b[0;31mPy4JJavaError\u001b[0m: An error occurred while calling z:org.apache.spark.api.python.PythonRDD.runJob.\n: org.apache.spark.SparkException: Job aborted due to stage failure: Task 3 in stage 239.0 failed 1 times, most recent failure: Lost task 3.0 in stage 239.0 (TID 1678, localhost, executor driver): org.apache.spark.api.python.PythonException: Traceback (most recent call last):\n  File \"/Users/yennanliu/spark/python/lib/pyspark.zip/pyspark/worker.py\", line 229, in main\n    process()\n  File \"/Users/yennanliu/spark/python/lib/pyspark.zip/pyspark/worker.py\", line 224, in process\n    serializer.dump_stream(func(split_index, iterator), outfile)\n  File \"/Users/yennanliu/anaconda3/envs/pyspark_/lib/python3.5/site-packages/pyspark/rdd.py\", line 2438, in pipeline_func\n    return func(split, prev_func(split, iterator))\n  File \"/Users/yennanliu/anaconda3/envs/pyspark_/lib/python3.5/site-packages/pyspark/rdd.py\", line 2438, in pipeline_func\n    return func(split, prev_func(split, iterator))\n  File \"/Users/yennanliu/anaconda3/envs/pyspark_/lib/python3.5/site-packages/pyspark/rdd.py\", line 362, in func\n    return f(iterator)\n  File \"/Users/yennanliu/anaconda3/envs/pyspark_/lib/python3.5/site-packages/pyspark/rdd.py\", line 1857, in combineLocally\n    merger.mergeValues(iterator)\n  File \"/Users/yennanliu/spark/python/lib/pyspark.zip/pyspark/shuffle.py\", line 236, in mergeValues\n    for k, v in iterator:\n  File \"<ipython-input-223-b3b214f824d6>\", line 6, in <lambda>\n  File \"/Users/yennanliu/anaconda3/envs/pyspark_/lib/python3.5/_strptime.py\", line 510, in _strptime_datetime\n    tt, fraction = _strptime(data_string, format)\n  File \"/Users/yennanliu/anaconda3/envs/pyspark_/lib/python3.5/_strptime.py\", line 343, in _strptime\n    (data_string, format))\nValueError: time data '4/23/2014 19:04:00' does not match format '%d/%m/%Y %H:%M:%S'\n\n\tat org.apache.spark.api.python.BasePythonRunner$ReaderIterator.handlePythonException(PythonRunner.scala:298)\n\tat org.apache.spark.api.python.PythonRunner$$anon$1.read(PythonRunner.scala:438)\n\tat org.apache.spark.api.python.PythonRunner$$anon$1.read(PythonRunner.scala:421)\n\tat org.apache.spark.api.python.BasePythonRunner$ReaderIterator.hasNext(PythonRunner.scala:252)\n\tat org.apache.spark.InterruptibleIterator.hasNext(InterruptibleIterator.scala:37)\n\tat scala.collection.Iterator$GroupedIterator.fill(Iterator.scala:1126)\n\tat scala.collection.Iterator$GroupedIterator.hasNext(Iterator.scala:1132)\n\tat scala.collection.Iterator$$anon$11.hasNext(Iterator.scala:408)\n\tat org.apache.spark.shuffle.sort.BypassMergeSortShuffleWriter.write(BypassMergeSortShuffleWriter.java:125)\n\tat org.apache.spark.scheduler.ShuffleMapTask.runTask(ShuffleMapTask.scala:96)\n\tat org.apache.spark.scheduler.ShuffleMapTask.runTask(ShuffleMapTask.scala:53)\n\tat org.apache.spark.scheduler.Task.run(Task.scala:109)\n\tat org.apache.spark.executor.Executor$TaskRunner.run(Executor.scala:345)\n\tat java.util.concurrent.ThreadPoolExecutor.runWorker(ThreadPoolExecutor.java:1142)\n\tat java.util.concurrent.ThreadPoolExecutor$Worker.run(ThreadPoolExecutor.java:617)\n\tat java.lang.Thread.run(Thread.java:745)\n\nDriver stacktrace:\n\tat org.apache.spark.scheduler.DAGScheduler.org$apache$spark$scheduler$DAGScheduler$$failJobAndIndependentStages(DAGScheduler.scala:1599)\n\tat org.apache.spark.scheduler.DAGScheduler$$anonfun$abortStage$1.apply(DAGScheduler.scala:1587)\n\tat org.apache.spark.scheduler.DAGScheduler$$anonfun$abortStage$1.apply(DAGScheduler.scala:1586)\n\tat scala.collection.mutable.ResizableArray$class.foreach(ResizableArray.scala:59)\n\tat scala.collection.mutable.ArrayBuffer.foreach(ArrayBuffer.scala:48)\n\tat org.apache.spark.scheduler.DAGScheduler.abortStage(DAGScheduler.scala:1586)\n\tat org.apache.spark.scheduler.DAGScheduler$$anonfun$handleTaskSetFailed$1.apply(DAGScheduler.scala:831)\n\tat org.apache.spark.scheduler.DAGScheduler$$anonfun$handleTaskSetFailed$1.apply(DAGScheduler.scala:831)\n\tat scala.Option.foreach(Option.scala:257)\n\tat org.apache.spark.scheduler.DAGScheduler.handleTaskSetFailed(DAGScheduler.scala:831)\n\tat org.apache.spark.scheduler.DAGSchedulerEventProcessLoop.doOnReceive(DAGScheduler.scala:1820)\n\tat org.apache.spark.scheduler.DAGSchedulerEventProcessLoop.onReceive(DAGScheduler.scala:1769)\n\tat org.apache.spark.scheduler.DAGSchedulerEventProcessLoop.onReceive(DAGScheduler.scala:1758)\n\tat org.apache.spark.util.EventLoop$$anon$1.run(EventLoop.scala:48)\n\tat org.apache.spark.scheduler.DAGScheduler.runJob(DAGScheduler.scala:642)\n\tat org.apache.spark.SparkContext.runJob(SparkContext.scala:2027)\n\tat org.apache.spark.SparkContext.runJob(SparkContext.scala:2048)\n\tat org.apache.spark.SparkContext.runJob(SparkContext.scala:2067)\n\tat org.apache.spark.api.python.PythonRDD$.runJob(PythonRDD.scala:141)\n\tat org.apache.spark.api.python.PythonRDD.runJob(PythonRDD.scala)\n\tat sun.reflect.GeneratedMethodAccessor62.invoke(Unknown Source)\n\tat sun.reflect.DelegatingMethodAccessorImpl.invoke(DelegatingMethodAccessorImpl.java:43)\n\tat java.lang.reflect.Method.invoke(Method.java:498)\n\tat py4j.reflection.MethodInvoker.invoke(MethodInvoker.java:244)\n\tat py4j.reflection.ReflectionEngine.invoke(ReflectionEngine.java:357)\n\tat py4j.Gateway.invoke(Gateway.java:282)\n\tat py4j.commands.AbstractCommand.invokeMethod(AbstractCommand.java:132)\n\tat py4j.commands.CallCommand.execute(CallCommand.java:79)\n\tat py4j.GatewayConnection.run(GatewayConnection.java:214)\n\tat java.lang.Thread.run(Thread.java:745)\nCaused by: org.apache.spark.api.python.PythonException: Traceback (most recent call last):\n  File \"/Users/yennanliu/spark/python/lib/pyspark.zip/pyspark/worker.py\", line 229, in main\n    process()\n  File \"/Users/yennanliu/spark/python/lib/pyspark.zip/pyspark/worker.py\", line 224, in process\n    serializer.dump_stream(func(split_index, iterator), outfile)\n  File \"/Users/yennanliu/anaconda3/envs/pyspark_/lib/python3.5/site-packages/pyspark/rdd.py\", line 2438, in pipeline_func\n    return func(split, prev_func(split, iterator))\n  File \"/Users/yennanliu/anaconda3/envs/pyspark_/lib/python3.5/site-packages/pyspark/rdd.py\", line 2438, in pipeline_func\n    return func(split, prev_func(split, iterator))\n  File \"/Users/yennanliu/anaconda3/envs/pyspark_/lib/python3.5/site-packages/pyspark/rdd.py\", line 362, in func\n    return f(iterator)\n  File \"/Users/yennanliu/anaconda3/envs/pyspark_/lib/python3.5/site-packages/pyspark/rdd.py\", line 1857, in combineLocally\n    merger.mergeValues(iterator)\n  File \"/Users/yennanliu/spark/python/lib/pyspark.zip/pyspark/shuffle.py\", line 236, in mergeValues\n    for k, v in iterator:\n  File \"<ipython-input-223-b3b214f824d6>\", line 6, in <lambda>\n  File \"/Users/yennanliu/anaconda3/envs/pyspark_/lib/python3.5/_strptime.py\", line 510, in _strptime_datetime\n    tt, fraction = _strptime(data_string, format)\n  File \"/Users/yennanliu/anaconda3/envs/pyspark_/lib/python3.5/_strptime.py\", line 343, in _strptime\n    (data_string, format))\nValueError: time data '4/23/2014 19:04:00' does not match format '%d/%m/%Y %H:%M:%S'\n\n\tat org.apache.spark.api.python.BasePythonRunner$ReaderIterator.handlePythonException(PythonRunner.scala:298)\n\tat org.apache.spark.api.python.PythonRunner$$anon$1.read(PythonRunner.scala:438)\n\tat org.apache.spark.api.python.PythonRunner$$anon$1.read(PythonRunner.scala:421)\n\tat org.apache.spark.api.python.BasePythonRunner$ReaderIterator.hasNext(PythonRunner.scala:252)\n\tat org.apache.spark.InterruptibleIterator.hasNext(InterruptibleIterator.scala:37)\n\tat scala.collection.Iterator$GroupedIterator.fill(Iterator.scala:1126)\n\tat scala.collection.Iterator$GroupedIterator.hasNext(Iterator.scala:1132)\n\tat scala.collection.Iterator$$anon$11.hasNext(Iterator.scala:408)\n\tat org.apache.spark.shuffle.sort.BypassMergeSortShuffleWriter.write(BypassMergeSortShuffleWriter.java:125)\n\tat org.apache.spark.scheduler.ShuffleMapTask.runTask(ShuffleMapTask.scala:96)\n\tat org.apache.spark.scheduler.ShuffleMapTask.runTask(ShuffleMapTask.scala:53)\n\tat org.apache.spark.scheduler.Task.run(Task.scala:109)\n\tat org.apache.spark.executor.Executor$TaskRunner.run(Executor.scala:345)\n\tat java.util.concurrent.ThreadPoolExecutor.runWorker(ThreadPoolExecutor.java:1142)\n\tat java.util.concurrent.ThreadPoolExecutor$Worker.run(ThreadPoolExecutor.java:617)\n\t... 1 more\n"
     ]
    }
   ],
   "source": [
    "transformed_RDD = spark_RDD.map(\n",
    "                lambda x: Row(\n",
    "                Lat=x['Lat'],\n",
    "                Lon= x['Lon'],\n",
    "                Base=x['Base'],\n",
    "                timestamp= datetime.strptime(x['Date/Time'], '%d/%m/%Y %H:%M:%S').strftime('%Y-%m-%d') ))\\\n",
    "                .map(lambda x : (x.timestamp, 1))\\\n",
    "                .reduceByKey(add)\\\n",
    "                .sortBy(lambda x : x[1], False)\\\n",
    "                .take(30)"
   ]
  },
  {
   "cell_type": "code",
   "execution_count": 218,
   "metadata": {},
   "outputs": [
    {
     "data": {
      "text/plain": [
       "[Row(Base='B02512', Lat='40.769', Lon='-73.9549', timestamp='2014-01-04'),\n",
       " Row(Base='B02512', Lat='40.7267', Lon='-74.0345', timestamp='2014-01-04'),\n",
       " Row(Base='B02512', Lat='40.7316', Lon='-73.9873', timestamp='2014-01-04'),\n",
       " Row(Base='B02512', Lat='40.7588', Lon='-73.9776', timestamp='2014-01-04'),\n",
       " Row(Base='B02512', Lat='40.7594', Lon='-73.9722', timestamp='2014-01-04'),\n",
       " Row(Base='B02512', Lat='40.7383', Lon='-74.0403', timestamp='2014-01-04'),\n",
       " Row(Base='B02512', Lat='40.7223', Lon='-73.9887', timestamp='2014-01-04'),\n",
       " Row(Base='B02512', Lat='40.762', Lon='-73.979', timestamp='2014-01-04'),\n",
       " Row(Base='B02512', Lat='40.7524', Lon='-73.996', timestamp='2014-01-04'),\n",
       " Row(Base='B02512', Lat='40.7575', Lon='-73.9846', timestamp='2014-01-04')]"
      ]
     },
     "execution_count": 218,
     "metadata": {},
     "output_type": "execute_result"
    }
   ],
   "source": [
    "transformed_RDD.take(10)"
   ]
  },
  {
   "cell_type": "code",
   "execution_count": 214,
   "metadata": {},
   "outputs": [
    {
     "ename": "Py4JJavaError",
     "evalue": "An error occurred while calling z:org.apache.spark.api.python.PythonRDD.collectAndServe.\n: org.apache.spark.SparkException: Job aborted due to stage failure: Task 3 in stage 231.0 failed 1 times, most recent failure: Lost task 3.0 in stage 231.0 (TID 1664, localhost, executor driver): org.apache.spark.api.python.PythonException: Traceback (most recent call last):\n  File \"/Users/yennanliu/spark/python/lib/pyspark.zip/pyspark/worker.py\", line 229, in main\n    process()\n  File \"/Users/yennanliu/spark/python/lib/pyspark.zip/pyspark/worker.py\", line 224, in process\n    serializer.dump_stream(func(split_index, iterator), outfile)\n  File \"/Users/yennanliu/anaconda3/envs/pyspark_/lib/python3.5/site-packages/pyspark/rdd.py\", line 2438, in pipeline_func\n    return func(split, prev_func(split, iterator))\n  File \"/Users/yennanliu/anaconda3/envs/pyspark_/lib/python3.5/site-packages/pyspark/rdd.py\", line 2438, in pipeline_func\n    return func(split, prev_func(split, iterator))\n  File \"/Users/yennanliu/anaconda3/envs/pyspark_/lib/python3.5/site-packages/pyspark/rdd.py\", line 362, in func\n    return f(iterator)\n  File \"/Users/yennanliu/anaconda3/envs/pyspark_/lib/python3.5/site-packages/pyspark/rdd.py\", line 1857, in combineLocally\n    merger.mergeValues(iterator)\n  File \"/Users/yennanliu/spark/python/lib/pyspark.zip/pyspark/shuffle.py\", line 236, in mergeValues\n    for k, v in iterator:\n  File \"<ipython-input-211-2a3f9ede4229>\", line 6, in <lambda>\n  File \"/Users/yennanliu/anaconda3/envs/pyspark_/lib/python3.5/_strptime.py\", line 510, in _strptime_datetime\n    tt, fraction = _strptime(data_string, format)\n  File \"/Users/yennanliu/anaconda3/envs/pyspark_/lib/python3.5/_strptime.py\", line 343, in _strptime\n    (data_string, format))\nValueError: time data '4/23/2014 19:04:00' does not match format '%d/%m/%Y %H:%M:%S'\n\n\tat org.apache.spark.api.python.BasePythonRunner$ReaderIterator.handlePythonException(PythonRunner.scala:298)\n\tat org.apache.spark.api.python.PythonRunner$$anon$1.read(PythonRunner.scala:438)\n\tat org.apache.spark.api.python.PythonRunner$$anon$1.read(PythonRunner.scala:421)\n\tat org.apache.spark.api.python.BasePythonRunner$ReaderIterator.hasNext(PythonRunner.scala:252)\n\tat org.apache.spark.InterruptibleIterator.hasNext(InterruptibleIterator.scala:37)\n\tat scala.collection.Iterator$GroupedIterator.fill(Iterator.scala:1126)\n\tat scala.collection.Iterator$GroupedIterator.hasNext(Iterator.scala:1132)\n\tat scala.collection.Iterator$$anon$11.hasNext(Iterator.scala:408)\n\tat org.apache.spark.shuffle.sort.BypassMergeSortShuffleWriter.write(BypassMergeSortShuffleWriter.java:125)\n\tat org.apache.spark.scheduler.ShuffleMapTask.runTask(ShuffleMapTask.scala:96)\n\tat org.apache.spark.scheduler.ShuffleMapTask.runTask(ShuffleMapTask.scala:53)\n\tat org.apache.spark.scheduler.Task.run(Task.scala:109)\n\tat org.apache.spark.executor.Executor$TaskRunner.run(Executor.scala:345)\n\tat java.util.concurrent.ThreadPoolExecutor.runWorker(ThreadPoolExecutor.java:1142)\n\tat java.util.concurrent.ThreadPoolExecutor$Worker.run(ThreadPoolExecutor.java:617)\n\tat java.lang.Thread.run(Thread.java:745)\n\nDriver stacktrace:\n\tat org.apache.spark.scheduler.DAGScheduler.org$apache$spark$scheduler$DAGScheduler$$failJobAndIndependentStages(DAGScheduler.scala:1599)\n\tat org.apache.spark.scheduler.DAGScheduler$$anonfun$abortStage$1.apply(DAGScheduler.scala:1587)\n\tat org.apache.spark.scheduler.DAGScheduler$$anonfun$abortStage$1.apply(DAGScheduler.scala:1586)\n\tat scala.collection.mutable.ResizableArray$class.foreach(ResizableArray.scala:59)\n\tat scala.collection.mutable.ArrayBuffer.foreach(ArrayBuffer.scala:48)\n\tat org.apache.spark.scheduler.DAGScheduler.abortStage(DAGScheduler.scala:1586)\n\tat org.apache.spark.scheduler.DAGScheduler$$anonfun$handleTaskSetFailed$1.apply(DAGScheduler.scala:831)\n\tat org.apache.spark.scheduler.DAGScheduler$$anonfun$handleTaskSetFailed$1.apply(DAGScheduler.scala:831)\n\tat scala.Option.foreach(Option.scala:257)\n\tat org.apache.spark.scheduler.DAGScheduler.handleTaskSetFailed(DAGScheduler.scala:831)\n\tat org.apache.spark.scheduler.DAGSchedulerEventProcessLoop.doOnReceive(DAGScheduler.scala:1820)\n\tat org.apache.spark.scheduler.DAGSchedulerEventProcessLoop.onReceive(DAGScheduler.scala:1769)\n\tat org.apache.spark.scheduler.DAGSchedulerEventProcessLoop.onReceive(DAGScheduler.scala:1758)\n\tat org.apache.spark.util.EventLoop$$anon$1.run(EventLoop.scala:48)\n\tat org.apache.spark.scheduler.DAGScheduler.runJob(DAGScheduler.scala:642)\n\tat org.apache.spark.SparkContext.runJob(SparkContext.scala:2027)\n\tat org.apache.spark.SparkContext.runJob(SparkContext.scala:2048)\n\tat org.apache.spark.SparkContext.runJob(SparkContext.scala:2067)\n\tat org.apache.spark.SparkContext.runJob(SparkContext.scala:2092)\n\tat org.apache.spark.rdd.RDD$$anonfun$collect$1.apply(RDD.scala:939)\n\tat org.apache.spark.rdd.RDDOperationScope$.withScope(RDDOperationScope.scala:151)\n\tat org.apache.spark.rdd.RDDOperationScope$.withScope(RDDOperationScope.scala:112)\n\tat org.apache.spark.rdd.RDD.withScope(RDD.scala:363)\n\tat org.apache.spark.rdd.RDD.collect(RDD.scala:938)\n\tat org.apache.spark.api.python.PythonRDD$.collectAndServe(PythonRDD.scala:153)\n\tat org.apache.spark.api.python.PythonRDD.collectAndServe(PythonRDD.scala)\n\tat sun.reflect.NativeMethodAccessorImpl.invoke0(Native Method)\n\tat sun.reflect.NativeMethodAccessorImpl.invoke(NativeMethodAccessorImpl.java:62)\n\tat sun.reflect.DelegatingMethodAccessorImpl.invoke(DelegatingMethodAccessorImpl.java:43)\n\tat java.lang.reflect.Method.invoke(Method.java:498)\n\tat py4j.reflection.MethodInvoker.invoke(MethodInvoker.java:244)\n\tat py4j.reflection.ReflectionEngine.invoke(ReflectionEngine.java:357)\n\tat py4j.Gateway.invoke(Gateway.java:282)\n\tat py4j.commands.AbstractCommand.invokeMethod(AbstractCommand.java:132)\n\tat py4j.commands.CallCommand.execute(CallCommand.java:79)\n\tat py4j.GatewayConnection.run(GatewayConnection.java:214)\n\tat java.lang.Thread.run(Thread.java:745)\nCaused by: org.apache.spark.api.python.PythonException: Traceback (most recent call last):\n  File \"/Users/yennanliu/spark/python/lib/pyspark.zip/pyspark/worker.py\", line 229, in main\n    process()\n  File \"/Users/yennanliu/spark/python/lib/pyspark.zip/pyspark/worker.py\", line 224, in process\n    serializer.dump_stream(func(split_index, iterator), outfile)\n  File \"/Users/yennanliu/anaconda3/envs/pyspark_/lib/python3.5/site-packages/pyspark/rdd.py\", line 2438, in pipeline_func\n    return func(split, prev_func(split, iterator))\n  File \"/Users/yennanliu/anaconda3/envs/pyspark_/lib/python3.5/site-packages/pyspark/rdd.py\", line 2438, in pipeline_func\n    return func(split, prev_func(split, iterator))\n  File \"/Users/yennanliu/anaconda3/envs/pyspark_/lib/python3.5/site-packages/pyspark/rdd.py\", line 362, in func\n    return f(iterator)\n  File \"/Users/yennanliu/anaconda3/envs/pyspark_/lib/python3.5/site-packages/pyspark/rdd.py\", line 1857, in combineLocally\n    merger.mergeValues(iterator)\n  File \"/Users/yennanliu/spark/python/lib/pyspark.zip/pyspark/shuffle.py\", line 236, in mergeValues\n    for k, v in iterator:\n  File \"<ipython-input-211-2a3f9ede4229>\", line 6, in <lambda>\n  File \"/Users/yennanliu/anaconda3/envs/pyspark_/lib/python3.5/_strptime.py\", line 510, in _strptime_datetime\n    tt, fraction = _strptime(data_string, format)\n  File \"/Users/yennanliu/anaconda3/envs/pyspark_/lib/python3.5/_strptime.py\", line 343, in _strptime\n    (data_string, format))\nValueError: time data '4/23/2014 19:04:00' does not match format '%d/%m/%Y %H:%M:%S'\n\n\tat org.apache.spark.api.python.BasePythonRunner$ReaderIterator.handlePythonException(PythonRunner.scala:298)\n\tat org.apache.spark.api.python.PythonRunner$$anon$1.read(PythonRunner.scala:438)\n\tat org.apache.spark.api.python.PythonRunner$$anon$1.read(PythonRunner.scala:421)\n\tat org.apache.spark.api.python.BasePythonRunner$ReaderIterator.hasNext(PythonRunner.scala:252)\n\tat org.apache.spark.InterruptibleIterator.hasNext(InterruptibleIterator.scala:37)\n\tat scala.collection.Iterator$GroupedIterator.fill(Iterator.scala:1126)\n\tat scala.collection.Iterator$GroupedIterator.hasNext(Iterator.scala:1132)\n\tat scala.collection.Iterator$$anon$11.hasNext(Iterator.scala:408)\n\tat org.apache.spark.shuffle.sort.BypassMergeSortShuffleWriter.write(BypassMergeSortShuffleWriter.java:125)\n\tat org.apache.spark.scheduler.ShuffleMapTask.runTask(ShuffleMapTask.scala:96)\n\tat org.apache.spark.scheduler.ShuffleMapTask.runTask(ShuffleMapTask.scala:53)\n\tat org.apache.spark.scheduler.Task.run(Task.scala:109)\n\tat org.apache.spark.executor.Executor$TaskRunner.run(Executor.scala:345)\n\tat java.util.concurrent.ThreadPoolExecutor.runWorker(ThreadPoolExecutor.java:1142)\n\tat java.util.concurrent.ThreadPoolExecutor$Worker.run(ThreadPoolExecutor.java:617)\n\t... 1 more\n",
     "output_type": "error",
     "traceback": [
      "\u001b[0;31m---------------------------------------------------------------------------\u001b[0m",
      "\u001b[0;31mPy4JJavaError\u001b[0m                             Traceback (most recent call last)",
      "\u001b[0;32m<ipython-input-214-655ffc1bee5a>\u001b[0m in \u001b[0;36m<module>\u001b[0;34m()\u001b[0m\n\u001b[0;32m----> 1\u001b[0;31m \u001b[0mdate_count\u001b[0m \u001b[0;34m=\u001b[0m \u001b[0mtransformed_RDD\u001b[0m            \u001b[0;34m.\u001b[0m\u001b[0mmap\u001b[0m\u001b[0;34m(\u001b[0m\u001b[0;32mlambda\u001b[0m \u001b[0mx\u001b[0m \u001b[0;34m:\u001b[0m \u001b[0;34m(\u001b[0m\u001b[0mx\u001b[0m\u001b[0;34m[\u001b[0m\u001b[0;34m'Lon'\u001b[0m\u001b[0;34m]\u001b[0m\u001b[0;34m,\u001b[0m \u001b[0;36m1\u001b[0m\u001b[0;34m)\u001b[0m\u001b[0;34m)\u001b[0m            \u001b[0;34m.\u001b[0m\u001b[0mreduceByKey\u001b[0m\u001b[0;34m(\u001b[0m\u001b[0madd\u001b[0m\u001b[0;34m)\u001b[0m            \u001b[0;34m.\u001b[0m\u001b[0msortBy\u001b[0m\u001b[0;34m(\u001b[0m\u001b[0;32mlambda\u001b[0m \u001b[0mx\u001b[0m \u001b[0;34m:\u001b[0m \u001b[0mx\u001b[0m\u001b[0;34m[\u001b[0m\u001b[0;36m1\u001b[0m\u001b[0;34m]\u001b[0m\u001b[0;34m,\u001b[0m \u001b[0;32mFalse\u001b[0m\u001b[0;34m)\u001b[0m            \u001b[0;34m.\u001b[0m\u001b[0mtake\u001b[0m\u001b[0;34m(\u001b[0m\u001b[0;36m30\u001b[0m\u001b[0;34m)\u001b[0m\u001b[0;34m\u001b[0m\u001b[0m\n\u001b[0m",
      "\u001b[0;32m~/anaconda3/envs/pyspark_/lib/python3.5/site-packages/pyspark/rdd.py\u001b[0m in \u001b[0;36msortBy\u001b[0;34m(self, keyfunc, ascending, numPartitions)\u001b[0m\n\u001b[1;32m    707\u001b[0m         \u001b[0;34m[\u001b[0m\u001b[0;34m(\u001b[0m\u001b[0;34m'a'\u001b[0m\u001b[0;34m,\u001b[0m \u001b[0;36m1\u001b[0m\u001b[0;34m)\u001b[0m\u001b[0;34m,\u001b[0m \u001b[0;34m(\u001b[0m\u001b[0;34m'b'\u001b[0m\u001b[0;34m,\u001b[0m \u001b[0;36m2\u001b[0m\u001b[0;34m)\u001b[0m\u001b[0;34m,\u001b[0m \u001b[0;34m(\u001b[0m\u001b[0;34m'1'\u001b[0m\u001b[0;34m,\u001b[0m \u001b[0;36m3\u001b[0m\u001b[0;34m)\u001b[0m\u001b[0;34m,\u001b[0m \u001b[0;34m(\u001b[0m\u001b[0;34m'd'\u001b[0m\u001b[0;34m,\u001b[0m \u001b[0;36m4\u001b[0m\u001b[0;34m)\u001b[0m\u001b[0;34m,\u001b[0m \u001b[0;34m(\u001b[0m\u001b[0;34m'2'\u001b[0m\u001b[0;34m,\u001b[0m \u001b[0;36m5\u001b[0m\u001b[0;34m)\u001b[0m\u001b[0;34m]\u001b[0m\u001b[0;34m\u001b[0m\u001b[0m\n\u001b[1;32m    708\u001b[0m         \"\"\"\n\u001b[0;32m--> 709\u001b[0;31m         \u001b[0;32mreturn\u001b[0m \u001b[0mself\u001b[0m\u001b[0;34m.\u001b[0m\u001b[0mkeyBy\u001b[0m\u001b[0;34m(\u001b[0m\u001b[0mkeyfunc\u001b[0m\u001b[0;34m)\u001b[0m\u001b[0;34m.\u001b[0m\u001b[0msortByKey\u001b[0m\u001b[0;34m(\u001b[0m\u001b[0mascending\u001b[0m\u001b[0;34m,\u001b[0m \u001b[0mnumPartitions\u001b[0m\u001b[0;34m)\u001b[0m\u001b[0;34m.\u001b[0m\u001b[0mvalues\u001b[0m\u001b[0;34m(\u001b[0m\u001b[0;34m)\u001b[0m\u001b[0;34m\u001b[0m\u001b[0m\n\u001b[0m\u001b[1;32m    710\u001b[0m \u001b[0;34m\u001b[0m\u001b[0m\n\u001b[1;32m    711\u001b[0m     \u001b[0;32mdef\u001b[0m \u001b[0mglom\u001b[0m\u001b[0;34m(\u001b[0m\u001b[0mself\u001b[0m\u001b[0;34m)\u001b[0m\u001b[0;34m:\u001b[0m\u001b[0;34m\u001b[0m\u001b[0m\n",
      "\u001b[0;32m~/anaconda3/envs/pyspark_/lib/python3.5/site-packages/pyspark/rdd.py\u001b[0m in \u001b[0;36msortByKey\u001b[0;34m(self, ascending, numPartitions, keyfunc)\u001b[0m\n\u001b[1;32m    675\u001b[0m         \u001b[0;31m# the key-space into bins such that the bins have roughly the same\u001b[0m\u001b[0;34m\u001b[0m\u001b[0;34m\u001b[0m\u001b[0m\n\u001b[1;32m    676\u001b[0m         \u001b[0;31m# number of (key, value) pairs falling into them\u001b[0m\u001b[0;34m\u001b[0m\u001b[0;34m\u001b[0m\u001b[0m\n\u001b[0;32m--> 677\u001b[0;31m         \u001b[0mrddSize\u001b[0m \u001b[0;34m=\u001b[0m \u001b[0mself\u001b[0m\u001b[0;34m.\u001b[0m\u001b[0mcount\u001b[0m\u001b[0;34m(\u001b[0m\u001b[0;34m)\u001b[0m\u001b[0;34m\u001b[0m\u001b[0m\n\u001b[0m\u001b[1;32m    678\u001b[0m         \u001b[0;32mif\u001b[0m \u001b[0;32mnot\u001b[0m \u001b[0mrddSize\u001b[0m\u001b[0;34m:\u001b[0m\u001b[0;34m\u001b[0m\u001b[0m\n\u001b[1;32m    679\u001b[0m             \u001b[0;32mreturn\u001b[0m \u001b[0mself\u001b[0m  \u001b[0;31m# empty RDD\u001b[0m\u001b[0;34m\u001b[0m\u001b[0m\n",
      "\u001b[0;32m~/anaconda3/envs/pyspark_/lib/python3.5/site-packages/pyspark/rdd.py\u001b[0m in \u001b[0;36mcount\u001b[0;34m(self)\u001b[0m\n\u001b[1;32m   1054\u001b[0m         \u001b[0;36m3\u001b[0m\u001b[0;34m\u001b[0m\u001b[0m\n\u001b[1;32m   1055\u001b[0m         \"\"\"\n\u001b[0;32m-> 1056\u001b[0;31m         \u001b[0;32mreturn\u001b[0m \u001b[0mself\u001b[0m\u001b[0;34m.\u001b[0m\u001b[0mmapPartitions\u001b[0m\u001b[0;34m(\u001b[0m\u001b[0;32mlambda\u001b[0m \u001b[0mi\u001b[0m\u001b[0;34m:\u001b[0m \u001b[0;34m[\u001b[0m\u001b[0msum\u001b[0m\u001b[0;34m(\u001b[0m\u001b[0;36m1\u001b[0m \u001b[0;32mfor\u001b[0m \u001b[0m_\u001b[0m \u001b[0;32min\u001b[0m \u001b[0mi\u001b[0m\u001b[0;34m)\u001b[0m\u001b[0;34m]\u001b[0m\u001b[0;34m)\u001b[0m\u001b[0;34m.\u001b[0m\u001b[0msum\u001b[0m\u001b[0;34m(\u001b[0m\u001b[0;34m)\u001b[0m\u001b[0;34m\u001b[0m\u001b[0m\n\u001b[0m\u001b[1;32m   1057\u001b[0m \u001b[0;34m\u001b[0m\u001b[0m\n\u001b[1;32m   1058\u001b[0m     \u001b[0;32mdef\u001b[0m \u001b[0mstats\u001b[0m\u001b[0;34m(\u001b[0m\u001b[0mself\u001b[0m\u001b[0;34m)\u001b[0m\u001b[0;34m:\u001b[0m\u001b[0;34m\u001b[0m\u001b[0m\n",
      "\u001b[0;32m~/anaconda3/envs/pyspark_/lib/python3.5/site-packages/pyspark/rdd.py\u001b[0m in \u001b[0;36msum\u001b[0;34m(self)\u001b[0m\n\u001b[1;32m   1045\u001b[0m         \u001b[0;36m6.0\u001b[0m\u001b[0;34m\u001b[0m\u001b[0m\n\u001b[1;32m   1046\u001b[0m         \"\"\"\n\u001b[0;32m-> 1047\u001b[0;31m         \u001b[0;32mreturn\u001b[0m \u001b[0mself\u001b[0m\u001b[0;34m.\u001b[0m\u001b[0mmapPartitions\u001b[0m\u001b[0;34m(\u001b[0m\u001b[0;32mlambda\u001b[0m \u001b[0mx\u001b[0m\u001b[0;34m:\u001b[0m \u001b[0;34m[\u001b[0m\u001b[0msum\u001b[0m\u001b[0;34m(\u001b[0m\u001b[0mx\u001b[0m\u001b[0;34m)\u001b[0m\u001b[0;34m]\u001b[0m\u001b[0;34m)\u001b[0m\u001b[0;34m.\u001b[0m\u001b[0mfold\u001b[0m\u001b[0;34m(\u001b[0m\u001b[0;36m0\u001b[0m\u001b[0;34m,\u001b[0m \u001b[0moperator\u001b[0m\u001b[0;34m.\u001b[0m\u001b[0madd\u001b[0m\u001b[0;34m)\u001b[0m\u001b[0;34m\u001b[0m\u001b[0m\n\u001b[0m\u001b[1;32m   1048\u001b[0m \u001b[0;34m\u001b[0m\u001b[0m\n\u001b[1;32m   1049\u001b[0m     \u001b[0;32mdef\u001b[0m \u001b[0mcount\u001b[0m\u001b[0;34m(\u001b[0m\u001b[0mself\u001b[0m\u001b[0;34m)\u001b[0m\u001b[0;34m:\u001b[0m\u001b[0;34m\u001b[0m\u001b[0m\n",
      "\u001b[0;32m~/anaconda3/envs/pyspark_/lib/python3.5/site-packages/pyspark/rdd.py\u001b[0m in \u001b[0;36mfold\u001b[0;34m(self, zeroValue, op)\u001b[0m\n\u001b[1;32m    919\u001b[0m         \u001b[0;31m# zeroValue provided to each partition is unique from the one provided\u001b[0m\u001b[0;34m\u001b[0m\u001b[0;34m\u001b[0m\u001b[0m\n\u001b[1;32m    920\u001b[0m         \u001b[0;31m# to the final reduce call\u001b[0m\u001b[0;34m\u001b[0m\u001b[0;34m\u001b[0m\u001b[0m\n\u001b[0;32m--> 921\u001b[0;31m         \u001b[0mvals\u001b[0m \u001b[0;34m=\u001b[0m \u001b[0mself\u001b[0m\u001b[0;34m.\u001b[0m\u001b[0mmapPartitions\u001b[0m\u001b[0;34m(\u001b[0m\u001b[0mfunc\u001b[0m\u001b[0;34m)\u001b[0m\u001b[0;34m.\u001b[0m\u001b[0mcollect\u001b[0m\u001b[0;34m(\u001b[0m\u001b[0;34m)\u001b[0m\u001b[0;34m\u001b[0m\u001b[0m\n\u001b[0m\u001b[1;32m    922\u001b[0m         \u001b[0;32mreturn\u001b[0m \u001b[0mreduce\u001b[0m\u001b[0;34m(\u001b[0m\u001b[0mop\u001b[0m\u001b[0;34m,\u001b[0m \u001b[0mvals\u001b[0m\u001b[0;34m,\u001b[0m \u001b[0mzeroValue\u001b[0m\u001b[0;34m)\u001b[0m\u001b[0;34m\u001b[0m\u001b[0m\n\u001b[1;32m    923\u001b[0m \u001b[0;34m\u001b[0m\u001b[0m\n",
      "\u001b[0;32m~/anaconda3/envs/pyspark_/lib/python3.5/site-packages/pyspark/rdd.py\u001b[0m in \u001b[0;36mcollect\u001b[0;34m(self)\u001b[0m\n\u001b[1;32m    822\u001b[0m         \"\"\"\n\u001b[1;32m    823\u001b[0m         \u001b[0;32mwith\u001b[0m \u001b[0mSCCallSiteSync\u001b[0m\u001b[0;34m(\u001b[0m\u001b[0mself\u001b[0m\u001b[0;34m.\u001b[0m\u001b[0mcontext\u001b[0m\u001b[0;34m)\u001b[0m \u001b[0;32mas\u001b[0m \u001b[0mcss\u001b[0m\u001b[0;34m:\u001b[0m\u001b[0;34m\u001b[0m\u001b[0m\n\u001b[0;32m--> 824\u001b[0;31m             \u001b[0mport\u001b[0m \u001b[0;34m=\u001b[0m \u001b[0mself\u001b[0m\u001b[0;34m.\u001b[0m\u001b[0mctx\u001b[0m\u001b[0;34m.\u001b[0m\u001b[0m_jvm\u001b[0m\u001b[0;34m.\u001b[0m\u001b[0mPythonRDD\u001b[0m\u001b[0;34m.\u001b[0m\u001b[0mcollectAndServe\u001b[0m\u001b[0;34m(\u001b[0m\u001b[0mself\u001b[0m\u001b[0;34m.\u001b[0m\u001b[0m_jrdd\u001b[0m\u001b[0;34m.\u001b[0m\u001b[0mrdd\u001b[0m\u001b[0;34m(\u001b[0m\u001b[0;34m)\u001b[0m\u001b[0;34m)\u001b[0m\u001b[0;34m\u001b[0m\u001b[0m\n\u001b[0m\u001b[1;32m    825\u001b[0m         \u001b[0;32mreturn\u001b[0m \u001b[0mlist\u001b[0m\u001b[0;34m(\u001b[0m\u001b[0m_load_from_socket\u001b[0m\u001b[0;34m(\u001b[0m\u001b[0mport\u001b[0m\u001b[0;34m,\u001b[0m \u001b[0mself\u001b[0m\u001b[0;34m.\u001b[0m\u001b[0m_jrdd_deserializer\u001b[0m\u001b[0;34m)\u001b[0m\u001b[0;34m)\u001b[0m\u001b[0;34m\u001b[0m\u001b[0m\n\u001b[1;32m    826\u001b[0m \u001b[0;34m\u001b[0m\u001b[0m\n",
      "\u001b[0;32m~/anaconda3/envs/pyspark_/lib/python3.5/site-packages/py4j/java_gateway.py\u001b[0m in \u001b[0;36m__call__\u001b[0;34m(self, *args)\u001b[0m\n\u001b[1;32m   1158\u001b[0m         \u001b[0manswer\u001b[0m \u001b[0;34m=\u001b[0m \u001b[0mself\u001b[0m\u001b[0;34m.\u001b[0m\u001b[0mgateway_client\u001b[0m\u001b[0;34m.\u001b[0m\u001b[0msend_command\u001b[0m\u001b[0;34m(\u001b[0m\u001b[0mcommand\u001b[0m\u001b[0;34m)\u001b[0m\u001b[0;34m\u001b[0m\u001b[0m\n\u001b[1;32m   1159\u001b[0m         return_value = get_return_value(\n\u001b[0;32m-> 1160\u001b[0;31m             answer, self.gateway_client, self.target_id, self.name)\n\u001b[0m\u001b[1;32m   1161\u001b[0m \u001b[0;34m\u001b[0m\u001b[0m\n\u001b[1;32m   1162\u001b[0m         \u001b[0;32mfor\u001b[0m \u001b[0mtemp_arg\u001b[0m \u001b[0;32min\u001b[0m \u001b[0mtemp_args\u001b[0m\u001b[0;34m:\u001b[0m\u001b[0;34m\u001b[0m\u001b[0m\n",
      "\u001b[0;32m~/anaconda3/envs/pyspark_/lib/python3.5/site-packages/pyspark/sql/utils.py\u001b[0m in \u001b[0;36mdeco\u001b[0;34m(*a, **kw)\u001b[0m\n\u001b[1;32m     61\u001b[0m     \u001b[0;32mdef\u001b[0m \u001b[0mdeco\u001b[0m\u001b[0;34m(\u001b[0m\u001b[0;34m*\u001b[0m\u001b[0ma\u001b[0m\u001b[0;34m,\u001b[0m \u001b[0;34m**\u001b[0m\u001b[0mkw\u001b[0m\u001b[0;34m)\u001b[0m\u001b[0;34m:\u001b[0m\u001b[0;34m\u001b[0m\u001b[0m\n\u001b[1;32m     62\u001b[0m         \u001b[0;32mtry\u001b[0m\u001b[0;34m:\u001b[0m\u001b[0;34m\u001b[0m\u001b[0m\n\u001b[0;32m---> 63\u001b[0;31m             \u001b[0;32mreturn\u001b[0m \u001b[0mf\u001b[0m\u001b[0;34m(\u001b[0m\u001b[0;34m*\u001b[0m\u001b[0ma\u001b[0m\u001b[0;34m,\u001b[0m \u001b[0;34m**\u001b[0m\u001b[0mkw\u001b[0m\u001b[0;34m)\u001b[0m\u001b[0;34m\u001b[0m\u001b[0m\n\u001b[0m\u001b[1;32m     64\u001b[0m         \u001b[0;32mexcept\u001b[0m \u001b[0mpy4j\u001b[0m\u001b[0;34m.\u001b[0m\u001b[0mprotocol\u001b[0m\u001b[0;34m.\u001b[0m\u001b[0mPy4JJavaError\u001b[0m \u001b[0;32mas\u001b[0m \u001b[0me\u001b[0m\u001b[0;34m:\u001b[0m\u001b[0;34m\u001b[0m\u001b[0m\n\u001b[1;32m     65\u001b[0m             \u001b[0ms\u001b[0m \u001b[0;34m=\u001b[0m \u001b[0me\u001b[0m\u001b[0;34m.\u001b[0m\u001b[0mjava_exception\u001b[0m\u001b[0;34m.\u001b[0m\u001b[0mtoString\u001b[0m\u001b[0;34m(\u001b[0m\u001b[0;34m)\u001b[0m\u001b[0;34m\u001b[0m\u001b[0m\n",
      "\u001b[0;32m~/anaconda3/envs/pyspark_/lib/python3.5/site-packages/py4j/protocol.py\u001b[0m in \u001b[0;36mget_return_value\u001b[0;34m(answer, gateway_client, target_id, name)\u001b[0m\n\u001b[1;32m    318\u001b[0m                 raise Py4JJavaError(\n\u001b[1;32m    319\u001b[0m                     \u001b[0;34m\"An error occurred while calling {0}{1}{2}.\\n\"\u001b[0m\u001b[0;34m.\u001b[0m\u001b[0;34m\u001b[0m\u001b[0m\n\u001b[0;32m--> 320\u001b[0;31m                     format(target_id, \".\", name), value)\n\u001b[0m\u001b[1;32m    321\u001b[0m             \u001b[0;32melse\u001b[0m\u001b[0;34m:\u001b[0m\u001b[0;34m\u001b[0m\u001b[0m\n\u001b[1;32m    322\u001b[0m                 raise Py4JError(\n",
      "\u001b[0;31mPy4JJavaError\u001b[0m: An error occurred while calling z:org.apache.spark.api.python.PythonRDD.collectAndServe.\n: org.apache.spark.SparkException: Job aborted due to stage failure: Task 3 in stage 231.0 failed 1 times, most recent failure: Lost task 3.0 in stage 231.0 (TID 1664, localhost, executor driver): org.apache.spark.api.python.PythonException: Traceback (most recent call last):\n  File \"/Users/yennanliu/spark/python/lib/pyspark.zip/pyspark/worker.py\", line 229, in main\n    process()\n  File \"/Users/yennanliu/spark/python/lib/pyspark.zip/pyspark/worker.py\", line 224, in process\n    serializer.dump_stream(func(split_index, iterator), outfile)\n  File \"/Users/yennanliu/anaconda3/envs/pyspark_/lib/python3.5/site-packages/pyspark/rdd.py\", line 2438, in pipeline_func\n    return func(split, prev_func(split, iterator))\n  File \"/Users/yennanliu/anaconda3/envs/pyspark_/lib/python3.5/site-packages/pyspark/rdd.py\", line 2438, in pipeline_func\n    return func(split, prev_func(split, iterator))\n  File \"/Users/yennanliu/anaconda3/envs/pyspark_/lib/python3.5/site-packages/pyspark/rdd.py\", line 362, in func\n    return f(iterator)\n  File \"/Users/yennanliu/anaconda3/envs/pyspark_/lib/python3.5/site-packages/pyspark/rdd.py\", line 1857, in combineLocally\n    merger.mergeValues(iterator)\n  File \"/Users/yennanliu/spark/python/lib/pyspark.zip/pyspark/shuffle.py\", line 236, in mergeValues\n    for k, v in iterator:\n  File \"<ipython-input-211-2a3f9ede4229>\", line 6, in <lambda>\n  File \"/Users/yennanliu/anaconda3/envs/pyspark_/lib/python3.5/_strptime.py\", line 510, in _strptime_datetime\n    tt, fraction = _strptime(data_string, format)\n  File \"/Users/yennanliu/anaconda3/envs/pyspark_/lib/python3.5/_strptime.py\", line 343, in _strptime\n    (data_string, format))\nValueError: time data '4/23/2014 19:04:00' does not match format '%d/%m/%Y %H:%M:%S'\n\n\tat org.apache.spark.api.python.BasePythonRunner$ReaderIterator.handlePythonException(PythonRunner.scala:298)\n\tat org.apache.spark.api.python.PythonRunner$$anon$1.read(PythonRunner.scala:438)\n\tat org.apache.spark.api.python.PythonRunner$$anon$1.read(PythonRunner.scala:421)\n\tat org.apache.spark.api.python.BasePythonRunner$ReaderIterator.hasNext(PythonRunner.scala:252)\n\tat org.apache.spark.InterruptibleIterator.hasNext(InterruptibleIterator.scala:37)\n\tat scala.collection.Iterator$GroupedIterator.fill(Iterator.scala:1126)\n\tat scala.collection.Iterator$GroupedIterator.hasNext(Iterator.scala:1132)\n\tat scala.collection.Iterator$$anon$11.hasNext(Iterator.scala:408)\n\tat org.apache.spark.shuffle.sort.BypassMergeSortShuffleWriter.write(BypassMergeSortShuffleWriter.java:125)\n\tat org.apache.spark.scheduler.ShuffleMapTask.runTask(ShuffleMapTask.scala:96)\n\tat org.apache.spark.scheduler.ShuffleMapTask.runTask(ShuffleMapTask.scala:53)\n\tat org.apache.spark.scheduler.Task.run(Task.scala:109)\n\tat org.apache.spark.executor.Executor$TaskRunner.run(Executor.scala:345)\n\tat java.util.concurrent.ThreadPoolExecutor.runWorker(ThreadPoolExecutor.java:1142)\n\tat java.util.concurrent.ThreadPoolExecutor$Worker.run(ThreadPoolExecutor.java:617)\n\tat java.lang.Thread.run(Thread.java:745)\n\nDriver stacktrace:\n\tat org.apache.spark.scheduler.DAGScheduler.org$apache$spark$scheduler$DAGScheduler$$failJobAndIndependentStages(DAGScheduler.scala:1599)\n\tat org.apache.spark.scheduler.DAGScheduler$$anonfun$abortStage$1.apply(DAGScheduler.scala:1587)\n\tat org.apache.spark.scheduler.DAGScheduler$$anonfun$abortStage$1.apply(DAGScheduler.scala:1586)\n\tat scala.collection.mutable.ResizableArray$class.foreach(ResizableArray.scala:59)\n\tat scala.collection.mutable.ArrayBuffer.foreach(ArrayBuffer.scala:48)\n\tat org.apache.spark.scheduler.DAGScheduler.abortStage(DAGScheduler.scala:1586)\n\tat org.apache.spark.scheduler.DAGScheduler$$anonfun$handleTaskSetFailed$1.apply(DAGScheduler.scala:831)\n\tat org.apache.spark.scheduler.DAGScheduler$$anonfun$handleTaskSetFailed$1.apply(DAGScheduler.scala:831)\n\tat scala.Option.foreach(Option.scala:257)\n\tat org.apache.spark.scheduler.DAGScheduler.handleTaskSetFailed(DAGScheduler.scala:831)\n\tat org.apache.spark.scheduler.DAGSchedulerEventProcessLoop.doOnReceive(DAGScheduler.scala:1820)\n\tat org.apache.spark.scheduler.DAGSchedulerEventProcessLoop.onReceive(DAGScheduler.scala:1769)\n\tat org.apache.spark.scheduler.DAGSchedulerEventProcessLoop.onReceive(DAGScheduler.scala:1758)\n\tat org.apache.spark.util.EventLoop$$anon$1.run(EventLoop.scala:48)\n\tat org.apache.spark.scheduler.DAGScheduler.runJob(DAGScheduler.scala:642)\n\tat org.apache.spark.SparkContext.runJob(SparkContext.scala:2027)\n\tat org.apache.spark.SparkContext.runJob(SparkContext.scala:2048)\n\tat org.apache.spark.SparkContext.runJob(SparkContext.scala:2067)\n\tat org.apache.spark.SparkContext.runJob(SparkContext.scala:2092)\n\tat org.apache.spark.rdd.RDD$$anonfun$collect$1.apply(RDD.scala:939)\n\tat org.apache.spark.rdd.RDDOperationScope$.withScope(RDDOperationScope.scala:151)\n\tat org.apache.spark.rdd.RDDOperationScope$.withScope(RDDOperationScope.scala:112)\n\tat org.apache.spark.rdd.RDD.withScope(RDD.scala:363)\n\tat org.apache.spark.rdd.RDD.collect(RDD.scala:938)\n\tat org.apache.spark.api.python.PythonRDD$.collectAndServe(PythonRDD.scala:153)\n\tat org.apache.spark.api.python.PythonRDD.collectAndServe(PythonRDD.scala)\n\tat sun.reflect.NativeMethodAccessorImpl.invoke0(Native Method)\n\tat sun.reflect.NativeMethodAccessorImpl.invoke(NativeMethodAccessorImpl.java:62)\n\tat sun.reflect.DelegatingMethodAccessorImpl.invoke(DelegatingMethodAccessorImpl.java:43)\n\tat java.lang.reflect.Method.invoke(Method.java:498)\n\tat py4j.reflection.MethodInvoker.invoke(MethodInvoker.java:244)\n\tat py4j.reflection.ReflectionEngine.invoke(ReflectionEngine.java:357)\n\tat py4j.Gateway.invoke(Gateway.java:282)\n\tat py4j.commands.AbstractCommand.invokeMethod(AbstractCommand.java:132)\n\tat py4j.commands.CallCommand.execute(CallCommand.java:79)\n\tat py4j.GatewayConnection.run(GatewayConnection.java:214)\n\tat java.lang.Thread.run(Thread.java:745)\nCaused by: org.apache.spark.api.python.PythonException: Traceback (most recent call last):\n  File \"/Users/yennanliu/spark/python/lib/pyspark.zip/pyspark/worker.py\", line 229, in main\n    process()\n  File \"/Users/yennanliu/spark/python/lib/pyspark.zip/pyspark/worker.py\", line 224, in process\n    serializer.dump_stream(func(split_index, iterator), outfile)\n  File \"/Users/yennanliu/anaconda3/envs/pyspark_/lib/python3.5/site-packages/pyspark/rdd.py\", line 2438, in pipeline_func\n    return func(split, prev_func(split, iterator))\n  File \"/Users/yennanliu/anaconda3/envs/pyspark_/lib/python3.5/site-packages/pyspark/rdd.py\", line 2438, in pipeline_func\n    return func(split, prev_func(split, iterator))\n  File \"/Users/yennanliu/anaconda3/envs/pyspark_/lib/python3.5/site-packages/pyspark/rdd.py\", line 362, in func\n    return f(iterator)\n  File \"/Users/yennanliu/anaconda3/envs/pyspark_/lib/python3.5/site-packages/pyspark/rdd.py\", line 1857, in combineLocally\n    merger.mergeValues(iterator)\n  File \"/Users/yennanliu/spark/python/lib/pyspark.zip/pyspark/shuffle.py\", line 236, in mergeValues\n    for k, v in iterator:\n  File \"<ipython-input-211-2a3f9ede4229>\", line 6, in <lambda>\n  File \"/Users/yennanliu/anaconda3/envs/pyspark_/lib/python3.5/_strptime.py\", line 510, in _strptime_datetime\n    tt, fraction = _strptime(data_string, format)\n  File \"/Users/yennanliu/anaconda3/envs/pyspark_/lib/python3.5/_strptime.py\", line 343, in _strptime\n    (data_string, format))\nValueError: time data '4/23/2014 19:04:00' does not match format '%d/%m/%Y %H:%M:%S'\n\n\tat org.apache.spark.api.python.BasePythonRunner$ReaderIterator.handlePythonException(PythonRunner.scala:298)\n\tat org.apache.spark.api.python.PythonRunner$$anon$1.read(PythonRunner.scala:438)\n\tat org.apache.spark.api.python.PythonRunner$$anon$1.read(PythonRunner.scala:421)\n\tat org.apache.spark.api.python.BasePythonRunner$ReaderIterator.hasNext(PythonRunner.scala:252)\n\tat org.apache.spark.InterruptibleIterator.hasNext(InterruptibleIterator.scala:37)\n\tat scala.collection.Iterator$GroupedIterator.fill(Iterator.scala:1126)\n\tat scala.collection.Iterator$GroupedIterator.hasNext(Iterator.scala:1132)\n\tat scala.collection.Iterator$$anon$11.hasNext(Iterator.scala:408)\n\tat org.apache.spark.shuffle.sort.BypassMergeSortShuffleWriter.write(BypassMergeSortShuffleWriter.java:125)\n\tat org.apache.spark.scheduler.ShuffleMapTask.runTask(ShuffleMapTask.scala:96)\n\tat org.apache.spark.scheduler.ShuffleMapTask.runTask(ShuffleMapTask.scala:53)\n\tat org.apache.spark.scheduler.Task.run(Task.scala:109)\n\tat org.apache.spark.executor.Executor$TaskRunner.run(Executor.scala:345)\n\tat java.util.concurrent.ThreadPoolExecutor.runWorker(ThreadPoolExecutor.java:1142)\n\tat java.util.concurrent.ThreadPoolExecutor$Worker.run(ThreadPoolExecutor.java:617)\n\t... 1 more\n"
     ]
    }
   ],
   "source": [
    "date_count = transformed_RDD\\\n",
    "            .map(lambda x : (x['Lon'], 1))\\\n",
    "            .reduceByKey(add)\\\n",
    "            .sortBy(lambda x : x[1], False)\\\n",
    "            .take(30)"
   ]
  },
  {
   "cell_type": "code",
   "execution_count": 200,
   "metadata": {},
   "outputs": [],
   "source": [
    "spark_RDD = df_2.rdd\n",
    "digested_RDD = spark_RDD.map(\n",
    "              lambda x: Row(\n",
    "              timestamp= datetime.strptime(x['Date/Time'], '%d/%m/%Y %H:%M:%S').strftime('%Y-%m-%d') ))\\\n",
    "              .take(30)"
   ]
  },
  {
   "cell_type": "code",
   "execution_count": 201,
   "metadata": {},
   "outputs": [
    {
     "data": {
      "text/plain": [
       "[Row(timestamp='2014-01-04'),\n",
       " Row(timestamp='2014-01-04'),\n",
       " Row(timestamp='2014-01-04'),\n",
       " Row(timestamp='2014-01-04'),\n",
       " Row(timestamp='2014-01-04'),\n",
       " Row(timestamp='2014-01-04'),\n",
       " Row(timestamp='2014-01-04'),\n",
       " Row(timestamp='2014-01-04'),\n",
       " Row(timestamp='2014-01-04'),\n",
       " Row(timestamp='2014-01-04'),\n",
       " Row(timestamp='2014-01-04'),\n",
       " Row(timestamp='2014-01-04'),\n",
       " Row(timestamp='2014-01-04'),\n",
       " Row(timestamp='2014-01-04'),\n",
       " Row(timestamp='2014-01-04'),\n",
       " Row(timestamp='2014-01-04'),\n",
       " Row(timestamp='2014-01-04'),\n",
       " Row(timestamp='2014-01-04'),\n",
       " Row(timestamp='2014-01-04'),\n",
       " Row(timestamp='2014-01-04'),\n",
       " Row(timestamp='2014-01-04'),\n",
       " Row(timestamp='2014-01-04'),\n",
       " Row(timestamp='2014-01-04'),\n",
       " Row(timestamp='2014-01-04'),\n",
       " Row(timestamp='2014-01-04'),\n",
       " Row(timestamp='2014-01-04'),\n",
       " Row(timestamp='2014-01-04'),\n",
       " Row(timestamp='2014-01-04'),\n",
       " Row(timestamp='2014-01-04'),\n",
       " Row(timestamp='2014-01-04')]"
      ]
     },
     "execution_count": 201,
     "metadata": {},
     "output_type": "execute_result"
    }
   ],
   "source": [
    "digested_RDD"
   ]
  },
  {
   "cell_type": "code",
   "execution_count": 167,
   "metadata": {},
   "outputs": [
    {
     "data": {
      "text/plain": [
       "[Row(Date/Time='4/1/2014 0:11:00'),\n",
       " Row(Date/Time='4/1/2014 0:17:00'),\n",
       " Row(Date/Time='4/1/2014 0:21:00')]"
      ]
     },
     "execution_count": 167,
     "metadata": {},
     "output_type": "execute_result"
    }
   ],
   "source": [
    "df_2.select('Date/Time').take(3)"
   ]
  },
  {
   "cell_type": "code",
   "execution_count": 126,
   "metadata": {},
   "outputs": [
    {
     "name": "stdout",
     "output_type": "stream",
     "text": [
      "+----------------+-------+--------+------+\n",
      "|       Date/Time|    Lat|     Lon|  Base|\n",
      "+----------------+-------+--------+------+\n",
      "|9/1/2014 0:01:00|40.2201|-74.0021|B02512|\n",
      "|9/1/2014 0:01:00|  40.75|-74.0027|B02512|\n",
      "|9/1/2014 0:03:00|40.7559|-73.9864|B02512|\n",
      "|9/1/2014 0:06:00| 40.745|-73.9889|B02512|\n",
      "|9/1/2014 0:11:00|40.8145|-73.9444|B02512|\n",
      "|9/1/2014 0:12:00|40.6735|-73.9918|B02512|\n",
      "|9/1/2014 0:15:00|40.7471|-73.6472|B02512|\n",
      "|9/1/2014 0:16:00|40.6613|-74.2691|B02512|\n",
      "|9/1/2014 0:32:00|40.3745|-73.9999|B02512|\n",
      "|9/1/2014 0:33:00|40.7633|-73.9773|B02512|\n",
      "|9/1/2014 0:33:00|40.7467|-73.6131|B02512|\n",
      "|9/1/2014 0:37:00|40.8105|  -73.96|B02512|\n",
      "|9/1/2014 0:38:00| 40.679|-74.0111|B02512|\n",
      "|9/1/2014 0:39:00|40.4023|-73.9839|B02512|\n",
      "|9/1/2014 0:48:00|40.7378|-74.0395|B02512|\n",
      "|9/1/2014 0:48:00|40.7214|-73.9884|B02512|\n",
      "|9/1/2014 0:49:00|40.8646|-73.9081|B02512|\n",
      "|9/1/2014 1:08:00|40.7398|-74.0061|B02512|\n",
      "|9/1/2014 1:17:00|40.6793|-74.0116|B02512|\n",
      "|9/1/2014 1:19:00|40.7328|-73.9875|B02512|\n",
      "+----------------+-------+--------+------+\n",
      "only showing top 20 rows\n",
      "\n"
     ]
    }
   ],
   "source": [
    "df_.show()"
   ]
  },
  {
   "cell_type": "code",
   "execution_count": 144,
   "metadata": {},
   "outputs": [
    {
     "data": {
      "text/plain": [
       "'9/1/2014'"
      ]
     },
     "execution_count": 144,
     "metadata": {},
     "output_type": "execute_result"
    }
   ],
   "source": [
    "mytime= '9/1/2014 0:01:00'\n",
    "mytime.split(' ')[0]"
   ]
  },
  {
   "cell_type": "code",
   "execution_count": 154,
   "metadata": {},
   "outputs": [
    {
     "data": {
      "text/plain": [
       "'2014-01-09'"
      ]
     },
     "execution_count": 154,
     "metadata": {},
     "output_type": "execute_result"
    }
   ],
   "source": [
    "from datetime import datetime\n",
    "datetime.strptime(mytime.split(' ')[0], '%d/%m/%Y').strftime('%Y-%m-%d')"
   ]
  },
  {
   "cell_type": "code",
   "execution_count": 146,
   "metadata": {},
   "outputs": [
    {
     "ename": "AttributeError",
     "evalue": "'str' object has no attribute 'strftime'",
     "output_type": "error",
     "traceback": [
      "\u001b[0;31m---------------------------------------------------------------------------\u001b[0m",
      "\u001b[0;31mAttributeError\u001b[0m                            Traceback (most recent call last)",
      "\u001b[0;32m<ipython-input-146-38e73f11f6db>\u001b[0m in \u001b[0;36m<module>\u001b[0;34m()\u001b[0m\n\u001b[0;32m----> 1\u001b[0;31m \u001b[0mmytime\u001b[0m\u001b[0;34m.\u001b[0m\u001b[0msplit\u001b[0m\u001b[0;34m(\u001b[0m\u001b[0;34m' '\u001b[0m\u001b[0;34m)\u001b[0m\u001b[0;34m[\u001b[0m\u001b[0;36m0\u001b[0m\u001b[0;34m]\u001b[0m\u001b[0;34m.\u001b[0m\u001b[0mstrftime\u001b[0m\u001b[0;34m(\u001b[0m\u001b[0;34m'%Y-%m-%d'\u001b[0m\u001b[0;34m)\u001b[0m\u001b[0;34m\u001b[0m\u001b[0m\n\u001b[0m",
      "\u001b[0;31mAttributeError\u001b[0m: 'str' object has no attribute 'strftime'"
     ]
    }
   ],
   "source": [
    "mytime.split(' ')[0].strftime('%Y-%m-%d')"
   ]
  },
  {
   "cell_type": "code",
   "execution_count": 145,
   "metadata": {},
   "outputs": [
    {
     "data": {
      "text/plain": [
       "str"
      ]
     },
     "execution_count": 145,
     "metadata": {},
     "output_type": "execute_result"
    }
   ],
   "source": [
    "type(mytime.split(' ')[0])"
   ]
  },
  {
   "cell_type": "code",
   "execution_count": null,
   "metadata": {},
   "outputs": [],
   "source": []
  },
  {
   "cell_type": "code",
   "execution_count": 224,
   "metadata": {},
   "outputs": [
    {
     "name": "stdout",
     "output_type": "stream",
     "text": [
      "+----------------+-------+--------+------+\n",
      "|       Date/Time|    Lat|     Lon|  Base|\n",
      "+----------------+-------+--------+------+\n",
      "|4/1/2014 0:11:00| 40.769|-73.9549|B02512|\n",
      "|4/1/2014 0:17:00|40.7267|-74.0345|B02512|\n",
      "|4/1/2014 0:21:00|40.7316|-73.9873|B02512|\n",
      "+----------------+-------+--------+------+\n",
      "only showing top 3 rows\n",
      "\n"
     ]
    }
   ],
   "source": [
    "df_2.show(3)"
   ]
  },
  {
   "cell_type": "code",
   "execution_count": 264,
   "metadata": {},
   "outputs": [],
   "source": [
    "spark_RDD = df_2.rdd\n",
    "transformed_RDD = spark_RDD.map(\n",
    "                lambda x: Row(\n",
    "                Lat=x['Lat'],\n",
    "                Lon= x['Lon'],\n",
    "                Base=x['Base'],\n",
    "                timestamp= datetime.strptime(x['Date/Time'], '%m/%d/%Y %H:%M:%S').strftime('%Y-%m-%d') ))\\\n",
    "                .collect()\n",
    "                "
   ]
  },
  {
   "cell_type": "code",
   "execution_count": 268,
   "metadata": {},
   "outputs": [
    {
     "data": {
      "text/plain": [
       "564516"
      ]
     },
     "execution_count": 268,
     "metadata": {},
     "output_type": "execute_result"
    }
   ],
   "source": [
    "len(transformed_RDD)"
   ]
  },
  {
   "cell_type": "code",
   "execution_count": 269,
   "metadata": {},
   "outputs": [
    {
     "data": {
      "text/plain": [
       "[Row(Base='B02512', Lat='40.769', Lon='-73.9549', timestamp='2014-04-01'),\n",
       " Row(Base='B02512', Lat='40.7267', Lon='-74.0345', timestamp='2014-04-01'),\n",
       " Row(Base='B02512', Lat='40.7316', Lon='-73.9873', timestamp='2014-04-01'),\n",
       " Row(Base='B02512', Lat='40.7588', Lon='-73.9776', timestamp='2014-04-01'),\n",
       " Row(Base='B02512', Lat='40.7594', Lon='-73.9722', timestamp='2014-04-01'),\n",
       " Row(Base='B02512', Lat='40.7383', Lon='-74.0403', timestamp='2014-04-01'),\n",
       " Row(Base='B02512', Lat='40.7223', Lon='-73.9887', timestamp='2014-04-01'),\n",
       " Row(Base='B02512', Lat='40.762', Lon='-73.979', timestamp='2014-04-01'),\n",
       " Row(Base='B02512', Lat='40.7524', Lon='-73.996', timestamp='2014-04-01'),\n",
       " Row(Base='B02512', Lat='40.7575', Lon='-73.9846', timestamp='2014-04-01'),\n",
       " Row(Base='B02512', Lat='40.7256', Lon='-73.9869', timestamp='2014-04-01'),\n",
       " Row(Base='B02512', Lat='40.7591', Lon='-73.9684', timestamp='2014-04-01'),\n",
       " Row(Base='B02512', Lat='40.7271', Lon='-73.9803', timestamp='2014-04-01'),\n",
       " Row(Base='B02512', Lat='40.6463', Lon='-73.7896', timestamp='2014-04-01'),\n",
       " Row(Base='B02512', Lat='40.7564', Lon='-73.9167', timestamp='2014-04-01'),\n",
       " Row(Base='B02512', Lat='40.7666', Lon='-73.9531', timestamp='2014-04-01'),\n",
       " Row(Base='B02512', Lat='40.758', Lon='-73.9761', timestamp='2014-04-01'),\n",
       " Row(Base='B02512', Lat='40.7238', Lon='-73.9821', timestamp='2014-04-01'),\n",
       " Row(Base='B02512', Lat='40.7531', Lon='-74.0039', timestamp='2014-04-01'),\n",
       " Row(Base='B02512', Lat='40.7389', Lon='-74.0393', timestamp='2014-04-01'),\n",
       " Row(Base='B02512', Lat='40.7619', Lon='-73.9715', timestamp='2014-04-01'),\n",
       " Row(Base='B02512', Lat='40.753', Lon='-74.0042', timestamp='2014-04-01'),\n",
       " Row(Base='B02512', Lat='40.6561', Lon='-73.9531', timestamp='2014-04-01'),\n",
       " Row(Base='B02512', Lat='40.725', Lon='-73.9844', timestamp='2014-04-01'),\n",
       " Row(Base='B02512', Lat='40.695', Lon='-74.1783', timestamp='2014-04-01'),\n",
       " Row(Base='B02512', Lat='40.9859', Lon='-74.1578', timestamp='2014-04-01'),\n",
       " Row(Base='B02512', Lat='40.6879', Lon='-74.1814', timestamp='2014-04-01'),\n",
       " Row(Base='B02512', Lat='40.6878', Lon='-74.1816', timestamp='2014-04-01'),\n",
       " Row(Base='B02512', Lat='40.7234', Lon='-73.9974', timestamp='2014-04-01'),\n",
       " Row(Base='B02512', Lat='40.7336', Lon='-73.99', timestamp='2014-04-01'),\n",
       " Row(Base='B02512', Lat='40.7141', Lon='-74.0094', timestamp='2014-04-01'),\n",
       " Row(Base='B02512', Lat='40.7893', Lon='-73.9709', timestamp='2014-04-01'),\n",
       " Row(Base='B02512', Lat='40.7747', Lon='-73.991', timestamp='2014-04-01'),\n",
       " Row(Base='B02512', Lat='40.7689', Lon='-73.9876', timestamp='2014-04-01'),\n",
       " Row(Base='B02512', Lat='40.7744', Lon='-74.0149', timestamp='2014-04-01'),\n",
       " Row(Base='B02512', Lat='40.7393', Lon='-73.9974', timestamp='2014-04-01'),\n",
       " Row(Base='B02512', Lat='40.7776', Lon='-73.9752', timestamp='2014-04-01'),\n",
       " Row(Base='B02512', Lat='40.6483', Lon='-73.7829', timestamp='2014-04-01'),\n",
       " Row(Base='B02512', Lat='40.6907', Lon='-74.1782', timestamp='2014-04-01'),\n",
       " Row(Base='B02512', Lat='40.7217', Lon='-73.9875', timestamp='2014-04-01'),\n",
       " Row(Base='B02512', Lat='40.7651', Lon='-73.9632', timestamp='2014-04-01'),\n",
       " Row(Base='B02512', Lat='40.7437', Lon='-73.9985', timestamp='2014-04-01'),\n",
       " Row(Base='B02512', Lat='40.7605', Lon='-73.978', timestamp='2014-04-01'),\n",
       " Row(Base='B02512', Lat='40.743', Lon='-74.0301', timestamp='2014-04-01'),\n",
       " Row(Base='B02512', Lat='40.743', Lon='-74.0301', timestamp='2014-04-01'),\n",
       " Row(Base='B02512', Lat='40.7423', Lon='-74.0371', timestamp='2014-04-01'),\n",
       " Row(Base='B02512', Lat='40.7236', Lon='-74.0037', timestamp='2014-04-01'),\n",
       " Row(Base='B02512', Lat='40.7723', Lon='-73.9527', timestamp='2014-04-01'),\n",
       " Row(Base='B02512', Lat='40.7574', Lon='-73.9862', timestamp='2014-04-01'),\n",
       " Row(Base='B02512', Lat='40.7838', Lon='-73.9504', timestamp='2014-04-01'),\n",
       " Row(Base='B02512', Lat='40.7711', Lon='-73.9871', timestamp='2014-04-01'),\n",
       " Row(Base='B02512', Lat='40.7571', Lon='-73.9726', timestamp='2014-04-01'),\n",
       " Row(Base='B02512', Lat='40.7442', Lon='-73.9854', timestamp='2014-04-01'),\n",
       " Row(Base='B02512', Lat='40.7166', Lon='-74.0144', timestamp='2014-04-01'),\n",
       " Row(Base='B02512', Lat='40.7507', Lon='-73.9703', timestamp='2014-04-01'),\n",
       " Row(Base='B02512', Lat='40.7337', Lon='-73.9979', timestamp='2014-04-01'),\n",
       " Row(Base='B02512', Lat='40.7236', Lon='-74.0111', timestamp='2014-04-01'),\n",
       " Row(Base='B02512', Lat='40.7151', Lon='-74.0464', timestamp='2014-04-01'),\n",
       " Row(Base='B02512', Lat='40.7701', Lon='-73.9588', timestamp='2014-04-01'),\n",
       " Row(Base='B02512', Lat='40.86', Lon='-73.9142', timestamp='2014-04-01'),\n",
       " Row(Base='B02512', Lat='40.7555', Lon='-73.9729', timestamp='2014-04-01'),\n",
       " Row(Base='B02512', Lat='40.7249', Lon='-74.0355', timestamp='2014-04-01'),\n",
       " Row(Base='B02512', Lat='40.6193', Lon='-74.157', timestamp='2014-04-01'),\n",
       " Row(Base='B02512', Lat='40.7753', Lon='-73.978', timestamp='2014-04-01'),\n",
       " Row(Base='B02512', Lat='40.7204', Lon='-73.9545', timestamp='2014-04-01'),\n",
       " Row(Base='B02512', Lat='40.7772', Lon='-73.9595', timestamp='2014-04-01'),\n",
       " Row(Base='B02512', Lat='40.7651', Lon='-74.082', timestamp='2014-04-01'),\n",
       " Row(Base='B02512', Lat='40.74', Lon='-73.9879', timestamp='2014-04-01'),\n",
       " Row(Base='B02512', Lat='40.7741', Lon='-73.9568', timestamp='2014-04-01'),\n",
       " Row(Base='B02512', Lat='40.7599', Lon='-73.9944', timestamp='2014-04-01'),\n",
       " Row(Base='B02512', Lat='40.7531', Lon='-74.0039', timestamp='2014-04-01'),\n",
       " Row(Base='B02512', Lat='40.7791', Lon='-73.9623', timestamp='2014-04-01'),\n",
       " Row(Base='B02512', Lat='40.7382', Lon='-74.0033', timestamp='2014-04-01'),\n",
       " Row(Base='B02512', Lat='40.7391', Lon='-73.9989', timestamp='2014-04-01'),\n",
       " Row(Base='B02512', Lat='40.7806', Lon='-73.982', timestamp='2014-04-01'),\n",
       " Row(Base='B02512', Lat='40.7322', Lon='-73.9863', timestamp='2014-04-01'),\n",
       " Row(Base='B02512', Lat='40.7703', Lon='-73.966', timestamp='2014-04-01'),\n",
       " Row(Base='B02512', Lat='40.7221', Lon='-74.0018', timestamp='2014-04-01'),\n",
       " Row(Base='B02512', Lat='40.7588', Lon='-73.9895', timestamp='2014-04-01'),\n",
       " Row(Base='B02512', Lat='40.7677', Lon='-73.9656', timestamp='2014-04-01'),\n",
       " Row(Base='B02512', Lat='40.7404', Lon='-74.0076', timestamp='2014-04-01'),\n",
       " Row(Base='B02512', Lat='40.7679', Lon='-73.9599', timestamp='2014-04-01'),\n",
       " Row(Base='B02512', Lat='40.7694', Lon='-73.9852', timestamp='2014-04-01'),\n",
       " Row(Base='B02512', Lat='40.7858', Lon='-73.9546', timestamp='2014-04-01'),\n",
       " Row(Base='B02512', Lat='40.7742', Lon='-73.9491', timestamp='2014-04-01'),\n",
       " Row(Base='B02512', Lat='40.7703', Lon='-73.95', timestamp='2014-04-01'),\n",
       " Row(Base='B02512', Lat='40.7614', Lon='-73.9997', timestamp='2014-04-01'),\n",
       " Row(Base='B02512', Lat='40.793', Lon='-73.9749', timestamp='2014-04-01'),\n",
       " Row(Base='B02512', Lat='40.7231', Lon='-73.9442', timestamp='2014-04-01'),\n",
       " Row(Base='B02512', Lat='40.7874', Lon='-73.9545', timestamp='2014-04-01'),\n",
       " Row(Base='B02512', Lat='40.7689', Lon='-73.9812', timestamp='2014-04-01'),\n",
       " Row(Base='B02512', Lat='40.7789', Lon='-73.9557', timestamp='2014-04-01'),\n",
       " Row(Base='B02512', Lat='40.7271', Lon='-74.0054', timestamp='2014-04-01'),\n",
       " Row(Base='B02512', Lat='40.7877', Lon='-73.973', timestamp='2014-04-01'),\n",
       " Row(Base='B02512', Lat='40.7255', Lon='-74.0092', timestamp='2014-04-01'),\n",
       " Row(Base='B02512', Lat='40.7653', Lon='-73.9723', timestamp='2014-04-01'),\n",
       " Row(Base='B02512', Lat='40.7644', Lon='-73.9769', timestamp='2014-04-01'),\n",
       " Row(Base='B02512', Lat='40.7726', Lon='-73.9532', timestamp='2014-04-01'),\n",
       " Row(Base='B02512', Lat='40.7898', Lon='-73.9661', timestamp='2014-04-01'),\n",
       " Row(Base='B02512', Lat='40.7839', Lon='-73.9703', timestamp='2014-04-01'),\n",
       " Row(Base='B02512', Lat='40.7236', Lon='-74.0016', timestamp='2014-04-01'),\n",
       " Row(Base='B02512', Lat='40.699', Lon='-73.9951', timestamp='2014-04-01'),\n",
       " Row(Base='B02512', Lat='40.7581', Lon='-73.9219', timestamp='2014-04-01'),\n",
       " Row(Base='B02512', Lat='40.768', Lon='-73.9191', timestamp='2014-04-01'),\n",
       " Row(Base='B02512', Lat='40.7677', Lon='-73.9897', timestamp='2014-04-01'),\n",
       " Row(Base='B02512', Lat='40.771', Lon='-73.866', timestamp='2014-04-01'),\n",
       " Row(Base='B02512', Lat='40.7808', Lon='-73.9487', timestamp='2014-04-01'),\n",
       " Row(Base='B02512', Lat='40.7147', Lon='-74.0362', timestamp='2014-04-01'),\n",
       " Row(Base='B02512', Lat='40.7732', Lon='-73.9504', timestamp='2014-04-01'),\n",
       " Row(Base='B02512', Lat='40.7335', Lon='-74.0043', timestamp='2014-04-01'),\n",
       " Row(Base='B02512', Lat='40.7754', Lon='-73.9782', timestamp='2014-04-01'),\n",
       " Row(Base='B02512', Lat='40.7752', Lon='-73.9455', timestamp='2014-04-01'),\n",
       " Row(Base='B02512', Lat='40.7243', Lon='-74.0021', timestamp='2014-04-01'),\n",
       " Row(Base='B02512', Lat='40.7786', Lon='-73.9512', timestamp='2014-04-01'),\n",
       " Row(Base='B02512', Lat='40.7877', Lon='-73.9788', timestamp='2014-04-01'),\n",
       " Row(Base='B02512', Lat='40.8674', Lon='-73.8822', timestamp='2014-04-01'),\n",
       " Row(Base='B02512', Lat='40.7678', Lon='-73.9704', timestamp='2014-04-01'),\n",
       " Row(Base='B02512', Lat='40.7749', Lon='-73.9587', timestamp='2014-04-01'),\n",
       " Row(Base='B02512', Lat='40.7209', Lon='-73.9813', timestamp='2014-04-01'),\n",
       " Row(Base='B02512', Lat='40.756', Lon='-73.9752', timestamp='2014-04-01'),\n",
       " Row(Base='B02512', Lat='40.7923', Lon='-73.9676', timestamp='2014-04-01'),\n",
       " Row(Base='B02512', Lat='40.739', Lon='-73.9991', timestamp='2014-04-01'),\n",
       " Row(Base='B02512', Lat='40.7273', Lon='-73.9797', timestamp='2014-04-01'),\n",
       " Row(Base='B02512', Lat='40.7751', Lon='-73.9475', timestamp='2014-04-01'),\n",
       " Row(Base='B02512', Lat='40.7406', Lon='-73.9983', timestamp='2014-04-01'),\n",
       " Row(Base='B02512', Lat='40.8364', Lon='-74.1461', timestamp='2014-04-01'),\n",
       " Row(Base='B02512', Lat='40.7452', Lon='-73.991', timestamp='2014-04-01'),\n",
       " Row(Base='B02512', Lat='40.7805', Lon='-73.9481', timestamp='2014-04-01'),\n",
       " Row(Base='B02512', Lat='40.7805', Lon='-73.9481', timestamp='2014-04-01'),\n",
       " Row(Base='B02512', Lat='40.7814', Lon='-73.9513', timestamp='2014-04-01'),\n",
       " Row(Base='B02512', Lat='40.7864', Lon='-73.9699', timestamp='2014-04-01'),\n",
       " Row(Base='B02512', Lat='40.783', Lon='-73.9559', timestamp='2014-04-01'),\n",
       " Row(Base='B02512', Lat='40.7582', Lon='-73.9928', timestamp='2014-04-01'),\n",
       " Row(Base='B02512', Lat='40.7216', Lon='-74.0046', timestamp='2014-04-01'),\n",
       " Row(Base='B02512', Lat='40.7298', Lon='-73.9988', timestamp='2014-04-01'),\n",
       " Row(Base='B02512', Lat='40.7746', Lon='-73.956', timestamp='2014-04-01'),\n",
       " Row(Base='B02512', Lat='40.7208', Lon='-73.994', timestamp='2014-04-01'),\n",
       " Row(Base='B02512', Lat='40.7669', Lon='-73.9617', timestamp='2014-04-01'),\n",
       " Row(Base='B02512', Lat='40.7084', Lon='-74.0064', timestamp='2014-04-01'),\n",
       " Row(Base='B02512', Lat='40.7425', Lon='-73.9942', timestamp='2014-04-01'),\n",
       " Row(Base='B02512', Lat='40.7424', Lon='-73.9838', timestamp='2014-04-01'),\n",
       " Row(Base='B02512', Lat='40.7724', Lon='-73.955', timestamp='2014-04-01'),\n",
       " Row(Base='B02512', Lat='40.7787', Lon='-73.9559', timestamp='2014-04-01'),\n",
       " Row(Base='B02512', Lat='40.7752', Lon='-73.9637', timestamp='2014-04-01'),\n",
       " Row(Base='B02512', Lat='40.7754', Lon='-73.95', timestamp='2014-04-01'),\n",
       " Row(Base='B02512', Lat='40.7368', Lon='-74.0044', timestamp='2014-04-01'),\n",
       " Row(Base='B02512', Lat='40.7174', Lon='-73.9924', timestamp='2014-04-01'),\n",
       " Row(Base='B02512', Lat='40.7305', Lon='-73.9934', timestamp='2014-04-01'),\n",
       " Row(Base='B02512', Lat='40.7747', Lon='-73.9613', timestamp='2014-04-01'),\n",
       " Row(Base='B02512', Lat='40.7229', Lon='-73.994', timestamp='2014-04-01'),\n",
       " Row(Base='B02512', Lat='40.7396', Lon='-73.981', timestamp='2014-04-01'),\n",
       " Row(Base='B02512', Lat='40.725', Lon='-73.9994', timestamp='2014-04-01'),\n",
       " Row(Base='B02512', Lat='40.695', Lon='-74.1774', timestamp='2014-04-01'),\n",
       " Row(Base='B02512', Lat='40.719', Lon='-74.0064', timestamp='2014-04-01'),\n",
       " Row(Base='B02512', Lat='40.8271', Lon='-73.9726', timestamp='2014-04-01'),\n",
       " Row(Base='B02512', Lat='40.7793', Lon='-73.9495', timestamp='2014-04-01'),\n",
       " Row(Base='B02512', Lat='40.7266', Lon='-73.9801', timestamp='2014-04-01'),\n",
       " Row(Base='B02512', Lat='40.6922', Lon='-74.1811', timestamp='2014-04-01'),\n",
       " Row(Base='B02512', Lat='40.7418', Lon='-74.0074', timestamp='2014-04-01'),\n",
       " Row(Base='B02512', Lat='40.7108', Lon='-73.9845', timestamp='2014-04-01'),\n",
       " Row(Base='B02512', Lat='40.7857', Lon='-73.9802', timestamp='2014-04-01'),\n",
       " Row(Base='B02512', Lat='40.7757', Lon='-73.9502', timestamp='2014-04-01'),\n",
       " Row(Base='B02512', Lat='40.7514', Lon='-73.9699', timestamp='2014-04-01'),\n",
       " Row(Base='B02512', Lat='40.7343', Lon='-73.9936', timestamp='2014-04-01'),\n",
       " Row(Base='B02512', Lat='40.734', Lon='-74.0094', timestamp='2014-04-01'),\n",
       " Row(Base='B02512', Lat='40.718', Lon='-74.0099', timestamp='2014-04-01'),\n",
       " Row(Base='B02512', Lat='40.7287', Lon='-73.9805', timestamp='2014-04-01'),\n",
       " Row(Base='B02512', Lat='40.758', Lon='-73.9707', timestamp='2014-04-01'),\n",
       " Row(Base='B02512', Lat='40.692', Lon='-74.1813', timestamp='2014-04-01'),\n",
       " Row(Base='B02512', Lat='40.778', Lon='-73.9487', timestamp='2014-04-01'),\n",
       " Row(Base='B02512', Lat='40.7658', Lon='-73.9692', timestamp='2014-04-01'),\n",
       " Row(Base='B02512', Lat='40.7222', Lon='-74.0104', timestamp='2014-04-01'),\n",
       " Row(Base='B02512', Lat='40.7329', Lon='-73.9881', timestamp='2014-04-01'),\n",
       " Row(Base='B02512', Lat='40.7659', Lon='-73.9766', timestamp='2014-04-01'),\n",
       " Row(Base='B02512', Lat='40.7789', Lon='-73.9618', timestamp='2014-04-01'),\n",
       " Row(Base='B02512', Lat='40.789', Lon='-73.9743', timestamp='2014-04-01'),\n",
       " Row(Base='B02512', Lat='40.7617', Lon='-73.9843', timestamp='2014-04-01'),\n",
       " Row(Base='B02512', Lat='40.7214', Lon='-73.9475', timestamp='2014-04-01'),\n",
       " Row(Base='B02512', Lat='40.7595', Lon='-73.9913', timestamp='2014-04-01'),\n",
       " Row(Base='B02512', Lat='40.7931', Lon='-73.9748', timestamp='2014-04-01'),\n",
       " Row(Base='B02512', Lat='40.7371', Lon='-74.0004', timestamp='2014-04-01'),\n",
       " Row(Base='B02512', Lat='40.7345', Lon='-73.996', timestamp='2014-04-01'),\n",
       " Row(Base='B02512', Lat='40.7747', Lon='-73.9912', timestamp='2014-04-01'),\n",
       " Row(Base='B02512', Lat='40.8822', Lon='-73.9211', timestamp='2014-04-01'),\n",
       " Row(Base='B02512', Lat='40.762', Lon='-73.9787', timestamp='2014-04-01'),\n",
       " Row(Base='B02512', Lat='40.762', Lon='-73.9787', timestamp='2014-04-01'),\n",
       " Row(Base='B02512', Lat='40.7326', Lon='-74.0038', timestamp='2014-04-01'),\n",
       " Row(Base='B02512', Lat='40.7555', Lon='-73.9737', timestamp='2014-04-01'),\n",
       " Row(Base='B02512', Lat='40.7596', Lon='-73.9854', timestamp='2014-04-01'),\n",
       " Row(Base='B02512', Lat='40.6904', Lon='-74.1778', timestamp='2014-04-01'),\n",
       " Row(Base='B02512', Lat='40.6904', Lon='-74.1778', timestamp='2014-04-01'),\n",
       " Row(Base='B02512', Lat='40.7408', Lon='-73.9914', timestamp='2014-04-01'),\n",
       " Row(Base='B02512', Lat='40.6819', Lon='-73.9358', timestamp='2014-04-01'),\n",
       " Row(Base='B02512', Lat='40.7624', Lon='-73.9714', timestamp='2014-04-01'),\n",
       " Row(Base='B02512', Lat='40.7805', Lon='-73.9548', timestamp='2014-04-01'),\n",
       " Row(Base='B02512', Lat='40.7889', Lon='-73.9542', timestamp='2014-04-01'),\n",
       " Row(Base='B02512', Lat='40.7835', Lon='-73.9513', timestamp='2014-04-01'),\n",
       " Row(Base='B02512', Lat='40.7651', Lon='-73.9617', timestamp='2014-04-01'),\n",
       " Row(Base='B02512', Lat='40.7261', Lon='-73.9918', timestamp='2014-04-01'),\n",
       " Row(Base='B02512', Lat='40.7303', Lon='-73.9937', timestamp='2014-04-01'),\n",
       " Row(Base='B02512', Lat='40.8736', Lon='-74.0628', timestamp='2014-04-01'),\n",
       " Row(Base='B02512', Lat='40.724', Lon='-73.9981', timestamp='2014-04-01'),\n",
       " Row(Base='B02512', Lat='40.7744', Lon='-73.9578', timestamp='2014-04-01'),\n",
       " Row(Base='B02512', Lat='40.7607', Lon='-73.9861', timestamp='2014-04-01'),\n",
       " Row(Base='B02512', Lat='40.7749', Lon='-73.9841', timestamp='2014-04-01'),\n",
       " Row(Base='B02512', Lat='40.7625', Lon='-73.9724', timestamp='2014-04-01'),\n",
       " Row(Base='B02512', Lat='40.7377', Lon='-73.9965', timestamp='2014-04-01'),\n",
       " Row(Base='B02512', Lat='40.7388', Lon='-74.0087', timestamp='2014-04-01'),\n",
       " Row(Base='B02512', Lat='40.7677', Lon='-73.981', timestamp='2014-04-01'),\n",
       " Row(Base='B02512', Lat='40.7691', Lon='-73.9652', timestamp='2014-04-01'),\n",
       " Row(Base='B02512', Lat='40.7816', Lon='-73.9602', timestamp='2014-04-01'),\n",
       " Row(Base='B02512', Lat='40.7739', Lon='-73.8717', timestamp='2014-04-01'),\n",
       " Row(Base='B02512', Lat='40.7841', Lon='-73.9542', timestamp='2014-04-01'),\n",
       " Row(Base='B02512', Lat='40.7426', Lon='-73.9963', timestamp='2014-04-01'),\n",
       " Row(Base='B02512', Lat='40.771', Lon='-73.8669', timestamp='2014-04-01'),\n",
       " Row(Base='B02512', Lat='40.775', Lon='-73.9888', timestamp='2014-04-01'),\n",
       " Row(Base='B02512', Lat='40.7356', Lon='-74.0029', timestamp='2014-04-01'),\n",
       " Row(Base='B02512', Lat='40.7666', Lon='-73.9784', timestamp='2014-04-01'),\n",
       " Row(Base='B02512', Lat='40.7118', Lon='-73.9499', timestamp='2014-04-01'),\n",
       " Row(Base='B02512', Lat='40.7097', Lon='-74.0153', timestamp='2014-04-01'),\n",
       " Row(Base='B02512', Lat='40.7438', Lon='-74.0061', timestamp='2014-04-01'),\n",
       " Row(Base='B02512', Lat='40.76', Lon='-73.9861', timestamp='2014-04-01'),\n",
       " Row(Base='B02512', Lat='40.7752', Lon='-73.9635', timestamp='2014-04-01'),\n",
       " Row(Base='B02512', Lat='40.7788', Lon='-73.956', timestamp='2014-04-01'),\n",
       " Row(Base='B02512', Lat='40.8078', Lon='-73.9639', timestamp='2014-04-01'),\n",
       " Row(Base='B02512', Lat='40.7631', Lon='-73.9784', timestamp='2014-04-01'),\n",
       " Row(Base='B02512', Lat='40.7788', Lon='-73.951', timestamp='2014-04-01'),\n",
       " Row(Base='B02512', Lat='40.7714', Lon='-73.9594', timestamp='2014-04-01'),\n",
       " Row(Base='B02512', Lat='40.7694', Lon='-73.983', timestamp='2014-04-01'),\n",
       " Row(Base='B02512', Lat='40.733', Lon='-73.9901', timestamp='2014-04-01'),\n",
       " Row(Base='B02512', Lat='40.7412', Lon='-73.9878', timestamp='2014-04-01'),\n",
       " Row(Base='B02512', Lat='40.7526', Lon='-73.975', timestamp='2014-04-01'),\n",
       " Row(Base='B02512', Lat='40.7602', Lon='-73.9598', timestamp='2014-04-01'),\n",
       " Row(Base='B02512', Lat='40.773', Lon='-73.9669', timestamp='2014-04-01'),\n",
       " Row(Base='B02512', Lat='40.7628', Lon='-73.9948', timestamp='2014-04-01'),\n",
       " Row(Base='B02512', Lat='40.7752', Lon='-73.9636', timestamp='2014-04-01'),\n",
       " Row(Base='B02512', Lat='40.7283', Lon='-74.0071', timestamp='2014-04-01'),\n",
       " Row(Base='B02512', Lat='40.7195', Lon='-74.0367', timestamp='2014-04-01'),\n",
       " Row(Base='B02512', Lat='40.7195', Lon='-74.0367', timestamp='2014-04-01'),\n",
       " Row(Base='B02512', Lat='40.7747', Lon='-73.9911', timestamp='2014-04-01'),\n",
       " Row(Base='B02512', Lat='40.7401', Lon='-73.992', timestamp='2014-04-01'),\n",
       " Row(Base='B02512', Lat='40.7686', Lon='-73.9698', timestamp='2014-04-01'),\n",
       " Row(Base='B02512', Lat='40.7336', Lon='-73.9982', timestamp='2014-04-01'),\n",
       " Row(Base='B02512', Lat='40.7795', Lon='-73.9837', timestamp='2014-04-01'),\n",
       " Row(Base='B02512', Lat='40.7148', Lon='-74.0162', timestamp='2014-04-01'),\n",
       " Row(Base='B02512', Lat='40.7438', Lon='-73.9759', timestamp='2014-04-01'),\n",
       " Row(Base='B02512', Lat='40.745', Lon='-73.9888', timestamp='2014-04-01'),\n",
       " Row(Base='B02512', Lat='40.7768', Lon='-73.9773', timestamp='2014-04-01'),\n",
       " Row(Base='B02512', Lat='40.7594', Lon='-73.966', timestamp='2014-04-01'),\n",
       " Row(Base='B02512', Lat='40.7741', Lon='-73.8726', timestamp='2014-04-01'),\n",
       " Row(Base='B02512', Lat='40.7367', Lon='-73.9907', timestamp='2014-04-01'),\n",
       " Row(Base='B02512', Lat='40.7368', Lon='-73.9847', timestamp='2014-04-01'),\n",
       " Row(Base='B02512', Lat='40.8079', Lon='-73.9638', timestamp='2014-04-01'),\n",
       " Row(Base='B02512', Lat='40.6678', Lon='-73.7956', timestamp='2014-04-01'),\n",
       " Row(Base='B02512', Lat='40.721', Lon='-74.0033', timestamp='2014-04-01'),\n",
       " Row(Base='B02512', Lat='40.7764', Lon='-73.9598', timestamp='2014-04-01'),\n",
       " Row(Base='B02512', Lat='40.7746', Lon='-73.9581', timestamp='2014-04-01'),\n",
       " Row(Base='B02512', Lat='40.7745', Lon='-73.9638', timestamp='2014-04-01'),\n",
       " Row(Base='B02512', Lat='40.7224', Lon='-73.9935', timestamp='2014-04-01'),\n",
       " Row(Base='B02512', Lat='40.7736', Lon='-73.9626', timestamp='2014-04-01'),\n",
       " Row(Base='B02512', Lat='40.7348', Lon='-73.9929', timestamp='2014-04-01'),\n",
       " Row(Base='B02512', Lat='40.7605', Lon='-73.9991', timestamp='2014-04-01'),\n",
       " Row(Base='B02512', Lat='40.6948', Lon='-74.1779', timestamp='2014-04-01'),\n",
       " Row(Base='B02512', Lat='40.7573', Lon='-73.9877', timestamp='2014-04-01'),\n",
       " Row(Base='B02512', Lat='40.6949', Lon='-74.1781', timestamp='2014-04-01'),\n",
       " Row(Base='B02512', Lat='40.6949', Lon='-74.1781', timestamp='2014-04-01'),\n",
       " Row(Base='B02512', Lat='40.7771', Lon='-73.9754', timestamp='2014-04-01'),\n",
       " Row(Base='B02512', Lat='40.7584', Lon='-73.989', timestamp='2014-04-01'),\n",
       " Row(Base='B02512', Lat='40.755', Lon='-73.9878', timestamp='2014-04-01'),\n",
       " Row(Base='B02512', Lat='40.7226', Lon='-74.0004', timestamp='2014-04-01'),\n",
       " Row(Base='B02512', Lat='40.774', Lon='-73.9607', timestamp='2014-04-01'),\n",
       " Row(Base='B02512', Lat='40.7718', Lon='-73.9654', timestamp='2014-04-01'),\n",
       " Row(Base='B02512', Lat='40.7748', Lon='-73.991', timestamp='2014-04-01'),\n",
       " Row(Base='B02512', Lat='40.775', Lon='-73.9595', timestamp='2014-04-01'),\n",
       " Row(Base='B02512', Lat='40.7636', Lon='-73.9636', timestamp='2014-04-01'),\n",
       " Row(Base='B02512', Lat='40.7743', Lon='-73.9847', timestamp='2014-04-01'),\n",
       " Row(Base='B02512', Lat='40.7688', Lon='-73.8627', timestamp='2014-04-01'),\n",
       " Row(Base='B02512', Lat='40.7254', Lon='-74.0071', timestamp='2014-04-01'),\n",
       " Row(Base='B02512', Lat='40.7534', Lon='-73.9748', timestamp='2014-04-01'),\n",
       " Row(Base='B02512', Lat='40.7773', Lon='-73.9595', timestamp='2014-04-01'),\n",
       " Row(Base='B02512', Lat='40.7233', Lon='-74.0062', timestamp='2014-04-01'),\n",
       " Row(Base='B02512', Lat='40.763', Lon='-73.9781', timestamp='2014-04-01'),\n",
       " Row(Base='B02512', Lat='40.7822', Lon='-73.9599', timestamp='2014-04-01'),\n",
       " Row(Base='B02512', Lat='40.6916', Lon='-73.9677', timestamp='2014-04-01'),\n",
       " Row(Base='B02512', Lat='40.7577', Lon='-73.9694', timestamp='2014-04-01'),\n",
       " Row(Base='B02512', Lat='40.7668', Lon='-73.9789', timestamp='2014-04-01'),\n",
       " Row(Base='B02512', Lat='40.7741', Lon='-73.9629', timestamp='2014-04-01'),\n",
       " Row(Base='B02512', Lat='40.7271', Lon='-74.0058', timestamp='2014-04-01'),\n",
       " Row(Base='B02512', Lat='40.7072', Lon='-74.0049', timestamp='2014-04-01'),\n",
       " Row(Base='B02512', Lat='40.7412', Lon='-73.9964', timestamp='2014-04-01'),\n",
       " Row(Base='B02512', Lat='40.7883', Lon='-74.0456', timestamp='2014-04-01'),\n",
       " Row(Base='B02512', Lat='40.7883', Lon='-74.0456', timestamp='2014-04-01'),\n",
       " Row(Base='B02512', Lat='40.7568', Lon='-73.9721', timestamp='2014-04-01'),\n",
       " Row(Base='B02512', Lat='40.7624', Lon='-73.9728', timestamp='2014-04-01'),\n",
       " Row(Base='B02512', Lat='40.7457', Lon='-73.9916', timestamp='2014-04-01'),\n",
       " Row(Base='B02512', Lat='40.7863', Lon='-73.9774', timestamp='2014-04-01'),\n",
       " Row(Base='B02512', Lat='40.7593', Lon='-73.9721', timestamp='2014-04-01'),\n",
       " Row(Base='B02512', Lat='40.7398', Lon='-73.9912', timestamp='2014-04-01'),\n",
       " Row(Base='B02512', Lat='40.8275', Lon='-74.0468', timestamp='2014-04-01'),\n",
       " Row(Base='B02512', Lat='40.8275', Lon='-74.0468', timestamp='2014-04-01'),\n",
       " Row(Base='B02512', Lat='40.7686', Lon='-73.9658', timestamp='2014-04-01'),\n",
       " Row(Base='B02512', Lat='40.7566', Lon='-73.9765', timestamp='2014-04-01'),\n",
       " Row(Base='B02512', Lat='40.7103', Lon='-73.9846', timestamp='2014-04-01'),\n",
       " Row(Base='B02512', Lat='40.7414', Lon='-73.9902', timestamp='2014-04-01'),\n",
       " Row(Base='B02512', Lat='40.7439', Lon='-73.9899', timestamp='2014-04-01'),\n",
       " Row(Base='B02512', Lat='40.7619', Lon='-73.973', timestamp='2014-04-01'),\n",
       " Row(Base='B02512', Lat='40.7201', Lon='-74.0041', timestamp='2014-04-01'),\n",
       " Row(Base='B02512', Lat='40.7329', Lon='-73.9913', timestamp='2014-04-01'),\n",
       " Row(Base='B02512', Lat='40.7582', Lon='-73.9815', timestamp='2014-04-01'),\n",
       " Row(Base='B02512', Lat='40.7747', Lon='-73.9584', timestamp='2014-04-01'),\n",
       " Row(Base='B02512', Lat='40.7775', Lon='-73.9612', timestamp='2014-04-01'),\n",
       " Row(Base='B02512', Lat='40.773', Lon='-73.9802', timestamp='2014-04-01'),\n",
       " Row(Base='B02512', Lat='40.7392', Lon='-73.9991', timestamp='2014-04-01'),\n",
       " Row(Base='B02512', Lat='40.7368', Lon='-73.9958', timestamp='2014-04-01'),\n",
       " Row(Base='B02512', Lat='40.8052', Lon='-73.9662', timestamp='2014-04-01'),\n",
       " Row(Base='B02512', Lat='40.7205', Lon='-74.0031', timestamp='2014-04-01'),\n",
       " Row(Base='B02512', Lat='40.7633', Lon='-73.9829', timestamp='2014-04-01'),\n",
       " Row(Base='B02512', Lat='40.6922', Lon='-73.9441', timestamp='2014-04-01'),\n",
       " Row(Base='B02512', Lat='40.7476', Lon='-73.9969', timestamp='2014-04-01'),\n",
       " Row(Base='B02512', Lat='40.7707', Lon='-73.9815', timestamp='2014-04-01'),\n",
       " Row(Base='B02512', Lat='40.7257', Lon='-73.9972', timestamp='2014-04-01'),\n",
       " Row(Base='B02512', Lat='40.7611', Lon='-73.9754', timestamp='2014-04-01'),\n",
       " Row(Base='B02512', Lat='40.7035', Lon='-74.0107', timestamp='2014-04-01'),\n",
       " Row(Base='B02512', Lat='40.7591', Lon='-73.996', timestamp='2014-04-01'),\n",
       " Row(Base='B02512', Lat='40.7419', Lon='-74.0036', timestamp='2014-04-01'),\n",
       " Row(Base='B02512', Lat='40.755', Lon='-73.9746', timestamp='2014-04-01'),\n",
       " Row(Base='B02512', Lat='40.7472', Lon='-73.9863', timestamp='2014-04-01'),\n",
       " Row(Base='B02512', Lat='40.7548', Lon='-73.9847', timestamp='2014-04-01'),\n",
       " Row(Base='B02512', Lat='40.7797', Lon='-73.9762', timestamp='2014-04-01'),\n",
       " Row(Base='B02512', Lat='40.7323', Lon='-74.0076', timestamp='2014-04-01'),\n",
       " Row(Base='B02512', Lat='40.7741', Lon='-73.8726', timestamp='2014-04-01'),\n",
       " Row(Base='B02512', Lat='40.7074', Lon='-74.0172', timestamp='2014-04-01'),\n",
       " Row(Base='B02512', Lat='40.6334', Lon='-73.9954', timestamp='2014-04-01'),\n",
       " Row(Base='B02512', Lat='40.71', Lon='-74.0114', timestamp='2014-04-01'),\n",
       " Row(Base='B02512', Lat='40.7386', Lon='-73.9897', timestamp='2014-04-01'),\n",
       " Row(Base='B02512', Lat='40.7095', Lon='-74.0156', timestamp='2014-04-01'),\n",
       " Row(Base='B02512', Lat='40.7024', Lon='-74.0133', timestamp='2014-04-01'),\n",
       " Row(Base='B02512', Lat='40.7581', Lon='-73.9619', timestamp='2014-04-01'),\n",
       " Row(Base='B02512', Lat='40.7685', Lon='-73.8625', timestamp='2014-04-01'),\n",
       " Row(Base='B02512', Lat='40.7389', Lon='-73.9874', timestamp='2014-04-01'),\n",
       " Row(Base='B02512', Lat='40.7736', Lon='-73.8716', timestamp='2014-04-01'),\n",
       " Row(Base='B02512', Lat='40.7154', Lon='-74.0163', timestamp='2014-04-01'),\n",
       " Row(Base='B02512', Lat='40.7599', Lon='-73.9804', timestamp='2014-04-01'),\n",
       " Row(Base='B02512', Lat='40.7559', Lon='-73.9874', timestamp='2014-04-01'),\n",
       " Row(Base='B02512', Lat='40.7852', Lon='-74.022', timestamp='2014-04-01'),\n",
       " Row(Base='B02512', Lat='40.7852', Lon='-74.022', timestamp='2014-04-01'),\n",
       " Row(Base='B02512', Lat='40.6878', Lon='-74.1817', timestamp='2014-04-01'),\n",
       " Row(Base='B02512', Lat='40.6864', Lon='-73.9747', timestamp='2014-04-01'),\n",
       " Row(Base='B02512', Lat='40.8289', Lon='-73.9451', timestamp='2014-04-01'),\n",
       " Row(Base='B02512', Lat='40.8289', Lon='-73.9451', timestamp='2014-04-01'),\n",
       " Row(Base='B02512', Lat='40.7672', Lon='-73.9682', timestamp='2014-04-01'),\n",
       " Row(Base='B02512', Lat='40.7498', Lon='-73.9816', timestamp='2014-04-01'),\n",
       " Row(Base='B02512', Lat='40.6751', Lon='-73.8016', timestamp='2014-04-01'),\n",
       " Row(Base='B02512', Lat='40.7544', Lon='-73.9692', timestamp='2014-04-01'),\n",
       " Row(Base='B02512', Lat='40.7685', Lon='-73.9535', timestamp='2014-04-01'),\n",
       " Row(Base='B02512', Lat='40.7684', Lon='-73.9599', timestamp='2014-04-01'),\n",
       " Row(Base='B02512', Lat='40.7728', Lon='-73.9673', timestamp='2014-04-01'),\n",
       " Row(Base='B02512', Lat='40.7702', Lon='-73.9577', timestamp='2014-04-01'),\n",
       " Row(Base='B02512', Lat='40.7647', Lon='-73.9796', timestamp='2014-04-01'),\n",
       " Row(Base='B02512', Lat='40.7868', Lon='-73.972', timestamp='2014-04-01'),\n",
       " Row(Base='B02512', Lat='40.7178', Lon='-74.0035', timestamp='2014-04-01'),\n",
       " Row(Base='B02512', Lat='40.7732', Lon='-73.8857', timestamp='2014-04-01'),\n",
       " Row(Base='B02512', Lat='40.7257', Lon='-73.9919', timestamp='2014-04-01'),\n",
       " Row(Base='B02512', Lat='40.695', Lon='-74.178', timestamp='2014-04-01'),\n",
       " Row(Base='B02512', Lat='40.7644', Lon='-73.9796', timestamp='2014-04-01'),\n",
       " Row(Base='B02512', Lat='40.7641', Lon='-73.9766', timestamp='2014-04-01'),\n",
       " Row(Base='B02512', Lat='40.723', Lon='-74.0012', timestamp='2014-04-01'),\n",
       " Row(Base='B02512', Lat='40.7326', Lon='-73.9935', timestamp='2014-04-01'),\n",
       " Row(Base='B02512', Lat='40.7569', Lon='-73.9742', timestamp='2014-04-01'),\n",
       " Row(Base='B02512', Lat='40.7622', Lon='-73.9788', timestamp='2014-04-01'),\n",
       " Row(Base='B02512', Lat='40.7785', Lon='-73.9533', timestamp='2014-04-01'),\n",
       " Row(Base='B02512', Lat='40.7447', Lon='-73.9873', timestamp='2014-04-01'),\n",
       " Row(Base='B02512', Lat='40.7191', Lon='-73.9973', timestamp='2014-04-01'),\n",
       " Row(Base='B02512', Lat='40.7031', Lon='-73.9853', timestamp='2014-04-01'),\n",
       " Row(Base='B02512', Lat='40.9148', Lon='-74.2213', timestamp='2014-04-01'),\n",
       " Row(Base='B02512', Lat='40.7649', Lon='-73.9708', timestamp='2014-04-01'),\n",
       " Row(Base='B02512', Lat='40.7521', Lon='-73.9756', timestamp='2014-04-01'),\n",
       " Row(Base='B02512', Lat='40.7374', Lon='-74.0008', timestamp='2014-04-01'),\n",
       " Row(Base='B02512', Lat='40.7749', Lon='-73.9639', timestamp='2014-04-01'),\n",
       " Row(Base='B02512', Lat='40.7763', Lon='-73.9621', timestamp='2014-04-01'),\n",
       " Row(Base='B02512', Lat='40.749', Lon='-74.0029', timestamp='2014-04-01'),\n",
       " Row(Base='B02512', Lat='40.7276', Lon='-74.0349', timestamp='2014-04-01'),\n",
       " Row(Base='B02512', Lat='40.7276', Lon='-74.0349', timestamp='2014-04-01'),\n",
       " Row(Base='B02512', Lat='40.7631', Lon='-73.9842', timestamp='2014-04-01'),\n",
       " Row(Base='B02512', Lat='40.7601', Lon='-73.9669', timestamp='2014-04-01'),\n",
       " Row(Base='B02512', Lat='40.8791', Lon='-73.8811', timestamp='2014-04-01'),\n",
       " Row(Base='B02512', Lat='40.771', Lon='-73.866', timestamp='2014-04-01'),\n",
       " Row(Base='B02512', Lat='40.7364', Lon='-74.0099', timestamp='2014-04-01'),\n",
       " Row(Base='B02512', Lat='40.7657', Lon='-73.9549', timestamp='2014-04-01'),\n",
       " Row(Base='B02512', Lat='40.75', Lon='-73.9757', timestamp='2014-04-01'),\n",
       " Row(Base='B02512', Lat='40.7397', Lon='-73.9857', timestamp='2014-04-01'),\n",
       " Row(Base='B02512', Lat='40.779', Lon='-74.42', timestamp='2014-04-01'),\n",
       " Row(Base='B02512', Lat='40.7273', Lon='-74.0007', timestamp='2014-04-01'),\n",
       " Row(Base='B02512', Lat='40.7684', Lon='-73.8624', timestamp='2014-04-01'),\n",
       " Row(Base='B02512', Lat='40.7393', Lon='-73.9954', timestamp='2014-04-01'),\n",
       " Row(Base='B02512', Lat='40.7382', Lon='-74.0078', timestamp='2014-04-01'),\n",
       " Row(Base='B02512', Lat='40.7187', Lon='-74.0024', timestamp='2014-04-01'),\n",
       " Row(Base='B02512', Lat='40.7618', Lon='-73.9752', timestamp='2014-04-01'),\n",
       " Row(Base='B02512', Lat='40.7851', Lon='-73.9538', timestamp='2014-04-01'),\n",
       " Row(Base='B02512', Lat='40.7851', Lon='-73.9538', timestamp='2014-04-01'),\n",
       " Row(Base='B02512', Lat='40.742', Lon='-73.985', timestamp='2014-04-01'),\n",
       " Row(Base='B02512', Lat='40.7458', Lon='-73.987', timestamp='2014-04-01'),\n",
       " Row(Base='B02512', Lat='40.7699', Lon='-73.9589', timestamp='2014-04-01'),\n",
       " Row(Base='B02512', Lat='40.76', Lon='-73.9839', timestamp='2014-04-01'),\n",
       " Row(Base='B02512', Lat='40.9155', Lon='-74.0761', timestamp='2014-04-01'),\n",
       " Row(Base='B02512', Lat='40.7516', Lon='-73.9739', timestamp='2014-04-01'),\n",
       " Row(Base='B02512', Lat='40.774', Lon='-73.8733', timestamp='2014-04-01'),\n",
       " Row(Base='B02512', Lat='40.7565', Lon='-73.9843', timestamp='2014-04-01'),\n",
       " Row(Base='B02512', Lat='40.7195', Lon='-74.0123', timestamp='2014-04-01'),\n",
       " Row(Base='B02512', Lat='40.7529', Lon='-73.9855', timestamp='2014-04-01'),\n",
       " Row(Base='B02512', Lat='40.7501', Lon='-73.9761', timestamp='2014-04-01'),\n",
       " Row(Base='B02512', Lat='40.7197', Lon='-73.9917', timestamp='2014-04-01'),\n",
       " Row(Base='B02512', Lat='40.7619', Lon='-73.9729', timestamp='2014-04-01'),\n",
       " Row(Base='B02512', Lat='40.783', Lon='-73.951', timestamp='2014-04-01'),\n",
       " Row(Base='B02512', Lat='40.7319', Lon='-73.9877', timestamp='2014-04-01'),\n",
       " Row(Base='B02512', Lat='40.7538', Lon='-73.9926', timestamp='2014-04-01'),\n",
       " Row(Base='B02512', Lat='40.7189', Lon='-74.0065', timestamp='2014-04-01'),\n",
       " Row(Base='B02512', Lat='40.7455', Lon='-73.988', timestamp='2014-04-01'),\n",
       " Row(Base='B02512', Lat='40.753', Lon='-74.0248', timestamp='2014-04-01'),\n",
       " Row(Base='B02512', Lat='40.753', Lon='-74.0248', timestamp='2014-04-01'),\n",
       " Row(Base='B02512', Lat='40.7646', Lon='-73.9686', timestamp='2014-04-01'),\n",
       " Row(Base='B02512', Lat='40.7692', Lon='-73.9829', timestamp='2014-04-01'),\n",
       " Row(Base='B02512', Lat='40.7275', Lon='-74.0088', timestamp='2014-04-01'),\n",
       " Row(Base='B02512', Lat='40.7494', Lon='-73.9923', timestamp='2014-04-01'),\n",
       " Row(Base='B02512', Lat='40.6957', Lon='-73.9872', timestamp='2014-04-01'),\n",
       " Row(Base='B02512', Lat='40.695', Lon='-74.1784', timestamp='2014-04-01'),\n",
       " Row(Base='B02512', Lat='40.7739', Lon='-73.8728', timestamp='2014-04-01'),\n",
       " Row(Base='B02512', Lat='40.7757', Lon='-73.4202', timestamp='2014-04-01'),\n",
       " Row(Base='B02512', Lat='40.7651', Lon='-73.9531', timestamp='2014-04-01'),\n",
       " Row(Base='B02512', Lat='40.7663', Lon='-73.9251', timestamp='2014-04-01'),\n",
       " Row(Base='B02512', Lat='40.7177', Lon='-73.9966', timestamp='2014-04-01'),\n",
       " Row(Base='B02512', Lat='40.78', Lon='-73.961', timestamp='2014-04-01'),\n",
       " Row(Base='B02512', Lat='40.7741', Lon='-73.8727', timestamp='2014-04-01'),\n",
       " Row(Base='B02512', Lat='40.7385', Lon='-73.9854', timestamp='2014-04-01'),\n",
       " Row(Base='B02512', Lat='40.7685', Lon='-73.8624', timestamp='2014-04-01'),\n",
       " Row(Base='B02512', Lat='40.6926', Lon='-73.9873', timestamp='2014-04-01'),\n",
       " Row(Base='B02512', Lat='40.7346', Lon='-73.9963', timestamp='2014-04-01'),\n",
       " Row(Base='B02512', Lat='40.776', Lon='-73.9441', timestamp='2014-04-01'),\n",
       " Row(Base='B02512', Lat='40.7211', Lon='-74.0005', timestamp='2014-04-01'),\n",
       " Row(Base='B02512', Lat='40.7026', Lon='-74.0126', timestamp='2014-04-01'),\n",
       " Row(Base='B02512', Lat='40.768', Lon='-73.9523', timestamp='2014-04-01'),\n",
       " Row(Base='B02512', Lat='40.7485', Lon='-74.0061', timestamp='2014-04-01'),\n",
       " Row(Base='B02512', Lat='40.7568', Lon='-73.9717', timestamp='2014-04-01'),\n",
       " Row(Base='B02512', Lat='40.7617', Lon='-73.9838', timestamp='2014-04-01'),\n",
       " Row(Base='B02512', Lat='40.774', Lon='-73.8728', timestamp='2014-04-01'),\n",
       " Row(Base='B02512', Lat='40.6919', Lon='-73.9966', timestamp='2014-04-01'),\n",
       " Row(Base='B02512', Lat='40.7754', Lon='-73.9905', timestamp='2014-04-01'),\n",
       " Row(Base='B02512', Lat='40.7515', Lon='-73.993', timestamp='2014-04-01'),\n",
       " Row(Base='B02512', Lat='40.7719', Lon='-73.9655', timestamp='2014-04-01'),\n",
       " Row(Base='B02512', Lat='40.7739', Lon='-73.8724', timestamp='2014-04-01'),\n",
       " Row(Base='B02512', Lat='40.6946', Lon='-74.1775', timestamp='2014-04-01'),\n",
       " Row(Base='B02512', Lat='40.7331', Lon='-73.9998', timestamp='2014-04-01'),\n",
       " Row(Base='B02512', Lat='40.7732', Lon='-73.8856', timestamp='2014-04-01'),\n",
       " Row(Base='B02512', Lat='40.7417', Lon='-73.9894', timestamp='2014-04-01'),\n",
       " Row(Base='B02512', Lat='40.7325', Lon='-74.0018', timestamp='2014-04-01'),\n",
       " Row(Base='B02512', Lat='40.764', Lon='-73.9685', timestamp='2014-04-01'),\n",
       " Row(Base='B02512', Lat='40.7577', Lon='-73.9723', timestamp='2014-04-01'),\n",
       " Row(Base='B02512', Lat='40.6953', Lon='-74.1783', timestamp='2014-04-01'),\n",
       " Row(Base='B02512', Lat='40.7572', Lon='-73.9841', timestamp='2014-04-01'),\n",
       " Row(Base='B02512', Lat='40.8056', Lon='-74.3923', timestamp='2014-04-01'),\n",
       " Row(Base='B02512', Lat='40.7595', Lon='-73.9736', timestamp='2014-04-01'),\n",
       " Row(Base='B02512', Lat='40.7853', Lon='-73.9556', timestamp='2014-04-01'),\n",
       " Row(Base='B02512', Lat='40.7853', Lon='-73.9556', timestamp='2014-04-01'),\n",
       " Row(Base='B02512', Lat='40.7244', Lon='-74.0007', timestamp='2014-04-01'),\n",
       " Row(Base='B02512', Lat='40.7196', Lon='-74.0006', timestamp='2014-04-01'),\n",
       " Row(Base='B02512', Lat='40.7691', Lon='-73.9812', timestamp='2014-04-01'),\n",
       " Row(Base='B02512', Lat='40.7516', Lon='-73.9909', timestamp='2014-04-01'),\n",
       " Row(Base='B02512', Lat='40.7677', Lon='-73.9657', timestamp='2014-04-01'),\n",
       " Row(Base='B02512', Lat='40.7546', Lon='-73.966', timestamp='2014-04-01'),\n",
       " Row(Base='B02512', Lat='40.7578', Lon='-73.9893', timestamp='2014-04-01'),\n",
       " Row(Base='B02512', Lat='40.7619', Lon='-73.9791', timestamp='2014-04-01'),\n",
       " Row(Base='B02512', Lat='40.7397', Lon='-73.9867', timestamp='2014-04-01'),\n",
       " Row(Base='B02512', Lat='40.7275', Lon='-74.001', timestamp='2014-04-01'),\n",
       " Row(Base='B02512', Lat='40.7694', Lon='-73.9658', timestamp='2014-04-01'),\n",
       " Row(Base='B02512', Lat='40.8005', Lon='-73.9693', timestamp='2014-04-01'),\n",
       " Row(Base='B02512', Lat='40.645', Lon='-73.7819', timestamp='2014-04-01'),\n",
       " Row(Base='B02512', Lat='40.9651', Lon='-74.0736', timestamp='2014-04-01'),\n",
       " Row(Base='B02512', Lat='40.7705', Lon='-73.9662', timestamp='2014-04-01'),\n",
       " Row(Base='B02512', Lat='40.6833', Lon='-73.9768', timestamp='2014-04-01'),\n",
       " Row(Base='B02512', Lat='40.7797', Lon='-74.0097', timestamp='2014-04-01'),\n",
       " Row(Base='B02512', Lat='40.7598', Lon='-73.9915', timestamp='2014-04-01'),\n",
       " Row(Base='B02512', Lat='40.6448', Lon='-73.7826', timestamp='2014-04-01'),\n",
       " Row(Base='B02512', Lat='40.7407', Lon='-73.9869', timestamp='2014-04-01'),\n",
       " Row(Base='B02512', Lat='40.7754', Lon='-73.9628', timestamp='2014-04-01'),\n",
       " Row(Base='B02512', Lat='40.7104', Lon='-73.9847', timestamp='2014-04-01'),\n",
       " Row(Base='B02512', Lat='40.7198', Lon='-74.0051', timestamp='2014-04-01'),\n",
       " Row(Base='B02512', Lat='40.7103', Lon='-73.9846', timestamp='2014-04-01'),\n",
       " Row(Base='B02512', Lat='40.6931', Lon='-74.1834', timestamp='2014-04-01'),\n",
       " Row(Base='B02512', Lat='40.7394', Lon='-74.0062', timestamp='2014-04-01'),\n",
       " Row(Base='B02512', Lat='40.7647', Lon='-73.9706', timestamp='2014-04-01'),\n",
       " Row(Base='B02512', Lat='40.7642', Lon='-73.9632', timestamp='2014-04-01'),\n",
       " Row(Base='B02512', Lat='40.6951', Lon='-74.1787', timestamp='2014-04-01'),\n",
       " Row(Base='B02512', Lat='40.7585', Lon='-73.9697', timestamp='2014-04-01'),\n",
       " Row(Base='B02512', Lat='40.7504', Lon='-73.9945', timestamp='2014-04-01'),\n",
       " Row(Base='B02512', Lat='40.7682', Lon='-73.953', timestamp='2014-04-01'),\n",
       " Row(Base='B02512', Lat='40.7247', Lon='-74.0022', timestamp='2014-04-01'),\n",
       " Row(Base='B02512', Lat='40.7145', Lon='-74.0025', timestamp='2014-04-01'),\n",
       " Row(Base='B02512', Lat='40.7593', Lon='-73.9745', timestamp='2014-04-01'),\n",
       " Row(Base='B02512', Lat='40.7284', Lon='-74.0071', timestamp='2014-04-01'),\n",
       " Row(Base='B02512', Lat='40.7079', Lon='-74.0093', timestamp='2014-04-01'),\n",
       " Row(Base='B02512', Lat='40.7692', Lon='-73.9631', timestamp='2014-04-01'),\n",
       " Row(Base='B02512', Lat='40.7644', Lon='-73.953', timestamp='2014-04-01'),\n",
       " Row(Base='B02512', Lat='40.7553', Lon='-73.9795', timestamp='2014-04-01'),\n",
       " Row(Base='B02512', Lat='40.7551', Lon='-73.9622', timestamp='2014-04-01'),\n",
       " Row(Base='B02512', Lat='40.7741', Lon='-73.8727', timestamp='2014-04-01'),\n",
       " Row(Base='B02512', Lat='40.7545', Lon='-73.9757', timestamp='2014-04-01'),\n",
       " Row(Base='B02512', Lat='40.7355', Lon='-73.9755', timestamp='2014-04-01'),\n",
       " Row(Base='B02512', Lat='40.771', Lon='-73.866', timestamp='2014-04-01'),\n",
       " Row(Base='B02512', Lat='40.7755', Lon='-73.9558', timestamp='2014-04-01'),\n",
       " Row(Base='B02512', Lat='40.7283', Lon='-73.9869', timestamp='2014-04-01'),\n",
       " Row(Base='B02512', Lat='40.7577', Lon='-73.9902', timestamp='2014-04-01'),\n",
       " Row(Base='B02512', Lat='40.764', Lon='-73.9825', timestamp='2014-04-01'),\n",
       " Row(Base='B02512', Lat='40.7644', Lon='-73.9806', timestamp='2014-04-01'),\n",
       " Row(Base='B02512', Lat='40.8092', Lon='-73.9536', timestamp='2014-04-01'),\n",
       " Row(Base='B02512', Lat='40.7708', Lon='-73.8658', timestamp='2014-04-01'),\n",
       " Row(Base='B02512', Lat='40.7556', Lon='-73.9716', timestamp='2014-04-01'),\n",
       " Row(Base='B02512', Lat='40.7578', Lon='-73.9739', timestamp='2014-04-01'),\n",
       " Row(Base='B02512', Lat='40.7557', Lon='-73.974', timestamp='2014-04-01'),\n",
       " Row(Base='B02512', Lat='40.7101', Lon='-73.9849', timestamp='2014-04-01'),\n",
       " Row(Base='B02512', Lat='40.7798', Lon='-73.96', timestamp='2014-04-01'),\n",
       " Row(Base='B02512', Lat='40.7798', Lon='-73.96', timestamp='2014-04-01'),\n",
       " Row(Base='B02512', Lat='40.8247', Lon='-73.9735', timestamp='2014-04-01'),\n",
       " Row(Base='B02512', Lat='40.7416', Lon='-74.0067', timestamp='2014-04-01'),\n",
       " Row(Base='B02512', Lat='40.7624', Lon='-73.9744', timestamp='2014-04-01'),\n",
       " Row(Base='B02512', Lat='40.7644', Lon='-73.9727', timestamp='2014-04-01'),\n",
       " Row(Base='B02512', Lat='40.7641', Lon='-73.977', timestamp='2014-04-01'),\n",
       " Row(Base='B02512', Lat='40.745', Lon='-73.985', timestamp='2014-04-01'),\n",
       " Row(Base='B02512', Lat='40.7617', Lon='-73.973', timestamp='2014-04-01'),\n",
       " Row(Base='B02512', Lat='40.7636', Lon='-73.9735', timestamp='2014-04-01'),\n",
       " Row(Base='B02512', Lat='40.7413', Lon='-74.0062', timestamp='2014-04-01'),\n",
       " Row(Base='B02512', Lat='40.7866', Lon='-73.9547', timestamp='2014-04-01'),\n",
       " Row(Base='B02512', Lat='40.7824', Lon='-73.9466', timestamp='2014-04-01'),\n",
       " Row(Base='B02512', Lat='40.7616', Lon='-73.9686', timestamp='2014-04-01'),\n",
       " Row(Base='B02512', Lat='40.7566', Lon='-73.9788', timestamp='2014-04-01'),\n",
       " Row(Base='B02512', Lat='40.6339', Lon='-74.0131', timestamp='2014-04-01'),\n",
       " Row(Base='B02512', Lat='40.7274', Lon='-74.0073', timestamp='2014-04-01'),\n",
       " Row(Base='B02512', Lat='40.7739', Lon='-73.8715', timestamp='2014-04-01'),\n",
       " Row(Base='B02512', Lat='40.7671', Lon='-73.9875', timestamp='2014-04-01'),\n",
       " Row(Base='B02512', Lat='40.6951', Lon='-74.1783', timestamp='2014-04-01'),\n",
       " Row(Base='B02512', Lat='40.7731', Lon='-73.9893', timestamp='2014-04-01'),\n",
       " Row(Base='B02512', Lat='40.7122', Lon='-73.998', timestamp='2014-04-01'),\n",
       " Row(Base='B02512', Lat='40.6956', Lon='-74.1779', timestamp='2014-04-01'),\n",
       " Row(Base='B02512', Lat='40.6433', Lon='-73.7895', timestamp='2014-04-01'),\n",
       " Row(Base='B02512', Lat='40.7556', Lon='-73.9753', timestamp='2014-04-01'),\n",
       " Row(Base='B02512', Lat='40.7593', Lon='-73.9708', timestamp='2014-04-01'),\n",
       " Row(Base='B02512', Lat='40.7619', Lon='-73.9726', timestamp='2014-04-01'),\n",
       " Row(Base='B02512', Lat='40.7729', Lon='-73.9599', timestamp='2014-04-01'),\n",
       " Row(Base='B02512', Lat='40.7616', Lon='-73.9754', timestamp='2014-04-01'),\n",
       " Row(Base='B02512', Lat='40.7207', Lon='-74.0031', timestamp='2014-04-01'),\n",
       " Row(Base='B02512', Lat='40.6449', Lon='-73.7823', timestamp='2014-04-01'),\n",
       " Row(Base='B02512', Lat='40.7413', Lon='-73.9947', timestamp='2014-04-01'),\n",
       " Row(Base='B02512', Lat='40.7658', Lon='-73.9802', timestamp='2014-04-01'),\n",
       " Row(Base='B02512', Lat='40.7623', Lon='-73.9788', timestamp='2014-04-01'),\n",
       " Row(Base='B02512', Lat='40.744', Lon='-73.9954', timestamp='2014-04-01'),\n",
       " Row(Base='B02512', Lat='40.7799', Lon='-73.9608', timestamp='2014-04-01'),\n",
       " Row(Base='B02512', Lat='40.7591', Lon='-73.9724', timestamp='2014-04-01'),\n",
       " Row(Base='B02512', Lat='40.7573', Lon='-73.9712', timestamp='2014-04-01'),\n",
       " Row(Base='B02512', Lat='40.7573', Lon='-73.9712', timestamp='2014-04-01'),\n",
       " Row(Base='B02512', Lat='40.7576', Lon='-73.9696', timestamp='2014-04-01'),\n",
       " Row(Base='B02512', Lat='40.7052', Lon='-74.01', timestamp='2014-04-01'),\n",
       " Row(Base='B02512', Lat='40.7371', Lon='-74.1794', timestamp='2014-04-01'),\n",
       " Row(Base='B02512', Lat='40.7375', Lon='-74.0053', timestamp='2014-04-01'),\n",
       " Row(Base='B02512', Lat='40.7541', Lon='-73.996', timestamp='2014-04-01'),\n",
       " Row(Base='B02512', Lat='40.7435', Lon='-73.9834', timestamp='2014-04-01'),\n",
       " Row(Base='B02512', Lat='40.758', Lon='-73.9751', timestamp='2014-04-01'),\n",
       " Row(Base='B02512', Lat='40.7608', Lon='-73.9839', timestamp='2014-04-01'),\n",
       " Row(Base='B02512', Lat='40.7109', Lon='-74.0112', timestamp='2014-04-01'),\n",
       " Row(Base='B02512', Lat='40.7742', Lon='-73.8724', timestamp='2014-04-01'),\n",
       " Row(Base='B02512', Lat='40.7746', Lon='-73.9633', timestamp='2014-04-01'),\n",
       " Row(Base='B02512', Lat='40.7685', Lon='-73.9647', timestamp='2014-04-01'),\n",
       " Row(Base='B02512', Lat='40.7396', Lon='-73.9909', timestamp='2014-04-01'),\n",
       " Row(Base='B02512', Lat='40.7429', Lon='-73.9868', timestamp='2014-04-01'),\n",
       " Row(Base='B02512', Lat='40.7839', Lon='-73.9566', timestamp='2014-04-01'),\n",
       " Row(Base='B02512', Lat='40.7541', Lon='-73.9744', timestamp='2014-04-01'),\n",
       " Row(Base='B02512', Lat='40.7701', Lon='-73.9879', timestamp='2014-04-01'),\n",
       " Row(Base='B02512', Lat='40.8942', Lon='-73.8991', timestamp='2014-04-01'),\n",
       " Row(Base='B02512', Lat='40.7538', Lon='-73.9809', timestamp='2014-04-01'),\n",
       " Row(Base='B02512', Lat='40.7413', Lon='-73.9852', timestamp='2014-04-01'),\n",
       " Row(Base='B02512', Lat='40.7551', Lon='-73.9878', timestamp='2014-04-01'),\n",
       " Row(Base='B02512', Lat='40.7474', Lon='-74.008', timestamp='2014-04-01'),\n",
       " Row(Base='B02512', Lat='40.7544', Lon='-73.9803', timestamp='2014-04-01'),\n",
       " Row(Base='B02512', Lat='40.7356', Lon='-73.997', timestamp='2014-04-01'),\n",
       " Row(Base='B02512', Lat='40.7698', Lon='-73.9916', timestamp='2014-04-01'),\n",
       " Row(Base='B02512', Lat='40.7764', Lon='-73.9641', timestamp='2014-04-01'),\n",
       " Row(Base='B02512', Lat='40.7629', Lon='-73.9839', timestamp='2014-04-01'),\n",
       " Row(Base='B02512', Lat='40.7386', Lon='-74.0055', timestamp='2014-04-01'),\n",
       " Row(Base='B02512', Lat='40.7504', Lon='-73.9788', timestamp='2014-04-01'),\n",
       " Row(Base='B02512', Lat='40.7651', Lon='-73.9724', timestamp='2014-04-01'),\n",
       " Row(Base='B02512', Lat='40.7546', Lon='-73.991', timestamp='2014-04-01'),\n",
       " Row(Base='B02512', Lat='40.7321', Lon='-74.0077', timestamp='2014-04-01'),\n",
       " Row(Base='B02512', Lat='40.764', Lon='-73.9733', timestamp='2014-04-01'),\n",
       " Row(Base='B02512', Lat='40.7167', Lon='-74.0149', timestamp='2014-04-01'),\n",
       " Row(Base='B02512', Lat='40.7679', Lon='-73.9662', timestamp='2014-04-01'),\n",
       " Row(Base='B02512', Lat='40.7051', Lon='-74.0073', timestamp='2014-04-01'),\n",
       " Row(Base='B02512', Lat='40.7601', Lon='-73.9772', timestamp='2014-04-01'),\n",
       " Row(Base='B02512', Lat='40.7601', Lon='-73.9772', timestamp='2014-04-01'),\n",
       " Row(Base='B02512', Lat='40.6916', Lon='-73.9844', timestamp='2014-04-01'),\n",
       " Row(Base='B02512', Lat='40.7632', Lon='-73.983', timestamp='2014-04-01'),\n",
       " Row(Base='B02512', Lat='40.7637', Lon='-73.9741', timestamp='2014-04-01'),\n",
       " Row(Base='B02512', Lat='40.732', Lon='-73.9968', timestamp='2014-04-01'),\n",
       " Row(Base='B02512', Lat='40.8448', Lon='-74.0662', timestamp='2014-04-01'),\n",
       " Row(Base='B02512', Lat='40.7245', Lon='-73.9987', timestamp='2014-04-01'),\n",
       " Row(Base='B02512', Lat='40.7491', Lon='-74.0084', timestamp='2014-04-01'),\n",
       " Row(Base='B02512', Lat='40.7106', Lon='-73.9858', timestamp='2014-04-01'),\n",
       " Row(Base='B02512', Lat='40.76', Lon='-73.9651', timestamp='2014-04-01'),\n",
       " Row(Base='B02512', Lat='40.7257', Lon='-74.0003', timestamp='2014-04-01'),\n",
       " Row(Base='B02512', Lat='40.7464', Lon='-73.9716', timestamp='2014-04-01'),\n",
       " Row(Base='B02512', Lat='40.7403', Lon='-73.9955', timestamp='2014-04-01'),\n",
       " Row(Base='B02512', Lat='40.7555', Lon='-73.9739', timestamp='2014-04-01'),\n",
       " Row(Base='B02512', Lat='40.7636', Lon='-73.9716', timestamp='2014-04-01'),\n",
       " Row(Base='B02512', Lat='40.7552', Lon='-73.9881', timestamp='2014-04-01'),\n",
       " Row(Base='B02512', Lat='40.7208', Lon='-73.958', timestamp='2014-04-01'),\n",
       " Row(Base='B02512', Lat='40.7741', Lon='-73.8725', timestamp='2014-04-01'),\n",
       " Row(Base='B02512', Lat='40.7563', Lon='-73.9744', timestamp='2014-04-01'),\n",
       " Row(Base='B02512', Lat='40.7544', Lon='-73.9878', timestamp='2014-04-01'),\n",
       " Row(Base='B02512', Lat='40.7842', Lon='-73.9834', timestamp='2014-04-01'),\n",
       " Row(Base='B02512', Lat='40.7382', Lon='-74.0033', timestamp='2014-04-01'),\n",
       " Row(Base='B02512', Lat='40.7578', Lon='-73.9751', timestamp='2014-04-01'),\n",
       " Row(Base='B02512', Lat='40.7387', Lon='-73.9897', timestamp='2014-04-01'),\n",
       " Row(Base='B02512', Lat='40.7685', Lon='-73.8624', timestamp='2014-04-01'),\n",
       " Row(Base='B02512', Lat='40.7813', Lon='-73.9759', timestamp='2014-04-01'),\n",
       " Row(Base='B02512', Lat='40.7558', Lon='-73.982', timestamp='2014-04-01'),\n",
       " Row(Base='B02512', Lat='40.7561', Lon='-73.9824', timestamp='2014-04-01'),\n",
       " Row(Base='B02512', Lat='40.7528', Lon='-73.9876', timestamp='2014-04-01'),\n",
       " Row(Base='B02512', Lat='40.7634', Lon='-73.974', timestamp='2014-04-01'),\n",
       " Row(Base='B02512', Lat='40.76', Lon='-73.9723', timestamp='2014-04-01'),\n",
       " Row(Base='B02512', Lat='40.7512', Lon='-73.9749', timestamp='2014-04-01'),\n",
       " Row(Base='B02512', Lat='40.6914', Lon='-74.1771', timestamp='2014-04-01'),\n",
       " Row(Base='B02512', Lat='40.7706', Lon='-73.8655', timestamp='2014-04-01'),\n",
       " Row(Base='B02512', Lat='40.7415', Lon='-74.0072', timestamp='2014-04-01'),\n",
       " Row(Base='B02512', Lat='40.7511', Lon='-73.9782', timestamp='2014-04-01'),\n",
       " Row(Base='B02512', Lat='40.7519', Lon='-73.9811', timestamp='2014-04-01'),\n",
       " Row(Base='B02512', Lat='40.646', Lon='-73.7768', timestamp='2014-04-01'),\n",
       " Row(Base='B02512', Lat='40.7213', Lon='-73.9991', timestamp='2014-04-01'),\n",
       " Row(Base='B02512', Lat='40.7591', Lon='-73.967', timestamp='2014-04-01'),\n",
       " Row(Base='B02512', Lat='40.7701', Lon='-73.9625', timestamp='2014-04-01'),\n",
       " Row(Base='B02512', Lat='40.7789', Lon='-73.9559', timestamp='2014-04-01'),\n",
       " Row(Base='B02512', Lat='40.7789', Lon='-73.9559', timestamp='2014-04-01'),\n",
       " Row(Base='B02512', Lat='40.733', Lon='-73.9824', timestamp='2014-04-01'),\n",
       " Row(Base='B02512', Lat='40.7582', Lon='-73.9763', timestamp='2014-04-01'),\n",
       " Row(Base='B02512', Lat='40.7437', Lon='-73.9887', timestamp='2014-04-01'),\n",
       " Row(Base='B02512', Lat='40.7437', Lon='-73.9887', timestamp='2014-04-01'),\n",
       " Row(Base='B02512', Lat='40.7512', Lon='-73.9891', timestamp='2014-04-01'),\n",
       " Row(Base='B02512', Lat='40.7554', Lon='-73.9839', timestamp='2014-04-01'),\n",
       " Row(Base='B02512', Lat='40.7647', Lon='-73.9699', timestamp='2014-04-01'),\n",
       " Row(Base='B02512', Lat='40.7915', Lon='-73.9523', timestamp='2014-04-01'),\n",
       " Row(Base='B02512', Lat='40.7756', Lon='-73.9482', timestamp='2014-04-01'),\n",
       " Row(Base='B02512', Lat='40.7701', Lon='-73.9803', timestamp='2014-04-01'),\n",
       " Row(Base='B02512', Lat='40.7556', Lon='-73.9851', timestamp='2014-04-01'),\n",
       " Row(Base='B02512', Lat='40.7527', Lon='-73.9856', timestamp='2014-04-01'),\n",
       " Row(Base='B02512', Lat='40.7413', Lon='-73.9908', timestamp='2014-04-01'),\n",
       " Row(Base='B02512', Lat='40.7324', Lon='-74.0087', timestamp='2014-04-01'),\n",
       " Row(Base='B02512', Lat='40.7432', Lon='-73.9863', timestamp='2014-04-01'),\n",
       " Row(Base='B02512', Lat='40.7697', Lon='-73.981', timestamp='2014-04-01'),\n",
       " Row(Base='B02512', Lat='40.7227', Lon='-74.0087', timestamp='2014-04-01'),\n",
       " Row(Base='B02512', Lat='40.7204', Lon='-74.0048', timestamp='2014-04-01'),\n",
       " Row(Base='B02512', Lat='40.7615', Lon='-73.9824', timestamp='2014-04-01'),\n",
       " Row(Base='B02512', Lat='40.6898', Lon='-73.9782', timestamp='2014-04-01'),\n",
       " Row(Base='B02512', Lat='40.7296', Lon='-73.9983', timestamp='2014-04-01'),\n",
       " Row(Base='B02512', Lat='40.7256', Lon='-74.0054', timestamp='2014-04-01'),\n",
       " Row(Base='B02512', Lat='40.7199', Lon='-74.0043', timestamp='2014-04-01'),\n",
       " Row(Base='B02512', Lat='40.7539', Lon='-73.9806', timestamp='2014-04-01'),\n",
       " Row(Base='B02512', Lat='40.7649', Lon='-73.962', timestamp='2014-04-01'),\n",
       " Row(Base='B02512', Lat='40.7539', Lon='-73.9764', timestamp='2014-04-01'),\n",
       " Row(Base='B02512', Lat='40.7554', Lon='-73.9726', timestamp='2014-04-01'),\n",
       " Row(Base='B02512', Lat='40.776', Lon='-73.9573', timestamp='2014-04-01'),\n",
       " Row(Base='B02512', Lat='40.7631', Lon='-73.9742', timestamp='2014-04-01'),\n",
       " Row(Base='B02512', Lat='40.7685', Lon='-73.8625', timestamp='2014-04-01'),\n",
       " Row(Base='B02512', Lat='40.7938', Lon='-73.973', timestamp='2014-04-01'),\n",
       " Row(Base='B02512', Lat='40.7857', Lon='-73.9553', timestamp='2014-04-01'),\n",
       " Row(Base='B02512', Lat='40.7857', Lon='-73.9553', timestamp='2014-04-01'),\n",
       " Row(Base='B02512', Lat='40.72', Lon='-73.9991', timestamp='2014-04-01'),\n",
       " Row(Base='B02512', Lat='40.7782', Lon='-73.9628', timestamp='2014-04-01'),\n",
       " Row(Base='B02512', Lat='40.751', Lon='-73.9767', timestamp='2014-04-01'),\n",
       " Row(Base='B02512', Lat='40.7212', Lon='-74.0018', timestamp='2014-04-01'),\n",
       " Row(Base='B02512', Lat='40.7287', Lon='-73.9898', timestamp='2014-04-01'),\n",
       " Row(Base='B02512', Lat='40.7736', Lon='-73.9812', timestamp='2014-04-01'),\n",
       " Row(Base='B02512', Lat='40.7328', Lon='-73.986', timestamp='2014-04-01'),\n",
       " Row(Base='B02512', Lat='40.7566', Lon='-73.9739', timestamp='2014-04-01'),\n",
       " Row(Base='B02512', Lat='40.7539', Lon='-73.982', timestamp='2014-04-01'),\n",
       " Row(Base='B02512', Lat='40.72', Lon='-74.0038', timestamp='2014-04-01'),\n",
       " Row(Base='B02512', Lat='40.7395', Lon='-73.9941', timestamp='2014-04-01'),\n",
       " Row(Base='B02512', Lat='40.7457', Lon='-74.0091', timestamp='2014-04-01'),\n",
       " Row(Base='B02512', Lat='40.7021', Lon='-74.0127', timestamp='2014-04-01'),\n",
       " Row(Base='B02512', Lat='40.7534', Lon='-73.9904', timestamp='2014-04-01'),\n",
       " Row(Base='B02512', Lat='40.7242', Lon='-74.001', timestamp='2014-04-01'),\n",
       " Row(Base='B02512', Lat='40.755', Lon='-73.9988', timestamp='2014-04-01'),\n",
       " Row(Base='B02512', Lat='40.6844', Lon='-74.2762', timestamp='2014-04-01'),\n",
       " Row(Base='B02512', Lat='40.7574', Lon='-73.9762', timestamp='2014-04-01'),\n",
       " Row(Base='B02512', Lat='40.7529', Lon='-73.8838', timestamp='2014-04-01'),\n",
       " Row(Base='B02512', Lat='40.7617', Lon='-73.975', timestamp='2014-04-01'),\n",
       " Row(Base='B02512', Lat='40.753', Lon='-73.9791', timestamp='2014-04-01'),\n",
       " Row(Base='B02512', Lat='40.7459', Lon='-73.9884', timestamp='2014-04-01'),\n",
       " Row(Base='B02512', Lat='40.7178', Lon='-73.9521', timestamp='2014-04-01'),\n",
       " Row(Base='B02512', Lat='40.7816', Lon='-73.9803', timestamp='2014-04-01'),\n",
       " Row(Base='B02512', Lat='40.7556', Lon='-73.9745', timestamp='2014-04-01'),\n",
       " Row(Base='B02512', Lat='40.7214', Lon='-73.9974', timestamp='2014-04-01'),\n",
       " Row(Base='B02512', Lat='40.7875', Lon='-73.9684', timestamp='2014-04-01'),\n",
       " Row(Base='B02512', Lat='40.7685', Lon='-73.9689', timestamp='2014-04-01'),\n",
       " Row(Base='B02512', Lat='40.753', Lon='-73.9701', timestamp='2014-04-01'),\n",
       " Row(Base='B02512', Lat='40.7478', Lon='-74.0044', timestamp='2014-04-01'),\n",
       " Row(Base='B02512', Lat='40.7745', Lon='-73.958', timestamp='2014-04-01'),\n",
       " Row(Base='B02512', Lat='40.7562', Lon='-73.9698', timestamp='2014-04-01'),\n",
       " Row(Base='B02512', Lat='40.7129', Lon='-74.0356', timestamp='2014-04-01'),\n",
       " Row(Base='B02512', Lat='40.7129', Lon='-74.0356', timestamp='2014-04-01'),\n",
       " Row(Base='B02512', Lat='40.7169', Lon='-74.0123', timestamp='2014-04-01'),\n",
       " Row(Base='B02512', Lat='40.7634', Lon='-73.9672', timestamp='2014-04-01'),\n",
       " Row(Base='B02512', Lat='40.7555', Lon='-73.9739', timestamp='2014-04-01'),\n",
       " Row(Base='B02512', Lat='40.7581', Lon='-73.9816', timestamp='2014-04-01'),\n",
       " Row(Base='B02512', Lat='40.7849', Lon='-73.9487', timestamp='2014-04-01'),\n",
       " Row(Base='B02512', Lat='40.7332', Lon='-73.9956', timestamp='2014-04-01'),\n",
       " Row(Base='B02512', Lat='40.7376', Lon='-73.9926', timestamp='2014-04-01'),\n",
       " Row(Base='B02512', Lat='40.756', Lon='-73.9717', timestamp='2014-04-01'),\n",
       " Row(Base='B02512', Lat='40.771', Lon='-73.9615', timestamp='2014-04-01'),\n",
       " Row(Base='B02512', Lat='40.7221', Lon='-73.9994', timestamp='2014-04-01'),\n",
       " Row(Base='B02512', Lat='40.7305', Lon='-74.0069', timestamp='2014-04-01'),\n",
       " Row(Base='B02512', Lat='40.7565', Lon='-73.9844', timestamp='2014-04-01'),\n",
       " Row(Base='B02512', Lat='40.7568', Lon='-73.9718', timestamp='2014-04-01'),\n",
       " Row(Base='B02512', Lat='40.7381', Lon='-74.0085', timestamp='2014-04-01'),\n",
       " Row(Base='B02512', Lat='40.7986', Lon='-73.9728', timestamp='2014-04-01'),\n",
       " Row(Base='B02512', Lat='40.757', Lon='-73.972', timestamp='2014-04-01'),\n",
       " Row(Base='B02512', Lat='40.7535', Lon='-73.9786', timestamp='2014-04-01'),\n",
       " Row(Base='B02512', Lat='40.7732', Lon='-73.8857', timestamp='2014-04-01'),\n",
       " Row(Base='B02512', Lat='40.742', Lon='-73.9851', timestamp='2014-04-01'),\n",
       " Row(Base='B02512', Lat='40.786', Lon='-73.981', timestamp='2014-04-01'),\n",
       " Row(Base='B02512', Lat='40.7059', Lon='-74.0167', timestamp='2014-04-01'),\n",
       " Row(Base='B02512', Lat='40.7401', Lon='-73.9901', timestamp='2014-04-01'),\n",
       " Row(Base='B02512', Lat='40.7403', Lon='-73.9884', timestamp='2014-04-01'),\n",
       " Row(Base='B02512', Lat='40.7243', Lon='-73.9933', timestamp='2014-04-01'),\n",
       " Row(Base='B02512', Lat='40.733', Lon='-73.9912', timestamp='2014-04-01'),\n",
       " Row(Base='B02512', Lat='40.7535', Lon='-73.9739', timestamp='2014-04-01'),\n",
       " Row(Base='B02512', Lat='40.7535', Lon='-73.9739', timestamp='2014-04-01'),\n",
       " Row(Base='B02512', Lat='40.7615', Lon='-73.9765', timestamp='2014-04-01'),\n",
       " Row(Base='B02512', Lat='40.7288', Lon='-74.0347', timestamp='2014-04-01'),\n",
       " Row(Base='B02512', Lat='40.7219', Lon='-74.0041', timestamp='2014-04-01'),\n",
       " Row(Base='B02512', Lat='40.7101', Lon='-73.9688', timestamp='2014-04-01'),\n",
       " Row(Base='B02512', Lat='40.7473', Lon='-74.0007', timestamp='2014-04-01'),\n",
       " Row(Base='B02512', Lat='40.6086', Lon='-73.9326', timestamp='2014-04-01'),\n",
       " Row(Base='B02512', Lat='40.7103', Lon='-73.9845', timestamp='2014-04-01'),\n",
       " Row(Base='B02512', Lat='40.7265', Lon='-73.9832', timestamp='2014-04-01'),\n",
       " Row(Base='B02512', Lat='40.7829', Lon='-73.4372', timestamp='2014-04-01'),\n",
       " Row(Base='B02512', Lat='40.7548', Lon='-73.9734', timestamp='2014-04-01'),\n",
       " Row(Base='B02512', Lat='40.7548', Lon='-73.9831', timestamp='2014-04-01'),\n",
       " Row(Base='B02512', Lat='40.7636', Lon='-73.9814', timestamp='2014-04-01'),\n",
       " Row(Base='B02512', Lat='40.7643', Lon='-73.9688', timestamp='2014-04-01'),\n",
       " Row(Base='B02512', Lat='40.7277', Lon='-74.0346', timestamp='2014-04-01'),\n",
       " Row(Base='B02512', Lat='40.7277', Lon='-74.0346', timestamp='2014-04-01'),\n",
       " Row(Base='B02512', Lat='40.7627', Lon='-73.9779', timestamp='2014-04-01'),\n",
       " Row(Base='B02512', Lat='40.7551', Lon='-73.9753', timestamp='2014-04-01'),\n",
       " Row(Base='B02512', Lat='40.6449', Lon='-73.7822', timestamp='2014-04-01'),\n",
       " Row(Base='B02512', Lat='40.7327', Lon='-73.996', timestamp='2014-04-01'),\n",
       " Row(Base='B02512', Lat='40.6757', Lon='-73.9844', timestamp='2014-04-01'),\n",
       " Row(Base='B02512', Lat='40.7414', Lon='-73.9848', timestamp='2014-04-01'),\n",
       " Row(Base='B02512', Lat='40.7603', Lon='-73.9782', timestamp='2014-04-01'),\n",
       " Row(Base='B02512', Lat='40.7243', Lon='-73.9998', timestamp='2014-04-01'),\n",
       " Row(Base='B02512', Lat='40.7666', Lon='-73.9692', timestamp='2014-04-01'),\n",
       " Row(Base='B02512', Lat='40.7093', Lon='-73.9618', timestamp='2014-04-01'),\n",
       " Row(Base='B02512', Lat='40.7278', Lon='-74.0017', timestamp='2014-04-01'),\n",
       " Row(Base='B02512', Lat='40.7545', Lon='-73.9768', timestamp='2014-04-01'),\n",
       " Row(Base='B02512', Lat='40.7578', Lon='-73.9691', timestamp='2014-04-01'),\n",
       " Row(Base='B02512', Lat='40.7457', Lon='-74.0049', timestamp='2014-04-01'),\n",
       " Row(Base='B02512', Lat='40.7414', Lon='-73.9913', timestamp='2014-04-01'),\n",
       " Row(Base='B02512', Lat='40.7678', Lon='-73.9832', timestamp='2014-04-01'),\n",
       " Row(Base='B02512', Lat='40.758', Lon='-73.9757', timestamp='2014-04-01'),\n",
       " Row(Base='B02512', Lat='40.7284', Lon='-74.0071', timestamp='2014-04-01'),\n",
       " Row(Base='B02512', Lat='40.7429', Lon='-73.9886', timestamp='2014-04-01'),\n",
       " Row(Base='B02512', Lat='40.7591', Lon='-73.9765', timestamp='2014-04-01'),\n",
       " Row(Base='B02512', Lat='40.763', Lon='-73.9718', timestamp='2014-04-01'),\n",
       " Row(Base='B02512', Lat='40.7782', Lon='-73.962', timestamp='2014-04-01'),\n",
       " Row(Base='B02512', Lat='40.7782', Lon='-73.962', timestamp='2014-04-01'),\n",
       " Row(Base='B02512', Lat='40.7445', Lon='-74.0079', timestamp='2014-04-01'),\n",
       " Row(Base='B02512', Lat='40.7445', Lon='-74.0079', timestamp='2014-04-01'),\n",
       " Row(Base='B02512', Lat='40.7642', Lon='-73.9731', timestamp='2014-04-01'),\n",
       " Row(Base='B02512', Lat='40.7211', Lon='-73.9569', timestamp='2014-04-01'),\n",
       " Row(Base='B02512', Lat='40.7077', Lon='-74.0054', timestamp='2014-04-01'),\n",
       " Row(Base='B02512', Lat='40.7341', Lon='-74.0039', timestamp='2014-04-01'),\n",
       " Row(Base='B02512', Lat='40.6164', Lon='-73.9523', timestamp='2014-04-01'),\n",
       " Row(Base='B02512', Lat='40.7565', Lon='-73.9746', timestamp='2014-04-01'),\n",
       " Row(Base='B02512', Lat='40.7592', Lon='-74.0235', timestamp='2014-04-01'),\n",
       " Row(Base='B02512', Lat='40.7255', Lon='-73.995', timestamp='2014-04-01'),\n",
       " Row(Base='B02512', Lat='40.764', Lon='-73.9713', timestamp='2014-04-01'),\n",
       " Row(Base='B02512', Lat='40.7584', Lon='-73.9724', timestamp='2014-04-01'),\n",
       " Row(Base='B02512', Lat='40.741', Lon='-73.99', timestamp='2014-04-01'),\n",
       " Row(Base='B02512', Lat='40.7215', Lon='-73.9989', timestamp='2014-04-01'),\n",
       " Row(Base='B02512', Lat='40.7558', Lon='-73.9751', timestamp='2014-04-01'),\n",
       " Row(Base='B02512', Lat='40.7899', Lon='-73.9697', timestamp='2014-04-01'),\n",
       " Row(Base='B02512', Lat='40.7219', Lon='-74.0074', timestamp='2014-04-01'),\n",
       " Row(Base='B02512', Lat='40.743', Lon='-74.0076', timestamp='2014-04-01'),\n",
       " Row(Base='B02512', Lat='40.7688', Lon='-73.8625', timestamp='2014-04-01'),\n",
       " Row(Base='B02512', Lat='40.7222', Lon='-74.002', timestamp='2014-04-01'),\n",
       " Row(Base='B02512', Lat='40.7222', Lon='-74.002', timestamp='2014-04-01'),\n",
       " Row(Base='B02512', Lat='40.7578', Lon='-73.9722', timestamp='2014-04-01'),\n",
       " Row(Base='B02512', Lat='40.7045', Lon='-74.0103', timestamp='2014-04-01'),\n",
       " Row(Base='B02512', Lat='40.7624', Lon='-73.9835', timestamp='2014-04-01'),\n",
       " Row(Base='B02512', Lat='40.7525', Lon='-73.9754', timestamp='2014-04-01'),\n",
       " Row(Base='B02512', Lat='40.7065', Lon='-74.0094', timestamp='2014-04-01'),\n",
       " Row(Base='B02512', Lat='40.7354', Lon='-74.1689', timestamp='2014-04-01'),\n",
       " Row(Base='B02512', Lat='40.7733', Lon='-73.9548', timestamp='2014-04-01'),\n",
       " Row(Base='B02512', Lat='40.7287', Lon='-73.9984', timestamp='2014-04-01'),\n",
       " Row(Base='B02512', Lat='40.7123', Lon='-73.9951', timestamp='2014-04-01'),\n",
       " Row(Base='B02512', Lat='40.7608', Lon='-73.979', timestamp='2014-04-01'),\n",
       " Row(Base='B02512', Lat='40.7843', Lon='-73.9539', timestamp='2014-04-01'),\n",
       " Row(Base='B02512', Lat='40.7843', Lon='-73.9539', timestamp='2014-04-01'),\n",
       " Row(Base='B02512', Lat='40.6836', Lon='-73.9975', timestamp='2014-04-01'),\n",
       " Row(Base='B02512', Lat='40.6971', Lon='-73.9949', timestamp='2014-04-01'),\n",
       " Row(Base='B02512', Lat='40.6881', Lon='-74.183', timestamp='2014-04-01'),\n",
       " Row(Base='B02512', Lat='40.7417', Lon='-73.9918', timestamp='2014-04-01'),\n",
       " Row(Base='B02512', Lat='40.7605', Lon='-73.9754', timestamp='2014-04-01'),\n",
       " Row(Base='B02512', Lat='40.7641', Lon='-73.9813', timestamp='2014-04-01'),\n",
       " Row(Base='B02512', Lat='40.727', Lon='-73.9998', timestamp='2014-04-01'),\n",
       " Row(Base='B02512', Lat='40.7453', Lon='-73.9908', timestamp='2014-04-01'),\n",
       " Row(Base='B02512', Lat='40.714', Lon='-73.9552', timestamp='2014-04-01'),\n",
       " Row(Base='B02512', Lat='40.7368', Lon='-73.9888', timestamp='2014-04-01'),\n",
       " Row(Base='B02512', Lat='40.7321', Lon='-73.9865', timestamp='2014-04-01'),\n",
       " Row(Base='B02512', Lat='40.764', Lon='-73.979', timestamp='2014-04-01'),\n",
       " Row(Base='B02512', Lat='40.7308', Lon='-74.0068', timestamp='2014-04-01'),\n",
       " Row(Base='B02512', Lat='40.7541', Lon='-73.9764', timestamp='2014-04-01'),\n",
       " Row(Base='B02512', Lat='40.7408', Lon='-73.992', timestamp='2014-04-01'),\n",
       " Row(Base='B02512', Lat='40.7581', Lon='-73.9751', timestamp='2014-04-01'),\n",
       " Row(Base='B02512', Lat='40.7234', Lon='-74.0036', timestamp='2014-04-01'),\n",
       " Row(Base='B02512', Lat='40.7727', Lon='-73.9558', timestamp='2014-04-01'),\n",
       " Row(Base='B02512', Lat='40.7625', Lon='-73.9769', timestamp='2014-04-01'),\n",
       " Row(Base='B02512', Lat='40.738', Lon='-74.0308', timestamp='2014-04-01'),\n",
       " Row(Base='B02512', Lat='40.7517', Lon='-73.9862', timestamp='2014-04-01'),\n",
       " Row(Base='B02512', Lat='40.7274', Lon='-74.0057', timestamp='2014-04-01'),\n",
       " Row(Base='B02512', Lat='40.7324', Lon='-73.9969', timestamp='2014-04-01'),\n",
       " Row(Base='B02512', Lat='40.7304', Lon='-74.0461', timestamp='2014-04-01'),\n",
       " Row(Base='B02512', Lat='40.7104', Lon='-73.9847', timestamp='2014-04-01'),\n",
       " Row(Base='B02512', Lat='40.7441', Lon='-73.984', timestamp='2014-04-01'),\n",
       " Row(Base='B02512', Lat='40.8262', Lon='-73.9439', timestamp='2014-04-01'),\n",
       " Row(Base='B02512', Lat='40.7218', Lon='-74.0042', timestamp='2014-04-01'),\n",
       " Row(Base='B02512', Lat='40.7594', Lon='-73.9828', timestamp='2014-04-01'),\n",
       " Row(Base='B02512', Lat='40.7327', Lon='-74.0077', timestamp='2014-04-01'),\n",
       " Row(Base='B02512', Lat='40.7616', Lon='-73.9825', timestamp='2014-04-01'),\n",
       " Row(Base='B02512', Lat='40.759', Lon='-73.9624', timestamp='2014-04-01'),\n",
       " Row(Base='B02512', Lat='40.6879', Lon='-74.181', timestamp='2014-04-01'),\n",
       " Row(Base='B02512', Lat='40.7122', Lon='-73.8232', timestamp='2014-04-01'),\n",
       " Row(Base='B02512', Lat='40.764', Lon='-73.9766', timestamp='2014-04-01'),\n",
       " Row(Base='B02512', Lat='40.7167', Lon='-74.0024', timestamp='2014-04-01'),\n",
       " Row(Base='B02512', Lat='40.6953', Lon='-74.1798', timestamp='2014-04-01'),\n",
       " Row(Base='B02512', Lat='40.7371', Lon='-74.0021', timestamp='2014-04-01'),\n",
       " Row(Base='B02512', Lat='40.7437', Lon='-73.9792', timestamp='2014-04-01'),\n",
       " Row(Base='B02512', Lat='40.751', Lon='-73.9729', timestamp='2014-04-01'),\n",
       " Row(Base='B02512', Lat='40.7999', Lon='-73.6507', timestamp='2014-04-01'),\n",
       " Row(Base='B02512', Lat='40.7261', Lon='-73.9962', timestamp='2014-04-01'),\n",
       " Row(Base='B02512', Lat='40.702', Lon='-73.9867', timestamp='2014-04-01'),\n",
       " Row(Base='B02512', Lat='40.6436', Lon='-73.7899', timestamp='2014-04-01'),\n",
       " Row(Base='B02512', Lat='40.7295', Lon='-73.987', timestamp='2014-04-01'),\n",
       " Row(Base='B02512', Lat='40.7102', Lon='-74.015', timestamp='2014-04-01'),\n",
       " Row(Base='B02512', Lat='40.7592', Lon='-73.9777', timestamp='2014-04-01'),\n",
       " Row(Base='B02512', Lat='40.7995', Lon='-73.9638', timestamp='2014-04-01'),\n",
       " Row(Base='B02512', Lat='40.7333', Lon='-74.0056', timestamp='2014-04-01'),\n",
       " Row(Base='B02512', Lat='40.8132', Lon='-74.2143', timestamp='2014-04-01'),\n",
       " Row(Base='B02512', Lat='40.7384', Lon='-73.9917', timestamp='2014-04-01'),\n",
       " Row(Base='B02512', Lat='40.7236', Lon='-74.0027', timestamp='2014-04-01'),\n",
       " Row(Base='B02512', Lat='40.764', Lon='-73.9766', timestamp='2014-04-01'),\n",
       " Row(Base='B02512', Lat='40.7533', Lon='-73.9664', timestamp='2014-04-01'),\n",
       " Row(Base='B02512', Lat='40.7636', Lon='-73.9794', timestamp='2014-04-01'),\n",
       " Row(Base='B02512', Lat='40.7322', Lon='-74.0076', timestamp='2014-04-01'),\n",
       " Row(Base='B02512', Lat='40.7146', Lon='-74.0101', timestamp='2014-04-01'),\n",
       " Row(Base='B02512', Lat='40.7271', Lon='-74.0347', timestamp='2014-04-01'),\n",
       " Row(Base='B02512', Lat='40.7475', Lon='-74.009', timestamp='2014-04-01'),\n",
       " Row(Base='B02512', Lat='40.7685', Lon='-73.8626', timestamp='2014-04-01'),\n",
       " Row(Base='B02512', Lat='40.7685', Lon='-73.8626', timestamp='2014-04-01'),\n",
       " Row(Base='B02512', Lat='40.7218', Lon='-73.9829', timestamp='2014-04-01'),\n",
       " Row(Base='B02512', Lat='40.6449', Lon='-73.7822', timestamp='2014-04-01'),\n",
       " Row(Base='B02512', Lat='40.7274', Lon='-73.9937', timestamp='2014-04-01'),\n",
       " Row(Base='B02512', Lat='40.73', Lon='-73.9856', timestamp='2014-04-01'),\n",
       " Row(Base='B02512', Lat='40.7195', Lon='-74.0323', timestamp='2014-04-01'),\n",
       " Row(Base='B02512', Lat='40.7195', Lon='-74.0323', timestamp='2014-04-01'),\n",
       " Row(Base='B02512', Lat='40.7103', Lon='-73.9847', timestamp='2014-04-01'),\n",
       " Row(Base='B02512', Lat='40.7516', Lon='-73.977', timestamp='2014-04-01'),\n",
       " Row(Base='B02512', Lat='40.7608', Lon='-73.979', timestamp='2014-04-01'),\n",
       " Row(Base='B02512', Lat='40.7636', Lon='-73.9754', timestamp='2014-04-01'),\n",
       " Row(Base='B02512', Lat='40.7588', Lon='-73.9776', timestamp='2014-04-01'),\n",
       " Row(Base='B02512', Lat='40.742', Lon='-74.0055', timestamp='2014-04-01'),\n",
       " Row(Base='B02512', Lat='40.7497', Lon='-73.9931', timestamp='2014-04-01'),\n",
       " Row(Base='B02512', Lat='40.7399', Lon='-73.9934', timestamp='2014-04-01'),\n",
       " Row(Base='B02512', Lat='40.737', Lon='-73.998', timestamp='2014-04-01'),\n",
       " Row(Base='B02512', Lat='40.7345', Lon='-74.01', timestamp='2014-04-01'),\n",
       " Row(Base='B02512', Lat='40.7737', Lon='-73.956', timestamp='2014-04-01'),\n",
       " Row(Base='B02512', Lat='40.7233', Lon='-74.0083', timestamp='2014-04-01'),\n",
       " Row(Base='B02512', Lat='40.7186', Lon='-74.0339', timestamp='2014-04-01'),\n",
       " Row(Base='B02512', Lat='40.7186', Lon='-74.0339', timestamp='2014-04-01'),\n",
       " Row(Base='B02512', Lat='40.7308', Lon='-74.001', timestamp='2014-04-01'),\n",
       " Row(Base='B02512', Lat='40.7546', Lon='-73.9893', timestamp='2014-04-01'),\n",
       " Row(Base='B02512', Lat='40.7592', Lon='-74.0228', timestamp='2014-04-01'),\n",
       " Row(Base='B02512', Lat='40.7555', Lon='-73.9731', timestamp='2014-04-01'),\n",
       " Row(Base='B02512', Lat='40.7649', Lon='-73.9807', timestamp='2014-04-01'),\n",
       " Row(Base='B02512', Lat='40.7617', Lon='-73.9845', timestamp='2014-04-01'),\n",
       " Row(Base='B02512', Lat='40.7138', Lon='-74.0635', timestamp='2014-04-01'),\n",
       " Row(Base='B02512', Lat='40.7218', Lon='-73.9934', timestamp='2014-04-01'),\n",
       " Row(Base='B02512', Lat='40.7203', Lon='-73.9794', timestamp='2014-04-01'),\n",
       " Row(Base='B02512', Lat='40.7324', Lon='-73.9931', timestamp='2014-04-01'),\n",
       " Row(Base='B02512', Lat='40.7035', Lon='-73.9907', timestamp='2014-04-01'),\n",
       " Row(Base='B02512', Lat='40.7636', Lon='-73.9694', timestamp='2014-04-01'),\n",
       " Row(Base='B02512', Lat='40.7498', Lon='-73.9899', timestamp='2014-04-01'),\n",
       " Row(Base='B02512', Lat='40.7634', Lon='-73.9792', timestamp='2014-04-01'),\n",
       " Row(Base='B02512', Lat='40.7655', Lon='-73.9758', timestamp='2014-04-01'),\n",
       " Row(Base='B02512', Lat='40.6728', Lon='-73.9834', timestamp='2014-04-01'),\n",
       " Row(Base='B02512', Lat='40.7626', Lon='-73.9787', timestamp='2014-04-01'),\n",
       " Row(Base='B02512', Lat='40.7406', Lon='-74.0068', timestamp='2014-04-01'),\n",
       " Row(Base='B02512', Lat='40.7605', Lon='-73.9706', timestamp='2014-04-01'),\n",
       " Row(Base='B02512', Lat='40.7605', Lon='-73.9706', timestamp='2014-04-01'),\n",
       " Row(Base='B02512', Lat='40.7615', Lon='-73.9785', timestamp='2014-04-01'),\n",
       " Row(Base='B02512', Lat='40.7573', Lon='-73.9742', timestamp='2014-04-01'),\n",
       " Row(Base='B02512', Lat='40.6609', Lon='-73.8847', timestamp='2014-04-01'),\n",
       " Row(Base='B02512', Lat='40.7587', Lon='-73.9795', timestamp='2014-04-01'),\n",
       " Row(Base='B02512', Lat='40.7321', Lon='-73.9959', timestamp='2014-04-01'),\n",
       " Row(Base='B02512', Lat='40.7551', Lon='-73.9872', timestamp='2014-04-01'),\n",
       " Row(Base='B02512', Lat='40.7462', Lon='-74.0081', timestamp='2014-04-01'),\n",
       " Row(Base='B02512', Lat='40.7251', Lon='-73.9921', timestamp='2014-04-01'),\n",
       " Row(Base='B02512', Lat='40.7257', Lon='-73.9946', timestamp='2014-04-01'),\n",
       " Row(Base='B02512', Lat='40.7494', Lon='-73.9922', timestamp='2014-04-01'),\n",
       " Row(Base='B02512', Lat='40.7537', Lon='-73.9744', timestamp='2014-04-01'),\n",
       " Row(Base='B02512', Lat='40.7693', Lon='-73.983', timestamp='2014-04-01'),\n",
       " Row(Base='B02512', Lat='40.7575', Lon='-73.978', timestamp='2014-04-01'),\n",
       " Row(Base='B02512', Lat='40.7644', Lon='-73.9774', timestamp='2014-04-01'),\n",
       " Row(Base='B02512', Lat='40.7461', Lon='-74.0096', timestamp='2014-04-01'),\n",
       " Row(Base='B02512', Lat='40.7017', Lon='-73.9867', timestamp='2014-04-01'),\n",
       " Row(Base='B02512', Lat='40.7272', Lon='-73.9938', timestamp='2014-04-01'),\n",
       " Row(Base='B02512', Lat='40.7294', Lon='-73.9877', timestamp='2014-04-01'),\n",
       " Row(Base='B02512', Lat='40.7366', Lon='-73.9927', timestamp='2014-04-01'),\n",
       " Row(Base='B02512', Lat='40.7419', Lon='-74.0038', timestamp='2014-04-01'),\n",
       " Row(Base='B02512', Lat='40.7614', Lon='-73.9794', timestamp='2014-04-01'),\n",
       " Row(Base='B02512', Lat='40.7094', Lon='-74.0808', timestamp='2014-04-01'),\n",
       " Row(Base='B02512', Lat='40.7636', Lon='-73.9725', timestamp='2014-04-01'),\n",
       " Row(Base='B02512', Lat='40.7405', Lon='-74.0082', timestamp='2014-04-01'),\n",
       " Row(Base='B02512', Lat='40.7315', Lon='-74.0004', timestamp='2014-04-01'),\n",
       " Row(Base='B02512', Lat='40.7425', Lon='-73.9847', timestamp='2014-04-01'),\n",
       " Row(Base='B02512', Lat='40.7441', Lon='-74.0013', timestamp='2014-04-01'),\n",
       " Row(Base='B02512', Lat='40.7647', Lon='-73.9837', timestamp='2014-04-01'),\n",
       " Row(Base='B02512', Lat='40.7708', Lon='-73.8658', timestamp='2014-04-01'),\n",
       " Row(Base='B02512', Lat='40.7231', Lon='-73.9839', timestamp='2014-04-01'),\n",
       " Row(Base='B02512', Lat='40.7508', Lon='-73.9945', timestamp='2014-04-01'),\n",
       " Row(Base='B02512', Lat='40.7598', Lon='-73.9745', timestamp='2014-04-01'),\n",
       " Row(Base='B02512', Lat='40.774', Lon='-73.8719', timestamp='2014-04-01'),\n",
       " Row(Base='B02512', Lat='40.6834', Lon='-73.975', timestamp='2014-04-01'),\n",
       " Row(Base='B02512', Lat='40.7653', Lon='-73.9789', timestamp='2014-04-01'),\n",
       " Row(Base='B02512', Lat='40.7282', Lon='-73.9992', timestamp='2014-04-01'),\n",
       " Row(Base='B02512', Lat='40.725', Lon='-73.9996', timestamp='2014-04-01'),\n",
       " Row(Base='B02512', Lat='40.7635', Lon='-73.9878', timestamp='2014-04-01'),\n",
       " Row(Base='B02512', Lat='40.7643', Lon='-73.9766', timestamp='2014-04-01'),\n",
       " Row(Base='B02512', Lat='40.7446', Lon='-73.9738', timestamp='2014-04-01'),\n",
       " Row(Base='B02512', Lat='40.7386', Lon='-74.0305', timestamp='2014-04-01'),\n",
       " Row(Base='B02512', Lat='40.7386', Lon='-74.0305', timestamp='2014-04-01'),\n",
       " Row(Base='B02512', Lat='40.7191', Lon='-74.0065', timestamp='2014-04-01'),\n",
       " Row(Base='B02512', Lat='40.7063', Lon='-74.0091', timestamp='2014-04-01'),\n",
       " Row(Base='B02512', Lat='40.7373', Lon='-74.0057', timestamp='2014-04-01'),\n",
       " Row(Base='B02512', Lat='40.6861', Lon='-73.9739', timestamp='2014-04-01'),\n",
       " Row(Base='B02512', Lat='40.7607', Lon='-73.9876', timestamp='2014-04-01'),\n",
       " Row(Base='B02512', Lat='40.7424', Lon='-73.9851', timestamp='2014-04-01'),\n",
       " Row(Base='B02512', Lat='40.7126', Lon='-73.9607', timestamp='2014-04-01'),\n",
       " Row(Base='B02512', Lat='40.7438', Lon='-73.9924', timestamp='2014-04-01'),\n",
       " Row(Base='B02512', Lat='40.6464', Lon='-73.7901', timestamp='2014-04-01'),\n",
       " Row(Base='B02512', Lat='40.6832', Lon='-73.9755', timestamp='2014-04-01'),\n",
       " Row(Base='B02512', Lat='40.7737', Lon='-73.9838', timestamp='2014-04-01'),\n",
       " Row(Base='B02512', Lat='40.7408', Lon='-73.9859', timestamp='2014-04-01'),\n",
       " Row(Base='B02512', Lat='40.7472', Lon='-73.9855', timestamp='2014-04-01'),\n",
       " Row(Base='B02512', Lat='40.7593', Lon='-73.9809', timestamp='2014-04-01'),\n",
       " Row(Base='B02512', Lat='40.7301', Lon='-74.0048', timestamp='2014-04-01'),\n",
       " Row(Base='B02512', Lat='40.8453', Lon='-74.1574', timestamp='2014-04-01'),\n",
       " Row(Base='B02512', Lat='40.7438', Lon='-73.9848', timestamp='2014-04-01'),\n",
       " Row(Base='B02512', Lat='40.7586', Lon='-73.9744', timestamp='2014-04-01'),\n",
       " Row(Base='B02512', Lat='40.7265', Lon='-74.0037', timestamp='2014-04-01'),\n",
       " Row(Base='B02512', Lat='40.7397', Lon='-74.0269', timestamp='2014-04-01'),\n",
       " Row(Base='B02512', Lat='40.7397', Lon='-74.0269', timestamp='2014-04-01'),\n",
       " Row(Base='B02512', Lat='40.7313', Lon='-73.9886', timestamp='2014-04-01'),\n",
       " Row(Base='B02512', Lat='40.7151', Lon='-74.0079', timestamp='2014-04-01'),\n",
       " Row(Base='B02512', Lat='40.7321', Lon='-74.0065', timestamp='2014-04-01'),\n",
       " Row(Base='B02512', Lat='40.7404', Lon='-74.0079', timestamp='2014-04-01'),\n",
       " Row(Base='B02512', Lat='40.7619', Lon='-73.9899', timestamp='2014-04-01'),\n",
       " Row(Base='B02512', Lat='40.699', Lon='-73.9577', timestamp='2014-04-01'),\n",
       " Row(Base='B02512', Lat='40.7368', Lon='-73.9867', timestamp='2014-04-01'),\n",
       " Row(Base='B02512', Lat='40.746', Lon='-73.9906', timestamp='2014-04-01'),\n",
       " Row(Base='B02512', Lat='40.7058', Lon='-74.0088', timestamp='2014-04-01'),\n",
       " Row(Base='B02512', Lat='40.759', Lon='-73.9724', timestamp='2014-04-01'),\n",
       " Row(Base='B02512', Lat='40.7386', Lon='-73.9855', timestamp='2014-04-01'),\n",
       " Row(Base='B02512', Lat='40.7627', Lon='-73.9713', timestamp='2014-04-01'),\n",
       " Row(Base='B02512', Lat='40.7432', Lon='-74.0075', timestamp='2014-04-01'),\n",
       " Row(Base='B02512', Lat='40.7256', Lon='-73.9881', timestamp='2014-04-01'),\n",
       " Row(Base='B02512', Lat='40.7079', Lon='-73.9464', timestamp='2014-04-01'),\n",
       " Row(Base='B02512', Lat='40.8548', Lon='-73.9369', timestamp='2014-04-01'),\n",
       " Row(Base='B02512', Lat='40.7406', Lon='-74.0057', timestamp='2014-04-01'),\n",
       " Row(Base='B02512', Lat='40.7384', Lon='-73.9855', timestamp='2014-04-01'),\n",
       " Row(Base='B02512', Lat='40.7401', Lon='-73.9792', timestamp='2014-04-01'),\n",
       " Row(Base='B02512', Lat='40.7416', Lon='-74.0038', timestamp='2014-04-01'),\n",
       " Row(Base='B02512', Lat='40.7635', Lon='-73.9764', timestamp='2014-04-01'),\n",
       " Row(Base='B02512', Lat='40.7627', Lon='-73.9832', timestamp='2014-04-01'),\n",
       " Row(Base='B02512', Lat='40.7702', Lon='-73.9818', timestamp='2014-04-01'),\n",
       " Row(Base='B02512', Lat='40.7644', Lon='-73.974', timestamp='2014-04-01'),\n",
       " Row(Base='B02512', Lat='40.7144', Lon='-74', timestamp='2014-04-01'),\n",
       " Row(Base='B02512', Lat='40.7228', Lon='-73.9554', timestamp='2014-04-01'),\n",
       " Row(Base='B02512', Lat='40.6922', Lon='-73.9873', timestamp='2014-04-01'),\n",
       " Row(Base='B02512', Lat='40.7466', Lon='-74.0095', timestamp='2014-04-01'),\n",
       " Row(Base='B02512', Lat='40.7218', Lon='-73.9975', timestamp='2014-04-01'),\n",
       " Row(Base='B02512', Lat='40.7051', Lon='-73.9205', timestamp='2014-04-01'),\n",
       " Row(Base='B02512', Lat='40.7426', Lon='-74.0042', timestamp='2014-04-01'),\n",
       " Row(Base='B02512', Lat='40.7554', Lon='-73.9702', timestamp='2014-04-01'),\n",
       " Row(Base='B02512', Lat='40.7173', Lon='-74.0097', timestamp='2014-04-01'),\n",
       " ...]"
      ]
     },
     "execution_count": 269,
     "metadata": {},
     "output_type": "execute_result"
    }
   ],
   "source": [
    "transformed_RDD"
   ]
  },
  {
   "cell_type": "code",
   "execution_count": 270,
   "metadata": {},
   "outputs": [
    {
     "data": {
      "text/plain": [
       "ParallelCollectionRDD[542] at parallelize at PythonRDD.scala:175"
      ]
     },
     "execution_count": 270,
     "metadata": {},
     "output_type": "execute_result"
    }
   ],
   "source": [
    "sc.parallelize(transformed_RDD)"
   ]
  },
  {
   "cell_type": "code",
   "execution_count": 258,
   "metadata": {},
   "outputs": [
    {
     "data": {
      "text/plain": [
       "[Row(Base='B02512', Lat='40.769', Lon='-73.9549', timestamp='2014-01-04'),\n",
       " Row(Base='B02512', Lat='40.7267', Lon='-74.0345', timestamp='2014-01-04'),\n",
       " Row(Base='B02512', Lat='40.7316', Lon='-73.9873', timestamp='2014-01-04')]"
      ]
     },
     "execution_count": 258,
     "metadata": {},
     "output_type": "execute_result"
    }
   ],
   "source": [
    "sc.parallelize(transformed_RDD).take(3)"
   ]
  },
  {
   "cell_type": "code",
   "execution_count": null,
   "metadata": {},
   "outputs": [],
   "source": [
    "sc.parallelize(transformed_RDD).take(3)"
   ]
  },
  {
   "cell_type": "code",
   "execution_count": 271,
   "metadata": {},
   "outputs": [
    {
     "data": {
      "text/plain": [
       "[('2014-04-16', 17717),\n",
       " ('2014-04-27', 14677),\n",
       " ('2014-04-30', 36251),\n",
       " ('2014-04-17', 20973),\n",
       " ('2014-04-09', 16843),\n",
       " ('2014-04-06', 13445),\n",
       " ('2014-04-28', 15475),\n",
       " ('2014-04-11', 20420),\n",
       " ('2014-04-14', 12674),\n",
       " ('2014-04-19', 14602),\n",
       " ('2014-04-26', 24925),\n",
       " ('2014-04-08', 16188),\n",
       " ('2014-04-15', 20641),\n",
       " ('2014-04-24', 23352),\n",
       " ('2014-04-21', 13162),\n",
       " ('2014-04-07', 19550),\n",
       " ('2014-04-20', 11017),\n",
       " ('2014-04-23', 20346),\n",
       " ('2014-04-02', 17474),\n",
       " ('2014-04-01', 14546),\n",
       " ('2014-04-25', 25095),\n",
       " ('2014-04-12', 18170),\n",
       " ('2014-04-03', 20701),\n",
       " ('2014-04-22', 16975),\n",
       " ('2014-04-29', 22835),\n",
       " ('2014-04-10', 20041),\n",
       " ('2014-04-18', 18074),\n",
       " ('2014-04-05', 19521),\n",
       " ('2014-04-13', 12112),\n",
       " ('2014-04-04', 26714)]"
      ]
     },
     "execution_count": 271,
     "metadata": {},
     "output_type": "execute_result"
    }
   ],
   "source": [
    "sc.parallelize(transformed_RDD).map(lambda x : (x.timestamp, 1))\\\n",
    "               .reduceByKey(add)\\\n",
    "               .take(30)\\\n",
    "    "
   ]
  },
  {
   "cell_type": "code",
   "execution_count": 272,
   "metadata": {},
   "outputs": [],
   "source": [
    "spark_RDD = df_2.rdd\n",
    "# dataframe -> RDD \n",
    "date_lon_lat_list = spark_RDD.map(\n",
    "                lambda x: Row(\n",
    "                Lat=x['Lat'],\n",
    "                Lon= x['Lon'],\n",
    "                Base=x['Base'],\n",
    "                timestamp= datetime.strptime(x['Date/Time'], '%m/%d/%Y %H:%M:%S').strftime('%Y-%m-%d') ))\\\n",
    "                .collect()\n",
    "# list -> RDD\n",
    "transformed_RDD_updated_RDD =  sc.parallelize(date_lon_lat_list)\n",
    "date_count = transformed_RDD_updated_RDD.map(lambda x : (x.timestamp, 1))\\\n",
    "                .reduceByKey(add)\\\n",
    "                .sortBy(lambda x : x[1], False)\\\n",
    "                .take(30)"
   ]
  },
  {
   "cell_type": "code",
   "execution_count": 273,
   "metadata": {},
   "outputs": [
    {
     "data": {
      "text/plain": [
       "[('2014-04-30', 36251),\n",
       " ('2014-04-04', 26714),\n",
       " ('2014-04-25', 25095),\n",
       " ('2014-04-26', 24925),\n",
       " ('2014-04-24', 23352),\n",
       " ('2014-04-29', 22835),\n",
       " ('2014-04-17', 20973),\n",
       " ('2014-04-03', 20701),\n",
       " ('2014-04-15', 20641),\n",
       " ('2014-04-11', 20420),\n",
       " ('2014-04-23', 20346),\n",
       " ('2014-04-10', 20041),\n",
       " ('2014-04-07', 19550),\n",
       " ('2014-04-05', 19521),\n",
       " ('2014-04-12', 18170),\n",
       " ('2014-04-18', 18074),\n",
       " ('2014-04-16', 17717),\n",
       " ('2014-04-02', 17474),\n",
       " ('2014-04-22', 16975),\n",
       " ('2014-04-09', 16843),\n",
       " ('2014-04-08', 16188),\n",
       " ('2014-04-28', 15475),\n",
       " ('2014-04-27', 14677),\n",
       " ('2014-04-19', 14602),\n",
       " ('2014-04-01', 14546),\n",
       " ('2014-04-06', 13445),\n",
       " ('2014-04-21', 13162),\n",
       " ('2014-04-14', 12674),\n",
       " ('2014-04-13', 12112),\n",
       " ('2014-04-20', 11017)]"
      ]
     },
     "execution_count": 273,
     "metadata": {},
     "output_type": "execute_result"
    }
   ],
   "source": [
    "date_count"
   ]
  }
 ],
 "metadata": {
  "kernelspec": {
   "display_name": "Environment (conda_pyspark_)",
   "language": "python",
   "name": "conda_pyspark_"
  },
  "language_info": {
   "codemirror_mode": {
    "name": "ipython",
    "version": 3
   },
   "file_extension": ".py",
   "mimetype": "text/x-python",
   "name": "python",
   "nbconvert_exporter": "python",
   "pygments_lexer": "ipython3",
   "version": "3.5.5"
  }
 },
 "nbformat": 4,
 "nbformat_minor": 2
}
