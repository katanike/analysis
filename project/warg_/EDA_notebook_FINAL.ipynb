{
 "cells": [
  {
   "cell_type": "markdown",
   "metadata": {},
   "source": [
    "## DATA EXPLORATION ANALYSIS\n",
    "\n",
    "### 1) Data overview \n",
    "\n",
    "### 2) KPI metrics \n",
    "    - DAU (daily active user)\n",
    "    - MAU (month active user)\n",
    "    - ARPU \n",
    "    - ARPPU\n",
    "    - Retention \n",
    "    - Transaction rate \n",
    "\n",
    "### 3) Insights \n",
    "    - Trend\n",
    "    - Issue of data \n"
   ]
  },
  {
   "cell_type": "code",
   "execution_count": 2,
   "metadata": {},
   "outputs": [
    {
     "name": "stdout",
     "output_type": "stream",
     "text": [
      "Populating the interactive namespace from numpy and matplotlib\n"
     ]
    }
   ],
   "source": [
    "import pandas as pd \n",
    "from sqlalchemy import create_engine\n",
    "%matplotlib inline\n",
    "%pylab inline\n",
    "import seaborn  as sns \n",
    "import matplotlib.pyplot as plt\n"
   ]
  },
  {
   "cell_type": "code",
   "execution_count": 8,
   "metadata": {},
   "outputs": [],
   "source": [
    "# UDF \n",
    "def get_db_data(sql):\n",
    "    try:\n",
    "        engine = create_engine('sqlite:///data/war_data.db', echo=False)\n",
    "        print (sql)\n",
    "        df = pd.read_sql(sql, engine)\n",
    "        return df\n",
    "    except Exception as e:\n",
    "        print ('query data failed', str(e))\n",
    "    \n",
    "def get_date(timestamp):\n",
    "    return timestamp[:10]"
   ]
  },
  {
   "cell_type": "code",
   "execution_count": 4,
   "metadata": {},
   "outputs": [
    {
     "name": "stdout",
     "output_type": "stream",
     "text": [
      "/Users/jerryliu/analysis\n"
     ]
    }
   ],
   "source": [
    "cd ../.."
   ]
  },
  {
   "cell_type": "code",
   "execution_count": 5,
   "metadata": {},
   "outputs": [],
   "source": [
    "# get data \n",
    "engine = create_engine('sqlite:///data/war_data.db', echo=False)\n",
    "sql_session = \"select * from session;\"\n",
    "df_session = pd.read_sql(sql_session, engine)\n",
    "sql_battle = \"select * from battle;\"\n",
    "df_battle = pd.read_sql(sql_battle, engine)\n",
    "sql_cost = \"select * from cost;\"\n",
    "df_cost = pd.read_sql(sql_cost, engine)"
   ]
  },
  {
   "cell_type": "markdown",
   "metadata": {},
   "source": [
    "## 1) DATA overview"
   ]
  },
  {
   "cell_type": "markdown",
   "metadata": {},
   "source": [
    "## 2) KPI metric"
   ]
  },
  {
   "cell_type": "markdown",
   "metadata": {},
   "source": [
    "### 2-1) DAU : user that login/access/view/pay/play game on the APP per day "
   ]
  },
  {
   "cell_type": "code",
   "execution_count": 18,
   "metadata": {},
   "outputs": [
    {
     "name": "stdout",
     "output_type": "stream",
     "text": [
      "\n",
      "select substr(event_timestamp,1, 10) AS date,\n",
      "count(distinct user_id) as user_count\n",
      "from session\n",
      "group by 1 order by 1;\n"
     ]
    }
   ],
   "source": [
    "# DAU : user that login/access/view/pay/play game on the APP per day \n",
    "\n",
    "sql_dau = \"\"\"\n",
    "select substr(event_timestamp,1, 10) AS date,\n",
    "count(distinct user_id) as user_count\n",
    "from session\n",
    "group by 1 order by 1;\"\"\"\n",
    "df_dau = get_db_data(sql_dau)"
   ]
  },
  {
   "cell_type": "code",
   "execution_count": 14,
   "metadata": {},
   "outputs": [
    {
     "data": {
      "text/html": [
       "<div>\n",
       "<style scoped>\n",
       "    .dataframe tbody tr th:only-of-type {\n",
       "        vertical-align: middle;\n",
       "    }\n",
       "\n",
       "    .dataframe tbody tr th {\n",
       "        vertical-align: top;\n",
       "    }\n",
       "\n",
       "    .dataframe thead th {\n",
       "        text-align: right;\n",
       "    }\n",
       "</style>\n",
       "<table border=\"1\" class=\"dataframe\">\n",
       "  <thead>\n",
       "    <tr style=\"text-align: right;\">\n",
       "      <th></th>\n",
       "      <th>0</th>\n",
       "      <th>1</th>\n",
       "      <th>2</th>\n",
       "      <th>3</th>\n",
       "      <th>4</th>\n",
       "      <th>5</th>\n",
       "      <th>6</th>\n",
       "      <th>7</th>\n",
       "      <th>8</th>\n",
       "      <th>9</th>\n",
       "      <th>...</th>\n",
       "      <th>338</th>\n",
       "      <th>339</th>\n",
       "      <th>340</th>\n",
       "      <th>341</th>\n",
       "      <th>342</th>\n",
       "      <th>343</th>\n",
       "      <th>344</th>\n",
       "      <th>345</th>\n",
       "      <th>346</th>\n",
       "      <th>347</th>\n",
       "    </tr>\n",
       "  </thead>\n",
       "  <tbody>\n",
       "    <tr>\n",
       "      <th>date</th>\n",
       "      <td>2018-01-01</td>\n",
       "      <td>2018-01-02</td>\n",
       "      <td>2018-01-03</td>\n",
       "      <td>2018-01-04</td>\n",
       "      <td>2018-01-05</td>\n",
       "      <td>2018-01-06</td>\n",
       "      <td>2018-01-07</td>\n",
       "      <td>2018-01-08</td>\n",
       "      <td>2018-01-09</td>\n",
       "      <td>2018-01-10</td>\n",
       "      <td>...</td>\n",
       "      <td>2018-12-05</td>\n",
       "      <td>2018-12-06</td>\n",
       "      <td>2018-12-07</td>\n",
       "      <td>2018-12-08</td>\n",
       "      <td>2018-12-09</td>\n",
       "      <td>2018-12-10</td>\n",
       "      <td>2018-12-11</td>\n",
       "      <td>2018-12-12</td>\n",
       "      <td>2018-12-13</td>\n",
       "      <td>2018-12-14</td>\n",
       "    </tr>\n",
       "    <tr>\n",
       "      <th>count(distinct user_id)</th>\n",
       "      <td>5</td>\n",
       "      <td>7</td>\n",
       "      <td>9</td>\n",
       "      <td>15</td>\n",
       "      <td>19</td>\n",
       "      <td>20</td>\n",
       "      <td>21</td>\n",
       "      <td>26</td>\n",
       "      <td>20</td>\n",
       "      <td>18</td>\n",
       "      <td>...</td>\n",
       "      <td>18</td>\n",
       "      <td>23</td>\n",
       "      <td>23</td>\n",
       "      <td>23</td>\n",
       "      <td>19</td>\n",
       "      <td>13</td>\n",
       "      <td>9</td>\n",
       "      <td>4</td>\n",
       "      <td>1</td>\n",
       "      <td>1</td>\n",
       "    </tr>\n",
       "  </tbody>\n",
       "</table>\n",
       "<p>2 rows × 348 columns</p>\n",
       "</div>"
      ],
      "text/plain": [
       "                                0           1           2           3    \\\n",
       "date                     2018-01-01  2018-01-02  2018-01-03  2018-01-04   \n",
       "count(distinct user_id)           5           7           9          15   \n",
       "\n",
       "                                4           5           6           7    \\\n",
       "date                     2018-01-05  2018-01-06  2018-01-07  2018-01-08   \n",
       "count(distinct user_id)          19          20          21          26   \n",
       "\n",
       "                                8           9       ...             338  \\\n",
       "date                     2018-01-09  2018-01-10     ...      2018-12-05   \n",
       "count(distinct user_id)          20          18     ...              18   \n",
       "\n",
       "                                339         340         341         342  \\\n",
       "date                     2018-12-06  2018-12-07  2018-12-08  2018-12-09   \n",
       "count(distinct user_id)          23          23          23          19   \n",
       "\n",
       "                                343         344         345         346  \\\n",
       "date                     2018-12-10  2018-12-11  2018-12-12  2018-12-13   \n",
       "count(distinct user_id)          13           9           4           1   \n",
       "\n",
       "                                347  \n",
       "date                     2018-12-14  \n",
       "count(distinct user_id)           1  \n",
       "\n",
       "[2 rows x 348 columns]"
      ]
     },
     "execution_count": 14,
     "metadata": {},
     "output_type": "execute_result"
    }
   ],
   "source": [
    "df_dau.T"
   ]
  },
  {
   "cell_type": "code",
   "execution_count": 20,
   "metadata": {},
   "outputs": [
    {
     "data": {
      "image/png": "[encoded data removed]",
      "text/plain": [
       "<Figure size 432x288 with 1 Axes>"
      ]
     },
     "metadata": {},
     "output_type": "display_data"
    }
   ],
   "source": [
    "sns.lineplot(x=\"date\", \n",
    "             y=\"user_count\",\n",
    "             data=df_dau)\n",
    "plt.show()"
   ]
  },
  {
   "cell_type": "markdown",
   "metadata": {},
   "source": [
    "### 2-2) ARPU  : Average revenue per user "
   ]
  },
  {
   "cell_type": "code",
   "execution_count": 25,
   "metadata": {},
   "outputs": [
    {
     "name": "stdout",
     "output_type": "stream",
     "text": [
      "\n",
      "\n",
      "with dau as (\n",
      "select substr(event_timestamp,1, 10) AS date,\n",
      "count(distinct user_id) as user_count\n",
      "from session\n",
      "group by 1),\n",
      "revenue as ( \n",
      "select substr(event_timestamp,1, 10) AS date,\n",
      "sum(usd_cost) as day_revenue\n",
      "from cost\n",
      "group by 1)\n",
      "select \n",
      "dau.date,\n",
      "revenue.day_revenue/dau.user_count as arpu\n",
      "from dau\n",
      "left join revenue on revenue.date = dau.date;\n",
      "\n",
      "\n"
     ]
    }
   ],
   "source": [
    "# ARPU : Average revenue per user\n",
    "\n",
    "sql_arpu = \"\"\"\n",
    "\n",
    "with dau as (\n",
    "select substr(event_timestamp,1, 10) AS date,\n",
    "count(distinct user_id) as user_count\n",
    "from session\n",
    "group by 1),\n",
    "revenue as ( \n",
    "select substr(event_timestamp,1, 10) AS date,\n",
    "sum(usd_cost) as day_revenue\n",
    "from cost\n",
    "group by 1)\n",
    "select \n",
    "dau.date,\n",
    "revenue.day_revenue/dau.user_count as arpu\n",
    "from dau\n",
    "left join revenue on revenue.date = dau.date;\n",
    "\n",
    "\"\"\"\n",
    "df_arpu = get_db_data(sql_arpu)"
   ]
  },
  {
   "cell_type": "code",
   "execution_count": 27,
   "metadata": {},
   "outputs": [
    {
     "data": {
      "text/html": [
       "<div>\n",
       "<style scoped>\n",
       "    .dataframe tbody tr th:only-of-type {\n",
       "        vertical-align: middle;\n",
       "    }\n",
       "\n",
       "    .dataframe tbody tr th {\n",
       "        vertical-align: top;\n",
       "    }\n",
       "\n",
       "    .dataframe thead th {\n",
       "        text-align: right;\n",
       "    }\n",
       "</style>\n",
       "<table border=\"1\" class=\"dataframe\">\n",
       "  <thead>\n",
       "    <tr style=\"text-align: right;\">\n",
       "      <th></th>\n",
       "      <th>0</th>\n",
       "      <th>1</th>\n",
       "      <th>2</th>\n",
       "      <th>3</th>\n",
       "      <th>4</th>\n",
       "      <th>5</th>\n",
       "      <th>6</th>\n",
       "      <th>7</th>\n",
       "      <th>8</th>\n",
       "      <th>9</th>\n",
       "      <th>...</th>\n",
       "      <th>338</th>\n",
       "      <th>339</th>\n",
       "      <th>340</th>\n",
       "      <th>341</th>\n",
       "      <th>342</th>\n",
       "      <th>343</th>\n",
       "      <th>344</th>\n",
       "      <th>345</th>\n",
       "      <th>346</th>\n",
       "      <th>347</th>\n",
       "    </tr>\n",
       "  </thead>\n",
       "  <tbody>\n",
       "    <tr>\n",
       "      <th>date</th>\n",
       "      <td>2018-01-01</td>\n",
       "      <td>2018-01-02</td>\n",
       "      <td>2018-01-03</td>\n",
       "      <td>2018-01-04</td>\n",
       "      <td>2018-01-05</td>\n",
       "      <td>2018-01-06</td>\n",
       "      <td>2018-01-07</td>\n",
       "      <td>2018-01-08</td>\n",
       "      <td>2018-01-09</td>\n",
       "      <td>2018-01-10</td>\n",
       "      <td>...</td>\n",
       "      <td>2018-12-05</td>\n",
       "      <td>2018-12-06</td>\n",
       "      <td>2018-12-07</td>\n",
       "      <td>2018-12-08</td>\n",
       "      <td>2018-12-09</td>\n",
       "      <td>2018-12-10</td>\n",
       "      <td>2018-12-11</td>\n",
       "      <td>2018-12-12</td>\n",
       "      <td>2018-12-13</td>\n",
       "      <td>2018-12-14</td>\n",
       "    </tr>\n",
       "    <tr>\n",
       "      <th>arpu</th>\n",
       "      <td>NaN</td>\n",
       "      <td>NaN</td>\n",
       "      <td>1.11</td>\n",
       "      <td>4.13333</td>\n",
       "      <td>NaN</td>\n",
       "      <td>NaN</td>\n",
       "      <td>0.190476</td>\n",
       "      <td>0.346154</td>\n",
       "      <td>NaN</td>\n",
       "      <td>0.776667</td>\n",
       "      <td>...</td>\n",
       "      <td>NaN</td>\n",
       "      <td>NaN</td>\n",
       "      <td>NaN</td>\n",
       "      <td>NaN</td>\n",
       "      <td>NaN</td>\n",
       "      <td>NaN</td>\n",
       "      <td>NaN</td>\n",
       "      <td>NaN</td>\n",
       "      <td>NaN</td>\n",
       "      <td>NaN</td>\n",
       "    </tr>\n",
       "  </tbody>\n",
       "</table>\n",
       "<p>2 rows × 348 columns</p>\n",
       "</div>"
      ],
      "text/plain": [
       "             0           1           2           3           4           5    \\\n",
       "date  2018-01-01  2018-01-02  2018-01-03  2018-01-04  2018-01-05  2018-01-06   \n",
       "arpu         NaN         NaN        1.11     4.13333         NaN         NaN   \n",
       "\n",
       "             6           7           8           9       ...             338  \\\n",
       "date  2018-01-07  2018-01-08  2018-01-09  2018-01-10     ...      2018-12-05   \n",
       "arpu    0.190476    0.346154         NaN    0.776667     ...             NaN   \n",
       "\n",
       "             339         340         341         342         343         344  \\\n",
       "date  2018-12-06  2018-12-07  2018-12-08  2018-12-09  2018-12-10  2018-12-11   \n",
       "arpu         NaN         NaN         NaN         NaN         NaN         NaN   \n",
       "\n",
       "             345         346         347  \n",
       "date  2018-12-12  2018-12-13  2018-12-14  \n",
       "arpu         NaN         NaN         NaN  \n",
       "\n",
       "[2 rows x 348 columns]"
      ]
     },
     "execution_count": 27,
     "metadata": {},
     "output_type": "execute_result"
    }
   ],
   "source": [
    "df_arpu.T"
   ]
  }
 ],
 "metadata": {
  "kernelspec": {
   "display_name": "Python 3",
   "language": "python",
   "name": "python3"
  },
  "language_info": {
   "codemirror_mode": {
    "name": "ipython",
    "version": 3
   },
   "file_extension": ".py",
   "mimetype": "text/x-python",
   "name": "python",
   "nbconvert_exporter": "python",
   "pygments_lexer": "ipython3",
   "version": "3.6.4"
  }
 },
 "nbformat": 4,
 "nbformat_minor": 2
}
