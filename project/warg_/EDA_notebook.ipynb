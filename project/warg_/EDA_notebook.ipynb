{
 "cells": [
  {
   "cell_type": "markdown",
   "metadata": {},
   "source": [
    "## DATA EXPLORATION ANALYSIS\n",
    "\n",
    "### 1) Data overview \n",
    "\n",
    "### 2) KPI metrics \n",
    "\n",
    "### 3) Insights \n",
    "    - Trend\n",
    "    - Issue of data \n"
   ]
  },
  {
   "cell_type": "code",
   "execution_count": 17,
   "metadata": {},
   "outputs": [],
   "source": [
    "import pandas as pd \n",
    "from sqlalchemy import create_engine\n",
    "\n",
    "engine = create_engine('sqlite:///data/wargame.db', echo=False)\n",
    "sql = \"select * from session;\"\n",
    "df_session = pd.read_sql(sql, engine)"
   ]
  },
  {
   "cell_type": "code",
   "execution_count": 18,
   "metadata": {},
   "outputs": [
    {
     "data": {
      "text/plain": [
       "16375"
      ]
     },
     "execution_count": 18,
     "metadata": {},
     "output_type": "execute_result"
    }
   ],
   "source": [
    "len(df_session)"
   ]
  },
  {
   "cell_type": "code",
   "execution_count": 11,
   "metadata": {},
   "outputs": [
    {
     "data": {
      "text/html": [
       "<div>\n",
       "<style scoped>\n",
       "    .dataframe tbody tr th:only-of-type {\n",
       "        vertical-align: middle;\n",
       "    }\n",
       "\n",
       "    .dataframe tbody tr th {\n",
       "        vertical-align: top;\n",
       "    }\n",
       "\n",
       "    .dataframe thead th {\n",
       "        text-align: right;\n",
       "    }\n",
       "</style>\n",
       "<table border=\"1\" class=\"dataframe\">\n",
       "  <thead>\n",
       "    <tr style=\"text-align: right;\">\n",
       "      <th></th>\n",
       "      <th>index</th>\n",
       "      <th>client_version</th>\n",
       "      <th>event_name</th>\n",
       "      <th>event_timestamp</th>\n",
       "      <th>is_premium</th>\n",
       "      <th>login_attempt_id</th>\n",
       "      <th>platform</th>\n",
       "      <th>player_name</th>\n",
       "      <th>server_version</th>\n",
       "      <th>session_id</th>\n",
       "      <th>user_device_country</th>\n",
       "      <th>user_id</th>\n",
       "      <th>user_ip</th>\n",
       "      <th>user_is_spender</th>\n",
       "      <th>user_server_region</th>\n",
       "      <th>user_type</th>\n",
       "    </tr>\n",
       "  </thead>\n",
       "  <tbody>\n",
       "    <tr>\n",
       "      <td>0</td>\n",
       "      <td>0</td>\n",
       "      <td>1.3.0</td>\n",
       "      <td>session_started</td>\n",
       "      <td>2018-03-01 07:10:48.499895</td>\n",
       "      <td>0</td>\n",
       "      <td>89c571bd-16de-4785-a051-f10aa27d54fa</td>\n",
       "      <td>IOS_MOBILE</td>\n",
       "      <td>luskfmpg</td>\n",
       "      <td>0.1.220</td>\n",
       "      <td>82e80eb5-42cd-4ed7-92c7-6e280f7bbcf1</td>\n",
       "      <td>US</td>\n",
       "      <td>85dff3d5-6f56-4601-9a24-400624f9a024</td>\n",
       "      <td>253.122.152.86</td>\n",
       "      <td>0</td>\n",
       "      <td>US</td>\n",
       "      <td>PLAYER</td>\n",
       "    </tr>\n",
       "  </tbody>\n",
       "</table>\n",
       "</div>"
      ],
      "text/plain": [
       "   index client_version       event_name             event_timestamp  \\\n",
       "0      0          1.3.0  session_started  2018-03-01 07:10:48.499895   \n",
       "\n",
       "   is_premium                      login_attempt_id    platform player_name  \\\n",
       "0           0  89c571bd-16de-4785-a051-f10aa27d54fa  IOS_MOBILE    luskfmpg   \n",
       "\n",
       "  server_version                            session_id user_device_country  \\\n",
       "0        0.1.220  82e80eb5-42cd-4ed7-92c7-6e280f7bbcf1                  US   \n",
       "\n",
       "                                user_id         user_ip  user_is_spender  \\\n",
       "0  85dff3d5-6f56-4601-9a24-400624f9a024  253.122.152.86                0   \n",
       "\n",
       "  user_server_region user_type  \n",
       "0                 US    PLAYER  "
      ]
     },
     "execution_count": 11,
     "metadata": {},
     "output_type": "execute_result"
    }
   ],
   "source": [
    "df_session.head(1)"
   ]
  },
  {
   "cell_type": "code",
   "execution_count": 21,
   "metadata": {},
   "outputs": [
    {
     "data": {
      "text/plain": [
       "US    16375\n",
       "Name: user_device_country, dtype: int64"
      ]
     },
     "execution_count": 21,
     "metadata": {},
     "output_type": "execute_result"
    }
   ],
   "source": [
    "df_session.user_device_country.value_counts()"
   ]
  },
  {
   "cell_type": "code",
   "execution_count": 20,
   "metadata": {},
   "outputs": [
    {
     "data": {
      "text/plain": [
       "session_started    16375\n",
       "Name: event_name, dtype: int64"
      ]
     },
     "execution_count": 20,
     "metadata": {},
     "output_type": "execute_result"
    }
   ],
   "source": [
    "df_session.event_name.value_counts()"
   ]
  },
  {
   "cell_type": "code",
   "execution_count": 19,
   "metadata": {},
   "outputs": [
    {
     "data": {
      "text/plain": [
       "PLAYER    16375\n",
       "Name: user_type, dtype: int64"
      ]
     },
     "execution_count": 19,
     "metadata": {},
     "output_type": "execute_result"
    }
   ],
   "source": [
    "df_session.user_type.value_counts()"
   ]
  },
  {
   "cell_type": "code",
   "execution_count": 14,
   "metadata": {},
   "outputs": [
    {
     "data": {
      "text/plain": [
       "0     2018-03-01 07:10:48.499895\n",
       "1     2018-05-01 13:58:47.838814\n",
       "2            2018-09-29 22:42:47\n",
       "3     2018-07-05 01:45:05.074643\n",
       "4     2018-08-20 16:41:35.010536\n",
       "                 ...            \n",
       "95    2018-10-26 15:58:45.859395\n",
       "96    2018-01-25 19:19:44.962230\n",
       "97           2018-07-15 22:42:46\n",
       "98           2018-11-29 01:04:09\n",
       "99    2018-08-02 02:45:25.792942\n",
       "Name: event_timestamp, Length: 100, dtype: object"
      ]
     },
     "execution_count": 14,
     "metadata": {},
     "output_type": "execute_result"
    }
   ],
   "source": [
    "df_session.event_timestamp"
   ]
  }
 ],
 "metadata": {
  "kernelspec": {
   "display_name": "Python [conda env:ds_dash]",
   "language": "python",
   "name": "conda-env-ds_dash-py"
  },
  "language_info": {
   "codemirror_mode": {
    "name": "ipython",
    "version": 3
   },
   "file_extension": ".py",
   "mimetype": "text/x-python",
   "name": "python",
   "nbconvert_exporter": "python",
   "pygments_lexer": "ipython3",
   "version": "3.5.4"
  }
 },
 "nbformat": 4,
 "nbformat_minor": 2
}
