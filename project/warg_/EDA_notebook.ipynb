{
 "cells": [
  {
   "cell_type": "markdown",
   "metadata": {},
   "source": [
    "## DATA EXPLORATION ANALYSIS\n",
    "\n",
    "### 1) Data overview \n",
    "\n",
    "### 2) KPI metrics \n",
    "    - DAU (daily active user)\n",
    "    - MAU (month active user)\n",
    "    - ARPU \n",
    "    - ARPPU\n",
    "    - Retention \n",
    "    - Transaction rate \n",
    "\n",
    "### 3) Insights \n",
    "    - Trend\n",
    "    - Issue of data \n"
   ]
  },
  {
   "cell_type": "code",
   "execution_count": 1,
   "metadata": {},
   "outputs": [
    {
     "name": "stdout",
     "output_type": "stream",
     "text": [
      "Populating the interactive namespace from numpy and matplotlib\n"
     ]
    }
   ],
   "source": [
    "import pandas as pd \n",
    "from sqlalchemy import create_engine\n",
    "%matplotlib inline\n",
    "%pylab inline\n",
    "import seaborn  as sns \n",
    "import matplotlib.pyplot as plt\n"
   ]
  },
  {
   "cell_type": "code",
   "execution_count": 12,
   "metadata": {},
   "outputs": [],
   "source": [
    "def get_date(timestamp):\n",
    "    return timestamp[:10]"
   ]
  },
  {
   "cell_type": "code",
   "execution_count": 3,
   "metadata": {},
   "outputs": [
    {
     "name": "stdout",
     "output_type": "stream",
     "text": [
      "/Users/jerryliu/analysis\n"
     ]
    }
   ],
   "source": [
    "cd ../.."
   ]
  },
  {
   "cell_type": "code",
   "execution_count": 37,
   "metadata": {},
   "outputs": [],
   "source": [
    "engine = create_engine('sqlite:///data/war_data.db', echo=False)\n",
    "sql_session = \"select * from session;\"\n",
    "df_session = pd.read_sql(sql_session, engine)\n",
    "sql_battle = \"select * from battle;\"\n",
    "df_battle = pd.read_sql(sql_battle, engine)\n",
    "sql_cost = \"select * from cost;\"\n",
    "df_cost = pd.read_sql(sql_cost, engine)"
   ]
  },
  {
   "cell_type": "markdown",
   "metadata": {},
   "source": [
    "## COST "
   ]
  },
  {
   "cell_type": "code",
   "execution_count": 39,
   "metadata": {},
   "outputs": [
    {
     "data": {
      "text/html": [
       "<div>\n",
       "<style scoped>\n",
       "    .dataframe tbody tr th:only-of-type {\n",
       "        vertical-align: middle;\n",
       "    }\n",
       "\n",
       "    .dataframe tbody tr th {\n",
       "        vertical-align: top;\n",
       "    }\n",
       "\n",
       "    .dataframe thead th {\n",
       "        text-align: right;\n",
       "    }\n",
       "</style>\n",
       "<table border=\"1\" class=\"dataframe\">\n",
       "  <thead>\n",
       "    <tr style=\"text-align: right;\">\n",
       "      <th></th>\n",
       "      <th>index</th>\n",
       "      <th>client_version</th>\n",
       "      <th>event_name</th>\n",
       "      <th>event_timestamp</th>\n",
       "      <th>is_premium</th>\n",
       "      <th>platform</th>\n",
       "      <th>player_name</th>\n",
       "      <th>product_name</th>\n",
       "      <th>real_currency_amount</th>\n",
       "      <th>real_currency_type</th>\n",
       "      <th>server_version</th>\n",
       "      <th>usd_cost</th>\n",
       "      <th>user_device_country</th>\n",
       "      <th>user_id</th>\n",
       "      <th>user_ip</th>\n",
       "      <th>user_is_spender</th>\n",
       "      <th>user_server_region</th>\n",
       "      <th>user_type</th>\n",
       "    </tr>\n",
       "  </thead>\n",
       "  <tbody>\n",
       "    <tr>\n",
       "      <th>0</th>\n",
       "      <td>0</td>\n",
       "      <td>1.3.0</td>\n",
       "      <td>in_app_purchase_log_server</td>\n",
       "      <td>2018-10-25 08:24:27.164771</td>\n",
       "      <td>0</td>\n",
       "      <td>IOS_MOBILE</td>\n",
       "      <td>woiogu</td>\n",
       "      <td>gems_medium</td>\n",
       "      <td>9.99</td>\n",
       "      <td>USD</td>\n",
       "      <td>0.1.220</td>\n",
       "      <td>9.99</td>\n",
       "      <td>US</td>\n",
       "      <td>387e9319-0322-4aa7-bd1b-849ec4549236</td>\n",
       "      <td>85.185.154.2</td>\n",
       "      <td>1</td>\n",
       "      <td>US</td>\n",
       "      <td>PLAYER</td>\n",
       "    </tr>\n",
       "    <tr>\n",
       "      <th>1</th>\n",
       "      <td>1</td>\n",
       "      <td>1.3.0</td>\n",
       "      <td>in_app_purchase_log_server</td>\n",
       "      <td>2018-09-06 13:53:43.766954</td>\n",
       "      <td>0</td>\n",
       "      <td>IOS_MOBILE</td>\n",
       "      <td>mfyqqump</td>\n",
       "      <td>gems_small</td>\n",
       "      <td>4.99</td>\n",
       "      <td>USD</td>\n",
       "      <td>0.1.220</td>\n",
       "      <td>4.99</td>\n",
       "      <td>US</td>\n",
       "      <td>104865e8-b05c-43d4-91e0-9cd47eb4e336</td>\n",
       "      <td>68.141.250.207</td>\n",
       "      <td>1</td>\n",
       "      <td>US</td>\n",
       "      <td>PLAYER</td>\n",
       "    </tr>\n",
       "    <tr>\n",
       "      <th>2</th>\n",
       "      <td>2</td>\n",
       "      <td>1.3.0</td>\n",
       "      <td>in_app_purchase_log_server</td>\n",
       "      <td>2018-04-26 19:40:38.635197</td>\n",
       "      <td>0</td>\n",
       "      <td>IOS_MOBILE</td>\n",
       "      <td>ksebgpggrxi</td>\n",
       "      <td>gems_large</td>\n",
       "      <td>49,99</td>\n",
       "      <td>EUR</td>\n",
       "      <td>0.1.220</td>\n",
       "      <td>49,99</td>\n",
       "      <td>US</td>\n",
       "      <td>ce4ec61d-f1ff-4ac6-bad4-fd402242b8f3</td>\n",
       "      <td>218.132.111.36</td>\n",
       "      <td>1</td>\n",
       "      <td>EU</td>\n",
       "      <td>PLAYER</td>\n",
       "    </tr>\n",
       "  </tbody>\n",
       "</table>\n",
       "</div>"
      ],
      "text/plain": [
       "   index client_version                  event_name  \\\n",
       "0      0          1.3.0  in_app_purchase_log_server   \n",
       "1      1          1.3.0  in_app_purchase_log_server   \n",
       "2      2          1.3.0  in_app_purchase_log_server   \n",
       "\n",
       "              event_timestamp  is_premium    platform  player_name  \\\n",
       "0  2018-10-25 08:24:27.164771           0  IOS_MOBILE       woiogu   \n",
       "1  2018-09-06 13:53:43.766954           0  IOS_MOBILE     mfyqqump   \n",
       "2  2018-04-26 19:40:38.635197           0  IOS_MOBILE  ksebgpggrxi   \n",
       "\n",
       "  product_name real_currency_amount real_currency_type server_version  \\\n",
       "0  gems_medium                 9.99                USD        0.1.220   \n",
       "1   gems_small                 4.99                USD        0.1.220   \n",
       "2   gems_large                49,99                EUR        0.1.220   \n",
       "\n",
       "  usd_cost user_device_country                               user_id  \\\n",
       "0     9.99                  US  387e9319-0322-4aa7-bd1b-849ec4549236   \n",
       "1     4.99                  US  104865e8-b05c-43d4-91e0-9cd47eb4e336   \n",
       "2    49,99                  US  ce4ec61d-f1ff-4ac6-bad4-fd402242b8f3   \n",
       "\n",
       "          user_ip  user_is_spender user_server_region user_type  \n",
       "0    85.185.154.2                1                 US    PLAYER  \n",
       "1  68.141.250.207                1                 US    PLAYER  \n",
       "2  218.132.111.36                1                 EU    PLAYER  "
      ]
     },
     "execution_count": 39,
     "metadata": {},
     "output_type": "execute_result"
    }
   ],
   "source": [
    "df_cost.head(3)"
   ]
  },
  {
   "cell_type": "code",
   "execution_count": null,
   "metadata": {},
   "outputs": [],
   "source": []
  },
  {
   "cell_type": "code",
   "execution_count": null,
   "metadata": {},
   "outputs": [],
   "source": []
  },
  {
   "cell_type": "markdown",
   "metadata": {},
   "source": [
    "## SESSION "
   ]
  },
  {
   "cell_type": "code",
   "execution_count": 41,
   "metadata": {},
   "outputs": [
    {
     "data": {
      "text/html": [
       "<div>\n",
       "<style scoped>\n",
       "    .dataframe tbody tr th:only-of-type {\n",
       "        vertical-align: middle;\n",
       "    }\n",
       "\n",
       "    .dataframe tbody tr th {\n",
       "        vertical-align: top;\n",
       "    }\n",
       "\n",
       "    .dataframe thead th {\n",
       "        text-align: right;\n",
       "    }\n",
       "</style>\n",
       "<table border=\"1\" class=\"dataframe\">\n",
       "  <thead>\n",
       "    <tr style=\"text-align: right;\">\n",
       "      <th></th>\n",
       "      <th>index</th>\n",
       "      <th>client_version</th>\n",
       "      <th>event_name</th>\n",
       "      <th>event_timestamp</th>\n",
       "      <th>is_premium</th>\n",
       "      <th>login_attempt_id</th>\n",
       "      <th>platform</th>\n",
       "      <th>player_name</th>\n",
       "      <th>server_version</th>\n",
       "      <th>session_id</th>\n",
       "      <th>user_device_country</th>\n",
       "      <th>user_id</th>\n",
       "      <th>user_ip</th>\n",
       "      <th>user_is_spender</th>\n",
       "      <th>user_server_region</th>\n",
       "      <th>user_type</th>\n",
       "    </tr>\n",
       "  </thead>\n",
       "  <tbody>\n",
       "    <tr>\n",
       "      <th>0</th>\n",
       "      <td>0</td>\n",
       "      <td>1.3.0</td>\n",
       "      <td>session_started</td>\n",
       "      <td>2018-03-01 07:10:48.499895</td>\n",
       "      <td>0</td>\n",
       "      <td>89c571bd-16de-4785-a051-f10aa27d54fa</td>\n",
       "      <td>IOS_MOBILE</td>\n",
       "      <td>luskfmpg</td>\n",
       "      <td>0.1.220</td>\n",
       "      <td>82e80eb5-42cd-4ed7-92c7-6e280f7bbcf1</td>\n",
       "      <td>US</td>\n",
       "      <td>85dff3d5-6f56-4601-9a24-400624f9a024</td>\n",
       "      <td>253.122.152.86</td>\n",
       "      <td>0</td>\n",
       "      <td>US</td>\n",
       "      <td>PLAYER</td>\n",
       "    </tr>\n",
       "    <tr>\n",
       "      <th>1</th>\n",
       "      <td>1</td>\n",
       "      <td>1.3.0</td>\n",
       "      <td>session_started</td>\n",
       "      <td>2018-05-01 13:58:47.838814</td>\n",
       "      <td>0</td>\n",
       "      <td>7ff39fa8-819c-4553-8cd0-4b000d338191</td>\n",
       "      <td>IOS_TABLET</td>\n",
       "      <td>myggq</td>\n",
       "      <td>0.1.220</td>\n",
       "      <td>0b76d245-a586-4b0c-a405-3dd09f255a65</td>\n",
       "      <td>US</td>\n",
       "      <td>0c91ed1d-40cc-419a-bd28-7a371e191f70</td>\n",
       "      <td>38.192.175.54</td>\n",
       "      <td>0</td>\n",
       "      <td>US</td>\n",
       "      <td>PLAYER</td>\n",
       "    </tr>\n",
       "    <tr>\n",
       "      <th>2</th>\n",
       "      <td>2</td>\n",
       "      <td>1.3.0</td>\n",
       "      <td>session_started</td>\n",
       "      <td>2018-09-29 22:42:47</td>\n",
       "      <td>0</td>\n",
       "      <td>d7c3b9fe-2464-45b2-90c8-825d3bb08335</td>\n",
       "      <td>IOS_TABLET</td>\n",
       "      <td>xuaushlwm</td>\n",
       "      <td>0.1.220</td>\n",
       "      <td>bfc766f4-ed5c-41a8-b887-f11378b3e483</td>\n",
       "      <td>US</td>\n",
       "      <td>d0c8f5e2-2f19-42dc-b279-0d7420ba90a2</td>\n",
       "      <td>89.252.254.157</td>\n",
       "      <td>0</td>\n",
       "      <td>EU</td>\n",
       "      <td>PLAYER</td>\n",
       "    </tr>\n",
       "  </tbody>\n",
       "</table>\n",
       "</div>"
      ],
      "text/plain": [
       "   index client_version       event_name             event_timestamp  \\\n",
       "0      0          1.3.0  session_started  2018-03-01 07:10:48.499895   \n",
       "1      1          1.3.0  session_started  2018-05-01 13:58:47.838814   \n",
       "2      2          1.3.0  session_started         2018-09-29 22:42:47   \n",
       "\n",
       "   is_premium                      login_attempt_id    platform player_name  \\\n",
       "0           0  89c571bd-16de-4785-a051-f10aa27d54fa  IOS_MOBILE    luskfmpg   \n",
       "1           0  7ff39fa8-819c-4553-8cd0-4b000d338191  IOS_TABLET       myggq   \n",
       "2           0  d7c3b9fe-2464-45b2-90c8-825d3bb08335  IOS_TABLET   xuaushlwm   \n",
       "\n",
       "  server_version                            session_id user_device_country  \\\n",
       "0        0.1.220  82e80eb5-42cd-4ed7-92c7-6e280f7bbcf1                  US   \n",
       "1        0.1.220  0b76d245-a586-4b0c-a405-3dd09f255a65                  US   \n",
       "2        0.1.220  bfc766f4-ed5c-41a8-b887-f11378b3e483                  US   \n",
       "\n",
       "                                user_id         user_ip  user_is_spender  \\\n",
       "0  85dff3d5-6f56-4601-9a24-400624f9a024  253.122.152.86                0   \n",
       "1  0c91ed1d-40cc-419a-bd28-7a371e191f70   38.192.175.54                0   \n",
       "2  d0c8f5e2-2f19-42dc-b279-0d7420ba90a2  89.252.254.157                0   \n",
       "\n",
       "  user_server_region user_type  \n",
       "0                 US    PLAYER  \n",
       "1                 US    PLAYER  \n",
       "2                 EU    PLAYER  "
      ]
     },
     "execution_count": 41,
     "metadata": {},
     "output_type": "execute_result"
    }
   ],
   "source": [
    "df_session.head(3)"
   ]
  },
  {
   "cell_type": "code",
   "execution_count": 14,
   "metadata": {},
   "outputs": [],
   "source": [
    "df_session['date'] = df_session['event_timestamp'].map(get_date)"
   ]
  },
  {
   "cell_type": "code",
   "execution_count": 5,
   "metadata": {},
   "outputs": [
    {
     "data": {
      "text/plain": [
       "16375"
      ]
     },
     "execution_count": 5,
     "metadata": {},
     "output_type": "execute_result"
    }
   ],
   "source": [
    "len(df_session)"
   ]
  },
  {
   "cell_type": "code",
   "execution_count": 34,
   "metadata": {},
   "outputs": [
    {
     "data": {
      "text/plain": [
       "<matplotlib.axes._subplots.AxesSubplot at 0x1198cd940>"
      ]
     },
     "execution_count": 34,
     "metadata": {},
     "output_type": "execute_result"
    },
    {
     "data": {
      "image/png": "[encoded data removed]",
      "text/plain": [
       "<Figure size 432x288 with 1 Axes>"
      ]
     },
     "metadata": {},
     "output_type": "display_data"
    }
   ],
   "source": [
    "# distributuon of session date \n",
    "session_count = df_session.groupby('date')\\\n",
    "                .count()\\\n",
    "                .reset_index()\\\n",
    "                [['date','index']]\\\n",
    "                .set_index('date')\n",
    "sns.distplot(session_count)"
   ]
  },
  {
   "cell_type": "code",
   "execution_count": 36,
   "metadata": {},
   "outputs": [
    {
     "data": {
      "text/html": [
       "<div>\n",
       "<style scoped>\n",
       "    .dataframe tbody tr th:only-of-type {\n",
       "        vertical-align: middle;\n",
       "    }\n",
       "\n",
       "    .dataframe tbody tr th {\n",
       "        vertical-align: top;\n",
       "    }\n",
       "\n",
       "    .dataframe thead th {\n",
       "        text-align: right;\n",
       "    }\n",
       "</style>\n",
       "<table border=\"1\" class=\"dataframe\">\n",
       "  <thead>\n",
       "    <tr style=\"text-align: right;\">\n",
       "      <th>date</th>\n",
       "      <th>2018-01-01</th>\n",
       "      <th>2018-01-02</th>\n",
       "      <th>2018-01-03</th>\n",
       "      <th>2018-01-04</th>\n",
       "      <th>2018-01-05</th>\n",
       "      <th>2018-01-06</th>\n",
       "      <th>2018-01-07</th>\n",
       "      <th>2018-01-08</th>\n",
       "      <th>2018-01-09</th>\n",
       "      <th>2018-01-10</th>\n",
       "      <th>...</th>\n",
       "      <th>2018-01-21</th>\n",
       "      <th>2018-01-22</th>\n",
       "      <th>2018-01-23</th>\n",
       "      <th>2018-01-24</th>\n",
       "      <th>2018-01-25</th>\n",
       "      <th>2018-01-26</th>\n",
       "      <th>2018-01-27</th>\n",
       "      <th>2018-01-28</th>\n",
       "      <th>2018-01-29</th>\n",
       "      <th>2018-01-30</th>\n",
       "    </tr>\n",
       "  </thead>\n",
       "  <tbody>\n",
       "    <tr>\n",
       "      <th>index</th>\n",
       "      <td>11</td>\n",
       "      <td>13</td>\n",
       "      <td>25</td>\n",
       "      <td>34</td>\n",
       "      <td>39</td>\n",
       "      <td>49</td>\n",
       "      <td>57</td>\n",
       "      <td>56</td>\n",
       "      <td>58</td>\n",
       "      <td>44</td>\n",
       "      <td>...</td>\n",
       "      <td>59</td>\n",
       "      <td>56</td>\n",
       "      <td>65</td>\n",
       "      <td>45</td>\n",
       "      <td>51</td>\n",
       "      <td>45</td>\n",
       "      <td>53</td>\n",
       "      <td>34</td>\n",
       "      <td>45</td>\n",
       "      <td>59</td>\n",
       "    </tr>\n",
       "  </tbody>\n",
       "</table>\n",
       "<p>1 rows × 30 columns</p>\n",
       "</div>"
      ],
      "text/plain": [
       "date   2018-01-01  2018-01-02  2018-01-03  2018-01-04  2018-01-05  2018-01-06  \\\n",
       "index          11          13          25          34          39          49   \n",
       "\n",
       "date   2018-01-07  2018-01-08  2018-01-09  2018-01-10     ...      2018-01-21  \\\n",
       "index          57          56          58          44     ...              59   \n",
       "\n",
       "date   2018-01-22  2018-01-23  2018-01-24  2018-01-25  2018-01-26  2018-01-27  \\\n",
       "index          56          65          45          51          45          53   \n",
       "\n",
       "date   2018-01-28  2018-01-29  2018-01-30  \n",
       "index          34          45          59  \n",
       "\n",
       "[1 rows x 30 columns]"
      ]
     },
     "execution_count": 36,
     "metadata": {},
     "output_type": "execute_result"
    }
   ],
   "source": [
    "session_count.head(30).T"
   ]
  },
  {
   "cell_type": "code",
   "execution_count": 10,
   "metadata": {
    "scrolled": true
   },
   "outputs": [],
   "source": [
    "#sns.distplot(pd.to_datetime(df_session.event_timestamp))"
   ]
  },
  {
   "cell_type": "code",
   "execution_count": 11,
   "metadata": {},
   "outputs": [
    {
     "data": {
      "text/html": [
       "<div>\n",
       "<style scoped>\n",
       "    .dataframe tbody tr th:only-of-type {\n",
       "        vertical-align: middle;\n",
       "    }\n",
       "\n",
       "    .dataframe tbody tr th {\n",
       "        vertical-align: top;\n",
       "    }\n",
       "\n",
       "    .dataframe thead th {\n",
       "        text-align: right;\n",
       "    }\n",
       "</style>\n",
       "<table border=\"1\" class=\"dataframe\">\n",
       "  <thead>\n",
       "    <tr style=\"text-align: right;\">\n",
       "      <th></th>\n",
       "      <th>index</th>\n",
       "      <th>client_version</th>\n",
       "      <th>event_name</th>\n",
       "      <th>event_timestamp</th>\n",
       "      <th>is_premium</th>\n",
       "      <th>login_attempt_id</th>\n",
       "      <th>platform</th>\n",
       "      <th>player_name</th>\n",
       "      <th>server_version</th>\n",
       "      <th>session_id</th>\n",
       "      <th>user_device_country</th>\n",
       "      <th>user_id</th>\n",
       "      <th>user_ip</th>\n",
       "      <th>user_is_spender</th>\n",
       "      <th>user_server_region</th>\n",
       "      <th>user_type</th>\n",
       "    </tr>\n",
       "  </thead>\n",
       "  <tbody>\n",
       "    <tr>\n",
       "      <td>0</td>\n",
       "      <td>0</td>\n",
       "      <td>1.3.0</td>\n",
       "      <td>session_started</td>\n",
       "      <td>2018-03-01 07:10:48.499895</td>\n",
       "      <td>0</td>\n",
       "      <td>89c571bd-16de-4785-a051-f10aa27d54fa</td>\n",
       "      <td>IOS_MOBILE</td>\n",
       "      <td>luskfmpg</td>\n",
       "      <td>0.1.220</td>\n",
       "      <td>82e80eb5-42cd-4ed7-92c7-6e280f7bbcf1</td>\n",
       "      <td>US</td>\n",
       "      <td>85dff3d5-6f56-4601-9a24-400624f9a024</td>\n",
       "      <td>253.122.152.86</td>\n",
       "      <td>0</td>\n",
       "      <td>US</td>\n",
       "      <td>PLAYER</td>\n",
       "    </tr>\n",
       "  </tbody>\n",
       "</table>\n",
       "</div>"
      ],
      "text/plain": [
       "   index client_version       event_name             event_timestamp  \\\n",
       "0      0          1.3.0  session_started  2018-03-01 07:10:48.499895   \n",
       "\n",
       "   is_premium                      login_attempt_id    platform player_name  \\\n",
       "0           0  89c571bd-16de-4785-a051-f10aa27d54fa  IOS_MOBILE    luskfmpg   \n",
       "\n",
       "  server_version                            session_id user_device_country  \\\n",
       "0        0.1.220  82e80eb5-42cd-4ed7-92c7-6e280f7bbcf1                  US   \n",
       "\n",
       "                                user_id         user_ip  user_is_spender  \\\n",
       "0  85dff3d5-6f56-4601-9a24-400624f9a024  253.122.152.86                0   \n",
       "\n",
       "  user_server_region user_type  \n",
       "0                 US    PLAYER  "
      ]
     },
     "execution_count": 11,
     "metadata": {},
     "output_type": "execute_result"
    }
   ],
   "source": [
    "df_session.head(1)"
   ]
  },
  {
   "cell_type": "code",
   "execution_count": 21,
   "metadata": {},
   "outputs": [
    {
     "data": {
      "text/plain": [
       "US    16375\n",
       "Name: user_device_country, dtype: int64"
      ]
     },
     "execution_count": 21,
     "metadata": {},
     "output_type": "execute_result"
    }
   ],
   "source": [
    "df_session.user_device_country.value_counts()"
   ]
  },
  {
   "cell_type": "code",
   "execution_count": 20,
   "metadata": {},
   "outputs": [
    {
     "data": {
      "text/plain": [
       "session_started    16375\n",
       "Name: event_name, dtype: int64"
      ]
     },
     "execution_count": 20,
     "metadata": {},
     "output_type": "execute_result"
    }
   ],
   "source": [
    "df_session.event_name.value_counts()"
   ]
  },
  {
   "cell_type": "code",
   "execution_count": 19,
   "metadata": {},
   "outputs": [
    {
     "data": {
      "text/plain": [
       "PLAYER    16375\n",
       "Name: user_type, dtype: int64"
      ]
     },
     "execution_count": 19,
     "metadata": {},
     "output_type": "execute_result"
    }
   ],
   "source": [
    "df_session.user_type.value_counts()"
   ]
  },
  {
   "cell_type": "code",
   "execution_count": 14,
   "metadata": {},
   "outputs": [
    {
     "data": {
      "text/plain": [
       "0     2018-03-01 07:10:48.499895\n",
       "1     2018-05-01 13:58:47.838814\n",
       "2            2018-09-29 22:42:47\n",
       "3     2018-07-05 01:45:05.074643\n",
       "4     2018-08-20 16:41:35.010536\n",
       "                 ...            \n",
       "95    2018-10-26 15:58:45.859395\n",
       "96    2018-01-25 19:19:44.962230\n",
       "97           2018-07-15 22:42:46\n",
       "98           2018-11-29 01:04:09\n",
       "99    2018-08-02 02:45:25.792942\n",
       "Name: event_timestamp, Length: 100, dtype: object"
      ]
     },
     "execution_count": 14,
     "metadata": {},
     "output_type": "execute_result"
    }
   ],
   "source": [
    "df_session.event_timestamp"
   ]
  }
 ],
 "metadata": {
  "kernelspec": {
   "display_name": "Python 3",
   "language": "python",
   "name": "python3"
  },
  "language_info": {
   "codemirror_mode": {
    "name": "ipython",
    "version": 3
   },
   "file_extension": ".py",
   "mimetype": "text/x-python",
   "name": "python",
   "nbconvert_exporter": "python",
   "pygments_lexer": "ipython3",
   "version": "3.6.4"
  }
 },
 "nbformat": 4,
 "nbformat_minor": 2
}
