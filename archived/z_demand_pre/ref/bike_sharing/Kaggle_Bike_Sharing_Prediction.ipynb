{
 "cells": [
  {
   "cell_type": "markdown",
   "metadata": {},
   "source": [
    "## Data \n",
    "\n",
    "- https://www.kaggle.com/c/bike-sharing-demand/data\n",
    "\n",
    "## Ref \n",
    "\n",
    "- https://www.kaggle.com/viveksrinivasan/eda-ensemble-model-top-10-percentile\n",
    "\n",
    "- https://www.kaggle.com/yaroshevskiy/bike-rental-predictions-using-lr-rf-gbr\n"
   ]
  },
  {
   "cell_type": "markdown",
   "metadata": {},
   "source": [
    "<th align=\"left\">defghi</th>\n",
    "\n",
    "Data Feild | Descrition \n",
    "------------ | -------------\n",
    "Datetime | hourly date + timestamp  \n",
    "Season |  1 = spring, 2 = summer, 3 = fall, 4 = winter \n",
    "Holiday  | whether the day is considered a holiday\n",
    "Workingday | whether the day is neither a weekend nor holiday\n",
    "Weather |  1: Clear, Few clouds, Partly cloudy , Partly cloudy <br /> 2: Mist +  Cloudy, Mist + Broken clouds, Mist + Few clouds, Mist <br /> 3: Light Snow, Light Rain + Thunderstorm + Scattered clouds, Light Rain + Scattered clouds <br /> 4: Heavy Rain + Ice Pallets + Thunderstorm + Mist, Snow + Fog \n",
    "Temp  | temperature in Celsius\n",
    "Atemp | \"feels like\" temperature in Celsius\n",
    "Humidity | relative humidity\n",
    "Windspeed| wind speed\n",
    "Casual | number of non-registered user rentals initiated\n",
    "Registered | number of registered user rentals initiated\n",
    "Count | number of total rentals"
   ]
  }
 ],
 "metadata": {
  "kernelspec": {
   "display_name": "Environment (conda_ds_dash)",
   "language": "python",
   "name": "conda_ds_dash"
  },
  "language_info": {
   "codemirror_mode": {
    "name": "ipython",
    "version": 3
   },
   "file_extension": ".py",
   "mimetype": "text/x-python",
   "name": "python",
   "nbconvert_exporter": "python",
   "pygments_lexer": "ipython3",
   "version": "3.5.4"
  }
 },
 "nbformat": 4,
 "nbformat_minor": 2
}
