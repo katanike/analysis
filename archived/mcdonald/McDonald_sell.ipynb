{
 "cells": [
  {
   "cell_type": "code",
   "execution_count": 1,
   "metadata": {
    "collapsed": false
   },
   "outputs": [
    {
     "name": "stdout",
     "output_type": "stream",
     "text": [
      "Populating the interactive namespace from numpy and matplotlib\n"
     ]
    },
    {
     "name": "stderr",
     "output_type": "stream",
     "text": [
      "/Users/GGV/anaconda/envs/GGV_DASH/lib/python3.4/site-packages/IPython/html.py:14: ShimWarning: The `IPython.html` package has been deprecated. You should import from `notebook` instead. `IPython.html.widgets` has moved to `ipywidgets`.\n",
      "  \"`IPython.html.widgets` has moved to `ipywidgets`.\", ShimWarning)\n"
     ]
    }
   ],
   "source": [
    "import sqlite3\n",
    "import datetime as dt   \n",
    "import time\n",
    "import csv\n",
    "import requests\n",
    "import pandas as pd, numpy as np\n",
    "import pprint\n",
    "import matplotlib.pyplot as plt\n",
    "import seaborn as sns\n",
    "%pylab inline"
   ]
  },
  {
   "cell_type": "code",
   "execution_count": 2,
   "metadata": {
    "collapsed": true
   },
   "outputs": [],
   "source": [
    "# helper functions\n",
    "\n",
    "def sqlite_test():\n",
    "\ttry:\n",
    "\t\tconn = sqlite3.connect('/Users/GGV/Desktop/mcdonald_listings.sqlite')\n",
    "\t\tc = conn.cursor()\n",
    "\t\tquery = \"select * from trafi limit 10 ;\"\n",
    "\t\tdf = pd.read_sql_query(query, conn)\n",
    "\t\tprint (df)\n",
    "\t\tprint (\"Sqlite connect OK\")\n",
    "\texcept:\n",
    "\t\tprint (\"Sqlite connect failed\")\n",
    "\n",
    "\n",
    "\n",
    "\n",
    "def sqlite_query_df(query):\n",
    "\ttry:\n",
    "\t\tconn = sqlite3.connect('/Users/GGV/Desktop/mcdonald_listings.sqlite')\n",
    "\t\tc = conn.cursor()\n",
    "\t\tdf = pd.read_sql_query(query, conn)\n",
    "\t\tprint (\"Sqlite connect OK\")\n",
    "\t\treturn df \n",
    "\texcept:\n",
    "\t\tprint (\"Sqlite connect failed\")"
   ]
  },
  {
   "cell_type": "code",
   "execution_count": 3,
   "metadata": {
    "collapsed": false
   },
   "outputs": [
    {
     "name": "stdout",
     "output_type": "stream",
     "text": [
      "Sqlite connect OK\n"
     ]
    }
   ],
   "source": [
    "query= '''\n",
    "\n",
    "select * \n",
    "FROM listings \n",
    "'''\n",
    "listings = sqlite_query_df(query)"
   ]
  },
  {
   "cell_type": "code",
   "execution_count": 4,
   "metadata": {
    "collapsed": false
   },
   "outputs": [
    {
     "name": "stdout",
     "output_type": "stream",
     "text": [
      "Sqlite connect OK\n"
     ]
    }
   ],
   "source": [
    "query= '''\n",
    "\n",
    "select * \n",
    "FROM reviews \n",
    "'''\n",
    "reviews = sqlite_query_df(query)"
   ]
  },
  {
   "cell_type": "code",
   "execution_count": 5,
   "metadata": {
    "collapsed": false
   },
   "outputs": [
    {
     "data": {
      "text/html": [
       "<div>\n",
       "<table border=\"1\" class=\"dataframe\">\n",
       "  <thead>\n",
       "    <tr style=\"text-align: right;\">\n",
       "      <th></th>\n",
       "      <th>username</th>\n",
       "      <th>negative</th>\n",
       "      <th>neutral</th>\n",
       "      <th>positive</th>\n",
       "    </tr>\n",
       "  </thead>\n",
       "  <tbody>\n",
       "    <tr>\n",
       "      <th>0</th>\n",
       "      <td>fionasohyuru</td>\n",
       "      <td>0</td>\n",
       "      <td>0</td>\n",
       "      <td>18</td>\n",
       "    </tr>\n",
       "    <tr>\n",
       "      <th>1</th>\n",
       "      <td>purple0603</td>\n",
       "      <td>0</td>\n",
       "      <td>0</td>\n",
       "      <td>9</td>\n",
       "    </tr>\n",
       "  </tbody>\n",
       "</table>\n",
       "</div>"
      ],
      "text/plain": [
       "       username  negative  neutral  positive\n",
       "0  fionasohyuru         0        0        18\n",
       "1    purple0603         0        0         9"
      ]
     },
     "execution_count": 5,
     "metadata": {},
     "output_type": "execute_result"
    }
   ],
   "source": [
    "reviews.head(2)"
   ]
  },
  {
   "cell_type": "code",
   "execution_count": 6,
   "metadata": {
    "collapsed": false
   },
   "outputs": [
    {
     "data": {
      "text/html": [
       "<div>\n",
       "<table border=\"1\" class=\"dataframe\">\n",
       "  <thead>\n",
       "    <tr style=\"text-align: right;\">\n",
       "      <th></th>\n",
       "      <th>username</th>\n",
       "      <th>description</th>\n",
       "      <th>title</th>\n",
       "      <th>can_mail</th>\n",
       "      <th>price</th>\n",
       "      <th>meetup_details</th>\n",
       "      <th>can_meetup</th>\n",
       "      <th>likes</th>\n",
       "      <th>condition</th>\n",
       "      <th>meetup_location</th>\n",
       "    </tr>\n",
       "  </thead>\n",
       "  <tbody>\n",
       "    <tr>\n",
       "      <th>0</th>\n",
       "      <td>fionasohyuru</td>\n",
       "      <td>Curly fries / Twister Fries (Taste exactly lik...</td>\n",
       "      <td>Twister fries (2.5kg)</td>\n",
       "      <td>None</td>\n",
       "      <td>18.0</td>\n",
       "      <td>None</td>\n",
       "      <td>Meet-Up</td>\n",
       "      <td>3</td>\n",
       "      <td>New</td>\n",
       "      <td>None</td>\n",
       "    </tr>\n",
       "    <tr>\n",
       "      <th>1</th>\n",
       "      <td>purple0603</td>\n",
       "      <td>Brand new in original macdonald packaging\\r\\rC...</td>\n",
       "      <td>Hello Kitty - Macdonald Royal Series</td>\n",
       "      <td>None</td>\n",
       "      <td>50.0</td>\n",
       "      <td>None</td>\n",
       "      <td>None</td>\n",
       "      <td>3</td>\n",
       "      <td>None</td>\n",
       "      <td>None</td>\n",
       "    </tr>\n",
       "  </tbody>\n",
       "</table>\n",
       "</div>"
      ],
      "text/plain": [
       "       username                                        description  \\\n",
       "0  fionasohyuru  Curly fries / Twister Fries (Taste exactly lik...   \n",
       "1    purple0603  Brand new in original macdonald packaging\\r\\rC...   \n",
       "\n",
       "                                  title can_mail  price meetup_details  \\\n",
       "0                 Twister fries (2.5kg)     None   18.0           None   \n",
       "1  Hello Kitty - Macdonald Royal Series     None   50.0           None   \n",
       "\n",
       "  can_meetup  likes condition meetup_location  \n",
       "0    Meet-Up      3       New            None  \n",
       "1       None      3      None            None  "
      ]
     },
     "execution_count": 6,
     "metadata": {},
     "output_type": "execute_result"
    }
   ],
   "source": [
    "listings.head(2)"
   ]
  },
  {
   "cell_type": "markdown",
   "metadata": {},
   "source": [
    "#### 1. What is the average number of likes across all listings?"
   ]
  },
  {
   "cell_type": "code",
   "execution_count": 7,
   "metadata": {
    "collapsed": false
   },
   "outputs": [
    {
     "name": "stdout",
     "output_type": "stream",
     "text": [
      "Sqlite connect OK\n"
     ]
    },
    {
     "data": {
      "text/html": [
       "<div>\n",
       "<table border=\"1\" class=\"dataframe\">\n",
       "  <thead>\n",
       "    <tr style=\"text-align: right;\">\n",
       "      <th></th>\n",
       "      <th>avg(likes)</th>\n",
       "    </tr>\n",
       "  </thead>\n",
       "  <tbody>\n",
       "    <tr>\n",
       "      <th>0</th>\n",
       "      <td>13.789954</td>\n",
       "    </tr>\n",
       "  </tbody>\n",
       "</table>\n",
       "</div>"
      ],
      "text/plain": [
       "   avg(likes)\n",
       "0   13.789954"
      ]
     },
     "execution_count": 7,
     "metadata": {},
     "output_type": "execute_result"
    }
   ],
   "source": [
    "query_avg_like= '''\n",
    "\n",
    "SELECT avg(likes)\n",
    "FROM listings\n",
    "\n",
    "'''\n",
    "avg_like = sqlite_query_df(query_avg_like)\n",
    "avg_like"
   ]
  },
  {
   "cell_type": "markdown",
   "metadata": {},
   "source": [
    "####  2. What is the average number of likes for used listings?"
   ]
  },
  {
   "cell_type": "code",
   "execution_count": 8,
   "metadata": {
    "collapsed": false
   },
   "outputs": [
    {
     "name": "stdout",
     "output_type": "stream",
     "text": [
      "Sqlite connect OK\n"
     ]
    },
    {
     "data": {
      "text/html": [
       "<div>\n",
       "<table border=\"1\" class=\"dataframe\">\n",
       "  <thead>\n",
       "    <tr style=\"text-align: right;\">\n",
       "      <th></th>\n",
       "      <th>avg(likes)</th>\n",
       "    </tr>\n",
       "  </thead>\n",
       "  <tbody>\n",
       "    <tr>\n",
       "      <th>0</th>\n",
       "      <td>5.418033</td>\n",
       "    </tr>\n",
       "  </tbody>\n",
       "</table>\n",
       "</div>"
      ],
      "text/plain": [
       "   avg(likes)\n",
       "0    5.418033"
      ]
     },
     "execution_count": 8,
     "metadata": {},
     "output_type": "execute_result"
    }
   ],
   "source": [
    "query_avg_like_used= '''\n",
    "\n",
    "SELECT avg(likes)\n",
    "FROM listings\n",
    "WHERE condition == 'Used'\n",
    "'''\n",
    "avg_like_used = sqlite_query_df(query_avg_like_used)\n",
    "avg_like_used"
   ]
  },
  {
   "cell_type": "markdown",
   "metadata": {},
   "source": [
    "#### 3. What is the average price for all the listings with mcdonald keyword in the title? (Hint: include all variations of mcdonalds)\n",
    " "
   ]
  },
  {
   "cell_type": "code",
   "execution_count": 9,
   "metadata": {
    "collapsed": false
   },
   "outputs": [
    {
     "name": "stdout",
     "output_type": "stream",
     "text": [
      "Sqlite connect OK\n"
     ]
    },
    {
     "data": {
      "text/html": [
       "<div>\n",
       "<table border=\"1\" class=\"dataframe\">\n",
       "  <thead>\n",
       "    <tr style=\"text-align: right;\">\n",
       "      <th></th>\n",
       "      <th>avg(price)</th>\n",
       "    </tr>\n",
       "  </thead>\n",
       "  <tbody>\n",
       "    <tr>\n",
       "      <th>0</th>\n",
       "      <td>24.26087</td>\n",
       "    </tr>\n",
       "  </tbody>\n",
       "</table>\n",
       "</div>"
      ],
      "text/plain": [
       "   avg(price)\n",
       "0    24.26087"
      ]
     },
     "execution_count": 9,
     "metadata": {},
     "output_type": "execute_result"
    }
   ],
   "source": [
    "query_avg_price_m_keyword= '''\n",
    "\n",
    "SELECT avg(price)\n",
    "FROM listings\n",
    "WHERE LOWER(title) LIKE '%%mcdonalds%%'\n",
    "\n",
    "'''\n",
    "avg_price_m_keyword = sqlite_query_df(query_avg_price_m_keyword)\n",
    "avg_price_m_keyword"
   ]
  },
  {
   "cell_type": "markdown",
   "metadata": {},
   "source": [
    "#### 4. Find the number of listings unrelated to Mcdonalds.\n",
    " "
   ]
  },
  {
   "cell_type": "code",
   "execution_count": 18,
   "metadata": {
    "collapsed": false
   },
   "outputs": [
    {
     "name": "stdout",
     "output_type": "stream",
     "text": [
      "Sqlite connect OK\n"
     ]
    },
    {
     "data": {
      "text/html": [
       "<div>\n",
       "<table border=\"1\" class=\"dataframe\">\n",
       "  <thead>\n",
       "    <tr style=\"text-align: right;\">\n",
       "      <th></th>\n",
       "      <th>COUNT(*)</th>\n",
       "    </tr>\n",
       "  </thead>\n",
       "  <tbody>\n",
       "    <tr>\n",
       "      <th>0</th>\n",
       "      <td>2249</td>\n",
       "    </tr>\n",
       "  </tbody>\n",
       "</table>\n",
       "</div>"
      ],
      "text/plain": [
       "   COUNT(*)\n",
       "0      2249"
      ]
     },
     "execution_count": 18,
     "metadata": {},
     "output_type": "execute_result"
    }
   ],
   "source": [
    "query_num_unrelated_m= '''\n",
    "\n",
    "\n",
    "WITH LIST AS\n",
    "  ( SELECT *\n",
    "   FROM listings\n",
    "   WHERE LOWER(title) NOT LIKE '%%mcdonald%%'\n",
    "     AND LOWER(description) NOT LIKE '%%mcdonald%%' )\n",
    "SELECT COUNT(*)\n",
    "FROM LIST\n",
    "\n",
    "\n",
    "'''\n",
    "num_unrelated_m = sqlite_query_df(query_num_unrelated_m)\n",
    "num_unrelated_m"
   ]
  },
  {
   "cell_type": "markdown",
   "metadata": {},
   "source": [
    "DONT know if \"MacDonald\" is related to \"Mcdonalds\"  :)"
   ]
  },
  {
   "cell_type": "markdown",
   "metadata": {},
   "source": [
    "#### 5. List the usernames of the top 3 sellers with the highest number of positive ratings.\n",
    " "
   ]
  },
  {
   "cell_type": "code",
   "execution_count": 11,
   "metadata": {
    "collapsed": false
   },
   "outputs": [
    {
     "name": "stdout",
     "output_type": "stream",
     "text": [
      "Sqlite connect OK\n"
     ]
    },
    {
     "data": {
      "text/html": [
       "<div>\n",
       "<table border=\"1\" class=\"dataframe\">\n",
       "  <thead>\n",
       "    <tr style=\"text-align: right;\">\n",
       "      <th></th>\n",
       "      <th>username</th>\n",
       "      <th>negative</th>\n",
       "      <th>neutral</th>\n",
       "      <th>positive</th>\n",
       "    </tr>\n",
       "  </thead>\n",
       "  <tbody>\n",
       "    <tr>\n",
       "      <th>0</th>\n",
       "      <td>bxs</td>\n",
       "      <td>0</td>\n",
       "      <td>0</td>\n",
       "      <td>1229</td>\n",
       "    </tr>\n",
       "    <tr>\n",
       "      <th>1</th>\n",
       "      <td>hardrockseller99</td>\n",
       "      <td>1</td>\n",
       "      <td>0</td>\n",
       "      <td>920</td>\n",
       "    </tr>\n",
       "    <tr>\n",
       "      <th>2</th>\n",
       "      <td>hellomisterneospacian</td>\n",
       "      <td>3</td>\n",
       "      <td>2</td>\n",
       "      <td>760</td>\n",
       "    </tr>\n",
       "  </tbody>\n",
       "</table>\n",
       "</div>"
      ],
      "text/plain": [
       "                username  negative  neutral  positive\n",
       "0                    bxs         0        0      1229\n",
       "1       hardrockseller99         1        0       920\n",
       "2  hellomisterneospacian         3        2       760"
      ]
     },
     "execution_count": 11,
     "metadata": {},
     "output_type": "execute_result"
    }
   ],
   "source": [
    "query_top_3_seller= '''\n",
    "\n",
    "SELECT *\n",
    "FROM reviews\n",
    "ORDER BY positive DESC LIMIT 3\n",
    "\n",
    "'''\n",
    "top_3_seller = sqlite_query_df(query_top_3_seller)\n",
    "top_3_seller"
   ]
  },
  {
   "cell_type": "markdown",
   "metadata": {},
   "source": [
    "#### 6.  What is the total number of sellers with more than 200 reviews?\n"
   ]
  },
  {
   "cell_type": "code",
   "execution_count": 12,
   "metadata": {
    "collapsed": false
   },
   "outputs": [
    {
     "name": "stdout",
     "output_type": "stream",
     "text": [
      "Sqlite connect OK\n"
     ]
    },
    {
     "data": {
      "text/html": [
       "<div>\n",
       "<table border=\"1\" class=\"dataframe\">\n",
       "  <thead>\n",
       "    <tr style=\"text-align: right;\">\n",
       "      <th></th>\n",
       "      <th>count(*)</th>\n",
       "    </tr>\n",
       "  </thead>\n",
       "  <tbody>\n",
       "    <tr>\n",
       "      <th>0</th>\n",
       "      <td>66</td>\n",
       "    </tr>\n",
       "  </tbody>\n",
       "</table>\n",
       "</div>"
      ],
      "text/plain": [
       "   count(*)\n",
       "0        66"
      ]
     },
     "execution_count": 12,
     "metadata": {},
     "output_type": "execute_result"
    }
   ],
   "source": [
    "query_review= '''\n",
    "SELECT count(*)\n",
    "FROM\n",
    "  (SELECT username,\n",
    "          sum(negative) + sum(positive) + sum(neutral) AS sum_\n",
    "   FROM reviews\n",
    "   GROUP BY 1\n",
    "   HAVING sum_ > 200\n",
    "   ORDER BY sum_ DESC) sub\n",
    "\n",
    "'''\n",
    "review = sqlite_query_df(query_review)\n",
    "review"
   ]
  },
  {
   "cell_type": "markdown",
   "metadata": {},
   "source": [
    "#### 7. What is the total number of users with only positive reviews?\n"
   ]
  },
  {
   "cell_type": "code",
   "execution_count": 13,
   "metadata": {
    "collapsed": false
   },
   "outputs": [
    {
     "name": "stdout",
     "output_type": "stream",
     "text": [
      "Sqlite connect OK\n"
     ]
    },
    {
     "data": {
      "text/html": [
       "<div>\n",
       "<table border=\"1\" class=\"dataframe\">\n",
       "  <thead>\n",
       "    <tr style=\"text-align: right;\">\n",
       "      <th></th>\n",
       "      <th>count(*)</th>\n",
       "    </tr>\n",
       "  </thead>\n",
       "  <tbody>\n",
       "    <tr>\n",
       "      <th>0</th>\n",
       "      <td>1231</td>\n",
       "    </tr>\n",
       "  </tbody>\n",
       "</table>\n",
       "</div>"
      ],
      "text/plain": [
       "   count(*)\n",
       "0      1231"
      ]
     },
     "execution_count": 13,
     "metadata": {},
     "output_type": "execute_result"
    }
   ],
   "source": [
    "query_only_positive_review= '''\n",
    "\n",
    "SELECT count(*)\n",
    "FROM\n",
    "  (SELECT username,\n",
    "          sum(negative),\n",
    "          sum(positive),\n",
    "          sum(neutral)\n",
    "   FROM reviews\n",
    "   GROUP BY 1\n",
    "   HAVING sum(negative) = 0\n",
    "   AND sum(neutral) = 0\n",
    "   AND sum(positive) > 0 ) sub\n",
    "\n",
    "'''\n",
    "positive_review = sqlite_query_df(query_only_positive_review)\n",
    "positive_review"
   ]
  },
  {
   "cell_type": "markdown",
   "metadata": {},
   "source": [
    "#### 8.  What is the total number of listings by users with only positive reviews?\n"
   ]
  },
  {
   "cell_type": "code",
   "execution_count": 14,
   "metadata": {
    "collapsed": false
   },
   "outputs": [
    {
     "name": "stdout",
     "output_type": "stream",
     "text": [
      "Sqlite connect OK\n"
     ]
    },
    {
     "data": {
      "text/html": [
       "<div>\n",
       "<table border=\"1\" class=\"dataframe\">\n",
       "  <thead>\n",
       "    <tr style=\"text-align: right;\">\n",
       "      <th></th>\n",
       "      <th>count(*)</th>\n",
       "    </tr>\n",
       "  </thead>\n",
       "  <tbody>\n",
       "    <tr>\n",
       "      <th>0</th>\n",
       "      <td>1890</td>\n",
       "    </tr>\n",
       "  </tbody>\n",
       "</table>\n",
       "</div>"
      ],
      "text/plain": [
       "   count(*)\n",
       "0      1890"
      ]
     },
     "execution_count": 14,
     "metadata": {},
     "output_type": "execute_result"
    }
   ],
   "source": [
    "query_list_positive_review= '''\n",
    "\n",
    "WITH user_list AS\n",
    "  (SELECT username\n",
    "   FROM reviews\n",
    "   GROUP BY 1\n",
    "   HAVING sum(negative) = 0\n",
    "   AND sum(neutral) = 0\n",
    "   AND sum(positive) > 0)\n",
    "SELECT count(*)\n",
    "FROM listings\n",
    "JOIN user_list ON listings.username = user_list.username\n",
    "ORDER BY listings.username\n",
    "  \n",
    "\n",
    "'''\n",
    "list_positive_review = sqlite_query_df(query_list_positive_review)\n",
    "list_positive_review"
   ]
  },
  {
   "cell_type": "markdown",
   "metadata": {},
   "source": [
    "#### 9.  For the top 3 sellers with the highest number of listings, list their usernames, total listings and the total value of their listings\n"
   ]
  },
  {
   "cell_type": "code",
   "execution_count": 15,
   "metadata": {
    "collapsed": false
   },
   "outputs": [
    {
     "name": "stdout",
     "output_type": "stream",
     "text": [
      "Sqlite connect OK\n"
     ]
    },
    {
     "data": {
      "text/html": [
       "<div>\n",
       "<table border=\"1\" class=\"dataframe\">\n",
       "  <thead>\n",
       "    <tr style=\"text-align: right;\">\n",
       "      <th></th>\n",
       "      <th>username</th>\n",
       "      <th>count(username)</th>\n",
       "      <th>sum(price)</th>\n",
       "      <th>sum(likes)</th>\n",
       "    </tr>\n",
       "  </thead>\n",
       "  <tbody>\n",
       "    <tr>\n",
       "      <th>0</th>\n",
       "      <td>eliset08</td>\n",
       "      <td>62</td>\n",
       "      <td>2115.0</td>\n",
       "      <td>344</td>\n",
       "    </tr>\n",
       "    <tr>\n",
       "      <th>1</th>\n",
       "      <td>tmatma</td>\n",
       "      <td>56</td>\n",
       "      <td>695.0</td>\n",
       "      <td>172</td>\n",
       "    </tr>\n",
       "    <tr>\n",
       "      <th>2</th>\n",
       "      <td>scotty2198</td>\n",
       "      <td>24</td>\n",
       "      <td>663.0</td>\n",
       "      <td>3694</td>\n",
       "    </tr>\n",
       "  </tbody>\n",
       "</table>\n",
       "</div>"
      ],
      "text/plain": [
       "     username  count(username)  sum(price)  sum(likes)\n",
       "0    eliset08               62      2115.0         344\n",
       "1      tmatma               56       695.0         172\n",
       "2  scotty2198               24       663.0        3694"
      ]
     },
     "execution_count": 15,
     "metadata": {},
     "output_type": "execute_result"
    }
   ],
   "source": [
    "query_top_user_detail= '''\n",
    "\n",
    "SELECT username,\n",
    "       count(username),\n",
    "       sum(price),\n",
    "       sum(likes)\n",
    "FROM listings\n",
    "GROUP BY username\n",
    "ORDER BY count(username) DESC LIMIT 3\n",
    "\n",
    "'''\n",
    "top_user_detail = sqlite_query_df(query_top_user_detail)\n",
    "top_user_detail"
   ]
  },
  {
   "cell_type": "markdown",
   "metadata": {},
   "source": [
    "#### 10.  For the top 3 sellers with the most reviews, list their usernames, total listings, and total reviews in descending number of reviews received by each seller\n"
   ]
  },
  {
   "cell_type": "code",
   "execution_count": 16,
   "metadata": {
    "collapsed": false
   },
   "outputs": [
    {
     "name": "stdout",
     "output_type": "stream",
     "text": [
      "Sqlite connect OK\n"
     ]
    },
    {
     "data": {
      "text/html": [
       "<div>\n",
       "<table border=\"1\" class=\"dataframe\">\n",
       "  <thead>\n",
       "    <tr style=\"text-align: right;\">\n",
       "      <th></th>\n",
       "      <th>username</th>\n",
       "      <th>sum_</th>\n",
       "      <th>listing_</th>\n",
       "    </tr>\n",
       "  </thead>\n",
       "  <tbody>\n",
       "    <tr>\n",
       "      <th>0</th>\n",
       "      <td>bxs</td>\n",
       "      <td>1229</td>\n",
       "      <td>1</td>\n",
       "    </tr>\n",
       "    <tr>\n",
       "      <th>1</th>\n",
       "      <td>hardrockseller99</td>\n",
       "      <td>921</td>\n",
       "      <td>1</td>\n",
       "    </tr>\n",
       "    <tr>\n",
       "      <th>2</th>\n",
       "      <td>hellomisterneospacian</td>\n",
       "      <td>765</td>\n",
       "      <td>1</td>\n",
       "    </tr>\n",
       "  </tbody>\n",
       "</table>\n",
       "</div>"
      ],
      "text/plain": [
       "                username  sum_  listing_\n",
       "0                    bxs  1229         1\n",
       "1       hardrockseller99   921         1\n",
       "2  hellomisterneospacian   765         1"
      ]
     },
     "execution_count": 16,
     "metadata": {},
     "output_type": "execute_result"
    }
   ],
   "source": [
    "query_top_user_list_review = '''\n",
    "\n",
    "WITH top_user AS\n",
    "  (SELECT username,\n",
    "          sum(negative) + sum(positive) + sum(neutral) AS sum_\n",
    "   FROM reviews\n",
    "   GROUP BY 1\n",
    "   ORDER BY sum_ DESC LIMIT 3),\n",
    "     listing AS\n",
    "  ( SELECT top_user.username AS username,\n",
    "           count(listings.username) AS listing_\n",
    "   FROM listings\n",
    "   JOIN top_user ON top_user.username = listings.username\n",
    "   GROUP BY 1 )\n",
    "SELECT top_user.*,\n",
    "       listing.listing_\n",
    "FROM listing\n",
    "JOIN top_user ON top_user.username = listing.username\n",
    "\n",
    "'''\n",
    "top_user_list_review = sqlite_query_df(query_top_user_list_review)\n",
    "top_user_list_review"
   ]
  }
 ],
 "metadata": {
  "kernelspec": {
   "display_name": "Python 3",
   "language": "python",
   "name": "python3"
  },
  "language_info": {
   "codemirror_mode": {
    "name": "ipython",
    "version": 3
   },
   "file_extension": ".py",
   "mimetype": "text/x-python",
   "name": "python",
   "nbconvert_exporter": "python",
   "pygments_lexer": "ipython3",
   "version": "3.4.4"
  }
 },
 "nbformat": 4,
 "nbformat_minor": 0
}
