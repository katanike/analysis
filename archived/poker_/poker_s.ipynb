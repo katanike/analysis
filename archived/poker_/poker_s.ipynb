{
 "cells": [
  {
   "cell_type": "code",
   "execution_count": 1,
   "metadata": {},
   "outputs": [
    {
     "name": "stdout",
     "output_type": "stream",
     "text": [
      "Populating the interactive namespace from numpy and matplotlib\n"
     ]
    }
   ],
   "source": [
    "# import analysis library\n",
    "import pandas as pd, numpy as np \n",
    "import seaborn  as sns\n",
    "import matplotlib.pyplot as plt\n",
    "%matplotlib inline\n",
    "%pylab inline\n",
    "plt.style.use('ggplot')\n",
    "\n",
    "from sklearn import linear_model"
   ]
  },
  {
   "attachments": {},
   "cell_type": "markdown",
   "metadata": {},
   "source": [
    "## Task 1"
   ]
  },
  {
   "cell_type": "code",
   "execution_count": 87,
   "metadata": {
    "collapsed": true
   },
   "outputs": [],
   "source": [
    "df_task1 = pd.read_excel('Task1.xlsx')"
   ]
  },
  {
   "cell_type": "code",
   "execution_count": 91,
   "metadata": {},
   "outputs": [],
   "source": [
    "df_task1 = df_task1.iloc[:,0:4]"
   ]
  },
  {
   "cell_type": "code",
   "execution_count": 148,
   "metadata": {},
   "outputs": [],
   "source": [
    "#df_task1.Country.value_counts()"
   ]
  },
  {
   "cell_type": "code",
   "execution_count": 146,
   "metadata": {},
   "outputs": [
    {
     "data": {
      "text/html": [
       "<div>\n",
       "<style>\n",
       "    .dataframe thead tr:only-child th {\n",
       "        text-align: right;\n",
       "    }\n",
       "\n",
       "    .dataframe thead th {\n",
       "        text-align: left;\n",
       "    }\n",
       "\n",
       "    .dataframe tbody tr th {\n",
       "        vertical-align: top;\n",
       "    }\n",
       "</style>\n",
       "<table border=\"1\" class=\"dataframe\">\n",
       "  <thead>\n",
       "    <tr style=\"text-align: right;\">\n",
       "      <th>Country</th>\n",
       "      <th>Aunuu</th>\n",
       "      <th>Ofu</th>\n",
       "      <th>Olosega</th>\n",
       "      <th>Rose Atoll</th>\n",
       "      <th>Swains Island</th>\n",
       "      <th>Tau</th>\n",
       "    </tr>\n",
       "    <tr>\n",
       "      <th>Group</th>\n",
       "      <th></th>\n",
       "      <th></th>\n",
       "      <th></th>\n",
       "      <th></th>\n",
       "      <th></th>\n",
       "      <th></th>\n",
       "    </tr>\n",
       "  </thead>\n",
       "  <tbody>\n",
       "    <tr>\n",
       "      <th>1</th>\n",
       "      <td>5829.182716</td>\n",
       "      <td>7561.050414</td>\n",
       "      <td>5063.383657</td>\n",
       "      <td>5881.919072</td>\n",
       "      <td>8442.280757</td>\n",
       "      <td>10103.217310</td>\n",
       "    </tr>\n",
       "    <tr>\n",
       "      <th>2</th>\n",
       "      <td>6664.437884</td>\n",
       "      <td>6687.219498</td>\n",
       "      <td>3957.284220</td>\n",
       "      <td>5845.440474</td>\n",
       "      <td>7541.721653</td>\n",
       "      <td>8899.961823</td>\n",
       "    </tr>\n",
       "    <tr>\n",
       "      <th>3</th>\n",
       "      <td>7287.017197</td>\n",
       "      <td>7753.075654</td>\n",
       "      <td>4286.907776</td>\n",
       "      <td>5731.718903</td>\n",
       "      <td>7598.855888</td>\n",
       "      <td>10966.406134</td>\n",
       "    </tr>\n",
       "    <tr>\n",
       "      <th>4</th>\n",
       "      <td>5968.798172</td>\n",
       "      <td>6498.516483</td>\n",
       "      <td>3943.333589</td>\n",
       "      <td>5627.067769</td>\n",
       "      <td>8387.255873</td>\n",
       "      <td>8968.217215</td>\n",
       "    </tr>\n",
       "    <tr>\n",
       "      <th>5</th>\n",
       "      <td>5619.389730</td>\n",
       "      <td>7218.902461</td>\n",
       "      <td>3689.836091</td>\n",
       "      <td>5068.195240</td>\n",
       "      <td>5143.777782</td>\n",
       "      <td>9352.273971</td>\n",
       "    </tr>\n",
       "  </tbody>\n",
       "</table>\n",
       "</div>"
      ],
      "text/plain": [
       "Country        Aunuu          Ofu      Olosega   Rose Atoll  Swains Island  \\\n",
       "Group                                                                        \n",
       "1        5829.182716  7561.050414  5063.383657  5881.919072    8442.280757   \n",
       "2        6664.437884  6687.219498  3957.284220  5845.440474    7541.721653   \n",
       "3        7287.017197  7753.075654  4286.907776  5731.718903    7598.855888   \n",
       "4        5968.798172  6498.516483  3943.333589  5627.067769    8387.255873   \n",
       "5        5619.389730  7218.902461  3689.836091  5068.195240    5143.777782   \n",
       "\n",
       "Country           Tau  \n",
       "Group                  \n",
       "1        10103.217310  \n",
       "2         8899.961823  \n",
       "3        10966.406134  \n",
       "4         8968.217215  \n",
       "5         9352.273971  "
      ]
     },
     "execution_count": 146,
     "metadata": {},
     "output_type": "execute_result"
    }
   ],
   "source": [
    "df1_pivot= pd.pivot_table(df_task1, \n",
    "               columns='Country',\n",
    "               index='Group',\n",
    "               values='Activity',\n",
    "               aggfunc=mean)\n",
    "df1_pivot"
   ]
  },
  {
   "cell_type": "code",
   "execution_count": 147,
   "metadata": {},
   "outputs": [
    {
     "data": {
      "text/plain": [
       "([<matplotlib.axis.XTick at 0x10e5c3da0>,\n",
       "  <matplotlib.axis.XTick at 0x1128c9e10>,\n",
       "  <matplotlib.axis.XTick at 0x110bae2b0>,\n",
       "  <matplotlib.axis.XTick at 0x10f957128>,\n",
       "  <matplotlib.axis.XTick at 0x10f9574e0>],\n",
       " <a list of 5 Text xticklabel objects>)"
      ]
     },
     "execution_count": 147,
     "metadata": {},
     "output_type": "execute_result"
    },
    {
     "data": {
      "image/png": "[encoded data removed]",
      "text/plain": [
       "<matplotlib.figure.Figure at 0x10bdc6080>"
      ]
     },
     "metadata": {},
     "output_type": "display_data"
    }
   ],
   "source": [
    "new_ticks = np.arange(1,6)\n",
    "df1_pivot.plot()\n",
    "plt.xticks(new_ticks)"
   ]
  },
  {
   "attachments": {},
   "cell_type": "markdown",
   "metadata": {},
   "source": [
    "### Observation\n",
    " - Group 3, and group 1 work well on most countries\n",
    " - Group 2 works worse than benchmark (group 5), need to dive deep \n",
    " - Group 4 works a liitle bit worse than  benchmark, need to improve\n",
    " - Different campaiggns work similar in  some countries ( Rose Atoll, and  Olosega)\n"
   ]
  },
  {
   "cell_type": "markdown",
   "metadata": {},
   "source": [
    "## Task 2"
   ]
  },
  {
   "cell_type": "code",
   "execution_count": 70,
   "metadata": {},
   "outputs": [],
   "source": [
    "df_display = pd.read_excel('Task2.xlsx',sheetname=0)"
   ]
  },
  {
   "cell_type": "code",
   "execution_count": 71,
   "metadata": {
    "collapsed": true
   },
   "outputs": [],
   "source": [
    "df_promotions = pd.read_excel('Task2.xlsx',sheetname=1)"
   ]
  },
  {
   "cell_type": "code",
   "execution_count": 73,
   "metadata": {
    "collapsed": true
   },
   "outputs": [],
   "source": [
    "df_merge = df_display.merge(df_promotions, on='Date')\n",
    "df_merge = df_merge.fillna('NA')"
   ]
  },
  {
   "cell_type": "code",
   "execution_count": 74,
   "metadata": {
    "collapsed": true
   },
   "outputs": [],
   "source": [
    "def weekday(x):\n",
    "    if x== 0:\n",
    "        return 'Monday'\n",
    "    if x== 1 :\n",
    "        return 'Tuesday'\n",
    "    if x== 2 :\n",
    "        return 'Wednesday'\n",
    "    if x== 3 :\n",
    "        return 'Thursday'\n",
    "    if x== 4 :\n",
    "        return 'Friday'\n",
    "    if x== 5 :\n",
    "        return 'Saturday'\n",
    "    if x== 6 :\n",
    "        return 'Sunday'\n"
   ]
  },
  {
   "cell_type": "code",
   "execution_count": 75,
   "metadata": {
    "collapsed": true
   },
   "outputs": [],
   "source": [
    "# The day of the week with Monday=0, Sunday=6\n",
    "\n",
    "df_merge.loc[:, 'weekday'] = df_merge['Date'].dt.weekday\n",
    "df_merge.loc[:, 'weekday_'] = df_merge['weekday'].map(lambda x: weekday(x) )\n"
   ]
  },
  {
   "cell_type": "code",
   "execution_count": 129,
   "metadata": {
    "collapsed": true
   },
   "outputs": [],
   "source": [
    "from sklearn.linear_model import LinearRegression\n",
    "\n",
    "def linear_model(playercount,df,Promo,weekday):\n",
    "    df_ = df.copy()\n",
    "    df__ = df_[(df_.Promo ==Promo)&(df_.weekday_ ==weekday)]\n",
    "    # aggregrate data \n",
    "    df__ = df__.groupby('Date').agg({'Playerid':'count', 'Revenue': 'sum'}).reset_index()\n",
    "    df__.columns = ['date', 'players','revenue']\n",
    "    # train with linear model  \n",
    "    regr = LinearRegression()\n",
    "    regr.fit(df__.iloc[:,1:2].values,df__.iloc[:,2:3].values)\n",
    "    print (regr)\n",
    "    # predict with linear model  \n",
    "    predict = regr.predict(playercount)\n",
    "    return predict\n",
    "      "
   ]
  },
  {
   "cell_type": "markdown",
   "metadata": {},
   "source": [
    "### a."
   ]
  },
  {
   "cell_type": "code",
   "execution_count": 134,
   "metadata": {},
   "outputs": [
    {
     "name": "stdout",
     "output_type": "stream",
     "text": [
      "LinearRegression(copy_X=True, fit_intercept=True, n_jobs=1, normalize=False)\n"
     ]
    },
    {
     "data": {
      "text/plain": [
       "array([[ 554.65270593]])"
      ]
     },
     "execution_count": 134,
     "metadata": {},
     "output_type": "execute_result"
    }
   ],
   "source": [
    "linear_model(3000,df_merge,'NA','Monday')"
   ]
  },
  {
   "cell_type": "code",
   "execution_count": 135,
   "metadata": {},
   "outputs": [
    {
     "name": "stdout",
     "output_type": "stream",
     "text": [
      "LinearRegression(copy_X=True, fit_intercept=True, n_jobs=1, normalize=False)\n"
     ]
    },
    {
     "data": {
      "text/plain": [
       "array([[ 807.61673678]])"
      ]
     },
     "execution_count": 135,
     "metadata": {},
     "output_type": "execute_result"
    }
   ],
   "source": [
    "linear_model(4000,df_merge,'A','Tuesday')"
   ]
  },
  {
   "cell_type": "code",
   "execution_count": 136,
   "metadata": {},
   "outputs": [
    {
     "name": "stdout",
     "output_type": "stream",
     "text": [
      "LinearRegression(copy_X=True, fit_intercept=True, n_jobs=1, normalize=False)\n"
     ]
    },
    {
     "data": {
      "text/plain": [
       "array([[ 700.8955393]])"
      ]
     },
     "execution_count": 136,
     "metadata": {},
     "output_type": "execute_result"
    }
   ],
   "source": [
    "linear_model(6000,df_merge,'A','Wednesday')"
   ]
  },
  {
   "cell_type": "code",
   "execution_count": 137,
   "metadata": {},
   "outputs": [
    {
     "name": "stdout",
     "output_type": "stream",
     "text": [
      "LinearRegression(copy_X=True, fit_intercept=True, n_jobs=1, normalize=False)\n"
     ]
    },
    {
     "data": {
      "text/plain": [
       "array([[ 945.28668844]])"
      ]
     },
     "execution_count": 137,
     "metadata": {},
     "output_type": "execute_result"
    }
   ],
   "source": [
    "linear_model(5000,df_merge,'B','Thursday')"
   ]
  },
  {
   "cell_type": "code",
   "execution_count": 132,
   "metadata": {},
   "outputs": [
    {
     "name": "stdout",
     "output_type": "stream",
     "text": [
      "LinearRegression(copy_X=True, fit_intercept=True, n_jobs=1, normalize=False)\n"
     ]
    },
    {
     "data": {
      "text/plain": [
       "array([[ 1243.2655368]])"
      ]
     },
     "execution_count": 132,
     "metadata": {},
     "output_type": "execute_result"
    }
   ],
   "source": [
    "linear_model(6000,df_merge,'A','Friday')"
   ]
  },
  {
   "cell_type": "code",
   "execution_count": 138,
   "metadata": {},
   "outputs": [
    {
     "name": "stdout",
     "output_type": "stream",
     "text": [
      "LinearRegression(copy_X=True, fit_intercept=True, n_jobs=1, normalize=False)\n"
     ]
    },
    {
     "data": {
      "text/plain": [
       "array([[ 1277.17164676]])"
      ]
     },
     "execution_count": 138,
     "metadata": {},
     "output_type": "execute_result"
    }
   ],
   "source": [
    "linear_model(6000,df_merge,'B','Saturday')"
   ]
  },
  {
   "cell_type": "code",
   "execution_count": 139,
   "metadata": {},
   "outputs": [
    {
     "name": "stdout",
     "output_type": "stream",
     "text": [
      "LinearRegression(copy_X=True, fit_intercept=True, n_jobs=1, normalize=False)\n"
     ]
    },
    {
     "data": {
      "text/plain": [
       "array([[ 1188.16020712]])"
      ]
     },
     "execution_count": 139,
     "metadata": {},
     "output_type": "execute_result"
    }
   ],
   "source": [
    "linear_model(7000,df_merge,'NA','Sunday')"
   ]
  },
  {
   "cell_type": "code",
   "execution_count": 143,
   "metadata": {},
   "outputs": [
    {
     "data": {
      "text/plain": [
       "Promo\n",
       "A     7.539645\n",
       "B     9.355138\n",
       "NA    6.724565\n",
       "Name: Revenue, dtype: float64"
      ]
     },
     "execution_count": 143,
     "metadata": {},
     "output_type": "execute_result"
    }
   ],
   "source": [
    "df_merge.groupby('Promo').mean()['Revenue']"
   ]
  },
  {
   "cell_type": "markdown",
   "metadata": {},
   "source": [
    "### b.\n",
    "#### Promo B is better \n",
    "- (Promo B avg revenue 9.3 >  Promo A avg revenue 7.5 ) "
   ]
  },
  {
   "attachments": {},
   "cell_type": "markdown",
   "metadata": {},
   "source": [
    "### c. d. \n",
    "#### Confidence, and Residual can be approached via statsmodels library,\n",
    "- output should be something like this :\n"
   ]
  },
  {
   "cell_type": "code",
   "execution_count": 149,
   "metadata": {},
   "outputs": [
    {
     "data": {
      "text/plain": [
       "'\\nOLS Regression Results                            \\n==============================================================================\\nDep. Variable:                      y   R-squared:                       0.518\\nModel:                            OLS   Adj. R-squared:                  0.507\\nMethod:                 Least Squares   F-statistic:                     46.27\\nDate:                Wed, 08 Mar 2017   Prob (F-statistic):           3.83e-62\\nTime:                        10:08:24   Log-Likelihood:                -2386.0\\nNo. Observations:                 442   AIC:                             4794.\\nDf Residuals:                     431   BIC:                             4839.\\nDf Model:                          10                                         \\nCovariance Type:            nonrobust                                         \\n==============================================================================\\n                 coef    std err          t      P>|t|      [0.025      0.975]\\n------------------------------------------------------------------------------\\nconst        152.1335      2.576     59.061      0.000     147.071     157.196\\nx1           -10.0122     59.749     -0.168      0.867    -127.448     107.424\\nx2          -239.8191     61.222     -3.917      0.000    -360.151    -119.488\\nx3           519.8398     66.534      7.813      0.000     389.069     650.610\\nx4           324.3904     65.422      4.958      0.000     195.805     452.976\\nx5          -792.1842    416.684     -1.901      0.058   -1611.169      26.801\\nx6           476.7458    339.035      1.406      0.160    -189.621    1143.113\\nx7           101.0446    212.533      0.475      0.635    -316.685     518.774\\nx8           177.0642    161.476      1.097      0.273    -140.313     494.442\\nx9           751.2793    171.902      4.370      0.000     413.409    1089.150\\nx10           67.6254     65.984      1.025      0.306     -62.065     197.316\\n==============================================================================\\nOmnibus:                        1.506   Durbin-Watson:                   2.029\\nProb(Omnibus):                  0.471   Jarque-Bera (JB):                1.404\\nSkew:                           0.017   Prob(JB):                        0.496\\nKurtosis:                       2.726   Cond. No.                         227.\\n==============================================================================\\n\\n'"
      ]
     },
     "execution_count": 149,
     "metadata": {},
     "output_type": "execute_result"
    }
   ],
   "source": [
    "\"\"\"\n",
    "OLS Regression Results                            \n",
    "==============================================================================\n",
    "Dep. Variable:                      y   R-squared:                       0.518\n",
    "Model:                            OLS   Adj. R-squared:                  0.507\n",
    "Method:                 Least Squares   F-statistic:                     46.27\n",
    "Date:                Wed, 08 Mar 2017   Prob (F-statistic):           3.83e-62\n",
    "Time:                        10:08:24   Log-Likelihood:                -2386.0\n",
    "No. Observations:                 442   AIC:                             4794.\n",
    "Df Residuals:                     431   BIC:                             4839.\n",
    "Df Model:                          10                                         \n",
    "Covariance Type:            nonrobust                                         \n",
    "==============================================================================\n",
    "                 coef    std err          t      P>|t|      [0.025      0.975]\n",
    "------------------------------------------------------------------------------\n",
    "const        152.1335      2.576     59.061      0.000     147.071     157.196\n",
    "x1           -10.0122     59.749     -0.168      0.867    -127.448     107.424\n",
    "x2          -239.8191     61.222     -3.917      0.000    -360.151    -119.488\n",
    "x3           519.8398     66.534      7.813      0.000     389.069     650.610\n",
    "x4           324.3904     65.422      4.958      0.000     195.805     452.976\n",
    "x5          -792.1842    416.684     -1.901      0.058   -1611.169      26.801\n",
    "x6           476.7458    339.035      1.406      0.160    -189.621    1143.113\n",
    "x7           101.0446    212.533      0.475      0.635    -316.685     518.774\n",
    "x8           177.0642    161.476      1.097      0.273    -140.313     494.442\n",
    "x9           751.2793    171.902      4.370      0.000     413.409    1089.150\n",
    "x10           67.6254     65.984      1.025      0.306     -62.065     197.316\n",
    "==============================================================================\n",
    "Omnibus:                        1.506   Durbin-Watson:                   2.029\n",
    "Prob(Omnibus):                  0.471   Jarque-Bera (JB):                1.404\n",
    "Skew:                           0.017   Prob(JB):                        0.496\n",
    "Kurtosis:                       2.726   Cond. No.                         227.\n",
    "==============================================================================\n",
    "\n",
    "\"\"\""
   ]
  },
  {
   "cell_type": "code",
   "execution_count": null,
   "metadata": {
    "collapsed": true
   },
   "outputs": [],
   "source": []
  },
  {
   "cell_type": "markdown",
   "metadata": {},
   "source": [
    "## Task 3"
   ]
  },
  {
   "cell_type": "markdown",
   "metadata": {},
   "source": [
    "VIP is the most value users to company, can use folllowing metrics \n",
    "target/seperate them from mass players.\n",
    "\n",
    "-Metrics\n",
    "    - Profit\n",
    "        - Total pay amounts \n",
    "        - Total buy credits \n",
    "    - Recency\n",
    "        - When user last pay \n",
    "        - When user last buy credits\n",
    "        - When user last login\n",
    "        - When user last open the APP\n",
    "    - Frequency\n",
    "        - How often user pay \n",
    "        - How often user buy credits\n",
    "        - How often user login\n",
    "        - How often user open the APP\n",
    "    - Others \n",
    "        - Top weekly pay users \n",
    "        - User who bought some very expensive credicts/products \n",
    "        \n",
    "- Data Prepare \n",
    "    - Profit : \n",
    "    Create user profile table, update total pay/buy amount \n",
    "    for every users every period \n",
    "    - Recency :\n",
    "    Create user log table, tracking all user events: pay/buy/login/open APP\n",
    "    - Frequency : Using SQL, query user log table above, can get the needed values\n",
    "    \n",
    "- Approach \n",
    "    - Using classfication models like KNN/Kmeans get factors from similar users then doiing further classifications "
   ]
  }
 ],
 "metadata": {
  "kernelspec": {
   "display_name": "Python 3",
   "language": "python",
   "name": "python3"
  },
  "language_info": {
   "codemirror_mode": {
    "name": "ipython",
    "version": 3
   },
   "file_extension": ".py",
   "mimetype": "text/x-python",
   "name": "python",
   "nbconvert_exporter": "python",
   "pygments_lexer": "ipython3",
   "version": "3.4.5"
  }
 },
 "nbformat": 4,
 "nbformat_minor": 2
}
