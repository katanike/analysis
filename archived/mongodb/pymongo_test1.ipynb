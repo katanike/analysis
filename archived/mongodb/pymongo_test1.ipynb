{
 "cells": [
  {
   "cell_type": "code",
   "execution_count": 54,
   "metadata": {
    "collapsed": true
   },
   "outputs": [],
   "source": [
    "# ref : http://api.mongodb.com/python/current/tutorial.html\n",
    "# ref : http://blog.mycodesite.com/mongodb-basics-and-tips/"
   ]
  },
  {
   "cell_type": "code",
   "execution_count": 20,
   "metadata": {
    "collapsed": false
   },
   "outputs": [
    {
     "name": "stdout",
     "output_type": "stream",
     "text": [
      "Populating the interactive namespace from numpy and matplotlib\n"
     ]
    }
   ],
   "source": [
    "import pymongo\n",
    "from pymongo import MongoClient\n",
    "\n",
    "import datetime as dt   \n",
    "import time\n",
    "import csv\n",
    "import requests\n",
    "import pandas as pd, numpy as np\n",
    "%pylab inline"
   ]
  },
  {
   "cell_type": "code",
   "execution_count": 21,
   "metadata": {
    "collapsed": false
   },
   "outputs": [],
   "source": [
    "client = MongoClient('localhost', 27017)"
   ]
  },
  {
   "cell_type": "markdown",
   "metadata": {},
   "source": [
    "# show databases "
   ]
  },
  {
   "cell_type": "code",
   "execution_count": 47,
   "metadata": {
    "collapsed": false
   },
   "outputs": [
    {
     "data": {
      "text/plain": [
       "['local', 'mydb', 'test']"
      ]
     },
     "execution_count": 47,
     "metadata": {},
     "output_type": "execute_result"
    }
   ],
   "source": [
    "client.database_names()"
   ]
  },
  {
   "cell_type": "markdown",
   "metadata": {},
   "source": [
    "# use database :  \"test\""
   ]
  },
  {
   "cell_type": "code",
   "execution_count": 23,
   "metadata": {
    "collapsed": false
   },
   "outputs": [],
   "source": [
    "db = client.test"
   ]
  },
  {
   "cell_type": "markdown",
   "metadata": {},
   "source": [
    "# show table names under DB \"test\""
   ]
  },
  {
   "cell_type": "code",
   "execution_count": 39,
   "metadata": {
    "collapsed": false
   },
   "outputs": [
    {
     "data": {
      "text/plain": [
       "['resdb.users',\n",
       " 'example',\n",
       " 'system.profile',\n",
       " 'users',\n",
       " 'collection',\n",
       " 'db.users',\n",
       " 'restaurants']"
      ]
     },
     "execution_count": 39,
     "metadata": {},
     "output_type": "execute_result"
    }
   ],
   "source": [
    "db.collection_names()"
   ]
  },
  {
   "cell_type": "markdown",
   "metadata": {},
   "source": [
    " # use table (collection) : \"example\" "
   ]
  },
  {
   "cell_type": "code",
   "execution_count": 25,
   "metadata": {
    "collapsed": true
   },
   "outputs": [],
   "source": [
    "collection = db.example"
   ]
  },
  {
   "cell_type": "markdown",
   "metadata": {},
   "source": [
    "#  query  data in table \"example\""
   ]
  },
  {
   "cell_type": "code",
   "execution_count": 26,
   "metadata": {
    "collapsed": false
   },
   "outputs": [
    {
     "data": {
      "text/plain": [
       "{'_id': ObjectId('57e7a94a271ea33cb73358a4'),\n",
       " 'colorsArray': [{'colorName': 'red', 'hexValue': '#f00'},\n",
       "  {'colorName': 'green', 'hexValue': '#0f0'},\n",
       "  {'colorName': 'blue', 'hexValue': '#00f'},\n",
       "  {'colorName': 'cyan', 'hexValue': '#0ff'},\n",
       "  {'colorName': 'magenta', 'hexValue': '#f0f'},\n",
       "  {'colorName': 'yellow', 'hexValue': '#ff0'},\n",
       "  {'colorName': 'black', 'hexValue': '#000'}]}"
      ]
     },
     "execution_count": 26,
     "metadata": {},
     "output_type": "execute_result"
    }
   ],
   "source": [
    "collection.find_one()"
   ]
  },
  {
   "cell_type": "code",
   "execution_count": 45,
   "metadata": {
    "collapsed": false
   },
   "outputs": [],
   "source": [
    "#collection.find_one().count()"
   ]
  },
  {
   "cell_type": "code",
   "execution_count": 28,
   "metadata": {
    "collapsed": false
   },
   "outputs": [
    {
     "data": {
      "text/plain": [
       "{'_id': ObjectId('57e4da87f20b39098fe80f7e'),\n",
       " 'address': {'building': '1480',\n",
       "  'coord': [-73.9557413, 40.7720266],\n",
       "  'street': '2 Avenue',\n",
       "  'zipcode': '10075'},\n",
       " 'borough': 'Manhattan',\n",
       " 'cuisine': 'Italian',\n",
       " 'grades': [{'date': datetime.datetime(2014, 10, 1, 0, 0),\n",
       "   'grade': 'A',\n",
       "   'score': 11.0},\n",
       "  {'date': datetime.datetime(2014, 1, 16, 0, 0), 'grade': 'B', 'score': 17.0}],\n",
       " 'name': 'Vella',\n",
       " 'restaurant_id': '41704620'}"
      ]
     },
     "execution_count": 28,
     "metadata": {},
     "output_type": "execute_result"
    }
   ],
   "source": [
    "db['restaurants'].find_one()"
   ]
  },
  {
   "cell_type": "code",
   "execution_count": 68,
   "metadata": {
    "collapsed": false
   },
   "outputs": [
    {
     "name": "stdout",
     "output_type": "stream",
     "text": [
      "{'cuisine': 'Italian', 'restaurant_id': '41704620', '_id': ObjectId('57e4da87f20b39098fe80f7e'), 'name': 'Vella', 'address': {'building': '1480', 'street': '2 Avenue', 'zipcode': '10075', 'coord': [-73.9557413, 40.7720266]}, 'grades': [{'date': datetime.datetime(2014, 10, 1, 0, 0), 'grade': 'A', 'score': 11.0}, {'date': datetime.datetime(2014, 1, 16, 0, 0), 'grade': 'B', 'score': 17.0}], 'borough': 'Manhattan'}\n",
      "{'date': datetime.datetime(2016, 9, 25, 10, 17, 10, 461000), 'volume': 2980000, '_id': 1.0}\n"
     ]
    }
   ],
   "source": [
    "for item in db['restaurants'].find().limit(0):\n",
    "    print (item)"
   ]
  },
  {
   "cell_type": "code",
   "execution_count": 34,
   "metadata": {
    "collapsed": false
   },
   "outputs": [
    {
     "data": {
      "text/plain": [
       "{'_id': ObjectId('57e4da87f20b39098fe80f7e'),\n",
       " 'address': {'building': '1480',\n",
       "  'coord': [-73.9557413, 40.7720266],\n",
       "  'street': '2 Avenue',\n",
       "  'zipcode': '10075'},\n",
       " 'borough': 'Manhattan',\n",
       " 'cuisine': 'Italian',\n",
       " 'grades': [{'date': datetime.datetime(2014, 10, 1, 0, 0),\n",
       "   'grade': 'A',\n",
       "   'score': 11.0},\n",
       "  {'date': datetime.datetime(2014, 1, 16, 0, 0), 'grade': 'B', 'score': 17.0}],\n",
       " 'name': 'Vella',\n",
       " 'restaurant_id': '41704620'}"
      ]
     },
     "execution_count": 34,
     "metadata": {},
     "output_type": "execute_result"
    }
   ],
   "source": [
    "db['restaurants'].find_one({'name': 'Vella'})"
   ]
  },
  {
   "cell_type": "markdown",
   "metadata": {},
   "source": [
    "# create Database "
   ]
  },
  {
   "cell_type": "markdown",
   "metadata": {},
   "source": [
    "# create table (collection)"
   ]
  },
  {
   "cell_type": "code",
   "execution_count": 40,
   "metadata": {
    "collapsed": false
   },
   "outputs": [
    {
     "data": {
      "text/plain": [
       "Collection(Database(MongoClient(host=['localhost:27017'], document_class=dict, tz_aware=False, connect=True), 'test'), 'test1')"
      ]
     },
     "execution_count": 40,
     "metadata": {},
     "output_type": "execute_result"
    }
   ],
   "source": [
    "db.create_collection('test1')"
   ]
  },
  {
   "cell_type": "code",
   "execution_count": 43,
   "metadata": {
    "collapsed": false
   },
   "outputs": [
    {
     "data": {
      "text/plain": [
       "['resdb.users',\n",
       " 'example',\n",
       " 'test1',\n",
       " 'system.profile',\n",
       " 'users',\n",
       " 'collection',\n",
       " 'db.users',\n",
       " 'restaurants']"
      ]
     },
     "execution_count": 43,
     "metadata": {},
     "output_type": "execute_result"
    }
   ],
   "source": [
    "db.collection_names()"
   ]
  },
  {
   "cell_type": "markdown",
   "metadata": {},
   "source": [
    "# insert data into table "
   ]
  },
  {
   "cell_type": "code",
   "execution_count": 55,
   "metadata": {
    "collapsed": true
   },
   "outputs": [],
   "source": [
    "book = {}  \n",
    "book[\"_id\"] = \"978-3-16-148410-0\"  #The unique key  \n",
    "book[\"title\"] = \"MongoDB book\"  \n",
    "book[\"year\"] = 2014  \n",
    "book[\"authors\"] = [\"Author 1\", \"Author 2\"]  \n",
    "book[\"sells\"] = 0  "
   ]
  },
  {
   "cell_type": "code",
   "execution_count": 56,
   "metadata": {
    "collapsed": false
   },
   "outputs": [
    {
     "data": {
      "text/plain": [
       "{'_id': '978-3-16-148410-0',\n",
       " 'authors': ['Author 1', 'Author 2'],\n",
       " 'sells': 0,\n",
       " 'title': 'MongoDB book',\n",
       " 'year': 2014}"
      ]
     },
     "execution_count": 56,
     "metadata": {},
     "output_type": "execute_result"
    }
   ],
   "source": [
    "book"
   ]
  },
  {
   "cell_type": "code",
   "execution_count": 60,
   "metadata": {
    "collapsed": false
   },
   "outputs": [
    {
     "name": "stderr",
     "output_type": "stream",
     "text": [
      "/Users/GGV/anaconda/envs/GGV_DASH/lib/python3.4/site-packages/ipykernel/__main__.py:1: DeprecationWarning: insert is deprecated. Use insert_one or insert_many instead.\n",
      "  if __name__ == '__main__':\n"
     ]
    },
    {
     "data": {
      "text/plain": [
       "'978-3-16-148410-0'"
      ]
     },
     "execution_count": 60,
     "metadata": {},
     "output_type": "execute_result"
    }
   ],
   "source": [
    "db.test1.insert(book)"
   ]
  },
  {
   "cell_type": "code",
   "execution_count": 61,
   "metadata": {
    "collapsed": false
   },
   "outputs": [
    {
     "data": {
      "text/plain": [
       "{'_id': '978-3-16-148410-0',\n",
       " 'authors': ['Author 1', 'Author 2'],\n",
       " 'sells': 0,\n",
       " 'title': 'MongoDB book',\n",
       " 'year': 2014}"
      ]
     },
     "execution_count": 61,
     "metadata": {},
     "output_type": "execute_result"
    }
   ],
   "source": [
    "db.test1.find_one()"
   ]
  }
 ],
 "metadata": {
  "kernelspec": {
   "display_name": "Python 3",
   "language": "python",
   "name": "python3"
  },
  "language_info": {
   "codemirror_mode": {
    "name": "ipython",
    "version": 3
   },
   "file_extension": ".py",
   "mimetype": "text/x-python",
   "name": "python",
   "nbconvert_exporter": "python",
   "pygments_lexer": "ipython3",
   "version": "3.4.4"
  }
 },
 "nbformat": 4,
 "nbformat_minor": 0
}
