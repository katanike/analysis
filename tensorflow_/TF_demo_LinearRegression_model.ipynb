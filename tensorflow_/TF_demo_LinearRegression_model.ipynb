{
 "cells": [
  {
   "cell_type": "markdown",
   "metadata": {},
   "source": [
    "## INTRO \n",
    "- Run the simple linear regression with Tensorflow DL framework.\n",
    "The idea is showing how tf work with simplist examples with Boston house dataset\n",
    "- General train process :\n",
    "    - Step 1) Load the data, transform to the right size, and split to train,valid, test set \n",
    "    - Step 2) Define variables (y=w*x+b), weight, bias for example \n",
    "    - Step 3) Define cost, optimizer, super-parameter ( learn-rate for example)\n",
    "    - Step 4) Intiate the variables and optimizer\n",
    "    - Step 5) Run the model (with tf.Session() as sess, sess.run(init))\n",
    "    \n",
    "\n",
    "## REF \n",
    "- https://medium.com/@saxenarohan97/intro-to-tensorflow-solving-a-simple-regression-problem-e87b42fd4845"
   ]
  },
  {
   "cell_type": "code",
   "execution_count": null,
   "metadata": {},
   "outputs": [],
   "source": []
  },
  {
   "cell_type": "code",
   "execution_count": 12,
   "metadata": {},
   "outputs": [],
   "source": [
    "# OP\n",
    "from sklearn.datasets import load_boston\n",
    "from sklearn.preprocessing import scale\n",
    "from matplotlib import pyplot as plt\n",
    "\n",
    "# DL \n",
    "import tensorflow as tf\n",
    "from tensorflow.python.ops.metrics_impl import  accuracy"
   ]
  },
  {
   "cell_type": "code",
   "execution_count": 2,
   "metadata": {},
   "outputs": [],
   "source": [
    "# LOAD THE DATA \n",
    "total_features, total_prices = load_boston(True)\n",
    "\n",
    "# SPLIT TO TRAIN, VALIDATION, TEST SET \n",
    "\n",
    "# Keep 300 samples for training\n",
    "train_features = scale(total_features[:300])\n",
    "train_prices = total_prices[:300]\n",
    "\n",
    "# Keep 100 samples for validation\n",
    "valid_features = scale(total_features[300:400])\n",
    "valid_prices = total_prices[300:400]\n",
    "\n",
    "# Keep remaining samples as test set\n",
    "test_features = scale(total_features[400:])\n",
    "test_prices = total_prices[400:]"
   ]
  },
  {
   "cell_type": "code",
   "execution_count": 3,
   "metadata": {},
   "outputs": [
    {
     "data": {
      "text/plain": [
       "array([[ -6.41131126e-01,   1.00803985e-01,  -1.03067021e+00,\n",
       "         -3.14485451e-01,   2.17757002e-01,   2.19427174e-01,\n",
       "          8.26098070e-02,  -9.55971610e-02,  -2.15826599e+00,\n",
       "         -2.32544281e-01,  -1.00268807e+00,   4.20545707e-01,\n",
       "         -9.23483688e-01],\n",
       "       [ -6.09771235e-01,  -5.93509179e-01,  -2.83216038e-01,\n",
       "         -3.14485451e-01,  -4.17103062e-01,   9.45806783e-04,\n",
       "          5.53520080e-01,   3.48016313e-01,  -1.53926045e+00,\n",
       "         -1.01526137e+00,   9.27468208e-02,   4.20545707e-01,\n",
       "         -2.52348069e-01],\n",
       "       [ -6.09801116e-01,  -5.93509179e-01,  -2.83216038e-01,\n",
       "         -3.14485451e-01,  -4.17103062e-01,   1.08484038e+00,\n",
       "         -5.83195447e-02,   3.48016313e-01,  -1.53926045e+00,\n",
       "         -1.01526137e+00,   9.27468208e-02,   3.26456136e-01,\n",
       "         -1.07674783e+00]])"
      ]
     },
     "execution_count": 3,
     "metadata": {},
     "output_type": "execute_result"
    }
   ],
   "source": [
    "# sample X train data \n",
    "train_features[:3]"
   ]
  },
  {
   "cell_type": "code",
   "execution_count": 4,
   "metadata": {},
   "outputs": [
    {
     "data": {
      "text/plain": [
       "array([ 24. ,  21.6,  34.7])"
      ]
     },
     "execution_count": 4,
     "metadata": {},
     "output_type": "execute_result"
    }
   ],
   "source": [
    "# sample y train data \n",
    "train_prices[:3]"
   ]
  },
  {
   "cell_type": "code",
   "execution_count": 5,
   "metadata": {},
   "outputs": [
    {
     "name": "stdout",
     "output_type": "stream",
     "text": [
      "train X dataset shape (300, 13)\n",
      "train y dataset shape (300,)\n"
     ]
    }
   ],
   "source": [
    "print ('train X dataset shape',train_features.shape)\n",
    "print ('train y dataset shape',train_prices.shape )"
   ]
  },
  {
   "cell_type": "code",
   "execution_count": null,
   "metadata": {},
   "outputs": [],
   "source": []
  },
  {
   "cell_type": "code",
   "execution_count": 6,
   "metadata": {},
   "outputs": [],
   "source": [
    "# DEFINE THE VARIABLES \n",
    "# y= x*w + b \n",
    "\n",
    "# 1) weight (w) size : [data_feature_size, output_size]\n",
    "# tf.truncated_normal() as an initial value, which generates a regularised set of numbers from the normal probability distribution\n",
    "# or you can use tf.zeros as well -> i.e. weights = tf.Variable(tf.zeros([13, 1]))\n",
    "w = tf.Variable(tf.truncated_normal([13, 1], mean=0.0, stddev=1.0, dtype=tf.float64))\n",
    "\n",
    "# 2) bias size : [output_size]\n",
    "# select tf.float64 as bias dtype here \n",
    "b = tf.Variable(tf.zeros(1, dtype = tf.float64))"
   ]
  },
  {
   "cell_type": "code",
   "execution_count": 7,
   "metadata": {},
   "outputs": [],
   "source": [
    "# HELP FUNC \n",
    "\n",
    "def calc(x, y):\n",
    "# Returns predictions and error\n",
    "    predictions = tf.add(b, tf.matmul(x, w))\n",
    "    error = tf.reduce_mean(tf.square(y - predictions))\n",
    "    return [ predictions, error ]"
   ]
  },
  {
   "cell_type": "code",
   "execution_count": 14,
   "metadata": {},
   "outputs": [],
   "source": [
    "# SET UP THE CALCULATE, SUPER PARAMETERS \n",
    "\n",
    "y, cost = calc(train_features, train_prices)\n",
    "# Feel free to tweak these 2 values:\n",
    "learning_rate = 0.025\n",
    "epochs = 300\n",
    "output = [[], []] # get the model train history \n",
    "accuracy = []"
   ]
  },
  {
   "cell_type": "code",
   "execution_count": 9,
   "metadata": {},
   "outputs": [],
   "source": [
    "# INIT THE VARIABLES  AND THE optimizer\n",
    "init = tf.global_variables_initializer()\n",
    "optimizer = tf.train.GradientDescentOptimizer(learning_rate).minimize(cost)\n"
   ]
  },
  {
   "cell_type": "code",
   "execution_count": 20,
   "metadata": {
    "scrolled": false
   },
   "outputs": [
    {
     "name": "stdout",
     "output_type": "stream",
     "text": [
      "epoch :  0 error :  674.652751885\n",
      "epoch :  100 error :  78.8136182244\n",
      "epoch :  200 error :  78.7360855572\n"
     ]
    },
    {
     "data": {
      "image/png": "[encoded data removed]",
      "text/plain": [
       "<Figure size 432x288 with 1 Axes>"
      ]
     },
     "metadata": {},
     "output_type": "display_data"
    },
    {
     "name": "stdout",
     "output_type": "stream",
     "text": [
      "Validation error = 104.347628127 \n",
      "\n",
      "Test error = 123.346126366 \n",
      "\n"
     ]
    }
   ],
   "source": [
    "# TRAIN THE MODEL \n",
    "\n",
    "with tf.Session() as sess:\n",
    "\n",
    "    sess.run(init)\n",
    "\n",
    "    for i in list(range(epochs)):\n",
    "\n",
    "        sess.run(optimizer)\n",
    "\n",
    "        if i % 10 == 0.:\n",
    "            output[0].append(i+1)\n",
    "            output[1].append(sess.run(cost))\n",
    "\n",
    "        if i % 100 == 0:\n",
    "            print('epoch : ',i ,'error : ', sess.run(cost))\n",
    "        \n",
    "        # for accuracy plot \n",
    "        #valid_predict = calc(valid_features, valid_prices)[0]\n",
    "        #accuracy.append.(tf.metrics.accuracy(labels, valid_accuracy))\n",
    "           \n",
    "            \n",
    "    plt.title('MODEL LOSS (error) ')\n",
    "    plt.plot(output[0], output[1], 'r--')\n",
    "    plt.axis([0, epochs, 50, 600])\n",
    "    plt.show()\n",
    "    \n",
    "    #plt.title('MODEL ACCURACY  ')\n",
    "    #plt.plot(output[0], output[1], 'r--')\n",
    "    #plt.axis([0, epochs, 50, 600])\n",
    "    #plt.show()\n",
    "\n",
    "    valid_cost = calc(valid_features, valid_prices)[1]\n",
    "\n",
    "    print('Validation error =', sess.run(valid_cost), '\\n')\n",
    "\n",
    "    test_cost = calc(test_features, test_prices)[1]\n",
    "\n",
    "    print('Test error =', sess.run(test_cost), '\\n')"
   ]
  },
  {
   "cell_type": "code",
   "execution_count": 21,
   "metadata": {
    "scrolled": true
   },
   "outputs": [],
   "source": [
    "# end of demo\n",
    "# TODO :\n",
    "    # 1) add accuracy,\n",
    "    # 2) learning curve plots \n",
    "    # 3) grid search \n",
    "    "
   ]
  },
  {
   "cell_type": "code",
   "execution_count": null,
   "metadata": {},
   "outputs": [],
   "source": []
  }
 ],
 "metadata": {
  "kernelspec": {
   "display_name": "Environment (conda_ds_dash)",
   "language": "python",
   "name": "conda_ds_dash"
  },
  "language_info": {
   "codemirror_mode": {
    "name": "ipython",
    "version": 3
   },
   "file_extension": ".py",
   "mimetype": "text/x-python",
   "name": "python",
   "nbconvert_exporter": "python",
   "pygments_lexer": "ipython3",
   "version": "3.5.4"
  }
 },
 "nbformat": 4,
 "nbformat_minor": 2
}
