{
 "cells": [
  {
   "cell_type": "markdown",
   "metadata": {},
   "source": [
    "## INTRO \n",
    "- Run a simple NN (neutal nework) model via Tensorflow DL framwork with CAT_VS_DOG KAGGLE IMAGE DATASET \n",
    "\n",
    "## REF \n",
    "\n",
    "- https://github.com/jshin49/Kaggle-Cat-vs-Dog-Tensorflow-CNN/blob/master/utils/prepare_data.py\n",
    "- https://github.com/aymericdamien/TensorFlow-Examples/blob/master/notebooks/3_NeuralNetworks/neural_network_raw.ipynb"
   ]
  },
  {
   "cell_type": "code",
   "execution_count": 3,
   "metadata": {},
   "outputs": [
    {
     "name": "stderr",
     "output_type": "stream",
     "text": [
      "/Users/yennanliu/anaconda3/envs/ds_dash/lib/python3.5/importlib/_bootstrap.py:222: RuntimeWarning: compiletime version 3.6 of module 'tensorflow.python.framework.fast_tensor_util' does not match runtime version 3.5\n",
      "  return f(*args, **kwds)\n"
     ]
    }
   ],
   "source": [
    "# OP\n",
    "from sklearn.datasets import load_boston\n",
    "from sklearn.preprocessing import scale\n",
    "from matplotlib import pyplot as plt\n",
    "import os \n",
    "\n",
    "# DL \n",
    "import tensorflow as tf\n",
    "from tensorflow.python.ops.metrics_impl import  accuracy"
   ]
  },
  {
   "cell_type": "code",
   "execution_count": 24,
   "metadata": {},
   "outputs": [
    {
     "name": "stdout",
     "output_type": "stream",
     "text": [
      "['valid', '.DS_Store', 'train']\n"
     ]
    }
   ],
   "source": [
    "# GET IMAGE PATH \n",
    "\n",
    "PATH = '/Users/yennanliu/Kaggle.com_mini_project/Dog_VS_Cat/data'\n",
    "print(os.listdir(PATH))\n",
    "# should print : ['valid','train']"
   ]
  },
  {
   "cell_type": "code",
   "execution_count": 27,
   "metadata": {},
   "outputs": [],
   "source": [
    "# HELP FUNC \n",
    "# ref \n",
    "# https://github.com/aquatiko/Dog-vs-Cat-Redux-Kernel-Edition-Transfer-Learning/blob/master/Dogs%20vs%20Cats.ipynb\n",
    "# https://github.com/jshin49/Kaggle-Cat-vs-Dog-Tensorflow-CNN/blob/master/utils/prepare_data.py\n",
    "\n",
    "\n",
    "\n",
    "def load_catdog_data(PATH):\n",
    "    print ('PATH : ', PATH)\n",
    "    fnames = np.array([f  for f in sorted(os.listdir(PATH))])\n",
    "    labels = np.array([(0 if 'cat' in fname else 1) for fname in fnames])\n",
    "    return fnames, labels\n",
    "    "
   ]
  },
  {
   "cell_type": "code",
   "execution_count": 28,
   "metadata": {},
   "outputs": [
    {
     "name": "stdout",
     "output_type": "stream",
     "text": [
      "PATH :  /Users/yennanliu/Kaggle.com_mini_project/Dog_VS_Cat/data\n"
     ]
    }
   ],
   "source": [
    "fnames, labels = load_catdog_data(PATH)"
   ]
  },
  {
   "cell_type": "code",
   "execution_count": 31,
   "metadata": {},
   "outputs": [
    {
     "data": {
      "text/plain": [
       "array(['.DS_Store', 'train', 'valid'],\n",
       "      dtype='<U9')"
      ]
     },
     "execution_count": 31,
     "metadata": {},
     "output_type": "execute_result"
    }
   ],
   "source": [
    "fnames"
   ]
  },
  {
   "cell_type": "code",
   "execution_count": null,
   "metadata": {},
   "outputs": [],
   "source": [
    "# GET THE CAT_VS_DOG KAGGLE IMAGE DATA\n",
    "\n"
   ]
  },
  {
   "cell_type": "code",
   "execution_count": null,
   "metadata": {},
   "outputs": [],
   "source": []
  }
 ],
 "metadata": {
  "kernelspec": {
   "display_name": "Environment (conda_ds_dash)",
   "language": "python",
   "name": "conda_ds_dash"
  },
  "language_info": {
   "codemirror_mode": {
    "name": "ipython",
    "version": 3
   },
   "file_extension": ".py",
   "mimetype": "text/x-python",
   "name": "python",
   "nbconvert_exporter": "python",
   "pygments_lexer": "ipython3",
   "version": "3.5.4"
  }
 },
 "nbformat": 4,
 "nbformat_minor": 2
}
