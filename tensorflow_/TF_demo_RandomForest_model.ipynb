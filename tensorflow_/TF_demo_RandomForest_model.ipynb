{
 "cells": [
  {
   "cell_type": "markdown",
   "metadata": {},
   "source": [
    "## INTRO \n",
    "\n",
    "- Build a simple RF model via Tensorflow DL framework. with Boston house data (adapt from the origin MNIST image data)\n",
    "- Steps \n",
    "    - Step 1) Load the data, transform to the right size, and split to train,valid, test set\n",
    "    - Step 2) Build the tensorflow rando forest model (tensor_forest.RandomForestGraphs)\n",
    "    - Step 3) Define cost, optimizer, super-parameter ( learn-rate for example)\n",
    "    - Step 4) Intiate the variables and optimizer\n",
    "    - Step 5) Run the model (with tf.Session() as sess, sess.run(init))\n",
    "\n",
    "\n",
    "\n",
    "## REF \n",
    "- https://github.com/aymericdamien/TensorFlow-Examples/blob/master/notebooks/2_BasicModels/random_forest.ipynb\n",
    "\n",
    "- https://gist.github.com/lynnlangit/259f7a74ee5bc957006b57861cb9f8d7 "
   ]
  },
  {
   "cell_type": "code",
   "execution_count": null,
   "metadata": {},
   "outputs": [],
   "source": []
  },
  {
   "cell_type": "code",
   "execution_count": 1,
   "metadata": {},
   "outputs": [
    {
     "name": "stderr",
     "output_type": "stream",
     "text": [
      "/Users/yennanliu/anaconda3/envs/ds_dash/lib/python3.5/importlib/_bootstrap.py:222: RuntimeWarning: compiletime version 3.6 of module 'tensorflow.python.framework.fast_tensor_util' does not match runtime version 3.5\n",
      "  return f(*args, **kwds)\n"
     ]
    }
   ],
   "source": [
    "# OP \n",
    "import numpy as np\n",
    "import pandas as pd \n",
    "from sklearn import datasets\n",
    "from sklearn.metrics import confusion_matrix\n",
    "import matplotlib.pyplot as plt\n",
    "%matplotlib inline\n",
    "\n",
    "# DL \n",
    "import tensorflow as tf\n",
    "from tensorflow.python.ops import resources\n",
    "from tensorflow.contrib.tensor_forest.python import tensor_forest\n"
   ]
  },
  {
   "cell_type": "code",
   "execution_count": 2,
   "metadata": {},
   "outputs": [],
   "source": [
    "# GENERATE TOY DATA \n",
    "# n_classes = 4 \n",
    "# n_samples = 10000\n",
    "# n_features = 20 \n",
    "X, y = datasets.make_classification(n_samples=10000, n_features=20,n_informative=2,\n",
    "                                    n_clusters_per_class=1,n_redundant=5,n_classes=4)"
   ]
  },
  {
   "cell_type": "code",
   "execution_count": 3,
   "metadata": {},
   "outputs": [
    {
     "name": "stdout",
     "output_type": "stream",
     "text": [
      "X DAYA SAMPLE :  [[ 1.45926139 -1.12510753 -0.36677095  0.46741815 -0.49458857 -1.32163612\n",
      "   0.3051482  -0.07930608 -0.59478916  1.60384253  0.71363415 -0.97046529\n",
      "  -0.05520398  1.20325633  0.93429905  1.09688298  0.5227903   1.71790956\n",
      "   0.20832886  2.23512089]\n",
      " [-0.60750769  0.21923795  0.20209167 -0.60177868  0.34423928 -1.0693696\n",
      "  -0.45353227  1.15890621 -0.8062542   1.2326347  -0.60190003 -0.80252346\n",
      "   1.41957223 -0.04837158  0.4963427  -0.96691476  0.53635731 -1.39880765\n",
      "  -1.44068707 -0.90482245]\n",
      " [-0.71709114  0.19117338 -0.65600827 -0.95203669 -2.17865732 -1.67762872\n",
      "  -0.73202413  2.08634264 -1.65173221  1.49058417 -0.87639687 -0.96453671\n",
      "  -0.1287646   0.28262985 -1.53817124 -1.42313597  0.60629808  0.37928537\n",
      "  -0.73129833 -0.0554837 ]]\n",
      "y DAYA SAMPLE :  [2 0 0]\n"
     ]
    }
   ],
   "source": [
    "# SAMPLE DATA \n",
    "\n",
    "print ('X DAYA SAMPLE : ', X[:3])\n",
    "\n",
    "\n",
    "print ('y DAYA SAMPLE : ', y[:3])"
   ]
  },
  {
   "cell_type": "code",
   "execution_count": 4,
   "metadata": {},
   "outputs": [
    {
     "name": "stdout",
     "output_type": "stream",
     "text": [
      "Size of:\n",
      "- Training-set:\t\t(9000, 20)\n",
      "- Test-set:\t\t(1000, 20)\n"
     ]
    }
   ],
   "source": [
    "# TRAIN-TEST SPLIT \n",
    "\n",
    "num_data = len(X)\n",
    "train_split = 0.9\n",
    "num_train = int(train_split * num_data)\n",
    "num_test = num_data - num_train\n",
    "x_train = X[0:num_train]\n",
    "x_test = X[num_train:]\n",
    "y_train = y[0:num_train]\n",
    "y_test = y[num_train:]\n",
    "\n",
    "\n",
    "print(\"Size of:\")\n",
    "print(\"- Training-set:\\t\\t{}\".format(x_train.shape))\n",
    "#print(\"- Validation-set:\\t{}\".format(data.num_val))\n",
    "print(\"- Test-set:\\t\\t{}\".format(x_test.shape))\n"
   ]
  },
  {
   "cell_type": "code",
   "execution_count": 5,
   "metadata": {},
   "outputs": [],
   "source": [
    "# Parameters\n",
    "num_steps = 1000 # Total steps to train\n",
    "batch_size = 100 # The number of samples per batch\n",
    "num_classes = 10 # The 10 digits\n",
    "num_features = 20 # dimension of train features (20 here )\n",
    "num_trees = 10\n",
    "max_nodes = 1000\n",
    "\n",
    "# Input and Target data\n",
    "X = tf.placeholder(tf.float32, shape=[None, num_features])\n",
    "# For random forest, labels must be integers (the class id)\n",
    "Y = tf.placeholder(tf.int32, shape=[None])\n",
    "\n",
    "# Random Forest Parameters\n",
    "hparams = tensor_forest.ForestHParams(num_classes=num_classes,\n",
    "                                      num_features=num_features,\n",
    "                                      num_trees=num_trees,\n",
    "                                      max_nodes=max_nodes).fill()"
   ]
  },
  {
   "cell_type": "code",
   "execution_count": 6,
   "metadata": {},
   "outputs": [
    {
     "name": "stdout",
     "output_type": "stream",
     "text": [
      "INFO:tensorflow:Constructing forest with params = \n",
      "INFO:tensorflow:{'use_running_stats_method': False, 'bagged_features': None, 'base_random_seed': 0, 'dominate_method': 'bootstrap', 'max_nodes': 1000, 'num_trees': 10, 'num_outputs': 1, 'split_type': 0, 'finish_type': 0, 'split_pruning_name': 'none', 'model_name': 'all_dense', 'max_fertile_nodes': 0, 'dominate_fraction': 0.99, 'bagged_num_features': 20, 'num_splits_to_consider': 10, 'split_name': 'less_or_equal', 'leaf_model_type': 0, 'split_after_samples': 250, 'pruning_type': 0, 'prune_every_samples': 0, 'regression': False, 'bagging_fraction': 1.0, 'checkpoint_stats': False, 'num_output_columns': 11, 'inference_tree_paths': False, 'param_file': None, 'valid_leaf_threshold': 1, 'num_classes': 10, 'initialize_average_splits': False, 'early_finish_check_every_samples': 0, 'split_finish_name': 'basic', 'collate_examples': False, 'stats_model_type': 0, 'feature_bagging_fraction': 1.0, 'num_features': 20}\n"
     ]
    }
   ],
   "source": [
    "# Build the Random Forest\n",
    "forest_graph = tensor_forest.RandomForestGraphs(hparams)\n",
    "# Get training graph and loss\n",
    "train_op = forest_graph.training_graph(X, Y)\n",
    "loss_op = forest_graph.training_loss(X, Y)\n",
    "\n",
    "# Measure the accuracy\n",
    "infer_op, _, _ = forest_graph.inference_graph(X)\n",
    "correct_prediction = tf.equal(tf.argmax(infer_op, 1), tf.cast(Y, tf.int64))\n",
    "accuracy_op = tf.reduce_mean(tf.cast(correct_prediction, tf.float32))\n",
    "\n",
    "# Initialize the variables (i.e. assign their default value) and forest resources\n",
    "init_vars = tf.group(tf.global_variables_initializer(),\n",
    "    resources.initialize_resources(resources.shared_resources()))"
   ]
  },
  {
   "cell_type": "code",
   "execution_count": 7,
   "metadata": {},
   "outputs": [],
   "source": [
    "### HELP FUNC \n",
    "\n",
    "def get_next_batch(X_train,Y_train):\n",
    "    idxs = np.random.permutation(X_train.shape[0]) #shuffled ordering\n",
    "    X_random_batch  = X_train[idxs]\n",
    "    Y_random_batch = Y_train[idxs]\n",
    "    return X_random_batch,  Y_random_batch\n",
    "\n"
   ]
  },
  {
   "cell_type": "code",
   "execution_count": 8,
   "metadata": {},
   "outputs": [
    {
     "name": "stdout",
     "output_type": "stream",
     "text": [
      "Step 1, Loss: -1.000000, Acc: 0.872222\n",
      "Step 50, Loss: -1001.000000, Acc: 0.984111\n",
      "Step 100, Loss: -1001.000000, Acc: 0.984111\n",
      "Step 150, Loss: -1001.000000, Acc: 0.984111\n",
      "Step 200, Loss: -1001.000000, Acc: 0.984111\n",
      "Step 250, Loss: -1001.000000, Acc: 0.984111\n",
      "Step 300, Loss: -1001.000000, Acc: 0.984111\n",
      "Step 350, Loss: -1001.000000, Acc: 0.984111\n",
      "Step 400, Loss: -1001.000000, Acc: 0.984111\n",
      "Step 450, Loss: -1001.000000, Acc: 0.984111\n",
      "Step 500, Loss: -1001.000000, Acc: 0.984111\n",
      "Step 550, Loss: -1001.000000, Acc: 0.984111\n",
      "Step 600, Loss: -1001.000000, Acc: 0.984111\n",
      "Step 650, Loss: -1001.000000, Acc: 0.984111\n",
      "Step 700, Loss: -1001.000000, Acc: 0.984111\n",
      "Step 750, Loss: -1001.000000, Acc: 0.984111\n",
      "Step 800, Loss: -1001.000000, Acc: 0.984111\n",
      "Step 850, Loss: -1001.000000, Acc: 0.984111\n",
      "Step 900, Loss: -1001.000000, Acc: 0.984111\n",
      "Step 950, Loss: -1001.000000, Acc: 0.984111\n",
      "Step 1000, Loss: -1001.000000, Acc: 0.984111\n"
     ]
    },
    {
     "data": {
      "image/png": "[encoded data removed]",
      "text/plain": [
       "<Figure size 432x288 with 1 Axes>"
      ]
     },
     "metadata": {},
     "output_type": "display_data"
    },
    {
     "data": {
      "image/png": "[encoded data removed]",
      "text/plain": [
       "<Figure size 432x288 with 1 Axes>"
      ]
     },
     "metadata": {},
     "output_type": "display_data"
    },
    {
     "name": "stdout",
     "output_type": "stream",
     "text": [
      "Test Accuracy: 0.977\n"
     ]
    }
   ],
   "source": [
    "# Start TensorFlow session\n",
    "sess = tf.train.MonitoredSession()\n",
    "\n",
    "# Run the initializer\n",
    "sess.run(init_vars)\n",
    "\n",
    "# Training\n",
    "\n",
    "output = [[], []] # get the model train history, i.e. : [[loss],[acc]]\n",
    "\n",
    "\n",
    "for i in range(1, num_steps + 1):\n",
    "    # Prepare Data\n",
    "    # Get the next batch of MNIST data (only images are needed, not labels)\n",
    "    ####################################################################################\n",
    "    #                                                                                  #\n",
    "    # MODIFY THE CODE HERE (MNIST -> USER DEFINED DATASET)                             #\n",
    "    ####################################################################################\n",
    "    \n",
    "    batch_x, batch_y = get_next_batch(x_train,y_train)\n",
    "    _, l = sess.run([train_op, loss_op], feed_dict={X: batch_x, Y: batch_y})\n",
    "    if i % 50 == 0 or i == 1:\n",
    "        acc = sess.run(accuracy_op, feed_dict={X: batch_x, Y: batch_y})\n",
    "        output[0].append(l)\n",
    "        output[1].append(acc)\n",
    "        print('Step %i, Loss: %f, Acc: %f' % (i, l, acc))\n",
    "        \n",
    "plt.plot(output[0])\n",
    "plt.title('MODEL LOSS ')\n",
    "plt.show()\n",
    "plt.plot(output[1])\n",
    "plt.title('MODEL ACCURACY ')\n",
    "plt.show()\n",
    "\n",
    "# Test Model\n",
    "test_x, test_y = x_test, y_test\n",
    "print(\"Test Accuracy:\", sess.run(accuracy_op, feed_dict={X: test_x, Y: test_y}))\n"
   ]
  },
  {
   "cell_type": "code",
   "execution_count": 9,
   "metadata": {},
   "outputs": [],
   "source": [
    "# end of analysis "
   ]
  }
 ],
 "metadata": {
  "kernelspec": {
   "display_name": "Environment (conda_ds_dash)",
   "language": "python",
   "name": "conda_ds_dash"
  },
  "language_info": {
   "codemirror_mode": {
    "name": "ipython",
    "version": 3
   },
   "file_extension": ".py",
   "mimetype": "text/x-python",
   "name": "python",
   "nbconvert_exporter": "python",
   "pygments_lexer": "ipython3",
   "version": "3.5.4"
  }
 },
 "nbformat": 4,
 "nbformat_minor": 2
}
