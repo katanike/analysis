{
 "cells": [
  {
   "cell_type": "markdown",
   "metadata": {},
   "source": [
    "## ref \n",
    "\n",
    "- https://github.com/Hvass-Labs/TensorFlow-Tutorials/blob/master/01_Simple_Linear_Model.ipynb"
   ]
  },
  {
   "cell_type": "code",
   "execution_count": 5,
   "metadata": {},
   "outputs": [],
   "source": [
    "# OP\n",
    "import numpy as np\n",
    "import pandas as pd \n",
    "from sklearn import datasets\n",
    "from sklearn.metrics import confusion_matrix\n",
    "import matplotlib.pyplot as plt\n",
    "%matplotlib inline\n",
    "\n",
    "# DL \n",
    "import tensorflow as tf "
   ]
  },
  {
   "cell_type": "code",
   "execution_count": 25,
   "metadata": {},
   "outputs": [],
   "source": [
    "# GENERATE TOY DATA \n",
    "# n_classes = 4 \n",
    "# n_samples = 10000\n",
    "# n_features = 20 \n",
    "X, y = datasets.make_classification(n_samples=10000, n_features=20,n_informative=2,\n",
    "                                    n_clusters_per_class=1,n_redundant=5,n_classes=4)"
   ]
  },
  {
   "cell_type": "code",
   "execution_count": 160,
   "metadata": {},
   "outputs": [
    {
     "data": {
      "text/plain": [
       "array([[ 0.70488674,  0.86190855, -0.54545458, ..., -0.97611583,\n",
       "        -0.72269921, -0.3918303 ],\n",
       "       [ 1.02894295,  0.36738741, -0.11840193, ...,  1.10361663,\n",
       "        -0.96512791, -0.0288549 ],\n",
       "       [-0.22908098, -1.54314282,  1.07098599, ..., -0.47356331,\n",
       "        -1.43360698, -2.35546839],\n",
       "       ..., \n",
       "       [-0.58256902, -0.32832111,  0.16417028, ..., -0.1385447 ,\n",
       "        -2.39407493,  1.29910305],\n",
       "       [ 0.31383021, -1.03369215, -0.68900052, ...,  0.35693534,\n",
       "        -1.83667937,  0.05052402],\n",
       "       [-1.47401046, -2.00451064,  0.24261489, ...,  1.48395664,\n",
       "        -0.52222599, -1.02889809]])"
      ]
     },
     "execution_count": 160,
     "metadata": {},
     "output_type": "execute_result"
    }
   ],
   "source": [
    "X"
   ]
  },
  {
   "cell_type": "code",
   "execution_count": 161,
   "metadata": {},
   "outputs": [
    {
     "data": {
      "text/plain": [
       "array([0, 2, 0, ..., 2, 2, 2])"
      ]
     },
     "execution_count": 161,
     "metadata": {},
     "output_type": "execute_result"
    }
   ],
   "source": [
    "y"
   ]
  },
  {
   "cell_type": "code",
   "execution_count": 34,
   "metadata": {},
   "outputs": [
    {
     "name": "stdout",
     "output_type": "stream",
     "text": [
      "Size of:\n",
      "- Training-set:\t\t(9000, 20)\n",
      "- Test-set:\t\t(1000, 20)\n"
     ]
    }
   ],
   "source": [
    "# TRAIN-TEST SPLIT \n",
    "\n",
    "num_data = len(X)\n",
    "train_split = 0.9\n",
    "num_train = int(train_split * num_data)\n",
    "num_test = num_data - num_train\n",
    "x_train = X[0:num_train]\n",
    "x_test = X[num_train:]\n",
    "y_train = y[0:num_train]\n",
    "y_test = y[num_train:]\n",
    "\n",
    "\n",
    "print(\"Size of:\")\n",
    "print(\"- Training-set:\\t\\t{}\".format(x_train.shape))\n",
    "#print(\"- Validation-set:\\t{}\".format(data.num_val))\n",
    "print(\"- Test-set:\\t\\t{}\".format(x_test.shape))\n"
   ]
  },
  {
   "cell_type": "code",
   "execution_count": 39,
   "metadata": {},
   "outputs": [],
   "source": [
    "# The images are stored in one-dimensional arrays of this length.\n",
    "data_size_flat = X.shape[0]\n",
    "\n",
    "# Tuple with height and width of images used to reshape arrays.\n",
    "data_shape = X.shape[1]\n",
    "\n",
    "# Number of classes, one class for each of 10 digits.\n",
    "num_classes = len(set(y))"
   ]
  },
  {
   "cell_type": "code",
   "execution_count": 46,
   "metadata": {},
   "outputs": [],
   "source": [
    "# SET UP PLACEHOLDER for x \n",
    "# shape of x = [None, data_size_flat]\n",
    "# [None, data_size_flat], where None means that the tensor may hold an arbitrary number of data \n",
    "# with each image being a vector of length img_size_flat.\n",
    "\n",
    "\n",
    "x = tf.placeholder(tf.float32, [None, data_size_flat])"
   ]
  },
  {
   "cell_type": "code",
   "execution_count": 47,
   "metadata": {},
   "outputs": [],
   "source": [
    "# SET UP PLACEHOLDER for y_true \n",
    "# shape of y_true = [None, num_classes]  \n",
    "# [None, num_classes] which means it may hold an arbitrary number of labels and each label is a vector of length num_classes \n",
    "# which is 4 in this case.\n",
    "\n",
    "y_true = tf.placeholder(tf.float32, [None, num_classes])"
   ]
  },
  {
   "cell_type": "code",
   "execution_count": 49,
   "metadata": {},
   "outputs": [],
   "source": [
    "# SET UP PLACEHOLDER for y_true_cls \n",
    "# shape of y_true_cls = [None]\n",
    "# variable is set to [None] which means the placeholder variable is a one-dimensional vector of arbitrary length.\n",
    "\n",
    "\n",
    "y_true_cls = tf.placeholder(tf.int64, [None])"
   ]
  },
  {
   "cell_type": "code",
   "execution_count": 52,
   "metadata": {},
   "outputs": [],
   "source": [
    "# VARIABLE TO BE TUNE \n",
    "# LOGITS = X*w + b \n",
    "# weights : w \n",
    "# bias : b \n",
    "\n",
    "# 1)  weights\n",
    "# The first variable that must be optimized is called weights and is defined here as a TensorFlow variable \n",
    "# that must be initialized with zeros and whose shape is [data_size_flat, num_classes], \n",
    "# so it is a 2-dimensional tensor (or matrix) with img_size_flat rows and num_classes columns.\n",
    "weights = tf.Variable(tf.zeros([data_size_flat, num_classes]))\n",
    "\n",
    "\n",
    "# 2) bias \n",
    "# The second variable that must be optimized is called biases and is defined as a 1-dimensional tensor (or vector) \n",
    "# of length num_classes.\n",
    "biases = tf.Variable(tf.zeros([num_classes]))\n",
    "\n",
    "\n"
   ]
  },
  {
   "cell_type": "code",
   "execution_count": 53,
   "metadata": {},
   "outputs": [],
   "source": [
    "# DEFINE SIMPLE LOGITS MODEL \n",
    "# LOGITS = X*w + b \n",
    "\n",
    "# x : x has shape [num_images, img_size_flat]\n",
    "# result matrix : [num_images, num_classes] \n",
    "\n",
    "logits = tf.matmul(x, weights) + biases"
   ]
  },
  {
   "cell_type": "code",
   "execution_count": 54,
   "metadata": {},
   "outputs": [],
   "source": [
    "# DEFINE PREDICT \n",
    "y_pred = tf.nn.softmax(logits)\n",
    "y_pred_cls = tf.argmax(y_pred, axis=1)"
   ]
  },
  {
   "cell_type": "code",
   "execution_count": 56,
   "metadata": {},
   "outputs": [],
   "source": [
    "# Cost-function : metric to be optimized\n",
    "\n",
    "cross_entropy = tf.nn.softmax_cross_entropy_with_logits_v2(logits=logits,\n",
    "                                                           labels=y_true)\n",
    "cost = tf.reduce_mean(cross_entropy)\n"
   ]
  },
  {
   "cell_type": "code",
   "execution_count": 57,
   "metadata": {},
   "outputs": [],
   "source": [
    "# DEFINE optimizer\n",
    "\n",
    "optimizer = tf.train.GradientDescentOptimizer(learning_rate=0.5).minimize(cost)"
   ]
  },
  {
   "cell_type": "code",
   "execution_count": 58,
   "metadata": {},
   "outputs": [],
   "source": [
    "# PERFORMANCE MEASRUE \n",
    "\n",
    "correct_prediction = tf.equal(y_pred_cls, y_true_cls)\n",
    "accuracy = tf.reduce_mean(tf.cast(correct_prediction, tf.float32))"
   ]
  },
  {
   "cell_type": "code",
   "execution_count": 61,
   "metadata": {},
   "outputs": [],
   "source": [
    "# TENSORFLOW RUN \n",
    "\n",
    "# define session \n",
    "session = tf.Session()\n",
    "\n",
    "# Initialize variables¶\n",
    "session.run(tf.global_variables_initializer())\n",
    "\n",
    "# SUPER PARAMETER DEFINE \n",
    "\n",
    "batch_size = 100"
   ]
  },
  {
   "cell_type": "code",
   "execution_count": 79,
   "metadata": {},
   "outputs": [
    {
     "data": {
      "text/plain": [
       "(9000, 20)"
      ]
     },
     "execution_count": 79,
     "metadata": {},
     "output_type": "execute_result"
    }
   ],
   "source": [
    "x_train[:,:].shape"
   ]
  },
  {
   "cell_type": "code",
   "execution_count": 83,
   "metadata": {},
   "outputs": [
    {
     "data": {
      "text/plain": [
       "(1000, 20)"
      ]
     },
     "execution_count": 83,
     "metadata": {},
     "output_type": "execute_result"
    }
   ],
   "source": [
    "x_train[batch_size :batch_size+,:].shape"
   ]
  },
  {
   "cell_type": "code",
   "execution_count": 117,
   "metadata": {},
   "outputs": [
    {
     "data": {
      "text/plain": [
       "(100, 20)"
      ]
     },
     "execution_count": 117,
     "metadata": {},
     "output_type": "execute_result"
    }
   ],
   "source": [
    "random_int = np.random.randint(10, size=(1))[0]\n",
    "x_train[(random_int)*batch_size :(random_int+1)*batch_size,:].shape"
   ]
  },
  {
   "cell_type": "code",
   "execution_count": 150,
   "metadata": {},
   "outputs": [
    {
     "data": {
      "text/plain": [
       "(100,)"
      ]
     },
     "execution_count": 150,
     "metadata": {},
     "output_type": "execute_result"
    }
   ],
   "source": [
    "random_int = np.random.randint(10, size=(1))[0]\n",
    "y_train[(random_int)*batch_size :(random_int+1)*batch_size].shape"
   ]
  },
  {
   "cell_type": "code",
   "execution_count": 104,
   "metadata": {},
   "outputs": [
    {
     "data": {
      "text/plain": [
       "0"
      ]
     },
     "execution_count": 104,
     "metadata": {},
     "output_type": "execute_result"
    }
   ],
   "source": [
    "np.random.randint(10, size=(1))[0]"
   ]
  },
  {
   "cell_type": "code",
   "execution_count": 154,
   "metadata": {},
   "outputs": [],
   "source": [
    "### HELP FUNC HELP TUNE THE MODEL \n",
    "\n",
    "def optimize(num_iterations):\n",
    "    for i in range(num_iterations):\n",
    "        # Get a batch of training examples.\n",
    "        # x_batch now holds a batch of images and\n",
    "        # y_true_batch are the true labels for those images.\n",
    "        # x_batch, y_true_batch, _ = data.random_batch(batch_size=batch_size)\n",
    "        \n",
    "        ##################### modify origin code here #####################\n",
    "        random_int = np.random.randint(10, size=(1))[0]\n",
    "        x_batch = x_train[(random_int)*batch_size :(random_int+1)*batch_size,:]\n",
    "        y_true_batch  = y_train[(random_int)*batch_size :(random_int+1)*batch_size,:]\n",
    "        ####################################################################\n",
    "        \n",
    "        # Put the batch into a dict with the proper names\n",
    "        # for placeholder variables in the TensorFlow graph.\n",
    "        # Note that the placeholder for y_true_cls is not set\n",
    "        # because it is not used during training.\n",
    "        feed_dict_train = {x: x_batch,\n",
    "                           y_true: y_true_batch}\n",
    "\n",
    "        # Run the optimizer using this batch of training data.\n",
    "        # TensorFlow assigns the variables in feed_dict_train\n",
    "        # to the placeholder variables and then runs the optimizer.\n",
    "        session.run(optimizer, feed_dict=feed_dict_train)\n",
    "        \n",
    "        \n",
    "def print_accuracy():\n",
    "    # Use TensorFlow to compute the accuracy.\n",
    "    acc = session.run(accuracy, feed_dict=feed_dict_test)\n",
    "    \n",
    "    # Print the accuracy.\n",
    "    print(\"Accuracy on test-set: {0:.1%}\".format(acc))\n"
   ]
  },
  {
   "cell_type": "code",
   "execution_count": 158,
   "metadata": {},
   "outputs": [],
   "source": [
    "feed_dict_test = {x: x_test,\n",
    "                  y_true: y_test,}\n",
    "                 # y_true_cls: y_test_cls}"
   ]
  },
  {
   "cell_type": "code",
   "execution_count": null,
   "metadata": {},
   "outputs": [],
   "source": [
    "# RUN \n",
    "\n",
    "print_accuracy()"
   ]
  }
 ],
 "metadata": {
  "kernelspec": {
   "display_name": "Environment (conda_ds_dash)",
   "language": "python",
   "name": "conda_ds_dash"
  },
  "language_info": {
   "codemirror_mode": {
    "name": "ipython",
    "version": 3
   },
   "file_extension": ".py",
   "mimetype": "text/x-python",
   "name": "python",
   "nbconvert_exporter": "python",
   "pygments_lexer": "ipython3",
   "version": "3.5.4"
  }
 },
 "nbformat": 4,
 "nbformat_minor": 2
}
