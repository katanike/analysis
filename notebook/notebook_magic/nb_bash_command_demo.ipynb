{
 "cells": [
  {
   "cell_type": "code",
   "execution_count": 2,
   "metadata": {},
   "outputs": [],
   "source": [
    "# notebook bash command demo \n",
    "\n",
    "\n",
    "# ref \n",
    "# https://github.com/yennanliu/data-science-on-gcp/blob/master/05_bqdatalab/exploration.ipynb"
   ]
  },
  {
   "cell_type": "markdown",
   "metadata": {},
   "source": [
    "## 1) Single bash command "
   ]
  },
  {
   "cell_type": "code",
   "execution_count": 3,
   "metadata": {},
   "outputs": [
    {
     "name": "stdout",
     "output_type": "stream",
     "text": [
      "nb_bash_command_demo.ipynb\r\n"
     ]
    }
   ],
   "source": [
    "ls "
   ]
  },
  {
   "cell_type": "code",
   "execution_count": 4,
   "metadata": {},
   "outputs": [
    {
     "data": {
      "text/plain": [
       "'/Users/yennanliu/analysis/bash'"
      ]
     },
     "execution_count": 4,
     "metadata": {},
     "output_type": "execute_result"
    }
   ],
   "source": [
    "pwd"
   ]
  },
  {
   "cell_type": "markdown",
   "metadata": {},
   "source": [
    "## 2) Multiple bash command "
   ]
  },
  {
   "cell_type": "code",
   "execution_count": 6,
   "metadata": {},
   "outputs": [
    {
     "name": "stdout",
     "output_type": "stream",
     "text": [
      "nb_bash_command_demo.ipynb\n",
      "/Users/yennanliu/analysis/bash\n",
      "nb_bash_command_demo.ipynb\n"
     ]
    }
   ],
   "source": [
    "%%bash \n",
    "ls \n",
    "pwd \n",
    "ls \n"
   ]
  },
  {
   "cell_type": "code",
   "execution_count": 9,
   "metadata": {},
   "outputs": [
    {
     "name": "stdout",
     "output_type": "stream",
     "text": [
      "/Users/yennanliu\n",
      "/Users/yennanliu/analysis\n"
     ]
    }
   ],
   "source": [
    "%%bash\n",
    "cd ~\n",
    "pwd\n",
    "cd analysis\n",
    "pwd"
   ]
  },
  {
   "cell_type": "code",
   "execution_count": 23,
   "metadata": {},
   "outputs": [
    {
     "name": "stdout",
     "output_type": "stream",
     "text": [
      "1\n",
      "3\n",
      "4\n",
      "5\n",
      "6\n"
     ]
    }
   ],
   "source": [
    "%%bash \n",
    "\n",
    "for i in 1 3 4 5 6 \n",
    "    do\n",
    "        echo $i\n",
    "    done "
   ]
  },
  {
   "cell_type": "code",
   "execution_count": 24,
   "metadata": {},
   "outputs": [
    {
     "name": "stdout",
     "output_type": "stream",
     "text": [
      "-----------\n",
      "today is : \n",
      "Saturday\n",
      "-----------\n",
      "it's weekday\n",
      "-----------\n"
     ]
    }
   ],
   "source": [
    "%%bash \n",
    "\n",
    "what_day()\n",
    "{\n",
    "\n",
    "date +%A\n",
    "\n",
    "}\n",
    "\n",
    "is_monday()\n",
    "{\n",
    "\tif [ 'what_day'=\"monday\" ] # run function command inside the other function \n",
    "\tthen \n",
    "\t\treturn 0 # ture \n",
    "\telse\n",
    "\t\treturn 1 # false \n",
    "\tfi \n",
    "}\n",
    "\n",
    "\n",
    "echo '-----------'\n",
    "echo \"today is : \"  \n",
    "what_day\n",
    "echo '-----------'\n",
    "is_monday && echo \"it's weekday\"\n",
    "is_monday || echo \"it's weekend\"\n",
    "echo '-----------'\n"
   ]
  },
  {
   "cell_type": "markdown",
   "metadata": {},
   "source": [
    "## 3) Load js script "
   ]
  },
  {
   "cell_type": "code",
   "execution_count": 10,
   "metadata": {},
   "outputs": [
    {
     "data": {
      "application/javascript": [
       "$.getScript('https://kmahelona.github.io/ipython_notebook_goodies/ipython_notebook_toc.js')"
      ],
      "text/plain": [
       "<IPython.core.display.Javascript object>"
      ]
     },
     "metadata": {},
     "output_type": "display_data"
    }
   ],
   "source": [
    "%%javascript\n",
    "$.getScript('https://kmahelona.github.io/ipython_notebook_goodies/ipython_notebook_toc.js')"
   ]
  },
  {
   "cell_type": "markdown",
   "metadata": {},
   "source": [
    "## 4) Juypter magic : HTML "
   ]
  },
  {
   "cell_type": "code",
   "execution_count": 12,
   "metadata": {},
   "outputs": [
    {
     "data": {
      "text/html": [
       "This cell will print out a <b> HTML </b> string."
      ],
      "text/plain": [
       "<IPython.core.display.HTML object>"
      ]
     },
     "metadata": {},
     "output_type": "display_data"
    }
   ],
   "source": [
    "%%html\n",
    "This cell will print out a <b> HTML </b> string."
   ]
  },
  {
   "cell_type": "code",
   "execution_count": 14,
   "metadata": {},
   "outputs": [
    {
     "data": {
      "text/html": [
       "\n",
       "<!-- readme to html :  https://stackoverflow.com/questions/14951321/how-to-display-html-content-in-github-readme-md -->\n",
       "\n",
       "<h1><a id=\"Blog\"></a>Blog</h1>\n",
       "<li><a href=\"https://yennanliu.github.io/asset/EDA_r\">House data EDA</a>- House data EDA in R </li>\n",
       "<li><a href=\"https://yennanliu.github.io/asset/NLP_EDA\">SMS spam data  EDA</a>- NLP go through text data </li>\n",
       "\n",
       "\n",
       "\n",
       "<h1><a id=\"Main_Project\"></a>Main Project</h1>\n",
       "\n",
       "<h2><a id=\"Application_model\"></a>Application/Model</h2>\n",
       "<ul>\n",
       "<li><a href=\"https://github.com/yennanliu/NYC_Taxi_Trip_Duration\">NYC TAXI TRIP</a> - Develop models predict taxi trip duration in NYC </li>\n",
       "<li><a href=\"https://github.com/yennanliu/movie_recommendation\">movie_recommendation</a> - Build recommend systems via movie data with 4 various algorithms  </li>\n",
       "<li><a href=\"https://github.com/yennanliu/sequence_predictor\">sequence_predictor</a> - Modeling sequence time-series data via DL frameworks (Tensorflow/Keras..) </li>\n",
       "<li><a href=\"https://github.com/yennanliu/SGTaxiMap\">SGTaxiMap</a> - SG taxi real-time heat map with gov.SG API and python flask, JS leaflet library</li>\n",
       "<li><a href=\"https://github.com/yennanliu/slack_bot_flask\">slack_bot_flask</a> - A light implementation that fast daily routines, contains data parse / scraping / cron jobs via python flask</li>\n",
       "</ul>\n",
       "<h2><a id=\"Collections_code\"></a>Collections Of Code</h2>\n",
       "<ul>\n",
       "<li><a href=\"https://github.com/yennanliu/analysis\">analysis</a>- Repo for practical data science problems approaches, including notebook demo and working scripts</li>\n",
       "<li><a href=\"https://github.com/yennanliu/web_scraping\">web_scraping</a> - Various scrppaers code for real-world data collections : website /js/ API</li>\n",
       "<li><a href=\"https://github.com/yennanliu/data_science_repo\">data_science_repo</a> - Resources for data science applications</li>\n",
       "<li><a href=\"https://github.com/yennanliu/utility_shell\">utility_shell</a> - Collection of shell commands for server/DB/pipelines/docker management</li>\n",
       "</ul>"
      ],
      "text/plain": [
       "<IPython.core.display.HTML object>"
      ]
     },
     "metadata": {},
     "output_type": "display_data"
    }
   ],
   "source": [
    "%%html\n",
    "\n",
    "<!-- readme to html :  https://stackoverflow.com/questions/14951321/how-to-display-html-content-in-github-readme-md -->\n",
    "\n",
    "<h1><a id=\"Blog\"></a>Blog</h1>\n",
    "<li><a href=\"https://yennanliu.github.io/asset/EDA_r\">House data EDA</a>- House data EDA in R </li>\n",
    "<li><a href=\"https://yennanliu.github.io/asset/NLP_EDA\">SMS spam data  EDA</a>- NLP go through text data </li>\n",
    "\n",
    "\n",
    "\n",
    "<h1><a id=\"Main_Project\"></a>Main Project</h1>\n",
    "\n",
    "<h2><a id=\"Application_model\"></a>Application/Model</h2>\n",
    "<ul>\n",
    "<li><a href=\"https://github.com/yennanliu/NYC_Taxi_Trip_Duration\">NYC TAXI TRIP</a> - Develop models predict taxi trip duration in NYC </li>\n",
    "<li><a href=\"https://github.com/yennanliu/movie_recommendation\">movie_recommendation</a> - Build recommend systems via movie data with 4 various algorithms  </li>\n",
    "<li><a href=\"https://github.com/yennanliu/sequence_predictor\">sequence_predictor</a> - Modeling sequence time-series data via DL frameworks (Tensorflow/Keras..) </li>\n",
    "<li><a href=\"https://github.com/yennanliu/SGTaxiMap\">SGTaxiMap</a> - SG taxi real-time heat map with gov.SG API and python flask, JS leaflet library</li>\n",
    "<li><a href=\"https://github.com/yennanliu/slack_bot_flask\">slack_bot_flask</a> - A light implementation that fast daily routines, contains data parse / scraping / cron jobs via python flask</li>\n",
    "</ul>\n",
    "<h2><a id=\"Collections_code\"></a>Collections Of Code</h2>\n",
    "<ul>\n",
    "<li><a href=\"https://github.com/yennanliu/analysis\">analysis</a>- Repo for practical data science problems approaches, including notebook demo and working scripts</li>\n",
    "<li><a href=\"https://github.com/yennanliu/web_scraping\">web_scraping</a> - Various scrppaers code for real-world data collections : website /js/ API</li>\n",
    "<li><a href=\"https://github.com/yennanliu/data_science_repo\">data_science_repo</a> - Resources for data science applications</li>\n",
    "<li><a href=\"https://github.com/yennanliu/utility_shell\">utility_shell</a> - Collection of shell commands for server/DB/pipelines/docker management</li>\n",
    "</ul>"
   ]
  },
  {
   "cell_type": "code",
   "execution_count": null,
   "metadata": {},
   "outputs": [],
   "source": []
  }
 ],
 "metadata": {
  "kernelspec": {
   "display_name": "Environment (conda_ds_dash)",
   "language": "python",
   "name": "conda_ds_dash"
  },
  "language_info": {
   "codemirror_mode": {
    "name": "ipython",
    "version": 3
   },
   "file_extension": ".py",
   "mimetype": "text/x-python",
   "name": "python",
   "nbconvert_exporter": "python",
   "pygments_lexer": "ipython3",
   "version": "3.5.4"
  }
 },
 "nbformat": 4,
 "nbformat_minor": 2
}
